{
 "cells": [
  {
   "cell_type": "code",
   "execution_count": 85,
   "id": "96ca54f3",
   "metadata": {},
   "outputs": [
    {
     "name": "stdout",
     "output_type": "stream",
     "text": [
      "Requirement already satisfied: mne in c:\\users\\dasha\\anaconda3\\lib\\site-packages (1.1.0)\n",
      "Collecting mne\n",
      "  Obtaining dependency information for mne from https://files.pythonhosted.org/packages/7d/b4/1e8e700ef8f14d0901b311bc2388f8749d2a325e1b2d359d70755c87ca1b/mne-1.7.0-py3-none-any.whl.metadata\n",
      "  Downloading mne-1.7.0-py3-none-any.whl.metadata (13 kB)\n",
      "Requirement already satisfied: decorator in c:\\users\\dasha\\anaconda3\\lib\\site-packages (from mne) (5.1.1)\n",
      "Requirement already satisfied: jinja2 in c:\\users\\dasha\\anaconda3\\lib\\site-packages (from mne) (3.1.2)\n",
      "Requirement already satisfied: lazy-loader>=0.3 in c:\\users\\dasha\\anaconda3\\lib\\site-packages (from mne) (0.3)\n",
      "Requirement already satisfied: matplotlib>=3.5.0 in c:\\users\\dasha\\anaconda3\\lib\\site-packages (from mne) (3.9.0)\n",
      "Requirement already satisfied: numpy>=1.21.2 in c:\\users\\dasha\\anaconda3\\lib\\site-packages (from mne) (1.23.5)\n",
      "Requirement already satisfied: packaging in c:\\users\\dasha\\anaconda3\\lib\\site-packages (from mne) (23.1)\n",
      "Requirement already satisfied: pooch>=1.5 in c:\\users\\dasha\\anaconda3\\lib\\site-packages (from mne) (1.8.0)\n",
      "Requirement already satisfied: scipy>=1.7.1 in c:\\users\\dasha\\anaconda3\\lib\\site-packages (from mne) (1.11.4)\n",
      "Requirement already satisfied: tqdm in c:\\users\\dasha\\anaconda3\\lib\\site-packages (from mne) (4.65.0)\n",
      "Requirement already satisfied: contourpy>=1.0.1 in c:\\users\\dasha\\anaconda3\\lib\\site-packages (from matplotlib>=3.5.0->mne) (1.0.5)\n",
      "Requirement already satisfied: cycler>=0.10 in c:\\users\\dasha\\anaconda3\\lib\\site-packages (from matplotlib>=3.5.0->mne) (0.11.0)\n",
      "Requirement already satisfied: fonttools>=4.22.0 in c:\\users\\dasha\\anaconda3\\lib\\site-packages (from matplotlib>=3.5.0->mne) (4.25.0)\n",
      "Requirement already satisfied: kiwisolver>=1.3.1 in c:\\users\\dasha\\anaconda3\\lib\\site-packages (from matplotlib>=3.5.0->mne) (1.4.4)\n",
      "Requirement already satisfied: pillow>=8 in c:\\users\\dasha\\anaconda3\\lib\\site-packages (from matplotlib>=3.5.0->mne) (9.4.0)\n",
      "Requirement already satisfied: pyparsing>=2.3.1 in c:\\users\\dasha\\anaconda3\\lib\\site-packages (from matplotlib>=3.5.0->mne) (3.0.9)\n",
      "Requirement already satisfied: python-dateutil>=2.7 in c:\\users\\dasha\\anaconda3\\lib\\site-packages (from matplotlib>=3.5.0->mne) (2.8.2)\n",
      "Requirement already satisfied: platformdirs>=2.5.0 in c:\\users\\dasha\\anaconda3\\lib\\site-packages (from pooch>=1.5->mne) (3.10.0)\n",
      "Requirement already satisfied: requests>=2.19.0 in c:\\users\\dasha\\anaconda3\\lib\\site-packages (from pooch>=1.5->mne) (2.31.0)\n",
      "Requirement already satisfied: MarkupSafe>=2.0 in c:\\users\\dasha\\anaconda3\\lib\\site-packages (from jinja2->mne) (2.1.1)\n",
      "Requirement already satisfied: colorama in c:\\users\\dasha\\anaconda3\\lib\\site-packages (from tqdm->mne) (0.4.6)\n",
      "Requirement already satisfied: six>=1.5 in c:\\users\\dasha\\anaconda3\\lib\\site-packages (from python-dateutil>=2.7->matplotlib>=3.5.0->mne) (1.16.0)\n",
      "Requirement already satisfied: charset-normalizer<4,>=2 in c:\\users\\dasha\\anaconda3\\lib\\site-packages (from requests>=2.19.0->pooch>=1.5->mne) (2.0.4)\n",
      "Requirement already satisfied: idna<4,>=2.5 in c:\\users\\dasha\\anaconda3\\lib\\site-packages (from requests>=2.19.0->pooch>=1.5->mne) (3.4)\n",
      "Requirement already satisfied: urllib3<3,>=1.21.1 in c:\\users\\dasha\\anaconda3\\lib\\site-packages (from requests>=2.19.0->pooch>=1.5->mne) (1.26.16)\n",
      "Requirement already satisfied: certifi>=2017.4.17 in c:\\users\\dasha\\anaconda3\\lib\\site-packages (from requests>=2.19.0->pooch>=1.5->mne) (2024.6.2)\n",
      "Downloading mne-1.7.0-py3-none-any.whl (7.4 MB)\n",
      "   ---------------------------------------- 0.0/7.4 MB ? eta -:--:--\n",
      "   ---------------------------------------- 0.0/7.4 MB 1.3 MB/s eta 0:00:06\n",
      "   ---------------------------------------- 0.1/7.4 MB 653.6 kB/s eta 0:00:12\n",
      "    --------------------------------------- 0.1/7.4 MB 901.1 kB/s eta 0:00:09\n",
      "   - -------------------------------------- 0.2/7.4 MB 1.1 MB/s eta 0:00:07\n",
      "   - -------------------------------------- 0.3/7.4 MB 1.2 MB/s eta 0:00:07\n",
      "   - -------------------------------------- 0.4/7.4 MB 1.3 MB/s eta 0:00:06\n",
      "   -- ------------------------------------- 0.5/7.4 MB 1.5 MB/s eta 0:00:05\n",
      "   ---- ----------------------------------- 0.7/7.4 MB 2.1 MB/s eta 0:00:04\n",
      "   ----- ---------------------------------- 1.1/7.4 MB 2.5 MB/s eta 0:00:03\n",
      "   ------ --------------------------------- 1.1/7.4 MB 2.6 MB/s eta 0:00:03\n",
      "   ------ --------------------------------- 1.1/7.4 MB 2.6 MB/s eta 0:00:03\n",
      "   --------- ------------------------------ 1.7/7.4 MB 3.1 MB/s eta 0:00:02\n",
      "   ---------- ----------------------------- 1.9/7.4 MB 3.2 MB/s eta 0:00:02\n",
      "   ---------- ----------------------------- 1.9/7.4 MB 3.2 MB/s eta 0:00:02\n",
      "   ---------- ----------------------------- 1.9/7.4 MB 3.2 MB/s eta 0:00:02\n",
      "   ---------------- ----------------------- 3.0/7.4 MB 4.0 MB/s eta 0:00:02\n",
      "   ------------------- -------------------- 3.6/7.4 MB 4.8 MB/s eta 0:00:01\n",
      "   ------------------- -------------------- 3.6/7.4 MB 4.8 MB/s eta 0:00:01\n",
      "   ------------------------ --------------- 4.5/7.4 MB 5.2 MB/s eta 0:00:01\n",
      "   ------------------------- -------------- 4.8/7.4 MB 5.2 MB/s eta 0:00:01\n",
      "   --------------------------- ------------ 5.1/7.4 MB 5.2 MB/s eta 0:00:01\n",
      "   ----------------------------- ---------- 5.4/7.4 MB 5.3 MB/s eta 0:00:01\n",
      "   ------------------------------ --------- 5.7/7.4 MB 5.3 MB/s eta 0:00:01\n",
      "   -------------------------------- ------- 6.0/7.4 MB 5.4 MB/s eta 0:00:01\n",
      "   --------------------------------- ------ 6.3/7.4 MB 5.4 MB/s eta 0:00:01\n",
      "   ----------------------------------- ---- 6.6/7.4 MB 5.5 MB/s eta 0:00:01\n",
      "   ------------------------------------ --- 6.8/7.4 MB 5.5 MB/s eta 0:00:01\n",
      "   -------------------------------------- - 7.2/7.4 MB 5.5 MB/s eta 0:00:01\n",
      "   ---------------------------------------  7.4/7.4 MB 5.6 MB/s eta 0:00:01\n",
      "   ---------------------------------------- 7.4/7.4 MB 5.4 MB/s eta 0:00:00\n",
      "Installing collected packages: mne\n",
      "  Attempting uninstall: mne\n",
      "    Found existing installation: mne 1.1.0\n",
      "    Uninstalling mne-1.1.0:\n",
      "      Successfully uninstalled mne-1.1.0\n",
      "Successfully installed mne-1.7.0\n",
      "Note: you may need to restart the kernel to use updated packages.\n"
     ]
    }
   ],
   "source": [
    "pip install -U mne"
   ]
  },
  {
   "cell_type": "code",
   "execution_count": 30,
   "id": "c99b4818",
   "metadata": {},
   "outputs": [],
   "source": [
    "import mne\n",
    "from mne.preprocessing import ICA\n",
    "import matplotlib.pyplot as plt\n",
    "import numpy as np\n",
    "from scipy.stats import kurtosis\n",
    "from scipy.stats import skew , variation\n",
    "from scipy.signal import welch\n",
    "import pandas as pd\n",
    "from scipy.signal import hilbert\n",
    "from collections import Counter\n",
    "import os\n",
    "import glob\n",
    "from faster import distancematrix, min_z, hurst, channel_properties"
   ]
  },
  {
   "cell_type": "code",
   "execution_count": 5,
   "id": "b61b274f",
   "metadata": {},
   "outputs": [],
   "source": [
    "%matplotlib qt"
   ]
  },
  {
   "cell_type": "code",
   "execution_count": 7,
   "id": "cd4dcae7",
   "metadata": {},
   "outputs": [],
   "source": [
    "os.chdir('C:/Users/dasha/Documents/Neurobiology_EEG/VFT/VFT1')"
   ]
  },
  {
   "cell_type": "code",
   "execution_count": 17,
   "id": "f566df2b",
   "metadata": {
    "scrolled": false
   },
   "outputs": [
    {
     "data": {
      "text/plain": [
       "['NP022301_2_VFT_1.fif',\n",
       " 'NP022303_2_VFT_1.fif',\n",
       " 'NP022307_2_VFT_1.fif',\n",
       " 'NP022309_2_VFT_1.fif',\n",
       " 'NP032401_VFT_1.fif',\n",
       " 'NP032402_VFT_1.fif',\n",
       " 'NP032403_VFT_1.fif',\n",
       " 'NP042311_2_VFT_1.fif',\n",
       " 'NP042313_2_VFT_1.fif',\n",
       " 'NP042318_2_VFT_1.fif',\n",
       " 'NP052401_VFT_1.fif',\n",
       " 'NP052402_VFT_1.fif',\n",
       " 'NP052403_VFT_1.fif',\n",
       " 'NP062401_VFT_1.fif',\n",
       " 'NP102201_2_VFT_1.fif',\n",
       " 'NP102302_VFT_1.fif',\n",
       " 'NP102308_VFT_1.fif',\n",
       " 'NP102310_VFT_1.fif',\n",
       " 'NP102313_VFT_1.fif',\n",
       " 'NP102314_VFT_1.fif',\n",
       " 'NP102315_VFT_1.fif',\n",
       " 'NP112201_2_VFT_1.fif',\n",
       " 'NP112206_2_VFT_1.fif',\n",
       " 'NP112211_2_VFT_1.fif',\n",
       " 'NP112212_2_VFT_1.fif',\n",
       " 'NP112213_2_VFT_1.fif',\n",
       " 'NP112214_2_VFT_1.fif',\n",
       " 'NP112215_2_VFT_1.fif',\n",
       " 'NP112218_2_VFT_1.fif',\n",
       " 'NP112219_2_VFT_1.fif',\n",
       " 'NP112221_2_VFT_1.fif',\n",
       " 'NP112223_2_VFT_1.fif',\n",
       " 'NP112225_2_VFT_1.fif',\n",
       " 'NP112226_2_VFT_1.fif',\n",
       " 'NP112229_2_VFT_1.fif',\n",
       " 'NP112301_VFT_1.fif',\n",
       " 'NP112302_VFT_1.fif',\n",
       " 'NP112303_VFT_1.fif',\n",
       " 'NP112304_VFT_1.fif',\n",
       " 'NP112307_VFT_1.fif',\n",
       " 'NP112308_VFT_1.fif',\n",
       " 'NP112309_VFT_1.fif',\n",
       " 'NP112310_VFT_1.fif',\n",
       " 'NP112311_VFT_1.fif',\n",
       " 'NP112313_VFT_1.fif',\n",
       " 'NP112314_VFT_1.fif',\n",
       " 'NP112315_VFT_1.fif',\n",
       " 'NP112316_VFT_1.fif',\n",
       " 'NP112317_VFT_1.fif',\n",
       " 'NP112318_VFT_1.fif',\n",
       " 'NP112319_VFT_1.fif',\n",
       " 'NP112320_VFT_1.fif',\n",
       " 'NP112321_VFT_1.fif',\n",
       " 'NP112322_VFT_1.fif',\n",
       " 'NP122201_2_VFT_1.fif',\n",
       " 'NP122202_2_VFT_1.fif',\n",
       " 'NP122301_VFT_1.fif',\n",
       " 'NP122302_VFT_1.fif',\n",
       " 'NP122303_VFT_1.fif']"
      ]
     },
     "execution_count": 17,
     "metadata": {},
     "output_type": "execute_result"
    }
   ],
   "source": [
    "filenames = glob.glob('*_VFT_1.Fif')\n",
    "#filenames = glob.glob('*.')\n",
    "filenames"
   ]
  },
  {
   "cell_type": "code",
   "execution_count": 18,
   "id": "0e22f218",
   "metadata": {},
   "outputs": [
    {
     "data": {
      "text/plain": [
       "59"
      ]
     },
     "execution_count": 18,
     "metadata": {},
     "output_type": "execute_result"
    }
   ],
   "source": [
    "len(filenames)"
   ]
  },
  {
   "cell_type": "code",
   "execution_count": 19,
   "id": "5836b1a2",
   "metadata": {},
   "outputs": [
    {
     "data": {
      "text/plain": [
       "['NP022301_2',\n",
       " 'NP022303_2',\n",
       " 'NP022307_2',\n",
       " 'NP022309_2',\n",
       " 'NP032401',\n",
       " 'NP032402',\n",
       " 'NP032403',\n",
       " 'NP042311_2',\n",
       " 'NP042313_2',\n",
       " 'NP042318_2',\n",
       " 'NP052401',\n",
       " 'NP052402',\n",
       " 'NP052403',\n",
       " 'NP062401',\n",
       " 'NP102201_2',\n",
       " 'NP102302',\n",
       " 'NP102308',\n",
       " 'NP102310',\n",
       " 'NP102313',\n",
       " 'NP102314',\n",
       " 'NP102315',\n",
       " 'NP112201_2',\n",
       " 'NP112206_2',\n",
       " 'NP112211_2',\n",
       " 'NP112212_2',\n",
       " 'NP112213_2',\n",
       " 'NP112214_2',\n",
       " 'NP112215_2',\n",
       " 'NP112218_2',\n",
       " 'NP112219_2',\n",
       " 'NP112221_2',\n",
       " 'NP112223_2',\n",
       " 'NP112225_2',\n",
       " 'NP112226_2',\n",
       " 'NP112229_2',\n",
       " 'NP112301',\n",
       " 'NP112302',\n",
       " 'NP112303',\n",
       " 'NP112304',\n",
       " 'NP112307',\n",
       " 'NP112308',\n",
       " 'NP112309',\n",
       " 'NP112310',\n",
       " 'NP112311',\n",
       " 'NP112313',\n",
       " 'NP112314',\n",
       " 'NP112315',\n",
       " 'NP112316',\n",
       " 'NP112317',\n",
       " 'NP112318',\n",
       " 'NP112319',\n",
       " 'NP112320',\n",
       " 'NP112321',\n",
       " 'NP112322',\n",
       " 'NP122201_2',\n",
       " 'NP122202_2',\n",
       " 'NP122301',\n",
       " 'NP122302',\n",
       " 'NP122303']"
      ]
     },
     "execution_count": 19,
     "metadata": {},
     "output_type": "execute_result"
    }
   ],
   "source": [
    "ID=[]\n",
    "for f in filenames:\n",
    "    ID.append(f[:-10])\n",
    "#i_list=['NP042301', 'NP042304', 'NP042311']    \n",
    "#for i in i_list:\n",
    "# ID.remove(i)\n",
    "ID"
   ]
  },
  {
   "cell_type": "code",
   "execution_count": 20,
   "id": "b237dbfe",
   "metadata": {},
   "outputs": [
    {
     "name": "stderr",
     "output_type": "stream",
     "text": [
      "C:\\Users\\dasha\\AppData\\Local\\Temp\\ipykernel_9316\\639056234.py:6: RuntimeWarning: This filename (NP022301_2_VFT_1.fif) does not conform to MNE naming conventions. All raw files should end with raw.fif, raw_sss.fif, raw_tsss.fif, _meg.fif, _eeg.fif, _ieeg.fif, raw.fif.gz, raw_sss.fif.gz, raw_tsss.fif.gz, _meg.fif.gz, _eeg.fif.gz or _ieeg.fif.gz\n",
      "  E = mne.io.read_raw_fif(name, verbose=False, preload=True)\n",
      "C:\\Users\\dasha\\AppData\\Local\\Temp\\ipykernel_9316\\639056234.py:6: RuntimeWarning: This filename (NP022303_2_VFT_1.fif) does not conform to MNE naming conventions. All raw files should end with raw.fif, raw_sss.fif, raw_tsss.fif, _meg.fif, _eeg.fif, _ieeg.fif, raw.fif.gz, raw_sss.fif.gz, raw_tsss.fif.gz, _meg.fif.gz, _eeg.fif.gz or _ieeg.fif.gz\n",
      "  E = mne.io.read_raw_fif(name, verbose=False, preload=True)\n",
      "C:\\Users\\dasha\\AppData\\Local\\Temp\\ipykernel_9316\\639056234.py:6: RuntimeWarning: This filename (NP022307_2_VFT_1.fif) does not conform to MNE naming conventions. All raw files should end with raw.fif, raw_sss.fif, raw_tsss.fif, _meg.fif, _eeg.fif, _ieeg.fif, raw.fif.gz, raw_sss.fif.gz, raw_tsss.fif.gz, _meg.fif.gz, _eeg.fif.gz or _ieeg.fif.gz\n",
      "  E = mne.io.read_raw_fif(name, verbose=False, preload=True)\n",
      "C:\\Users\\dasha\\AppData\\Local\\Temp\\ipykernel_9316\\639056234.py:6: RuntimeWarning: This filename (NP022309_2_VFT_1.fif) does not conform to MNE naming conventions. All raw files should end with raw.fif, raw_sss.fif, raw_tsss.fif, _meg.fif, _eeg.fif, _ieeg.fif, raw.fif.gz, raw_sss.fif.gz, raw_tsss.fif.gz, _meg.fif.gz, _eeg.fif.gz or _ieeg.fif.gz\n",
      "  E = mne.io.read_raw_fif(name, verbose=False, preload=True)\n",
      "C:\\Users\\dasha\\AppData\\Local\\Temp\\ipykernel_9316\\639056234.py:6: RuntimeWarning: This filename (NP032401_VFT_1.fif) does not conform to MNE naming conventions. All raw files should end with raw.fif, raw_sss.fif, raw_tsss.fif, _meg.fif, _eeg.fif, _ieeg.fif, raw.fif.gz, raw_sss.fif.gz, raw_tsss.fif.gz, _meg.fif.gz, _eeg.fif.gz or _ieeg.fif.gz\n",
      "  E = mne.io.read_raw_fif(name, verbose=False, preload=True)\n",
      "C:\\Users\\dasha\\AppData\\Local\\Temp\\ipykernel_9316\\639056234.py:6: RuntimeWarning: This filename (NP032402_VFT_1.fif) does not conform to MNE naming conventions. All raw files should end with raw.fif, raw_sss.fif, raw_tsss.fif, _meg.fif, _eeg.fif, _ieeg.fif, raw.fif.gz, raw_sss.fif.gz, raw_tsss.fif.gz, _meg.fif.gz, _eeg.fif.gz or _ieeg.fif.gz\n",
      "  E = mne.io.read_raw_fif(name, verbose=False, preload=True)\n",
      "C:\\Users\\dasha\\AppData\\Local\\Temp\\ipykernel_9316\\639056234.py:6: RuntimeWarning: This filename (NP032403_VFT_1.fif) does not conform to MNE naming conventions. All raw files should end with raw.fif, raw_sss.fif, raw_tsss.fif, _meg.fif, _eeg.fif, _ieeg.fif, raw.fif.gz, raw_sss.fif.gz, raw_tsss.fif.gz, _meg.fif.gz, _eeg.fif.gz or _ieeg.fif.gz\n",
      "  E = mne.io.read_raw_fif(name, verbose=False, preload=True)\n",
      "C:\\Users\\dasha\\AppData\\Local\\Temp\\ipykernel_9316\\639056234.py:6: RuntimeWarning: This filename (NP042311_2_VFT_1.fif) does not conform to MNE naming conventions. All raw files should end with raw.fif, raw_sss.fif, raw_tsss.fif, _meg.fif, _eeg.fif, _ieeg.fif, raw.fif.gz, raw_sss.fif.gz, raw_tsss.fif.gz, _meg.fif.gz, _eeg.fif.gz or _ieeg.fif.gz\n",
      "  E = mne.io.read_raw_fif(name, verbose=False, preload=True)\n",
      "C:\\Users\\dasha\\AppData\\Local\\Temp\\ipykernel_9316\\639056234.py:6: RuntimeWarning: This filename (NP042313_2_VFT_1.fif) does not conform to MNE naming conventions. All raw files should end with raw.fif, raw_sss.fif, raw_tsss.fif, _meg.fif, _eeg.fif, _ieeg.fif, raw.fif.gz, raw_sss.fif.gz, raw_tsss.fif.gz, _meg.fif.gz, _eeg.fif.gz or _ieeg.fif.gz\n",
      "  E = mne.io.read_raw_fif(name, verbose=False, preload=True)\n",
      "C:\\Users\\dasha\\AppData\\Local\\Temp\\ipykernel_9316\\639056234.py:6: RuntimeWarning: This filename (NP042318_2_VFT_1.fif) does not conform to MNE naming conventions. All raw files should end with raw.fif, raw_sss.fif, raw_tsss.fif, _meg.fif, _eeg.fif, _ieeg.fif, raw.fif.gz, raw_sss.fif.gz, raw_tsss.fif.gz, _meg.fif.gz, _eeg.fif.gz or _ieeg.fif.gz\n",
      "  E = mne.io.read_raw_fif(name, verbose=False, preload=True)\n",
      "C:\\Users\\dasha\\AppData\\Local\\Temp\\ipykernel_9316\\639056234.py:6: RuntimeWarning: This filename (NP052401_VFT_1.fif) does not conform to MNE naming conventions. All raw files should end with raw.fif, raw_sss.fif, raw_tsss.fif, _meg.fif, _eeg.fif, _ieeg.fif, raw.fif.gz, raw_sss.fif.gz, raw_tsss.fif.gz, _meg.fif.gz, _eeg.fif.gz or _ieeg.fif.gz\n",
      "  E = mne.io.read_raw_fif(name, verbose=False, preload=True)\n",
      "C:\\Users\\dasha\\AppData\\Local\\Temp\\ipykernel_9316\\639056234.py:6: RuntimeWarning: This filename (NP052402_VFT_1.fif) does not conform to MNE naming conventions. All raw files should end with raw.fif, raw_sss.fif, raw_tsss.fif, _meg.fif, _eeg.fif, _ieeg.fif, raw.fif.gz, raw_sss.fif.gz, raw_tsss.fif.gz, _meg.fif.gz, _eeg.fif.gz or _ieeg.fif.gz\n",
      "  E = mne.io.read_raw_fif(name, verbose=False, preload=True)\n",
      "C:\\Users\\dasha\\AppData\\Local\\Temp\\ipykernel_9316\\639056234.py:6: RuntimeWarning: This filename (NP052403_VFT_1.fif) does not conform to MNE naming conventions. All raw files should end with raw.fif, raw_sss.fif, raw_tsss.fif, _meg.fif, _eeg.fif, _ieeg.fif, raw.fif.gz, raw_sss.fif.gz, raw_tsss.fif.gz, _meg.fif.gz, _eeg.fif.gz or _ieeg.fif.gz\n",
      "  E = mne.io.read_raw_fif(name, verbose=False, preload=True)\n",
      "C:\\Users\\dasha\\AppData\\Local\\Temp\\ipykernel_9316\\639056234.py:6: RuntimeWarning: This filename (NP062401_VFT_1.fif) does not conform to MNE naming conventions. All raw files should end with raw.fif, raw_sss.fif, raw_tsss.fif, _meg.fif, _eeg.fif, _ieeg.fif, raw.fif.gz, raw_sss.fif.gz, raw_tsss.fif.gz, _meg.fif.gz, _eeg.fif.gz or _ieeg.fif.gz\n",
      "  E = mne.io.read_raw_fif(name, verbose=False, preload=True)\n",
      "C:\\Users\\dasha\\AppData\\Local\\Temp\\ipykernel_9316\\639056234.py:6: RuntimeWarning: This filename (NP102201_2_VFT_1.fif) does not conform to MNE naming conventions. All raw files should end with raw.fif, raw_sss.fif, raw_tsss.fif, _meg.fif, _eeg.fif, _ieeg.fif, raw.fif.gz, raw_sss.fif.gz, raw_tsss.fif.gz, _meg.fif.gz, _eeg.fif.gz or _ieeg.fif.gz\n",
      "  E = mne.io.read_raw_fif(name, verbose=False, preload=True)\n",
      "C:\\Users\\dasha\\AppData\\Local\\Temp\\ipykernel_9316\\639056234.py:6: RuntimeWarning: This filename (NP102302_VFT_1.fif) does not conform to MNE naming conventions. All raw files should end with raw.fif, raw_sss.fif, raw_tsss.fif, _meg.fif, _eeg.fif, _ieeg.fif, raw.fif.gz, raw_sss.fif.gz, raw_tsss.fif.gz, _meg.fif.gz, _eeg.fif.gz or _ieeg.fif.gz\n",
      "  E = mne.io.read_raw_fif(name, verbose=False, preload=True)\n",
      "C:\\Users\\dasha\\AppData\\Local\\Temp\\ipykernel_9316\\639056234.py:6: RuntimeWarning: This filename (NP102308_VFT_1.fif) does not conform to MNE naming conventions. All raw files should end with raw.fif, raw_sss.fif, raw_tsss.fif, _meg.fif, _eeg.fif, _ieeg.fif, raw.fif.gz, raw_sss.fif.gz, raw_tsss.fif.gz, _meg.fif.gz, _eeg.fif.gz or _ieeg.fif.gz\n",
      "  E = mne.io.read_raw_fif(name, verbose=False, preload=True)\n",
      "C:\\Users\\dasha\\AppData\\Local\\Temp\\ipykernel_9316\\639056234.py:6: RuntimeWarning: This filename (NP102310_VFT_1.fif) does not conform to MNE naming conventions. All raw files should end with raw.fif, raw_sss.fif, raw_tsss.fif, _meg.fif, _eeg.fif, _ieeg.fif, raw.fif.gz, raw_sss.fif.gz, raw_tsss.fif.gz, _meg.fif.gz, _eeg.fif.gz or _ieeg.fif.gz\n",
      "  E = mne.io.read_raw_fif(name, verbose=False, preload=True)\n",
      "C:\\Users\\dasha\\AppData\\Local\\Temp\\ipykernel_9316\\639056234.py:6: RuntimeWarning: This filename (NP102313_VFT_1.fif) does not conform to MNE naming conventions. All raw files should end with raw.fif, raw_sss.fif, raw_tsss.fif, _meg.fif, _eeg.fif, _ieeg.fif, raw.fif.gz, raw_sss.fif.gz, raw_tsss.fif.gz, _meg.fif.gz, _eeg.fif.gz or _ieeg.fif.gz\n",
      "  E = mne.io.read_raw_fif(name, verbose=False, preload=True)\n",
      "C:\\Users\\dasha\\AppData\\Local\\Temp\\ipykernel_9316\\639056234.py:6: RuntimeWarning: This filename (NP102314_VFT_1.fif) does not conform to MNE naming conventions. All raw files should end with raw.fif, raw_sss.fif, raw_tsss.fif, _meg.fif, _eeg.fif, _ieeg.fif, raw.fif.gz, raw_sss.fif.gz, raw_tsss.fif.gz, _meg.fif.gz, _eeg.fif.gz or _ieeg.fif.gz\n",
      "  E = mne.io.read_raw_fif(name, verbose=False, preload=True)\n",
      "C:\\Users\\dasha\\AppData\\Local\\Temp\\ipykernel_9316\\639056234.py:6: RuntimeWarning: This filename (NP102315_VFT_1.fif) does not conform to MNE naming conventions. All raw files should end with raw.fif, raw_sss.fif, raw_tsss.fif, _meg.fif, _eeg.fif, _ieeg.fif, raw.fif.gz, raw_sss.fif.gz, raw_tsss.fif.gz, _meg.fif.gz, _eeg.fif.gz or _ieeg.fif.gz\n",
      "  E = mne.io.read_raw_fif(name, verbose=False, preload=True)\n"
     ]
    },
    {
     "name": "stderr",
     "output_type": "stream",
     "text": [
      "C:\\Users\\dasha\\AppData\\Local\\Temp\\ipykernel_9316\\639056234.py:6: RuntimeWarning: This filename (NP112201_2_VFT_1.fif) does not conform to MNE naming conventions. All raw files should end with raw.fif, raw_sss.fif, raw_tsss.fif, _meg.fif, _eeg.fif, _ieeg.fif, raw.fif.gz, raw_sss.fif.gz, raw_tsss.fif.gz, _meg.fif.gz, _eeg.fif.gz or _ieeg.fif.gz\n",
      "  E = mne.io.read_raw_fif(name, verbose=False, preload=True)\n",
      "C:\\Users\\dasha\\AppData\\Local\\Temp\\ipykernel_9316\\639056234.py:6: RuntimeWarning: This filename (NP112206_2_VFT_1.fif) does not conform to MNE naming conventions. All raw files should end with raw.fif, raw_sss.fif, raw_tsss.fif, _meg.fif, _eeg.fif, _ieeg.fif, raw.fif.gz, raw_sss.fif.gz, raw_tsss.fif.gz, _meg.fif.gz, _eeg.fif.gz or _ieeg.fif.gz\n",
      "  E = mne.io.read_raw_fif(name, verbose=False, preload=True)\n",
      "C:\\Users\\dasha\\AppData\\Local\\Temp\\ipykernel_9316\\639056234.py:6: RuntimeWarning: This filename (NP112211_2_VFT_1.fif) does not conform to MNE naming conventions. All raw files should end with raw.fif, raw_sss.fif, raw_tsss.fif, _meg.fif, _eeg.fif, _ieeg.fif, raw.fif.gz, raw_sss.fif.gz, raw_tsss.fif.gz, _meg.fif.gz, _eeg.fif.gz or _ieeg.fif.gz\n",
      "  E = mne.io.read_raw_fif(name, verbose=False, preload=True)\n",
      "C:\\Users\\dasha\\AppData\\Local\\Temp\\ipykernel_9316\\639056234.py:6: RuntimeWarning: This filename (NP112212_2_VFT_1.fif) does not conform to MNE naming conventions. All raw files should end with raw.fif, raw_sss.fif, raw_tsss.fif, _meg.fif, _eeg.fif, _ieeg.fif, raw.fif.gz, raw_sss.fif.gz, raw_tsss.fif.gz, _meg.fif.gz, _eeg.fif.gz or _ieeg.fif.gz\n",
      "  E = mne.io.read_raw_fif(name, verbose=False, preload=True)\n",
      "C:\\Users\\dasha\\AppData\\Local\\Temp\\ipykernel_9316\\639056234.py:6: RuntimeWarning: This filename (NP112213_2_VFT_1.fif) does not conform to MNE naming conventions. All raw files should end with raw.fif, raw_sss.fif, raw_tsss.fif, _meg.fif, _eeg.fif, _ieeg.fif, raw.fif.gz, raw_sss.fif.gz, raw_tsss.fif.gz, _meg.fif.gz, _eeg.fif.gz or _ieeg.fif.gz\n",
      "  E = mne.io.read_raw_fif(name, verbose=False, preload=True)\n",
      "C:\\Users\\dasha\\AppData\\Local\\Temp\\ipykernel_9316\\639056234.py:6: RuntimeWarning: This filename (NP112214_2_VFT_1.fif) does not conform to MNE naming conventions. All raw files should end with raw.fif, raw_sss.fif, raw_tsss.fif, _meg.fif, _eeg.fif, _ieeg.fif, raw.fif.gz, raw_sss.fif.gz, raw_tsss.fif.gz, _meg.fif.gz, _eeg.fif.gz or _ieeg.fif.gz\n",
      "  E = mne.io.read_raw_fif(name, verbose=False, preload=True)\n",
      "C:\\Users\\dasha\\AppData\\Local\\Temp\\ipykernel_9316\\639056234.py:6: RuntimeWarning: This filename (NP112215_2_VFT_1.fif) does not conform to MNE naming conventions. All raw files should end with raw.fif, raw_sss.fif, raw_tsss.fif, _meg.fif, _eeg.fif, _ieeg.fif, raw.fif.gz, raw_sss.fif.gz, raw_tsss.fif.gz, _meg.fif.gz, _eeg.fif.gz or _ieeg.fif.gz\n",
      "  E = mne.io.read_raw_fif(name, verbose=False, preload=True)\n",
      "C:\\Users\\dasha\\AppData\\Local\\Temp\\ipykernel_9316\\639056234.py:6: RuntimeWarning: This filename (NP112218_2_VFT_1.fif) does not conform to MNE naming conventions. All raw files should end with raw.fif, raw_sss.fif, raw_tsss.fif, _meg.fif, _eeg.fif, _ieeg.fif, raw.fif.gz, raw_sss.fif.gz, raw_tsss.fif.gz, _meg.fif.gz, _eeg.fif.gz or _ieeg.fif.gz\n",
      "  E = mne.io.read_raw_fif(name, verbose=False, preload=True)\n",
      "C:\\Users\\dasha\\AppData\\Local\\Temp\\ipykernel_9316\\639056234.py:6: RuntimeWarning: This filename (NP112219_2_VFT_1.fif) does not conform to MNE naming conventions. All raw files should end with raw.fif, raw_sss.fif, raw_tsss.fif, _meg.fif, _eeg.fif, _ieeg.fif, raw.fif.gz, raw_sss.fif.gz, raw_tsss.fif.gz, _meg.fif.gz, _eeg.fif.gz or _ieeg.fif.gz\n",
      "  E = mne.io.read_raw_fif(name, verbose=False, preload=True)\n",
      "C:\\Users\\dasha\\AppData\\Local\\Temp\\ipykernel_9316\\639056234.py:6: RuntimeWarning: This filename (NP112221_2_VFT_1.fif) does not conform to MNE naming conventions. All raw files should end with raw.fif, raw_sss.fif, raw_tsss.fif, _meg.fif, _eeg.fif, _ieeg.fif, raw.fif.gz, raw_sss.fif.gz, raw_tsss.fif.gz, _meg.fif.gz, _eeg.fif.gz or _ieeg.fif.gz\n",
      "  E = mne.io.read_raw_fif(name, verbose=False, preload=True)\n",
      "C:\\Users\\dasha\\AppData\\Local\\Temp\\ipykernel_9316\\639056234.py:6: RuntimeWarning: This filename (NP112223_2_VFT_1.fif) does not conform to MNE naming conventions. All raw files should end with raw.fif, raw_sss.fif, raw_tsss.fif, _meg.fif, _eeg.fif, _ieeg.fif, raw.fif.gz, raw_sss.fif.gz, raw_tsss.fif.gz, _meg.fif.gz, _eeg.fif.gz or _ieeg.fif.gz\n",
      "  E = mne.io.read_raw_fif(name, verbose=False, preload=True)\n",
      "C:\\Users\\dasha\\AppData\\Local\\Temp\\ipykernel_9316\\639056234.py:6: RuntimeWarning: This filename (NP112225_2_VFT_1.fif) does not conform to MNE naming conventions. All raw files should end with raw.fif, raw_sss.fif, raw_tsss.fif, _meg.fif, _eeg.fif, _ieeg.fif, raw.fif.gz, raw_sss.fif.gz, raw_tsss.fif.gz, _meg.fif.gz, _eeg.fif.gz or _ieeg.fif.gz\n",
      "  E = mne.io.read_raw_fif(name, verbose=False, preload=True)\n",
      "C:\\Users\\dasha\\AppData\\Local\\Temp\\ipykernel_9316\\639056234.py:6: RuntimeWarning: This filename (NP112226_2_VFT_1.fif) does not conform to MNE naming conventions. All raw files should end with raw.fif, raw_sss.fif, raw_tsss.fif, _meg.fif, _eeg.fif, _ieeg.fif, raw.fif.gz, raw_sss.fif.gz, raw_tsss.fif.gz, _meg.fif.gz, _eeg.fif.gz or _ieeg.fif.gz\n",
      "  E = mne.io.read_raw_fif(name, verbose=False, preload=True)\n",
      "C:\\Users\\dasha\\AppData\\Local\\Temp\\ipykernel_9316\\639056234.py:6: RuntimeWarning: This filename (NP112229_2_VFT_1.fif) does not conform to MNE naming conventions. All raw files should end with raw.fif, raw_sss.fif, raw_tsss.fif, _meg.fif, _eeg.fif, _ieeg.fif, raw.fif.gz, raw_sss.fif.gz, raw_tsss.fif.gz, _meg.fif.gz, _eeg.fif.gz or _ieeg.fif.gz\n",
      "  E = mne.io.read_raw_fif(name, verbose=False, preload=True)\n",
      "C:\\Users\\dasha\\AppData\\Local\\Temp\\ipykernel_9316\\639056234.py:6: RuntimeWarning: This filename (NP112301_VFT_1.fif) does not conform to MNE naming conventions. All raw files should end with raw.fif, raw_sss.fif, raw_tsss.fif, _meg.fif, _eeg.fif, _ieeg.fif, raw.fif.gz, raw_sss.fif.gz, raw_tsss.fif.gz, _meg.fif.gz, _eeg.fif.gz or _ieeg.fif.gz\n",
      "  E = mne.io.read_raw_fif(name, verbose=False, preload=True)\n",
      "C:\\Users\\dasha\\AppData\\Local\\Temp\\ipykernel_9316\\639056234.py:6: RuntimeWarning: This filename (NP112302_VFT_1.fif) does not conform to MNE naming conventions. All raw files should end with raw.fif, raw_sss.fif, raw_tsss.fif, _meg.fif, _eeg.fif, _ieeg.fif, raw.fif.gz, raw_sss.fif.gz, raw_tsss.fif.gz, _meg.fif.gz, _eeg.fif.gz or _ieeg.fif.gz\n",
      "  E = mne.io.read_raw_fif(name, verbose=False, preload=True)\n",
      "C:\\Users\\dasha\\AppData\\Local\\Temp\\ipykernel_9316\\639056234.py:6: RuntimeWarning: This filename (NP112303_VFT_1.fif) does not conform to MNE naming conventions. All raw files should end with raw.fif, raw_sss.fif, raw_tsss.fif, _meg.fif, _eeg.fif, _ieeg.fif, raw.fif.gz, raw_sss.fif.gz, raw_tsss.fif.gz, _meg.fif.gz, _eeg.fif.gz or _ieeg.fif.gz\n",
      "  E = mne.io.read_raw_fif(name, verbose=False, preload=True)\n",
      "C:\\Users\\dasha\\AppData\\Local\\Temp\\ipykernel_9316\\639056234.py:6: RuntimeWarning: This filename (NP112304_VFT_1.fif) does not conform to MNE naming conventions. All raw files should end with raw.fif, raw_sss.fif, raw_tsss.fif, _meg.fif, _eeg.fif, _ieeg.fif, raw.fif.gz, raw_sss.fif.gz, raw_tsss.fif.gz, _meg.fif.gz, _eeg.fif.gz or _ieeg.fif.gz\n",
      "  E = mne.io.read_raw_fif(name, verbose=False, preload=True)\n",
      "C:\\Users\\dasha\\AppData\\Local\\Temp\\ipykernel_9316\\639056234.py:6: RuntimeWarning: This filename (NP112307_VFT_1.fif) does not conform to MNE naming conventions. All raw files should end with raw.fif, raw_sss.fif, raw_tsss.fif, _meg.fif, _eeg.fif, _ieeg.fif, raw.fif.gz, raw_sss.fif.gz, raw_tsss.fif.gz, _meg.fif.gz, _eeg.fif.gz or _ieeg.fif.gz\n",
      "  E = mne.io.read_raw_fif(name, verbose=False, preload=True)\n",
      "C:\\Users\\dasha\\AppData\\Local\\Temp\\ipykernel_9316\\639056234.py:6: RuntimeWarning: This filename (NP112308_VFT_1.fif) does not conform to MNE naming conventions. All raw files should end with raw.fif, raw_sss.fif, raw_tsss.fif, _meg.fif, _eeg.fif, _ieeg.fif, raw.fif.gz, raw_sss.fif.gz, raw_tsss.fif.gz, _meg.fif.gz, _eeg.fif.gz or _ieeg.fif.gz\n",
      "  E = mne.io.read_raw_fif(name, verbose=False, preload=True)\n",
      "C:\\Users\\dasha\\AppData\\Local\\Temp\\ipykernel_9316\\639056234.py:6: RuntimeWarning: This filename (NP112309_VFT_1.fif) does not conform to MNE naming conventions. All raw files should end with raw.fif, raw_sss.fif, raw_tsss.fif, _meg.fif, _eeg.fif, _ieeg.fif, raw.fif.gz, raw_sss.fif.gz, raw_tsss.fif.gz, _meg.fif.gz, _eeg.fif.gz or _ieeg.fif.gz\n",
      "  E = mne.io.read_raw_fif(name, verbose=False, preload=True)\n",
      "C:\\Users\\dasha\\AppData\\Local\\Temp\\ipykernel_9316\\639056234.py:6: RuntimeWarning: This filename (NP112310_VFT_1.fif) does not conform to MNE naming conventions. All raw files should end with raw.fif, raw_sss.fif, raw_tsss.fif, _meg.fif, _eeg.fif, _ieeg.fif, raw.fif.gz, raw_sss.fif.gz, raw_tsss.fif.gz, _meg.fif.gz, _eeg.fif.gz or _ieeg.fif.gz\n",
      "  E = mne.io.read_raw_fif(name, verbose=False, preload=True)\n"
     ]
    },
    {
     "name": "stderr",
     "output_type": "stream",
     "text": [
      "C:\\Users\\dasha\\AppData\\Local\\Temp\\ipykernel_9316\\639056234.py:6: RuntimeWarning: This filename (NP112311_VFT_1.fif) does not conform to MNE naming conventions. All raw files should end with raw.fif, raw_sss.fif, raw_tsss.fif, _meg.fif, _eeg.fif, _ieeg.fif, raw.fif.gz, raw_sss.fif.gz, raw_tsss.fif.gz, _meg.fif.gz, _eeg.fif.gz or _ieeg.fif.gz\n",
      "  E = mne.io.read_raw_fif(name, verbose=False, preload=True)\n",
      "C:\\Users\\dasha\\AppData\\Local\\Temp\\ipykernel_9316\\639056234.py:6: RuntimeWarning: This filename (NP112313_VFT_1.fif) does not conform to MNE naming conventions. All raw files should end with raw.fif, raw_sss.fif, raw_tsss.fif, _meg.fif, _eeg.fif, _ieeg.fif, raw.fif.gz, raw_sss.fif.gz, raw_tsss.fif.gz, _meg.fif.gz, _eeg.fif.gz or _ieeg.fif.gz\n",
      "  E = mne.io.read_raw_fif(name, verbose=False, preload=True)\n",
      "C:\\Users\\dasha\\AppData\\Local\\Temp\\ipykernel_9316\\639056234.py:6: RuntimeWarning: This filename (NP112314_VFT_1.fif) does not conform to MNE naming conventions. All raw files should end with raw.fif, raw_sss.fif, raw_tsss.fif, _meg.fif, _eeg.fif, _ieeg.fif, raw.fif.gz, raw_sss.fif.gz, raw_tsss.fif.gz, _meg.fif.gz, _eeg.fif.gz or _ieeg.fif.gz\n",
      "  E = mne.io.read_raw_fif(name, verbose=False, preload=True)\n",
      "C:\\Users\\dasha\\AppData\\Local\\Temp\\ipykernel_9316\\639056234.py:6: RuntimeWarning: This filename (NP112315_VFT_1.fif) does not conform to MNE naming conventions. All raw files should end with raw.fif, raw_sss.fif, raw_tsss.fif, _meg.fif, _eeg.fif, _ieeg.fif, raw.fif.gz, raw_sss.fif.gz, raw_tsss.fif.gz, _meg.fif.gz, _eeg.fif.gz or _ieeg.fif.gz\n",
      "  E = mne.io.read_raw_fif(name, verbose=False, preload=True)\n",
      "C:\\Users\\dasha\\AppData\\Local\\Temp\\ipykernel_9316\\639056234.py:6: RuntimeWarning: This filename (NP112316_VFT_1.fif) does not conform to MNE naming conventions. All raw files should end with raw.fif, raw_sss.fif, raw_tsss.fif, _meg.fif, _eeg.fif, _ieeg.fif, raw.fif.gz, raw_sss.fif.gz, raw_tsss.fif.gz, _meg.fif.gz, _eeg.fif.gz or _ieeg.fif.gz\n",
      "  E = mne.io.read_raw_fif(name, verbose=False, preload=True)\n",
      "C:\\Users\\dasha\\AppData\\Local\\Temp\\ipykernel_9316\\639056234.py:6: RuntimeWarning: This filename (NP112317_VFT_1.fif) does not conform to MNE naming conventions. All raw files should end with raw.fif, raw_sss.fif, raw_tsss.fif, _meg.fif, _eeg.fif, _ieeg.fif, raw.fif.gz, raw_sss.fif.gz, raw_tsss.fif.gz, _meg.fif.gz, _eeg.fif.gz or _ieeg.fif.gz\n",
      "  E = mne.io.read_raw_fif(name, verbose=False, preload=True)\n",
      "C:\\Users\\dasha\\AppData\\Local\\Temp\\ipykernel_9316\\639056234.py:6: RuntimeWarning: This filename (NP112318_VFT_1.fif) does not conform to MNE naming conventions. All raw files should end with raw.fif, raw_sss.fif, raw_tsss.fif, _meg.fif, _eeg.fif, _ieeg.fif, raw.fif.gz, raw_sss.fif.gz, raw_tsss.fif.gz, _meg.fif.gz, _eeg.fif.gz or _ieeg.fif.gz\n",
      "  E = mne.io.read_raw_fif(name, verbose=False, preload=True)\n",
      "C:\\Users\\dasha\\AppData\\Local\\Temp\\ipykernel_9316\\639056234.py:6: RuntimeWarning: This filename (NP112319_VFT_1.fif) does not conform to MNE naming conventions. All raw files should end with raw.fif, raw_sss.fif, raw_tsss.fif, _meg.fif, _eeg.fif, _ieeg.fif, raw.fif.gz, raw_sss.fif.gz, raw_tsss.fif.gz, _meg.fif.gz, _eeg.fif.gz or _ieeg.fif.gz\n",
      "  E = mne.io.read_raw_fif(name, verbose=False, preload=True)\n",
      "C:\\Users\\dasha\\AppData\\Local\\Temp\\ipykernel_9316\\639056234.py:6: RuntimeWarning: This filename (NP112320_VFT_1.fif) does not conform to MNE naming conventions. All raw files should end with raw.fif, raw_sss.fif, raw_tsss.fif, _meg.fif, _eeg.fif, _ieeg.fif, raw.fif.gz, raw_sss.fif.gz, raw_tsss.fif.gz, _meg.fif.gz, _eeg.fif.gz or _ieeg.fif.gz\n",
      "  E = mne.io.read_raw_fif(name, verbose=False, preload=True)\n",
      "C:\\Users\\dasha\\AppData\\Local\\Temp\\ipykernel_9316\\639056234.py:6: RuntimeWarning: This filename (NP112321_VFT_1.fif) does not conform to MNE naming conventions. All raw files should end with raw.fif, raw_sss.fif, raw_tsss.fif, _meg.fif, _eeg.fif, _ieeg.fif, raw.fif.gz, raw_sss.fif.gz, raw_tsss.fif.gz, _meg.fif.gz, _eeg.fif.gz or _ieeg.fif.gz\n",
      "  E = mne.io.read_raw_fif(name, verbose=False, preload=True)\n",
      "C:\\Users\\dasha\\AppData\\Local\\Temp\\ipykernel_9316\\639056234.py:6: RuntimeWarning: This filename (NP112322_VFT_1.fif) does not conform to MNE naming conventions. All raw files should end with raw.fif, raw_sss.fif, raw_tsss.fif, _meg.fif, _eeg.fif, _ieeg.fif, raw.fif.gz, raw_sss.fif.gz, raw_tsss.fif.gz, _meg.fif.gz, _eeg.fif.gz or _ieeg.fif.gz\n",
      "  E = mne.io.read_raw_fif(name, verbose=False, preload=True)\n",
      "C:\\Users\\dasha\\AppData\\Local\\Temp\\ipykernel_9316\\639056234.py:6: RuntimeWarning: This filename (NP122201_2_VFT_1.fif) does not conform to MNE naming conventions. All raw files should end with raw.fif, raw_sss.fif, raw_tsss.fif, _meg.fif, _eeg.fif, _ieeg.fif, raw.fif.gz, raw_sss.fif.gz, raw_tsss.fif.gz, _meg.fif.gz, _eeg.fif.gz or _ieeg.fif.gz\n",
      "  E = mne.io.read_raw_fif(name, verbose=False, preload=True)\n",
      "C:\\Users\\dasha\\AppData\\Local\\Temp\\ipykernel_9316\\639056234.py:6: RuntimeWarning: This filename (NP122202_2_VFT_1.fif) does not conform to MNE naming conventions. All raw files should end with raw.fif, raw_sss.fif, raw_tsss.fif, _meg.fif, _eeg.fif, _ieeg.fif, raw.fif.gz, raw_sss.fif.gz, raw_tsss.fif.gz, _meg.fif.gz, _eeg.fif.gz or _ieeg.fif.gz\n",
      "  E = mne.io.read_raw_fif(name, verbose=False, preload=True)\n",
      "C:\\Users\\dasha\\AppData\\Local\\Temp\\ipykernel_9316\\639056234.py:6: RuntimeWarning: This filename (NP122301_VFT_1.fif) does not conform to MNE naming conventions. All raw files should end with raw.fif, raw_sss.fif, raw_tsss.fif, _meg.fif, _eeg.fif, _ieeg.fif, raw.fif.gz, raw_sss.fif.gz, raw_tsss.fif.gz, _meg.fif.gz, _eeg.fif.gz or _ieeg.fif.gz\n",
      "  E = mne.io.read_raw_fif(name, verbose=False, preload=True)\n",
      "C:\\Users\\dasha\\AppData\\Local\\Temp\\ipykernel_9316\\639056234.py:6: RuntimeWarning: This filename (NP122302_VFT_1.fif) does not conform to MNE naming conventions. All raw files should end with raw.fif, raw_sss.fif, raw_tsss.fif, _meg.fif, _eeg.fif, _ieeg.fif, raw.fif.gz, raw_sss.fif.gz, raw_tsss.fif.gz, _meg.fif.gz, _eeg.fif.gz or _ieeg.fif.gz\n",
      "  E = mne.io.read_raw_fif(name, verbose=False, preload=True)\n",
      "C:\\Users\\dasha\\AppData\\Local\\Temp\\ipykernel_9316\\639056234.py:6: RuntimeWarning: This filename (NP122303_VFT_1.fif) does not conform to MNE naming conventions. All raw files should end with raw.fif, raw_sss.fif, raw_tsss.fif, _meg.fif, _eeg.fif, _ieeg.fif, raw.fif.gz, raw_sss.fif.gz, raw_tsss.fif.gz, _meg.fif.gz, _eeg.fif.gz or _ieeg.fif.gz\n",
      "  E = mne.io.read_raw_fif(name, verbose=False, preload=True)\n"
     ]
    }
   ],
   "source": [
    "EEG = []\n",
    "\n",
    "for i in range (len(ID)):  \n",
    "    #name= f'{ID[i]}_VFT.vhdr'\n",
    "    name=filenames[i]\n",
    "    E = mne.io.read_raw_fif(name, verbose=False, preload=True)\n",
    "    EEG.append(E)"
   ]
  },
  {
   "cell_type": "code",
   "execution_count": 21,
   "id": "00774f4f",
   "metadata": {},
   "outputs": [
    {
     "name": "stdout",
     "output_type": "stream",
     "text": [
      "Filtering raw data in 1 contiguous segment\n",
      "Setting up band-pass filter from 0.1 - 1e+02 Hz\n",
      "\n",
      "FIR filter parameters\n",
      "---------------------\n",
      "Designing a two-pass forward and reverse, zero-phase, non-causal bandpass filter:\n",
      "- Windowed time-domain design (firwin) method\n",
      "- Hamming window with 0.0194 passband ripple and 53 dB stopband attenuation\n",
      "- Lower passband edge: 0.10\n",
      "- Lower transition bandwidth: 0.10 Hz (-12 dB cutoff frequency: 0.05 Hz)\n",
      "- Upper passband edge: 100.00 Hz\n",
      "- Upper transition bandwidth: 25.00 Hz (-12 dB cutoff frequency: 112.50 Hz)\n",
      "- Filter length: 16501 samples (33.002 sec)\n",
      "\n"
     ]
    },
    {
     "name": "stderr",
     "output_type": "stream",
     "text": [
      "[Parallel(n_jobs=1)]: Using backend SequentialBackend with 1 concurrent workers.\n",
      "[Parallel(n_jobs=1)]: Done   1 out of   1 | elapsed:    0.0s remaining:    0.0s\n",
      "[Parallel(n_jobs=1)]: Done   2 out of   2 | elapsed:    0.0s remaining:    0.0s\n",
      "[Parallel(n_jobs=1)]: Done   3 out of   3 | elapsed:    0.0s remaining:    0.0s\n",
      "[Parallel(n_jobs=1)]: Done   4 out of   4 | elapsed:    0.0s remaining:    0.0s\n"
     ]
    },
    {
     "name": "stdout",
     "output_type": "stream",
     "text": [
      "Filtering raw data in 1 contiguous segment\n",
      "Setting up band-pass filter from 0.1 - 1e+02 Hz\n",
      "\n",
      "FIR filter parameters\n",
      "---------------------\n",
      "Designing a two-pass forward and reverse, zero-phase, non-causal bandpass filter:\n",
      "- Windowed time-domain design (firwin) method\n",
      "- Hamming window with 0.0194 passband ripple and 53 dB stopband attenuation\n",
      "- Lower passband edge: 0.10\n",
      "- Lower transition bandwidth: 0.10 Hz (-12 dB cutoff frequency: 0.05 Hz)\n",
      "- Upper passband edge: 100.00 Hz\n",
      "- Upper transition bandwidth: 25.00 Hz (-12 dB cutoff frequency: 112.50 Hz)\n",
      "- Filter length: 16501 samples (33.002 sec)\n",
      "\n"
     ]
    },
    {
     "name": "stderr",
     "output_type": "stream",
     "text": [
      "[Parallel(n_jobs=1)]: Done  31 out of  31 | elapsed:    0.4s finished\n",
      "[Parallel(n_jobs=1)]: Using backend SequentialBackend with 1 concurrent workers.\n",
      "[Parallel(n_jobs=1)]: Done   1 out of   1 | elapsed:    0.0s remaining:    0.0s\n",
      "[Parallel(n_jobs=1)]: Done   2 out of   2 | elapsed:    0.0s remaining:    0.0s\n",
      "[Parallel(n_jobs=1)]: Done   3 out of   3 | elapsed:    0.0s remaining:    0.0s\n",
      "[Parallel(n_jobs=1)]: Done   4 out of   4 | elapsed:    0.0s remaining:    0.0s\n"
     ]
    },
    {
     "name": "stdout",
     "output_type": "stream",
     "text": [
      "Filtering raw data in 1 contiguous segment\n",
      "Setting up band-pass filter from 0.1 - 1e+02 Hz\n",
      "\n",
      "FIR filter parameters\n",
      "---------------------\n",
      "Designing a two-pass forward and reverse, zero-phase, non-causal bandpass filter:\n",
      "- Windowed time-domain design (firwin) method\n",
      "- Hamming window with 0.0194 passband ripple and 53 dB stopband attenuation\n",
      "- Lower passband edge: 0.10\n",
      "- Lower transition bandwidth: 0.10 Hz (-12 dB cutoff frequency: 0.05 Hz)\n",
      "- Upper passband edge: 100.00 Hz\n",
      "- Upper transition bandwidth: 25.00 Hz (-12 dB cutoff frequency: 112.50 Hz)\n",
      "- Filter length: 16501 samples (33.002 sec)\n",
      "\n"
     ]
    },
    {
     "name": "stderr",
     "output_type": "stream",
     "text": [
      "[Parallel(n_jobs=1)]: Done  31 out of  31 | elapsed:    0.6s finished\n",
      "[Parallel(n_jobs=1)]: Using backend SequentialBackend with 1 concurrent workers.\n",
      "[Parallel(n_jobs=1)]: Done   1 out of   1 | elapsed:    0.0s remaining:    0.0s\n",
      "[Parallel(n_jobs=1)]: Done   2 out of   2 | elapsed:    0.0s remaining:    0.0s\n",
      "[Parallel(n_jobs=1)]: Done   3 out of   3 | elapsed:    0.0s remaining:    0.0s\n",
      "[Parallel(n_jobs=1)]: Done   4 out of   4 | elapsed:    0.0s remaining:    0.0s\n"
     ]
    },
    {
     "name": "stdout",
     "output_type": "stream",
     "text": [
      "Filtering raw data in 1 contiguous segment\n",
      "Setting up band-pass filter from 0.1 - 1e+02 Hz\n",
      "\n",
      "FIR filter parameters\n",
      "---------------------\n",
      "Designing a two-pass forward and reverse, zero-phase, non-causal bandpass filter:\n",
      "- Windowed time-domain design (firwin) method\n",
      "- Hamming window with 0.0194 passband ripple and 53 dB stopband attenuation\n",
      "- Lower passband edge: 0.10\n",
      "- Lower transition bandwidth: 0.10 Hz (-12 dB cutoff frequency: 0.05 Hz)\n",
      "- Upper passband edge: 100.00 Hz\n",
      "- Upper transition bandwidth: 25.00 Hz (-12 dB cutoff frequency: 112.50 Hz)\n",
      "- Filter length: 16501 samples (33.002 sec)\n",
      "\n"
     ]
    },
    {
     "name": "stderr",
     "output_type": "stream",
     "text": [
      "[Parallel(n_jobs=1)]: Done  31 out of  31 | elapsed:    0.7s finished\n",
      "[Parallel(n_jobs=1)]: Using backend SequentialBackend with 1 concurrent workers.\n",
      "[Parallel(n_jobs=1)]: Done   1 out of   1 | elapsed:    0.0s remaining:    0.0s\n",
      "[Parallel(n_jobs=1)]: Done   2 out of   2 | elapsed:    0.0s remaining:    0.0s\n",
      "[Parallel(n_jobs=1)]: Done   3 out of   3 | elapsed:    0.0s remaining:    0.0s\n",
      "[Parallel(n_jobs=1)]: Done   4 out of   4 | elapsed:    0.1s remaining:    0.0s\n"
     ]
    },
    {
     "name": "stdout",
     "output_type": "stream",
     "text": [
      "Filtering raw data in 1 contiguous segment\n",
      "Setting up band-pass filter from 0.1 - 1e+02 Hz\n",
      "\n",
      "FIR filter parameters\n",
      "---------------------\n",
      "Designing a two-pass forward and reverse, zero-phase, non-causal bandpass filter:\n",
      "- Windowed time-domain design (firwin) method\n",
      "- Hamming window with 0.0194 passband ripple and 53 dB stopband attenuation\n",
      "- Lower passband edge: 0.10\n",
      "- Lower transition bandwidth: 0.10 Hz (-12 dB cutoff frequency: 0.05 Hz)\n",
      "- Upper passband edge: 100.00 Hz\n",
      "- Upper transition bandwidth: 25.00 Hz (-12 dB cutoff frequency: 112.50 Hz)\n",
      "- Filter length: 16501 samples (33.002 sec)\n",
      "\n"
     ]
    },
    {
     "name": "stderr",
     "output_type": "stream",
     "text": [
      "[Parallel(n_jobs=1)]: Done  31 out of  31 | elapsed:    0.5s finished\n",
      "[Parallel(n_jobs=1)]: Using backend SequentialBackend with 1 concurrent workers.\n",
      "[Parallel(n_jobs=1)]: Done   1 out of   1 | elapsed:    0.0s remaining:    0.0s\n",
      "[Parallel(n_jobs=1)]: Done   2 out of   2 | elapsed:    0.0s remaining:    0.0s\n",
      "[Parallel(n_jobs=1)]: Done   3 out of   3 | elapsed:    0.0s remaining:    0.0s\n",
      "[Parallel(n_jobs=1)]: Done   4 out of   4 | elapsed:    0.0s remaining:    0.0s\n"
     ]
    },
    {
     "name": "stdout",
     "output_type": "stream",
     "text": [
      "Filtering raw data in 1 contiguous segment\n",
      "Setting up band-pass filter from 0.1 - 1e+02 Hz\n",
      "\n",
      "FIR filter parameters\n",
      "---------------------\n",
      "Designing a two-pass forward and reverse, zero-phase, non-causal bandpass filter:\n",
      "- Windowed time-domain design (firwin) method\n",
      "- Hamming window with 0.0194 passband ripple and 53 dB stopband attenuation\n",
      "- Lower passband edge: 0.10\n",
      "- Lower transition bandwidth: 0.10 Hz (-12 dB cutoff frequency: 0.05 Hz)\n",
      "- Upper passband edge: 100.00 Hz\n",
      "- Upper transition bandwidth: 25.00 Hz (-12 dB cutoff frequency: 112.50 Hz)\n",
      "- Filter length: 16501 samples (33.002 sec)\n",
      "\n"
     ]
    },
    {
     "name": "stderr",
     "output_type": "stream",
     "text": [
      "[Parallel(n_jobs=1)]: Done  31 out of  31 | elapsed:    0.4s finished\n",
      "[Parallel(n_jobs=1)]: Using backend SequentialBackend with 1 concurrent workers.\n",
      "[Parallel(n_jobs=1)]: Done   1 out of   1 | elapsed:    0.0s remaining:    0.0s\n",
      "[Parallel(n_jobs=1)]: Done   2 out of   2 | elapsed:    0.0s remaining:    0.0s\n",
      "[Parallel(n_jobs=1)]: Done   3 out of   3 | elapsed:    0.0s remaining:    0.0s\n",
      "[Parallel(n_jobs=1)]: Done   4 out of   4 | elapsed:    0.0s remaining:    0.0s\n"
     ]
    },
    {
     "name": "stdout",
     "output_type": "stream",
     "text": [
      "Filtering raw data in 1 contiguous segment\n",
      "Setting up band-pass filter from 0.1 - 1e+02 Hz\n",
      "\n",
      "FIR filter parameters\n",
      "---------------------\n",
      "Designing a two-pass forward and reverse, zero-phase, non-causal bandpass filter:\n",
      "- Windowed time-domain design (firwin) method\n",
      "- Hamming window with 0.0194 passband ripple and 53 dB stopband attenuation\n",
      "- Lower passband edge: 0.10\n",
      "- Lower transition bandwidth: 0.10 Hz (-12 dB cutoff frequency: 0.05 Hz)\n",
      "- Upper passband edge: 100.00 Hz\n",
      "- Upper transition bandwidth: 25.00 Hz (-12 dB cutoff frequency: 112.50 Hz)\n",
      "- Filter length: 16501 samples (33.002 sec)\n",
      "\n"
     ]
    },
    {
     "name": "stderr",
     "output_type": "stream",
     "text": [
      "[Parallel(n_jobs=1)]: Done  31 out of  31 | elapsed:    0.4s finished\n",
      "[Parallel(n_jobs=1)]: Using backend SequentialBackend with 1 concurrent workers.\n",
      "[Parallel(n_jobs=1)]: Done   1 out of   1 | elapsed:    0.0s remaining:    0.0s\n",
      "[Parallel(n_jobs=1)]: Done   2 out of   2 | elapsed:    0.0s remaining:    0.0s\n",
      "[Parallel(n_jobs=1)]: Done   3 out of   3 | elapsed:    0.0s remaining:    0.0s\n",
      "[Parallel(n_jobs=1)]: Done   4 out of   4 | elapsed:    0.0s remaining:    0.0s\n"
     ]
    },
    {
     "name": "stdout",
     "output_type": "stream",
     "text": [
      "Filtering raw data in 1 contiguous segment\n",
      "Setting up band-pass filter from 0.1 - 1e+02 Hz\n",
      "\n",
      "FIR filter parameters\n",
      "---------------------\n",
      "Designing a two-pass forward and reverse, zero-phase, non-causal bandpass filter:\n",
      "- Windowed time-domain design (firwin) method\n",
      "- Hamming window with 0.0194 passband ripple and 53 dB stopband attenuation\n",
      "- Lower passband edge: 0.10\n",
      "- Lower transition bandwidth: 0.10 Hz (-12 dB cutoff frequency: 0.05 Hz)\n",
      "- Upper passband edge: 100.00 Hz\n",
      "- Upper transition bandwidth: 25.00 Hz (-12 dB cutoff frequency: 112.50 Hz)\n",
      "- Filter length: 16501 samples (33.002 sec)\n",
      "\n"
     ]
    },
    {
     "name": "stderr",
     "output_type": "stream",
     "text": [
      "[Parallel(n_jobs=1)]: Done  31 out of  31 | elapsed:    0.4s finished\n",
      "[Parallel(n_jobs=1)]: Using backend SequentialBackend with 1 concurrent workers.\n",
      "[Parallel(n_jobs=1)]: Done   1 out of   1 | elapsed:    0.0s remaining:    0.0s\n",
      "[Parallel(n_jobs=1)]: Done   2 out of   2 | elapsed:    0.0s remaining:    0.0s\n",
      "[Parallel(n_jobs=1)]: Done   3 out of   3 | elapsed:    0.0s remaining:    0.0s\n",
      "[Parallel(n_jobs=1)]: Done   4 out of   4 | elapsed:    0.0s remaining:    0.0s\n"
     ]
    },
    {
     "name": "stdout",
     "output_type": "stream",
     "text": [
      "Filtering raw data in 1 contiguous segment\n",
      "Setting up band-pass filter from 0.1 - 1e+02 Hz\n",
      "\n",
      "FIR filter parameters\n",
      "---------------------\n",
      "Designing a two-pass forward and reverse, zero-phase, non-causal bandpass filter:\n",
      "- Windowed time-domain design (firwin) method\n",
      "- Hamming window with 0.0194 passband ripple and 53 dB stopband attenuation\n",
      "- Lower passband edge: 0.10\n",
      "- Lower transition bandwidth: 0.10 Hz (-12 dB cutoff frequency: 0.05 Hz)\n",
      "- Upper passband edge: 100.00 Hz\n",
      "- Upper transition bandwidth: 25.00 Hz (-12 dB cutoff frequency: 112.50 Hz)\n",
      "- Filter length: 16501 samples (33.002 sec)\n",
      "\n"
     ]
    },
    {
     "name": "stderr",
     "output_type": "stream",
     "text": [
      "[Parallel(n_jobs=1)]: Done  31 out of  31 | elapsed:    0.5s finished\n",
      "[Parallel(n_jobs=1)]: Using backend SequentialBackend with 1 concurrent workers.\n",
      "[Parallel(n_jobs=1)]: Done   1 out of   1 | elapsed:    0.0s remaining:    0.0s\n",
      "[Parallel(n_jobs=1)]: Done   2 out of   2 | elapsed:    0.0s remaining:    0.0s\n",
      "[Parallel(n_jobs=1)]: Done   3 out of   3 | elapsed:    0.0s remaining:    0.0s\n",
      "[Parallel(n_jobs=1)]: Done   4 out of   4 | elapsed:    0.0s remaining:    0.0s\n"
     ]
    },
    {
     "name": "stdout",
     "output_type": "stream",
     "text": [
      "Filtering raw data in 1 contiguous segment\n",
      "Setting up band-pass filter from 0.1 - 1e+02 Hz\n",
      "\n",
      "FIR filter parameters\n",
      "---------------------\n",
      "Designing a two-pass forward and reverse, zero-phase, non-causal bandpass filter:\n",
      "- Windowed time-domain design (firwin) method\n",
      "- Hamming window with 0.0194 passband ripple and 53 dB stopband attenuation\n",
      "- Lower passband edge: 0.10\n",
      "- Lower transition bandwidth: 0.10 Hz (-12 dB cutoff frequency: 0.05 Hz)\n",
      "- Upper passband edge: 100.00 Hz\n",
      "- Upper transition bandwidth: 25.00 Hz (-12 dB cutoff frequency: 112.50 Hz)\n",
      "- Filter length: 16501 samples (33.002 sec)\n",
      "\n"
     ]
    },
    {
     "name": "stderr",
     "output_type": "stream",
     "text": [
      "[Parallel(n_jobs=1)]: Done  31 out of  31 | elapsed:    0.5s finished\n",
      "[Parallel(n_jobs=1)]: Using backend SequentialBackend with 1 concurrent workers.\n",
      "[Parallel(n_jobs=1)]: Done   1 out of   1 | elapsed:    0.0s remaining:    0.0s\n",
      "[Parallel(n_jobs=1)]: Done   2 out of   2 | elapsed:    0.0s remaining:    0.0s\n",
      "[Parallel(n_jobs=1)]: Done   3 out of   3 | elapsed:    0.0s remaining:    0.0s\n",
      "[Parallel(n_jobs=1)]: Done   4 out of   4 | elapsed:    0.0s remaining:    0.0s\n"
     ]
    },
    {
     "name": "stdout",
     "output_type": "stream",
     "text": [
      "Filtering raw data in 1 contiguous segment\n",
      "Setting up band-pass filter from 0.1 - 1e+02 Hz\n",
      "\n",
      "FIR filter parameters\n",
      "---------------------\n",
      "Designing a two-pass forward and reverse, zero-phase, non-causal bandpass filter:\n",
      "- Windowed time-domain design (firwin) method\n",
      "- Hamming window with 0.0194 passband ripple and 53 dB stopband attenuation\n",
      "- Lower passband edge: 0.10\n",
      "- Lower transition bandwidth: 0.10 Hz (-12 dB cutoff frequency: 0.05 Hz)\n",
      "- Upper passband edge: 100.00 Hz\n",
      "- Upper transition bandwidth: 25.00 Hz (-12 dB cutoff frequency: 112.50 Hz)\n",
      "- Filter length: 16501 samples (33.002 sec)\n",
      "\n"
     ]
    },
    {
     "name": "stderr",
     "output_type": "stream",
     "text": [
      "[Parallel(n_jobs=1)]: Done  31 out of  31 | elapsed:    0.4s finished\n",
      "[Parallel(n_jobs=1)]: Using backend SequentialBackend with 1 concurrent workers.\n",
      "[Parallel(n_jobs=1)]: Done   1 out of   1 | elapsed:    0.0s remaining:    0.0s\n",
      "[Parallel(n_jobs=1)]: Done   2 out of   2 | elapsed:    0.0s remaining:    0.0s\n",
      "[Parallel(n_jobs=1)]: Done   3 out of   3 | elapsed:    0.0s remaining:    0.0s\n",
      "[Parallel(n_jobs=1)]: Done   4 out of   4 | elapsed:    0.0s remaining:    0.0s\n"
     ]
    },
    {
     "name": "stdout",
     "output_type": "stream",
     "text": [
      "Filtering raw data in 1 contiguous segment\n",
      "Setting up band-pass filter from 0.1 - 1e+02 Hz\n",
      "\n",
      "FIR filter parameters\n",
      "---------------------\n",
      "Designing a two-pass forward and reverse, zero-phase, non-causal bandpass filter:\n",
      "- Windowed time-domain design (firwin) method\n",
      "- Hamming window with 0.0194 passband ripple and 53 dB stopband attenuation\n",
      "- Lower passband edge: 0.10\n",
      "- Lower transition bandwidth: 0.10 Hz (-12 dB cutoff frequency: 0.05 Hz)\n",
      "- Upper passband edge: 100.00 Hz\n",
      "- Upper transition bandwidth: 25.00 Hz (-12 dB cutoff frequency: 112.50 Hz)\n",
      "- Filter length: 16501 samples (33.002 sec)\n",
      "\n"
     ]
    },
    {
     "name": "stderr",
     "output_type": "stream",
     "text": [
      "[Parallel(n_jobs=1)]: Done  31 out of  31 | elapsed:    0.4s finished\n",
      "[Parallel(n_jobs=1)]: Using backend SequentialBackend with 1 concurrent workers.\n",
      "[Parallel(n_jobs=1)]: Done   1 out of   1 | elapsed:    0.0s remaining:    0.0s\n",
      "[Parallel(n_jobs=1)]: Done   2 out of   2 | elapsed:    0.0s remaining:    0.0s\n",
      "[Parallel(n_jobs=1)]: Done   3 out of   3 | elapsed:    0.0s remaining:    0.0s\n",
      "[Parallel(n_jobs=1)]: Done   4 out of   4 | elapsed:    0.0s remaining:    0.0s\n"
     ]
    },
    {
     "name": "stdout",
     "output_type": "stream",
     "text": [
      "Filtering raw data in 1 contiguous segment\n",
      "Setting up band-pass filter from 0.1 - 1e+02 Hz\n",
      "\n",
      "FIR filter parameters\n",
      "---------------------\n",
      "Designing a two-pass forward and reverse, zero-phase, non-causal bandpass filter:\n",
      "- Windowed time-domain design (firwin) method\n",
      "- Hamming window with 0.0194 passband ripple and 53 dB stopband attenuation\n",
      "- Lower passband edge: 0.10\n",
      "- Lower transition bandwidth: 0.10 Hz (-12 dB cutoff frequency: 0.05 Hz)\n",
      "- Upper passband edge: 100.00 Hz\n",
      "- Upper transition bandwidth: 25.00 Hz (-12 dB cutoff frequency: 112.50 Hz)\n",
      "- Filter length: 16501 samples (33.002 sec)\n",
      "\n"
     ]
    },
    {
     "name": "stderr",
     "output_type": "stream",
     "text": [
      "[Parallel(n_jobs=1)]: Done  31 out of  31 | elapsed:    0.4s finished\n",
      "[Parallel(n_jobs=1)]: Using backend SequentialBackend with 1 concurrent workers.\n",
      "[Parallel(n_jobs=1)]: Done   1 out of   1 | elapsed:    0.0s remaining:    0.0s\n",
      "[Parallel(n_jobs=1)]: Done   2 out of   2 | elapsed:    0.0s remaining:    0.0s\n",
      "[Parallel(n_jobs=1)]: Done   3 out of   3 | elapsed:    0.0s remaining:    0.0s\n",
      "[Parallel(n_jobs=1)]: Done   4 out of   4 | elapsed:    0.0s remaining:    0.0s\n"
     ]
    },
    {
     "name": "stdout",
     "output_type": "stream",
     "text": [
      "Filtering raw data in 1 contiguous segment\n",
      "Setting up band-pass filter from 0.1 - 1e+02 Hz\n",
      "\n",
      "FIR filter parameters\n",
      "---------------------\n",
      "Designing a two-pass forward and reverse, zero-phase, non-causal bandpass filter:\n",
      "- Windowed time-domain design (firwin) method\n",
      "- Hamming window with 0.0194 passband ripple and 53 dB stopband attenuation\n",
      "- Lower passband edge: 0.10\n",
      "- Lower transition bandwidth: 0.10 Hz (-12 dB cutoff frequency: 0.05 Hz)\n",
      "- Upper passband edge: 100.00 Hz\n",
      "- Upper transition bandwidth: 25.00 Hz (-12 dB cutoff frequency: 112.50 Hz)\n",
      "- Filter length: 16501 samples (33.002 sec)\n",
      "\n"
     ]
    },
    {
     "name": "stderr",
     "output_type": "stream",
     "text": [
      "[Parallel(n_jobs=1)]: Done  31 out of  31 | elapsed:    0.4s finished\n",
      "[Parallel(n_jobs=1)]: Using backend SequentialBackend with 1 concurrent workers.\n",
      "[Parallel(n_jobs=1)]: Done   1 out of   1 | elapsed:    0.0s remaining:    0.0s\n",
      "[Parallel(n_jobs=1)]: Done   2 out of   2 | elapsed:    0.0s remaining:    0.0s\n",
      "[Parallel(n_jobs=1)]: Done   3 out of   3 | elapsed:    0.0s remaining:    0.0s\n",
      "[Parallel(n_jobs=1)]: Done   4 out of   4 | elapsed:    0.0s remaining:    0.0s\n"
     ]
    },
    {
     "name": "stdout",
     "output_type": "stream",
     "text": [
      "Filtering raw data in 1 contiguous segment\n",
      "Setting up band-pass filter from 0.1 - 1e+02 Hz\n",
      "\n",
      "FIR filter parameters\n",
      "---------------------\n",
      "Designing a two-pass forward and reverse, zero-phase, non-causal bandpass filter:\n",
      "- Windowed time-domain design (firwin) method\n",
      "- Hamming window with 0.0194 passband ripple and 53 dB stopband attenuation\n",
      "- Lower passband edge: 0.10\n",
      "- Lower transition bandwidth: 0.10 Hz (-12 dB cutoff frequency: 0.05 Hz)\n",
      "- Upper passband edge: 100.00 Hz\n",
      "- Upper transition bandwidth: 25.00 Hz (-12 dB cutoff frequency: 112.50 Hz)\n",
      "- Filter length: 16501 samples (33.002 sec)\n",
      "\n"
     ]
    },
    {
     "name": "stderr",
     "output_type": "stream",
     "text": [
      "[Parallel(n_jobs=1)]: Done  31 out of  31 | elapsed:    0.4s finished\n",
      "[Parallel(n_jobs=1)]: Using backend SequentialBackend with 1 concurrent workers.\n",
      "[Parallel(n_jobs=1)]: Done   1 out of   1 | elapsed:    0.0s remaining:    0.0s\n",
      "[Parallel(n_jobs=1)]: Done   2 out of   2 | elapsed:    0.0s remaining:    0.0s\n",
      "[Parallel(n_jobs=1)]: Done   3 out of   3 | elapsed:    0.0s remaining:    0.0s\n",
      "[Parallel(n_jobs=1)]: Done   4 out of   4 | elapsed:    0.0s remaining:    0.0s\n"
     ]
    },
    {
     "name": "stdout",
     "output_type": "stream",
     "text": [
      "Filtering raw data in 1 contiguous segment\n",
      "Setting up band-pass filter from 0.1 - 1e+02 Hz\n",
      "\n",
      "FIR filter parameters\n",
      "---------------------\n",
      "Designing a two-pass forward and reverse, zero-phase, non-causal bandpass filter:\n",
      "- Windowed time-domain design (firwin) method\n",
      "- Hamming window with 0.0194 passband ripple and 53 dB stopband attenuation\n",
      "- Lower passband edge: 0.10\n",
      "- Lower transition bandwidth: 0.10 Hz (-12 dB cutoff frequency: 0.05 Hz)\n",
      "- Upper passband edge: 100.00 Hz\n",
      "- Upper transition bandwidth: 25.00 Hz (-12 dB cutoff frequency: 112.50 Hz)\n",
      "- Filter length: 16501 samples (33.002 sec)\n",
      "\n"
     ]
    },
    {
     "name": "stderr",
     "output_type": "stream",
     "text": [
      "[Parallel(n_jobs=1)]: Done  31 out of  31 | elapsed:    0.4s finished\n",
      "[Parallel(n_jobs=1)]: Using backend SequentialBackend with 1 concurrent workers.\n",
      "[Parallel(n_jobs=1)]: Done   1 out of   1 | elapsed:    0.0s remaining:    0.0s\n",
      "[Parallel(n_jobs=1)]: Done   2 out of   2 | elapsed:    0.0s remaining:    0.0s\n",
      "[Parallel(n_jobs=1)]: Done   3 out of   3 | elapsed:    0.0s remaining:    0.0s\n",
      "[Parallel(n_jobs=1)]: Done   4 out of   4 | elapsed:    0.0s remaining:    0.0s\n"
     ]
    },
    {
     "name": "stdout",
     "output_type": "stream",
     "text": [
      "Filtering raw data in 1 contiguous segment\n",
      "Setting up band-pass filter from 0.1 - 1e+02 Hz\n",
      "\n",
      "FIR filter parameters\n",
      "---------------------\n",
      "Designing a two-pass forward and reverse, zero-phase, non-causal bandpass filter:\n",
      "- Windowed time-domain design (firwin) method\n",
      "- Hamming window with 0.0194 passband ripple and 53 dB stopband attenuation\n",
      "- Lower passband edge: 0.10\n",
      "- Lower transition bandwidth: 0.10 Hz (-12 dB cutoff frequency: 0.05 Hz)\n",
      "- Upper passband edge: 100.00 Hz\n",
      "- Upper transition bandwidth: 25.00 Hz (-12 dB cutoff frequency: 112.50 Hz)\n",
      "- Filter length: 16501 samples (33.002 sec)\n",
      "\n"
     ]
    },
    {
     "name": "stderr",
     "output_type": "stream",
     "text": [
      "[Parallel(n_jobs=1)]: Done  31 out of  31 | elapsed:    0.4s finished\n",
      "[Parallel(n_jobs=1)]: Using backend SequentialBackend with 1 concurrent workers.\n",
      "[Parallel(n_jobs=1)]: Done   1 out of   1 | elapsed:    0.0s remaining:    0.0s\n",
      "[Parallel(n_jobs=1)]: Done   2 out of   2 | elapsed:    0.0s remaining:    0.0s\n",
      "[Parallel(n_jobs=1)]: Done   3 out of   3 | elapsed:    0.0s remaining:    0.0s\n",
      "[Parallel(n_jobs=1)]: Done   4 out of   4 | elapsed:    0.0s remaining:    0.0s\n"
     ]
    },
    {
     "name": "stdout",
     "output_type": "stream",
     "text": [
      "Filtering raw data in 1 contiguous segment\n",
      "Setting up band-pass filter from 0.1 - 1e+02 Hz\n",
      "\n",
      "FIR filter parameters\n",
      "---------------------\n",
      "Designing a two-pass forward and reverse, zero-phase, non-causal bandpass filter:\n",
      "- Windowed time-domain design (firwin) method\n",
      "- Hamming window with 0.0194 passband ripple and 53 dB stopband attenuation\n",
      "- Lower passband edge: 0.10\n",
      "- Lower transition bandwidth: 0.10 Hz (-12 dB cutoff frequency: 0.05 Hz)\n",
      "- Upper passband edge: 100.00 Hz\n",
      "- Upper transition bandwidth: 25.00 Hz (-12 dB cutoff frequency: 112.50 Hz)\n",
      "- Filter length: 16501 samples (33.002 sec)\n",
      "\n"
     ]
    },
    {
     "name": "stderr",
     "output_type": "stream",
     "text": [
      "[Parallel(n_jobs=1)]: Done  31 out of  31 | elapsed:    0.5s finished\n",
      "[Parallel(n_jobs=1)]: Using backend SequentialBackend with 1 concurrent workers.\n",
      "[Parallel(n_jobs=1)]: Done   1 out of   1 | elapsed:    0.0s remaining:    0.0s\n",
      "[Parallel(n_jobs=1)]: Done   2 out of   2 | elapsed:    0.0s remaining:    0.0s\n",
      "[Parallel(n_jobs=1)]: Done   3 out of   3 | elapsed:    0.0s remaining:    0.0s\n",
      "[Parallel(n_jobs=1)]: Done   4 out of   4 | elapsed:    0.0s remaining:    0.0s\n"
     ]
    },
    {
     "name": "stdout",
     "output_type": "stream",
     "text": [
      "Filtering raw data in 1 contiguous segment\n",
      "Setting up band-pass filter from 0.1 - 1e+02 Hz\n",
      "\n",
      "FIR filter parameters\n",
      "---------------------\n",
      "Designing a two-pass forward and reverse, zero-phase, non-causal bandpass filter:\n",
      "- Windowed time-domain design (firwin) method\n",
      "- Hamming window with 0.0194 passband ripple and 53 dB stopband attenuation\n",
      "- Lower passband edge: 0.10\n",
      "- Lower transition bandwidth: 0.10 Hz (-12 dB cutoff frequency: 0.05 Hz)\n",
      "- Upper passband edge: 100.00 Hz\n",
      "- Upper transition bandwidth: 25.00 Hz (-12 dB cutoff frequency: 112.50 Hz)\n",
      "- Filter length: 16501 samples (33.002 sec)\n",
      "\n"
     ]
    },
    {
     "name": "stderr",
     "output_type": "stream",
     "text": [
      "[Parallel(n_jobs=1)]: Done  31 out of  31 | elapsed:    0.5s finished\n",
      "[Parallel(n_jobs=1)]: Using backend SequentialBackend with 1 concurrent workers.\n",
      "[Parallel(n_jobs=1)]: Done   1 out of   1 | elapsed:    0.0s remaining:    0.0s\n",
      "[Parallel(n_jobs=1)]: Done   2 out of   2 | elapsed:    0.0s remaining:    0.0s\n",
      "[Parallel(n_jobs=1)]: Done   3 out of   3 | elapsed:    0.0s remaining:    0.0s\n",
      "[Parallel(n_jobs=1)]: Done   4 out of   4 | elapsed:    0.0s remaining:    0.0s\n"
     ]
    },
    {
     "name": "stdout",
     "output_type": "stream",
     "text": [
      "Filtering raw data in 1 contiguous segment\n",
      "Setting up band-pass filter from 0.1 - 1e+02 Hz\n",
      "\n",
      "FIR filter parameters\n",
      "---------------------\n",
      "Designing a two-pass forward and reverse, zero-phase, non-causal bandpass filter:\n",
      "- Windowed time-domain design (firwin) method\n",
      "- Hamming window with 0.0194 passband ripple and 53 dB stopband attenuation\n",
      "- Lower passband edge: 0.10\n",
      "- Lower transition bandwidth: 0.10 Hz (-12 dB cutoff frequency: 0.05 Hz)\n",
      "- Upper passband edge: 100.00 Hz\n",
      "- Upper transition bandwidth: 25.00 Hz (-12 dB cutoff frequency: 112.50 Hz)\n",
      "- Filter length: 16501 samples (33.002 sec)\n",
      "\n"
     ]
    },
    {
     "name": "stderr",
     "output_type": "stream",
     "text": [
      "[Parallel(n_jobs=1)]: Done  31 out of  31 | elapsed:    0.6s finished\n",
      "[Parallel(n_jobs=1)]: Using backend SequentialBackend with 1 concurrent workers.\n",
      "[Parallel(n_jobs=1)]: Done   1 out of   1 | elapsed:    0.0s remaining:    0.0s\n",
      "[Parallel(n_jobs=1)]: Done   2 out of   2 | elapsed:    0.0s remaining:    0.0s\n",
      "[Parallel(n_jobs=1)]: Done   3 out of   3 | elapsed:    0.0s remaining:    0.0s\n",
      "[Parallel(n_jobs=1)]: Done   4 out of   4 | elapsed:    0.0s remaining:    0.0s\n"
     ]
    },
    {
     "name": "stdout",
     "output_type": "stream",
     "text": [
      "Filtering raw data in 1 contiguous segment\n",
      "Setting up band-pass filter from 0.1 - 1e+02 Hz\n",
      "\n",
      "FIR filter parameters\n",
      "---------------------\n",
      "Designing a two-pass forward and reverse, zero-phase, non-causal bandpass filter:\n",
      "- Windowed time-domain design (firwin) method\n",
      "- Hamming window with 0.0194 passband ripple and 53 dB stopband attenuation\n",
      "- Lower passband edge: 0.10\n",
      "- Lower transition bandwidth: 0.10 Hz (-12 dB cutoff frequency: 0.05 Hz)\n",
      "- Upper passband edge: 100.00 Hz\n",
      "- Upper transition bandwidth: 25.00 Hz (-12 dB cutoff frequency: 112.50 Hz)\n",
      "- Filter length: 16501 samples (33.002 sec)\n",
      "\n"
     ]
    },
    {
     "name": "stderr",
     "output_type": "stream",
     "text": [
      "[Parallel(n_jobs=1)]: Done  31 out of  31 | elapsed:    0.4s finished\n",
      "[Parallel(n_jobs=1)]: Using backend SequentialBackend with 1 concurrent workers.\n",
      "[Parallel(n_jobs=1)]: Done   1 out of   1 | elapsed:    0.0s remaining:    0.0s\n",
      "[Parallel(n_jobs=1)]: Done   2 out of   2 | elapsed:    0.0s remaining:    0.0s\n",
      "[Parallel(n_jobs=1)]: Done   3 out of   3 | elapsed:    0.0s remaining:    0.0s\n",
      "[Parallel(n_jobs=1)]: Done   4 out of   4 | elapsed:    0.1s remaining:    0.0s\n"
     ]
    },
    {
     "name": "stdout",
     "output_type": "stream",
     "text": [
      "Filtering raw data in 1 contiguous segment\n",
      "Setting up band-pass filter from 0.1 - 1e+02 Hz\n",
      "\n",
      "FIR filter parameters\n",
      "---------------------\n",
      "Designing a two-pass forward and reverse, zero-phase, non-causal bandpass filter:\n",
      "- Windowed time-domain design (firwin) method\n",
      "- Hamming window with 0.0194 passband ripple and 53 dB stopband attenuation\n",
      "- Lower passband edge: 0.10\n",
      "- Lower transition bandwidth: 0.10 Hz (-12 dB cutoff frequency: 0.05 Hz)\n",
      "- Upper passband edge: 100.00 Hz\n",
      "- Upper transition bandwidth: 25.00 Hz (-12 dB cutoff frequency: 112.50 Hz)\n",
      "- Filter length: 16501 samples (33.002 sec)\n",
      "\n"
     ]
    },
    {
     "name": "stderr",
     "output_type": "stream",
     "text": [
      "[Parallel(n_jobs=1)]: Done  31 out of  31 | elapsed:    0.9s finished\n",
      "[Parallel(n_jobs=1)]: Using backend SequentialBackend with 1 concurrent workers.\n",
      "[Parallel(n_jobs=1)]: Done   1 out of   1 | elapsed:    0.0s remaining:    0.0s\n",
      "[Parallel(n_jobs=1)]: Done   2 out of   2 | elapsed:    0.0s remaining:    0.0s\n",
      "[Parallel(n_jobs=1)]: Done   3 out of   3 | elapsed:    0.0s remaining:    0.0s\n",
      "[Parallel(n_jobs=1)]: Done   4 out of   4 | elapsed:    0.0s remaining:    0.0s\n"
     ]
    },
    {
     "name": "stdout",
     "output_type": "stream",
     "text": [
      "Filtering raw data in 1 contiguous segment\n",
      "Setting up band-pass filter from 0.1 - 1e+02 Hz\n",
      "\n",
      "FIR filter parameters\n",
      "---------------------\n",
      "Designing a two-pass forward and reverse, zero-phase, non-causal bandpass filter:\n",
      "- Windowed time-domain design (firwin) method\n",
      "- Hamming window with 0.0194 passband ripple and 53 dB stopband attenuation\n",
      "- Lower passband edge: 0.10\n",
      "- Lower transition bandwidth: 0.10 Hz (-12 dB cutoff frequency: 0.05 Hz)\n",
      "- Upper passband edge: 100.00 Hz\n",
      "- Upper transition bandwidth: 25.00 Hz (-12 dB cutoff frequency: 112.50 Hz)\n",
      "- Filter length: 16501 samples (33.002 sec)\n",
      "\n"
     ]
    },
    {
     "name": "stderr",
     "output_type": "stream",
     "text": [
      "[Parallel(n_jobs=1)]: Done  31 out of  31 | elapsed:    0.6s finished\n",
      "[Parallel(n_jobs=1)]: Using backend SequentialBackend with 1 concurrent workers.\n",
      "[Parallel(n_jobs=1)]: Done   1 out of   1 | elapsed:    0.0s remaining:    0.0s\n",
      "[Parallel(n_jobs=1)]: Done   2 out of   2 | elapsed:    0.0s remaining:    0.0s\n",
      "[Parallel(n_jobs=1)]: Done   3 out of   3 | elapsed:    0.0s remaining:    0.0s\n",
      "[Parallel(n_jobs=1)]: Done   4 out of   4 | elapsed:    0.0s remaining:    0.0s\n"
     ]
    },
    {
     "name": "stdout",
     "output_type": "stream",
     "text": [
      "Filtering raw data in 1 contiguous segment\n",
      "Setting up band-pass filter from 0.1 - 1e+02 Hz\n",
      "\n",
      "FIR filter parameters\n",
      "---------------------\n",
      "Designing a two-pass forward and reverse, zero-phase, non-causal bandpass filter:\n",
      "- Windowed time-domain design (firwin) method\n",
      "- Hamming window with 0.0194 passband ripple and 53 dB stopband attenuation\n",
      "- Lower passband edge: 0.10\n",
      "- Lower transition bandwidth: 0.10 Hz (-12 dB cutoff frequency: 0.05 Hz)\n",
      "- Upper passband edge: 100.00 Hz\n",
      "- Upper transition bandwidth: 25.00 Hz (-12 dB cutoff frequency: 112.50 Hz)\n",
      "- Filter length: 16501 samples (33.002 sec)\n",
      "\n"
     ]
    },
    {
     "name": "stderr",
     "output_type": "stream",
     "text": [
      "[Parallel(n_jobs=1)]: Done  31 out of  31 | elapsed:    0.4s finished\n",
      "[Parallel(n_jobs=1)]: Using backend SequentialBackend with 1 concurrent workers.\n",
      "[Parallel(n_jobs=1)]: Done   1 out of   1 | elapsed:    0.0s remaining:    0.0s\n",
      "[Parallel(n_jobs=1)]: Done   2 out of   2 | elapsed:    0.0s remaining:    0.0s\n",
      "[Parallel(n_jobs=1)]: Done   3 out of   3 | elapsed:    0.0s remaining:    0.0s\n",
      "[Parallel(n_jobs=1)]: Done   4 out of   4 | elapsed:    0.0s remaining:    0.0s\n"
     ]
    },
    {
     "name": "stdout",
     "output_type": "stream",
     "text": [
      "Filtering raw data in 1 contiguous segment\n",
      "Setting up band-pass filter from 0.1 - 1e+02 Hz\n",
      "\n",
      "FIR filter parameters\n",
      "---------------------\n",
      "Designing a two-pass forward and reverse, zero-phase, non-causal bandpass filter:\n",
      "- Windowed time-domain design (firwin) method\n",
      "- Hamming window with 0.0194 passband ripple and 53 dB stopband attenuation\n",
      "- Lower passband edge: 0.10\n",
      "- Lower transition bandwidth: 0.10 Hz (-12 dB cutoff frequency: 0.05 Hz)\n",
      "- Upper passband edge: 100.00 Hz\n",
      "- Upper transition bandwidth: 25.00 Hz (-12 dB cutoff frequency: 112.50 Hz)\n",
      "- Filter length: 16501 samples (33.002 sec)\n",
      "\n"
     ]
    },
    {
     "name": "stderr",
     "output_type": "stream",
     "text": [
      "[Parallel(n_jobs=1)]: Done  31 out of  31 | elapsed:    0.4s finished\n",
      "[Parallel(n_jobs=1)]: Using backend SequentialBackend with 1 concurrent workers.\n",
      "[Parallel(n_jobs=1)]: Done   1 out of   1 | elapsed:    0.0s remaining:    0.0s\n",
      "[Parallel(n_jobs=1)]: Done   2 out of   2 | elapsed:    0.0s remaining:    0.0s\n",
      "[Parallel(n_jobs=1)]: Done   3 out of   3 | elapsed:    0.0s remaining:    0.0s\n",
      "[Parallel(n_jobs=1)]: Done   4 out of   4 | elapsed:    0.0s remaining:    0.0s\n"
     ]
    },
    {
     "name": "stdout",
     "output_type": "stream",
     "text": [
      "Filtering raw data in 1 contiguous segment\n",
      "Setting up band-pass filter from 0.1 - 1e+02 Hz\n",
      "\n",
      "FIR filter parameters\n",
      "---------------------\n",
      "Designing a two-pass forward and reverse, zero-phase, non-causal bandpass filter:\n",
      "- Windowed time-domain design (firwin) method\n",
      "- Hamming window with 0.0194 passband ripple and 53 dB stopband attenuation\n",
      "- Lower passband edge: 0.10\n",
      "- Lower transition bandwidth: 0.10 Hz (-12 dB cutoff frequency: 0.05 Hz)\n",
      "- Upper passband edge: 100.00 Hz\n",
      "- Upper transition bandwidth: 25.00 Hz (-12 dB cutoff frequency: 112.50 Hz)\n",
      "- Filter length: 16501 samples (33.002 sec)\n",
      "\n"
     ]
    },
    {
     "name": "stderr",
     "output_type": "stream",
     "text": [
      "[Parallel(n_jobs=1)]: Done  31 out of  31 | elapsed:    0.6s finished\n",
      "[Parallel(n_jobs=1)]: Using backend SequentialBackend with 1 concurrent workers.\n",
      "[Parallel(n_jobs=1)]: Done   1 out of   1 | elapsed:    0.0s remaining:    0.0s\n",
      "[Parallel(n_jobs=1)]: Done   2 out of   2 | elapsed:    0.0s remaining:    0.0s\n",
      "[Parallel(n_jobs=1)]: Done   3 out of   3 | elapsed:    0.0s remaining:    0.0s\n",
      "[Parallel(n_jobs=1)]: Done   4 out of   4 | elapsed:    0.0s remaining:    0.0s\n"
     ]
    },
    {
     "name": "stdout",
     "output_type": "stream",
     "text": [
      "Filtering raw data in 1 contiguous segment\n",
      "Setting up band-pass filter from 0.1 - 1e+02 Hz\n",
      "\n",
      "FIR filter parameters\n",
      "---------------------\n",
      "Designing a two-pass forward and reverse, zero-phase, non-causal bandpass filter:\n",
      "- Windowed time-domain design (firwin) method\n",
      "- Hamming window with 0.0194 passband ripple and 53 dB stopband attenuation\n",
      "- Lower passband edge: 0.10\n",
      "- Lower transition bandwidth: 0.10 Hz (-12 dB cutoff frequency: 0.05 Hz)\n",
      "- Upper passband edge: 100.00 Hz\n",
      "- Upper transition bandwidth: 25.00 Hz (-12 dB cutoff frequency: 112.50 Hz)\n",
      "- Filter length: 16501 samples (33.002 sec)\n",
      "\n"
     ]
    },
    {
     "name": "stderr",
     "output_type": "stream",
     "text": [
      "[Parallel(n_jobs=1)]: Done  31 out of  31 | elapsed:    0.5s finished\n",
      "[Parallel(n_jobs=1)]: Using backend SequentialBackend with 1 concurrent workers.\n",
      "[Parallel(n_jobs=1)]: Done   1 out of   1 | elapsed:    0.0s remaining:    0.0s\n",
      "[Parallel(n_jobs=1)]: Done   2 out of   2 | elapsed:    0.0s remaining:    0.0s\n",
      "[Parallel(n_jobs=1)]: Done   3 out of   3 | elapsed:    0.0s remaining:    0.0s\n",
      "[Parallel(n_jobs=1)]: Done   4 out of   4 | elapsed:    0.0s remaining:    0.0s\n"
     ]
    },
    {
     "name": "stdout",
     "output_type": "stream",
     "text": [
      "Filtering raw data in 1 contiguous segment\n",
      "Setting up band-pass filter from 0.1 - 1e+02 Hz\n",
      "\n",
      "FIR filter parameters\n",
      "---------------------\n",
      "Designing a two-pass forward and reverse, zero-phase, non-causal bandpass filter:\n",
      "- Windowed time-domain design (firwin) method\n",
      "- Hamming window with 0.0194 passband ripple and 53 dB stopband attenuation\n",
      "- Lower passband edge: 0.10\n",
      "- Lower transition bandwidth: 0.10 Hz (-12 dB cutoff frequency: 0.05 Hz)\n",
      "- Upper passband edge: 100.00 Hz\n",
      "- Upper transition bandwidth: 25.00 Hz (-12 dB cutoff frequency: 112.50 Hz)\n",
      "- Filter length: 16501 samples (33.002 sec)\n",
      "\n"
     ]
    },
    {
     "name": "stderr",
     "output_type": "stream",
     "text": [
      "[Parallel(n_jobs=1)]: Done  31 out of  31 | elapsed:    0.4s finished\n",
      "[Parallel(n_jobs=1)]: Using backend SequentialBackend with 1 concurrent workers.\n",
      "[Parallel(n_jobs=1)]: Done   1 out of   1 | elapsed:    0.0s remaining:    0.0s\n",
      "[Parallel(n_jobs=1)]: Done   2 out of   2 | elapsed:    0.0s remaining:    0.0s\n",
      "[Parallel(n_jobs=1)]: Done   3 out of   3 | elapsed:    0.0s remaining:    0.0s\n",
      "[Parallel(n_jobs=1)]: Done   4 out of   4 | elapsed:    0.0s remaining:    0.0s\n"
     ]
    },
    {
     "name": "stdout",
     "output_type": "stream",
     "text": [
      "Filtering raw data in 1 contiguous segment\n",
      "Setting up band-pass filter from 0.1 - 1e+02 Hz\n",
      "\n",
      "FIR filter parameters\n",
      "---------------------\n",
      "Designing a two-pass forward and reverse, zero-phase, non-causal bandpass filter:\n",
      "- Windowed time-domain design (firwin) method\n",
      "- Hamming window with 0.0194 passband ripple and 53 dB stopband attenuation\n",
      "- Lower passband edge: 0.10\n",
      "- Lower transition bandwidth: 0.10 Hz (-12 dB cutoff frequency: 0.05 Hz)\n",
      "- Upper passband edge: 100.00 Hz\n",
      "- Upper transition bandwidth: 25.00 Hz (-12 dB cutoff frequency: 112.50 Hz)\n",
      "- Filter length: 16501 samples (33.002 sec)\n",
      "\n"
     ]
    },
    {
     "name": "stderr",
     "output_type": "stream",
     "text": [
      "[Parallel(n_jobs=1)]: Done  31 out of  31 | elapsed:    0.4s finished\n",
      "[Parallel(n_jobs=1)]: Using backend SequentialBackend with 1 concurrent workers.\n",
      "[Parallel(n_jobs=1)]: Done   1 out of   1 | elapsed:    0.0s remaining:    0.0s\n",
      "[Parallel(n_jobs=1)]: Done   2 out of   2 | elapsed:    0.0s remaining:    0.0s\n",
      "[Parallel(n_jobs=1)]: Done   3 out of   3 | elapsed:    0.0s remaining:    0.0s\n",
      "[Parallel(n_jobs=1)]: Done   4 out of   4 | elapsed:    0.0s remaining:    0.0s\n"
     ]
    },
    {
     "name": "stdout",
     "output_type": "stream",
     "text": [
      "Filtering raw data in 1 contiguous segment\n",
      "Setting up band-pass filter from 0.1 - 1e+02 Hz\n",
      "\n",
      "FIR filter parameters\n",
      "---------------------\n",
      "Designing a two-pass forward and reverse, zero-phase, non-causal bandpass filter:\n",
      "- Windowed time-domain design (firwin) method\n",
      "- Hamming window with 0.0194 passband ripple and 53 dB stopband attenuation\n",
      "- Lower passband edge: 0.10\n",
      "- Lower transition bandwidth: 0.10 Hz (-12 dB cutoff frequency: 0.05 Hz)\n",
      "- Upper passband edge: 100.00 Hz\n",
      "- Upper transition bandwidth: 25.00 Hz (-12 dB cutoff frequency: 112.50 Hz)\n",
      "- Filter length: 16501 samples (33.002 sec)\n",
      "\n"
     ]
    },
    {
     "name": "stderr",
     "output_type": "stream",
     "text": [
      "[Parallel(n_jobs=1)]: Done  31 out of  31 | elapsed:    0.4s finished\n",
      "[Parallel(n_jobs=1)]: Using backend SequentialBackend with 1 concurrent workers.\n",
      "[Parallel(n_jobs=1)]: Done   1 out of   1 | elapsed:    0.0s remaining:    0.0s\n",
      "[Parallel(n_jobs=1)]: Done   2 out of   2 | elapsed:    0.0s remaining:    0.0s\n",
      "[Parallel(n_jobs=1)]: Done   3 out of   3 | elapsed:    0.0s remaining:    0.0s\n",
      "[Parallel(n_jobs=1)]: Done   4 out of   4 | elapsed:    0.0s remaining:    0.0s\n"
     ]
    },
    {
     "name": "stdout",
     "output_type": "stream",
     "text": [
      "Filtering raw data in 1 contiguous segment\n",
      "Setting up band-pass filter from 0.1 - 1e+02 Hz\n",
      "\n",
      "FIR filter parameters\n",
      "---------------------\n",
      "Designing a two-pass forward and reverse, zero-phase, non-causal bandpass filter:\n",
      "- Windowed time-domain design (firwin) method\n",
      "- Hamming window with 0.0194 passband ripple and 53 dB stopband attenuation\n",
      "- Lower passband edge: 0.10\n",
      "- Lower transition bandwidth: 0.10 Hz (-12 dB cutoff frequency: 0.05 Hz)\n",
      "- Upper passband edge: 100.00 Hz\n",
      "- Upper transition bandwidth: 25.00 Hz (-12 dB cutoff frequency: 112.50 Hz)\n",
      "- Filter length: 16501 samples (33.002 sec)\n",
      "\n"
     ]
    },
    {
     "name": "stderr",
     "output_type": "stream",
     "text": [
      "[Parallel(n_jobs=1)]: Done  31 out of  31 | elapsed:    0.4s finished\n",
      "[Parallel(n_jobs=1)]: Using backend SequentialBackend with 1 concurrent workers.\n",
      "[Parallel(n_jobs=1)]: Done   1 out of   1 | elapsed:    0.0s remaining:    0.0s\n",
      "[Parallel(n_jobs=1)]: Done   2 out of   2 | elapsed:    0.0s remaining:    0.0s\n",
      "[Parallel(n_jobs=1)]: Done   3 out of   3 | elapsed:    0.0s remaining:    0.0s\n",
      "[Parallel(n_jobs=1)]: Done   4 out of   4 | elapsed:    0.0s remaining:    0.0s\n"
     ]
    },
    {
     "name": "stdout",
     "output_type": "stream",
     "text": [
      "Filtering raw data in 1 contiguous segment\n",
      "Setting up band-pass filter from 0.1 - 1e+02 Hz\n",
      "\n",
      "FIR filter parameters\n",
      "---------------------\n",
      "Designing a two-pass forward and reverse, zero-phase, non-causal bandpass filter:\n",
      "- Windowed time-domain design (firwin) method\n",
      "- Hamming window with 0.0194 passband ripple and 53 dB stopband attenuation\n",
      "- Lower passband edge: 0.10\n",
      "- Lower transition bandwidth: 0.10 Hz (-12 dB cutoff frequency: 0.05 Hz)\n",
      "- Upper passband edge: 100.00 Hz\n",
      "- Upper transition bandwidth: 25.00 Hz (-12 dB cutoff frequency: 112.50 Hz)\n",
      "- Filter length: 16501 samples (33.002 sec)\n",
      "\n"
     ]
    },
    {
     "name": "stderr",
     "output_type": "stream",
     "text": [
      "[Parallel(n_jobs=1)]: Done  31 out of  31 | elapsed:    0.5s finished\n",
      "[Parallel(n_jobs=1)]: Using backend SequentialBackend with 1 concurrent workers.\n",
      "[Parallel(n_jobs=1)]: Done   1 out of   1 | elapsed:    0.0s remaining:    0.0s\n",
      "[Parallel(n_jobs=1)]: Done   2 out of   2 | elapsed:    0.0s remaining:    0.0s\n",
      "[Parallel(n_jobs=1)]: Done   3 out of   3 | elapsed:    0.0s remaining:    0.0s\n",
      "[Parallel(n_jobs=1)]: Done   4 out of   4 | elapsed:    0.0s remaining:    0.0s\n"
     ]
    },
    {
     "name": "stdout",
     "output_type": "stream",
     "text": [
      "Filtering raw data in 1 contiguous segment\n",
      "Setting up band-pass filter from 0.1 - 1e+02 Hz\n",
      "\n",
      "FIR filter parameters\n",
      "---------------------\n",
      "Designing a two-pass forward and reverse, zero-phase, non-causal bandpass filter:\n",
      "- Windowed time-domain design (firwin) method\n",
      "- Hamming window with 0.0194 passband ripple and 53 dB stopband attenuation\n",
      "- Lower passband edge: 0.10\n",
      "- Lower transition bandwidth: 0.10 Hz (-12 dB cutoff frequency: 0.05 Hz)\n",
      "- Upper passband edge: 100.00 Hz\n",
      "- Upper transition bandwidth: 25.00 Hz (-12 dB cutoff frequency: 112.50 Hz)\n",
      "- Filter length: 16501 samples (33.002 sec)\n",
      "\n"
     ]
    },
    {
     "name": "stderr",
     "output_type": "stream",
     "text": [
      "[Parallel(n_jobs=1)]: Done  31 out of  31 | elapsed:    0.4s finished\n",
      "[Parallel(n_jobs=1)]: Using backend SequentialBackend with 1 concurrent workers.\n",
      "[Parallel(n_jobs=1)]: Done   1 out of   1 | elapsed:    0.0s remaining:    0.0s\n",
      "[Parallel(n_jobs=1)]: Done   2 out of   2 | elapsed:    0.0s remaining:    0.0s\n",
      "[Parallel(n_jobs=1)]: Done   3 out of   3 | elapsed:    0.0s remaining:    0.0s\n",
      "[Parallel(n_jobs=1)]: Done   4 out of   4 | elapsed:    0.0s remaining:    0.0s\n"
     ]
    },
    {
     "name": "stdout",
     "output_type": "stream",
     "text": [
      "Filtering raw data in 1 contiguous segment\n",
      "Setting up band-pass filter from 0.1 - 1e+02 Hz\n",
      "\n",
      "FIR filter parameters\n",
      "---------------------\n",
      "Designing a two-pass forward and reverse, zero-phase, non-causal bandpass filter:\n",
      "- Windowed time-domain design (firwin) method\n",
      "- Hamming window with 0.0194 passband ripple and 53 dB stopband attenuation\n",
      "- Lower passband edge: 0.10\n",
      "- Lower transition bandwidth: 0.10 Hz (-12 dB cutoff frequency: 0.05 Hz)\n",
      "- Upper passband edge: 100.00 Hz\n",
      "- Upper transition bandwidth: 25.00 Hz (-12 dB cutoff frequency: 112.50 Hz)\n",
      "- Filter length: 16501 samples (33.002 sec)\n",
      "\n"
     ]
    },
    {
     "name": "stderr",
     "output_type": "stream",
     "text": [
      "[Parallel(n_jobs=1)]: Done  31 out of  31 | elapsed:    0.4s finished\n",
      "[Parallel(n_jobs=1)]: Using backend SequentialBackend with 1 concurrent workers.\n",
      "[Parallel(n_jobs=1)]: Done   1 out of   1 | elapsed:    0.0s remaining:    0.0s\n",
      "[Parallel(n_jobs=1)]: Done   2 out of   2 | elapsed:    0.0s remaining:    0.0s\n",
      "[Parallel(n_jobs=1)]: Done   3 out of   3 | elapsed:    0.0s remaining:    0.0s\n",
      "[Parallel(n_jobs=1)]: Done   4 out of   4 | elapsed:    0.0s remaining:    0.0s\n"
     ]
    },
    {
     "name": "stdout",
     "output_type": "stream",
     "text": [
      "Filtering raw data in 1 contiguous segment\n",
      "Setting up band-pass filter from 0.1 - 1e+02 Hz\n",
      "\n",
      "FIR filter parameters\n",
      "---------------------\n",
      "Designing a two-pass forward and reverse, zero-phase, non-causal bandpass filter:\n",
      "- Windowed time-domain design (firwin) method\n",
      "- Hamming window with 0.0194 passband ripple and 53 dB stopband attenuation\n",
      "- Lower passband edge: 0.10\n",
      "- Lower transition bandwidth: 0.10 Hz (-12 dB cutoff frequency: 0.05 Hz)\n",
      "- Upper passband edge: 100.00 Hz\n",
      "- Upper transition bandwidth: 25.00 Hz (-12 dB cutoff frequency: 112.50 Hz)\n",
      "- Filter length: 16501 samples (33.002 sec)\n",
      "\n"
     ]
    },
    {
     "name": "stderr",
     "output_type": "stream",
     "text": [
      "[Parallel(n_jobs=1)]: Done  31 out of  31 | elapsed:    0.5s finished\n",
      "[Parallel(n_jobs=1)]: Using backend SequentialBackend with 1 concurrent workers.\n",
      "[Parallel(n_jobs=1)]: Done   1 out of   1 | elapsed:    0.0s remaining:    0.0s\n",
      "[Parallel(n_jobs=1)]: Done   2 out of   2 | elapsed:    0.0s remaining:    0.0s\n",
      "[Parallel(n_jobs=1)]: Done   3 out of   3 | elapsed:    0.0s remaining:    0.0s\n",
      "[Parallel(n_jobs=1)]: Done   4 out of   4 | elapsed:    0.0s remaining:    0.0s\n"
     ]
    },
    {
     "name": "stdout",
     "output_type": "stream",
     "text": [
      "Filtering raw data in 1 contiguous segment\n",
      "Setting up band-pass filter from 0.1 - 1e+02 Hz\n",
      "\n",
      "FIR filter parameters\n",
      "---------------------\n",
      "Designing a two-pass forward and reverse, zero-phase, non-causal bandpass filter:\n",
      "- Windowed time-domain design (firwin) method\n",
      "- Hamming window with 0.0194 passband ripple and 53 dB stopband attenuation\n",
      "- Lower passband edge: 0.10\n",
      "- Lower transition bandwidth: 0.10 Hz (-12 dB cutoff frequency: 0.05 Hz)\n",
      "- Upper passband edge: 100.00 Hz\n",
      "- Upper transition bandwidth: 25.00 Hz (-12 dB cutoff frequency: 112.50 Hz)\n",
      "- Filter length: 16501 samples (33.002 sec)\n",
      "\n"
     ]
    },
    {
     "name": "stderr",
     "output_type": "stream",
     "text": [
      "[Parallel(n_jobs=1)]: Done  31 out of  31 | elapsed:    0.5s finished\n",
      "[Parallel(n_jobs=1)]: Using backend SequentialBackend with 1 concurrent workers.\n",
      "[Parallel(n_jobs=1)]: Done   1 out of   1 | elapsed:    0.0s remaining:    0.0s\n",
      "[Parallel(n_jobs=1)]: Done   2 out of   2 | elapsed:    0.0s remaining:    0.0s\n",
      "[Parallel(n_jobs=1)]: Done   3 out of   3 | elapsed:    0.0s remaining:    0.0s\n",
      "[Parallel(n_jobs=1)]: Done   4 out of   4 | elapsed:    0.0s remaining:    0.0s\n"
     ]
    },
    {
     "name": "stdout",
     "output_type": "stream",
     "text": [
      "Filtering raw data in 1 contiguous segment\n",
      "Setting up band-pass filter from 0.1 - 1e+02 Hz\n",
      "\n",
      "FIR filter parameters\n",
      "---------------------\n",
      "Designing a two-pass forward and reverse, zero-phase, non-causal bandpass filter:\n",
      "- Windowed time-domain design (firwin) method\n",
      "- Hamming window with 0.0194 passband ripple and 53 dB stopband attenuation\n",
      "- Lower passband edge: 0.10\n",
      "- Lower transition bandwidth: 0.10 Hz (-12 dB cutoff frequency: 0.05 Hz)\n",
      "- Upper passband edge: 100.00 Hz\n",
      "- Upper transition bandwidth: 25.00 Hz (-12 dB cutoff frequency: 112.50 Hz)\n",
      "- Filter length: 16501 samples (33.002 sec)\n",
      "\n"
     ]
    },
    {
     "name": "stderr",
     "output_type": "stream",
     "text": [
      "[Parallel(n_jobs=1)]: Done  31 out of  31 | elapsed:    0.5s finished\n",
      "[Parallel(n_jobs=1)]: Using backend SequentialBackend with 1 concurrent workers.\n",
      "[Parallel(n_jobs=1)]: Done   1 out of   1 | elapsed:    0.0s remaining:    0.0s\n",
      "[Parallel(n_jobs=1)]: Done   2 out of   2 | elapsed:    0.0s remaining:    0.0s\n",
      "[Parallel(n_jobs=1)]: Done   3 out of   3 | elapsed:    0.0s remaining:    0.0s\n",
      "[Parallel(n_jobs=1)]: Done   4 out of   4 | elapsed:    0.0s remaining:    0.0s\n"
     ]
    },
    {
     "name": "stdout",
     "output_type": "stream",
     "text": [
      "Filtering raw data in 1 contiguous segment\n",
      "Setting up band-pass filter from 0.1 - 1e+02 Hz\n",
      "\n",
      "FIR filter parameters\n",
      "---------------------\n",
      "Designing a two-pass forward and reverse, zero-phase, non-causal bandpass filter:\n",
      "- Windowed time-domain design (firwin) method\n",
      "- Hamming window with 0.0194 passband ripple and 53 dB stopband attenuation\n",
      "- Lower passband edge: 0.10\n",
      "- Lower transition bandwidth: 0.10 Hz (-12 dB cutoff frequency: 0.05 Hz)\n",
      "- Upper passband edge: 100.00 Hz\n",
      "- Upper transition bandwidth: 25.00 Hz (-12 dB cutoff frequency: 112.50 Hz)\n",
      "- Filter length: 16501 samples (33.002 sec)\n",
      "\n"
     ]
    },
    {
     "name": "stderr",
     "output_type": "stream",
     "text": [
      "[Parallel(n_jobs=1)]: Done  31 out of  31 | elapsed:    0.7s finished\n",
      "[Parallel(n_jobs=1)]: Using backend SequentialBackend with 1 concurrent workers.\n",
      "[Parallel(n_jobs=1)]: Done   1 out of   1 | elapsed:    0.0s remaining:    0.0s\n",
      "[Parallel(n_jobs=1)]: Done   2 out of   2 | elapsed:    0.0s remaining:    0.0s\n",
      "[Parallel(n_jobs=1)]: Done   3 out of   3 | elapsed:    0.0s remaining:    0.0s\n",
      "[Parallel(n_jobs=1)]: Done   4 out of   4 | elapsed:    0.0s remaining:    0.0s\n"
     ]
    },
    {
     "name": "stdout",
     "output_type": "stream",
     "text": [
      "Filtering raw data in 1 contiguous segment\n",
      "Setting up band-pass filter from 0.1 - 1e+02 Hz\n",
      "\n",
      "FIR filter parameters\n",
      "---------------------\n",
      "Designing a two-pass forward and reverse, zero-phase, non-causal bandpass filter:\n",
      "- Windowed time-domain design (firwin) method\n",
      "- Hamming window with 0.0194 passband ripple and 53 dB stopband attenuation\n",
      "- Lower passband edge: 0.10\n",
      "- Lower transition bandwidth: 0.10 Hz (-12 dB cutoff frequency: 0.05 Hz)\n",
      "- Upper passband edge: 100.00 Hz\n",
      "- Upper transition bandwidth: 25.00 Hz (-12 dB cutoff frequency: 112.50 Hz)\n",
      "- Filter length: 16501 samples (33.002 sec)\n",
      "\n"
     ]
    },
    {
     "name": "stderr",
     "output_type": "stream",
     "text": [
      "[Parallel(n_jobs=1)]: Done  31 out of  31 | elapsed:    0.5s finished\n",
      "[Parallel(n_jobs=1)]: Using backend SequentialBackend with 1 concurrent workers.\n",
      "[Parallel(n_jobs=1)]: Done   1 out of   1 | elapsed:    0.0s remaining:    0.0s\n",
      "[Parallel(n_jobs=1)]: Done   2 out of   2 | elapsed:    0.0s remaining:    0.0s\n",
      "[Parallel(n_jobs=1)]: Done   3 out of   3 | elapsed:    0.0s remaining:    0.0s\n",
      "[Parallel(n_jobs=1)]: Done   4 out of   4 | elapsed:    0.0s remaining:    0.0s\n"
     ]
    },
    {
     "name": "stdout",
     "output_type": "stream",
     "text": [
      "Filtering raw data in 1 contiguous segment\n",
      "Setting up band-pass filter from 0.1 - 1e+02 Hz\n",
      "\n",
      "FIR filter parameters\n",
      "---------------------\n",
      "Designing a two-pass forward and reverse, zero-phase, non-causal bandpass filter:\n",
      "- Windowed time-domain design (firwin) method\n",
      "- Hamming window with 0.0194 passband ripple and 53 dB stopband attenuation\n",
      "- Lower passband edge: 0.10\n",
      "- Lower transition bandwidth: 0.10 Hz (-12 dB cutoff frequency: 0.05 Hz)\n",
      "- Upper passband edge: 100.00 Hz\n",
      "- Upper transition bandwidth: 25.00 Hz (-12 dB cutoff frequency: 112.50 Hz)\n",
      "- Filter length: 16501 samples (33.002 sec)\n",
      "\n"
     ]
    },
    {
     "name": "stderr",
     "output_type": "stream",
     "text": [
      "[Parallel(n_jobs=1)]: Done  31 out of  31 | elapsed:    0.6s finished\n",
      "[Parallel(n_jobs=1)]: Using backend SequentialBackend with 1 concurrent workers.\n",
      "[Parallel(n_jobs=1)]: Done   1 out of   1 | elapsed:    0.0s remaining:    0.0s\n",
      "[Parallel(n_jobs=1)]: Done   2 out of   2 | elapsed:    0.0s remaining:    0.0s\n",
      "[Parallel(n_jobs=1)]: Done   3 out of   3 | elapsed:    0.0s remaining:    0.0s\n",
      "[Parallel(n_jobs=1)]: Done   4 out of   4 | elapsed:    0.0s remaining:    0.0s\n"
     ]
    },
    {
     "name": "stdout",
     "output_type": "stream",
     "text": [
      "Filtering raw data in 1 contiguous segment\n",
      "Setting up band-pass filter from 0.1 - 1e+02 Hz\n",
      "\n",
      "FIR filter parameters\n",
      "---------------------\n",
      "Designing a two-pass forward and reverse, zero-phase, non-causal bandpass filter:\n",
      "- Windowed time-domain design (firwin) method\n",
      "- Hamming window with 0.0194 passband ripple and 53 dB stopband attenuation\n",
      "- Lower passband edge: 0.10\n",
      "- Lower transition bandwidth: 0.10 Hz (-12 dB cutoff frequency: 0.05 Hz)\n",
      "- Upper passband edge: 100.00 Hz\n",
      "- Upper transition bandwidth: 25.00 Hz (-12 dB cutoff frequency: 112.50 Hz)\n",
      "- Filter length: 16501 samples (33.002 sec)\n",
      "\n"
     ]
    },
    {
     "name": "stderr",
     "output_type": "stream",
     "text": [
      "[Parallel(n_jobs=1)]: Done  31 out of  31 | elapsed:    0.5s finished\n",
      "[Parallel(n_jobs=1)]: Using backend SequentialBackend with 1 concurrent workers.\n",
      "[Parallel(n_jobs=1)]: Done   1 out of   1 | elapsed:    0.0s remaining:    0.0s\n",
      "[Parallel(n_jobs=1)]: Done   2 out of   2 | elapsed:    0.0s remaining:    0.0s\n",
      "[Parallel(n_jobs=1)]: Done   3 out of   3 | elapsed:    0.0s remaining:    0.0s\n",
      "[Parallel(n_jobs=1)]: Done   4 out of   4 | elapsed:    0.0s remaining:    0.0s\n"
     ]
    },
    {
     "name": "stdout",
     "output_type": "stream",
     "text": [
      "Filtering raw data in 1 contiguous segment\n",
      "Setting up band-pass filter from 0.1 - 1e+02 Hz\n",
      "\n",
      "FIR filter parameters\n",
      "---------------------\n",
      "Designing a two-pass forward and reverse, zero-phase, non-causal bandpass filter:\n",
      "- Windowed time-domain design (firwin) method\n",
      "- Hamming window with 0.0194 passband ripple and 53 dB stopband attenuation\n",
      "- Lower passband edge: 0.10\n",
      "- Lower transition bandwidth: 0.10 Hz (-12 dB cutoff frequency: 0.05 Hz)\n",
      "- Upper passband edge: 100.00 Hz\n",
      "- Upper transition bandwidth: 25.00 Hz (-12 dB cutoff frequency: 112.50 Hz)\n",
      "- Filter length: 16501 samples (33.002 sec)\n",
      "\n"
     ]
    },
    {
     "name": "stderr",
     "output_type": "stream",
     "text": [
      "[Parallel(n_jobs=1)]: Done  31 out of  31 | elapsed:    0.5s finished\n",
      "[Parallel(n_jobs=1)]: Using backend SequentialBackend with 1 concurrent workers.\n",
      "[Parallel(n_jobs=1)]: Done   1 out of   1 | elapsed:    0.0s remaining:    0.0s\n",
      "[Parallel(n_jobs=1)]: Done   2 out of   2 | elapsed:    0.0s remaining:    0.0s\n",
      "[Parallel(n_jobs=1)]: Done   3 out of   3 | elapsed:    0.0s remaining:    0.0s\n",
      "[Parallel(n_jobs=1)]: Done   4 out of   4 | elapsed:    0.0s remaining:    0.0s\n"
     ]
    },
    {
     "name": "stdout",
     "output_type": "stream",
     "text": [
      "Filtering raw data in 1 contiguous segment\n",
      "Setting up band-pass filter from 0.1 - 1e+02 Hz\n",
      "\n",
      "FIR filter parameters\n",
      "---------------------\n",
      "Designing a two-pass forward and reverse, zero-phase, non-causal bandpass filter:\n",
      "- Windowed time-domain design (firwin) method\n",
      "- Hamming window with 0.0194 passband ripple and 53 dB stopband attenuation\n",
      "- Lower passband edge: 0.10\n",
      "- Lower transition bandwidth: 0.10 Hz (-12 dB cutoff frequency: 0.05 Hz)\n",
      "- Upper passband edge: 100.00 Hz\n",
      "- Upper transition bandwidth: 25.00 Hz (-12 dB cutoff frequency: 112.50 Hz)\n",
      "- Filter length: 16501 samples (33.002 sec)\n",
      "\n"
     ]
    },
    {
     "name": "stderr",
     "output_type": "stream",
     "text": [
      "[Parallel(n_jobs=1)]: Done  31 out of  31 | elapsed:    0.5s finished\n",
      "[Parallel(n_jobs=1)]: Using backend SequentialBackend with 1 concurrent workers.\n",
      "[Parallel(n_jobs=1)]: Done   1 out of   1 | elapsed:    0.0s remaining:    0.0s\n",
      "[Parallel(n_jobs=1)]: Done   2 out of   2 | elapsed:    0.0s remaining:    0.0s\n",
      "[Parallel(n_jobs=1)]: Done   3 out of   3 | elapsed:    0.0s remaining:    0.0s\n",
      "[Parallel(n_jobs=1)]: Done   4 out of   4 | elapsed:    0.0s remaining:    0.0s\n"
     ]
    },
    {
     "name": "stdout",
     "output_type": "stream",
     "text": [
      "Filtering raw data in 1 contiguous segment\n",
      "Setting up band-pass filter from 0.1 - 1e+02 Hz\n",
      "\n",
      "FIR filter parameters\n",
      "---------------------\n",
      "Designing a two-pass forward and reverse, zero-phase, non-causal bandpass filter:\n",
      "- Windowed time-domain design (firwin) method\n",
      "- Hamming window with 0.0194 passband ripple and 53 dB stopband attenuation\n",
      "- Lower passband edge: 0.10\n",
      "- Lower transition bandwidth: 0.10 Hz (-12 dB cutoff frequency: 0.05 Hz)\n",
      "- Upper passband edge: 100.00 Hz\n",
      "- Upper transition bandwidth: 25.00 Hz (-12 dB cutoff frequency: 112.50 Hz)\n",
      "- Filter length: 16501 samples (33.002 sec)\n",
      "\n"
     ]
    },
    {
     "name": "stderr",
     "output_type": "stream",
     "text": [
      "[Parallel(n_jobs=1)]: Done  31 out of  31 | elapsed:    0.8s finished\n",
      "[Parallel(n_jobs=1)]: Using backend SequentialBackend with 1 concurrent workers.\n",
      "[Parallel(n_jobs=1)]: Done   1 out of   1 | elapsed:    0.0s remaining:    0.0s\n",
      "[Parallel(n_jobs=1)]: Done   2 out of   2 | elapsed:    0.0s remaining:    0.0s\n",
      "[Parallel(n_jobs=1)]: Done   3 out of   3 | elapsed:    0.0s remaining:    0.0s\n",
      "[Parallel(n_jobs=1)]: Done   4 out of   4 | elapsed:    0.0s remaining:    0.0s\n"
     ]
    },
    {
     "name": "stdout",
     "output_type": "stream",
     "text": [
      "Filtering raw data in 1 contiguous segment\n",
      "Setting up band-pass filter from 0.1 - 1e+02 Hz\n",
      "\n",
      "FIR filter parameters\n",
      "---------------------\n",
      "Designing a two-pass forward and reverse, zero-phase, non-causal bandpass filter:\n",
      "- Windowed time-domain design (firwin) method\n",
      "- Hamming window with 0.0194 passband ripple and 53 dB stopband attenuation\n",
      "- Lower passband edge: 0.10\n",
      "- Lower transition bandwidth: 0.10 Hz (-12 dB cutoff frequency: 0.05 Hz)\n",
      "- Upper passband edge: 100.00 Hz\n",
      "- Upper transition bandwidth: 25.00 Hz (-12 dB cutoff frequency: 112.50 Hz)\n",
      "- Filter length: 16501 samples (33.002 sec)\n",
      "\n"
     ]
    },
    {
     "name": "stderr",
     "output_type": "stream",
     "text": [
      "[Parallel(n_jobs=1)]: Done  31 out of  31 | elapsed:    0.6s finished\n",
      "[Parallel(n_jobs=1)]: Using backend SequentialBackend with 1 concurrent workers.\n",
      "[Parallel(n_jobs=1)]: Done   1 out of   1 | elapsed:    0.0s remaining:    0.0s\n",
      "[Parallel(n_jobs=1)]: Done   2 out of   2 | elapsed:    0.0s remaining:    0.0s\n",
      "[Parallel(n_jobs=1)]: Done   3 out of   3 | elapsed:    0.0s remaining:    0.0s\n",
      "[Parallel(n_jobs=1)]: Done   4 out of   4 | elapsed:    0.0s remaining:    0.0s\n"
     ]
    },
    {
     "name": "stdout",
     "output_type": "stream",
     "text": [
      "Filtering raw data in 1 contiguous segment\n",
      "Setting up band-pass filter from 0.1 - 1e+02 Hz\n",
      "\n",
      "FIR filter parameters\n",
      "---------------------\n",
      "Designing a two-pass forward and reverse, zero-phase, non-causal bandpass filter:\n",
      "- Windowed time-domain design (firwin) method\n",
      "- Hamming window with 0.0194 passband ripple and 53 dB stopband attenuation\n",
      "- Lower passband edge: 0.10\n",
      "- Lower transition bandwidth: 0.10 Hz (-12 dB cutoff frequency: 0.05 Hz)\n",
      "- Upper passband edge: 100.00 Hz\n",
      "- Upper transition bandwidth: 25.00 Hz (-12 dB cutoff frequency: 112.50 Hz)\n",
      "- Filter length: 16501 samples (33.002 sec)\n",
      "\n"
     ]
    },
    {
     "name": "stderr",
     "output_type": "stream",
     "text": [
      "[Parallel(n_jobs=1)]: Done  31 out of  31 | elapsed:    0.7s finished\n",
      "[Parallel(n_jobs=1)]: Using backend SequentialBackend with 1 concurrent workers.\n",
      "[Parallel(n_jobs=1)]: Done   1 out of   1 | elapsed:    0.0s remaining:    0.0s\n",
      "[Parallel(n_jobs=1)]: Done   2 out of   2 | elapsed:    0.0s remaining:    0.0s\n",
      "[Parallel(n_jobs=1)]: Done   3 out of   3 | elapsed:    0.0s remaining:    0.0s\n",
      "[Parallel(n_jobs=1)]: Done   4 out of   4 | elapsed:    0.0s remaining:    0.0s\n"
     ]
    },
    {
     "name": "stdout",
     "output_type": "stream",
     "text": [
      "Filtering raw data in 1 contiguous segment\n",
      "Setting up band-pass filter from 0.1 - 1e+02 Hz\n",
      "\n",
      "FIR filter parameters\n",
      "---------------------\n",
      "Designing a two-pass forward and reverse, zero-phase, non-causal bandpass filter:\n",
      "- Windowed time-domain design (firwin) method\n",
      "- Hamming window with 0.0194 passband ripple and 53 dB stopband attenuation\n",
      "- Lower passband edge: 0.10\n",
      "- Lower transition bandwidth: 0.10 Hz (-12 dB cutoff frequency: 0.05 Hz)\n",
      "- Upper passband edge: 100.00 Hz\n",
      "- Upper transition bandwidth: 25.00 Hz (-12 dB cutoff frequency: 112.50 Hz)\n",
      "- Filter length: 16501 samples (33.002 sec)\n",
      "\n"
     ]
    },
    {
     "name": "stderr",
     "output_type": "stream",
     "text": [
      "[Parallel(n_jobs=1)]: Done  31 out of  31 | elapsed:    0.7s finished\n",
      "[Parallel(n_jobs=1)]: Using backend SequentialBackend with 1 concurrent workers.\n",
      "[Parallel(n_jobs=1)]: Done   1 out of   1 | elapsed:    0.0s remaining:    0.0s\n",
      "[Parallel(n_jobs=1)]: Done   2 out of   2 | elapsed:    0.0s remaining:    0.0s\n",
      "[Parallel(n_jobs=1)]: Done   3 out of   3 | elapsed:    0.0s remaining:    0.0s\n",
      "[Parallel(n_jobs=1)]: Done   4 out of   4 | elapsed:    0.0s remaining:    0.0s\n"
     ]
    },
    {
     "name": "stdout",
     "output_type": "stream",
     "text": [
      "Filtering raw data in 1 contiguous segment\n",
      "Setting up band-pass filter from 0.1 - 1e+02 Hz\n",
      "\n",
      "FIR filter parameters\n",
      "---------------------\n",
      "Designing a two-pass forward and reverse, zero-phase, non-causal bandpass filter:\n",
      "- Windowed time-domain design (firwin) method\n",
      "- Hamming window with 0.0194 passband ripple and 53 dB stopband attenuation\n",
      "- Lower passband edge: 0.10\n",
      "- Lower transition bandwidth: 0.10 Hz (-12 dB cutoff frequency: 0.05 Hz)\n",
      "- Upper passband edge: 100.00 Hz\n",
      "- Upper transition bandwidth: 25.00 Hz (-12 dB cutoff frequency: 112.50 Hz)\n",
      "- Filter length: 16501 samples (33.002 sec)\n",
      "\n"
     ]
    },
    {
     "name": "stderr",
     "output_type": "stream",
     "text": [
      "[Parallel(n_jobs=1)]: Done  31 out of  31 | elapsed:    0.7s finished\n",
      "[Parallel(n_jobs=1)]: Using backend SequentialBackend with 1 concurrent workers.\n",
      "[Parallel(n_jobs=1)]: Done   1 out of   1 | elapsed:    0.0s remaining:    0.0s\n",
      "[Parallel(n_jobs=1)]: Done   2 out of   2 | elapsed:    0.0s remaining:    0.0s\n",
      "[Parallel(n_jobs=1)]: Done   3 out of   3 | elapsed:    0.0s remaining:    0.0s\n",
      "[Parallel(n_jobs=1)]: Done   4 out of   4 | elapsed:    0.0s remaining:    0.0s\n"
     ]
    },
    {
     "name": "stdout",
     "output_type": "stream",
     "text": [
      "Filtering raw data in 1 contiguous segment\n",
      "Setting up band-pass filter from 0.1 - 1e+02 Hz\n",
      "\n",
      "FIR filter parameters\n",
      "---------------------\n",
      "Designing a two-pass forward and reverse, zero-phase, non-causal bandpass filter:\n",
      "- Windowed time-domain design (firwin) method\n",
      "- Hamming window with 0.0194 passband ripple and 53 dB stopband attenuation\n",
      "- Lower passband edge: 0.10\n",
      "- Lower transition bandwidth: 0.10 Hz (-12 dB cutoff frequency: 0.05 Hz)\n",
      "- Upper passband edge: 100.00 Hz\n",
      "- Upper transition bandwidth: 25.00 Hz (-12 dB cutoff frequency: 112.50 Hz)\n",
      "- Filter length: 16501 samples (33.002 sec)\n",
      "\n"
     ]
    },
    {
     "name": "stderr",
     "output_type": "stream",
     "text": [
      "[Parallel(n_jobs=1)]: Done  31 out of  31 | elapsed:    0.7s finished\n",
      "[Parallel(n_jobs=1)]: Using backend SequentialBackend with 1 concurrent workers.\n",
      "[Parallel(n_jobs=1)]: Done   1 out of   1 | elapsed:    0.0s remaining:    0.0s\n",
      "[Parallel(n_jobs=1)]: Done   2 out of   2 | elapsed:    0.0s remaining:    0.0s\n",
      "[Parallel(n_jobs=1)]: Done   3 out of   3 | elapsed:    0.0s remaining:    0.0s\n",
      "[Parallel(n_jobs=1)]: Done   4 out of   4 | elapsed:    0.0s remaining:    0.0s\n"
     ]
    },
    {
     "name": "stdout",
     "output_type": "stream",
     "text": [
      "Filtering raw data in 1 contiguous segment\n",
      "Setting up band-pass filter from 0.1 - 1e+02 Hz\n",
      "\n",
      "FIR filter parameters\n",
      "---------------------\n",
      "Designing a two-pass forward and reverse, zero-phase, non-causal bandpass filter:\n",
      "- Windowed time-domain design (firwin) method\n",
      "- Hamming window with 0.0194 passband ripple and 53 dB stopband attenuation\n",
      "- Lower passband edge: 0.10\n",
      "- Lower transition bandwidth: 0.10 Hz (-12 dB cutoff frequency: 0.05 Hz)\n",
      "- Upper passband edge: 100.00 Hz\n",
      "- Upper transition bandwidth: 25.00 Hz (-12 dB cutoff frequency: 112.50 Hz)\n",
      "- Filter length: 16501 samples (33.002 sec)\n",
      "\n"
     ]
    },
    {
     "name": "stderr",
     "output_type": "stream",
     "text": [
      "[Parallel(n_jobs=1)]: Done  31 out of  31 | elapsed:    0.7s finished\n",
      "[Parallel(n_jobs=1)]: Using backend SequentialBackend with 1 concurrent workers.\n",
      "[Parallel(n_jobs=1)]: Done   1 out of   1 | elapsed:    0.0s remaining:    0.0s\n",
      "[Parallel(n_jobs=1)]: Done   2 out of   2 | elapsed:    0.0s remaining:    0.0s\n",
      "[Parallel(n_jobs=1)]: Done   3 out of   3 | elapsed:    0.0s remaining:    0.0s\n",
      "[Parallel(n_jobs=1)]: Done   4 out of   4 | elapsed:    0.1s remaining:    0.0s\n"
     ]
    },
    {
     "name": "stdout",
     "output_type": "stream",
     "text": [
      "Filtering raw data in 1 contiguous segment\n",
      "Setting up band-pass filter from 0.1 - 1e+02 Hz\n",
      "\n",
      "FIR filter parameters\n",
      "---------------------\n",
      "Designing a two-pass forward and reverse, zero-phase, non-causal bandpass filter:\n",
      "- Windowed time-domain design (firwin) method\n",
      "- Hamming window with 0.0194 passband ripple and 53 dB stopband attenuation\n",
      "- Lower passband edge: 0.10\n",
      "- Lower transition bandwidth: 0.10 Hz (-12 dB cutoff frequency: 0.05 Hz)\n",
      "- Upper passband edge: 100.00 Hz\n",
      "- Upper transition bandwidth: 25.00 Hz (-12 dB cutoff frequency: 112.50 Hz)\n",
      "- Filter length: 16501 samples (33.002 sec)\n",
      "\n"
     ]
    },
    {
     "name": "stderr",
     "output_type": "stream",
     "text": [
      "[Parallel(n_jobs=1)]: Done  31 out of  31 | elapsed:    0.8s finished\n",
      "[Parallel(n_jobs=1)]: Using backend SequentialBackend with 1 concurrent workers.\n",
      "[Parallel(n_jobs=1)]: Done   1 out of   1 | elapsed:    0.0s remaining:    0.0s\n",
      "[Parallel(n_jobs=1)]: Done   2 out of   2 | elapsed:    0.0s remaining:    0.0s\n",
      "[Parallel(n_jobs=1)]: Done   3 out of   3 | elapsed:    0.0s remaining:    0.0s\n",
      "[Parallel(n_jobs=1)]: Done   4 out of   4 | elapsed:    0.0s remaining:    0.0s\n"
     ]
    },
    {
     "name": "stdout",
     "output_type": "stream",
     "text": [
      "Filtering raw data in 1 contiguous segment\n",
      "Setting up band-pass filter from 0.1 - 1e+02 Hz\n",
      "\n",
      "FIR filter parameters\n",
      "---------------------\n",
      "Designing a two-pass forward and reverse, zero-phase, non-causal bandpass filter:\n",
      "- Windowed time-domain design (firwin) method\n",
      "- Hamming window with 0.0194 passband ripple and 53 dB stopband attenuation\n",
      "- Lower passband edge: 0.10\n",
      "- Lower transition bandwidth: 0.10 Hz (-12 dB cutoff frequency: 0.05 Hz)\n",
      "- Upper passband edge: 100.00 Hz\n",
      "- Upper transition bandwidth: 25.00 Hz (-12 dB cutoff frequency: 112.50 Hz)\n",
      "- Filter length: 16501 samples (33.002 sec)\n",
      "\n"
     ]
    },
    {
     "name": "stderr",
     "output_type": "stream",
     "text": [
      "[Parallel(n_jobs=1)]: Done  31 out of  31 | elapsed:    0.6s finished\n",
      "[Parallel(n_jobs=1)]: Using backend SequentialBackend with 1 concurrent workers.\n",
      "[Parallel(n_jobs=1)]: Done   1 out of   1 | elapsed:    0.0s remaining:    0.0s\n",
      "[Parallel(n_jobs=1)]: Done   2 out of   2 | elapsed:    0.0s remaining:    0.0s\n",
      "[Parallel(n_jobs=1)]: Done   3 out of   3 | elapsed:    0.0s remaining:    0.0s\n",
      "[Parallel(n_jobs=1)]: Done   4 out of   4 | elapsed:    0.0s remaining:    0.0s\n"
     ]
    },
    {
     "name": "stdout",
     "output_type": "stream",
     "text": [
      "Filtering raw data in 1 contiguous segment\n",
      "Setting up band-pass filter from 0.1 - 1e+02 Hz\n",
      "\n",
      "FIR filter parameters\n",
      "---------------------\n",
      "Designing a two-pass forward and reverse, zero-phase, non-causal bandpass filter:\n",
      "- Windowed time-domain design (firwin) method\n",
      "- Hamming window with 0.0194 passband ripple and 53 dB stopband attenuation\n",
      "- Lower passband edge: 0.10\n",
      "- Lower transition bandwidth: 0.10 Hz (-12 dB cutoff frequency: 0.05 Hz)\n",
      "- Upper passband edge: 100.00 Hz\n",
      "- Upper transition bandwidth: 25.00 Hz (-12 dB cutoff frequency: 112.50 Hz)\n",
      "- Filter length: 16501 samples (33.002 sec)\n",
      "\n"
     ]
    },
    {
     "name": "stderr",
     "output_type": "stream",
     "text": [
      "[Parallel(n_jobs=1)]: Done  31 out of  31 | elapsed:    0.7s finished\n",
      "[Parallel(n_jobs=1)]: Using backend SequentialBackend with 1 concurrent workers.\n",
      "[Parallel(n_jobs=1)]: Done   1 out of   1 | elapsed:    0.0s remaining:    0.0s\n",
      "[Parallel(n_jobs=1)]: Done   2 out of   2 | elapsed:    0.0s remaining:    0.0s\n",
      "[Parallel(n_jobs=1)]: Done   3 out of   3 | elapsed:    0.0s remaining:    0.0s\n",
      "[Parallel(n_jobs=1)]: Done   4 out of   4 | elapsed:    0.0s remaining:    0.0s\n"
     ]
    },
    {
     "name": "stdout",
     "output_type": "stream",
     "text": [
      "Filtering raw data in 1 contiguous segment\n",
      "Setting up band-pass filter from 0.1 - 1e+02 Hz\n",
      "\n",
      "FIR filter parameters\n",
      "---------------------\n",
      "Designing a two-pass forward and reverse, zero-phase, non-causal bandpass filter:\n",
      "- Windowed time-domain design (firwin) method\n",
      "- Hamming window with 0.0194 passband ripple and 53 dB stopband attenuation\n",
      "- Lower passband edge: 0.10\n",
      "- Lower transition bandwidth: 0.10 Hz (-12 dB cutoff frequency: 0.05 Hz)\n",
      "- Upper passband edge: 100.00 Hz\n",
      "- Upper transition bandwidth: 25.00 Hz (-12 dB cutoff frequency: 112.50 Hz)\n",
      "- Filter length: 16501 samples (33.002 sec)\n",
      "\n"
     ]
    },
    {
     "name": "stderr",
     "output_type": "stream",
     "text": [
      "[Parallel(n_jobs=1)]: Done  31 out of  31 | elapsed:    0.5s finished\n",
      "[Parallel(n_jobs=1)]: Using backend SequentialBackend with 1 concurrent workers.\n",
      "[Parallel(n_jobs=1)]: Done   1 out of   1 | elapsed:    0.0s remaining:    0.0s\n",
      "[Parallel(n_jobs=1)]: Done   2 out of   2 | elapsed:    0.0s remaining:    0.0s\n",
      "[Parallel(n_jobs=1)]: Done   3 out of   3 | elapsed:    0.0s remaining:    0.0s\n",
      "[Parallel(n_jobs=1)]: Done   4 out of   4 | elapsed:    0.0s remaining:    0.0s\n"
     ]
    },
    {
     "name": "stdout",
     "output_type": "stream",
     "text": [
      "Filtering raw data in 1 contiguous segment\n",
      "Setting up band-pass filter from 0.1 - 1e+02 Hz\n",
      "\n",
      "FIR filter parameters\n",
      "---------------------\n",
      "Designing a two-pass forward and reverse, zero-phase, non-causal bandpass filter:\n",
      "- Windowed time-domain design (firwin) method\n",
      "- Hamming window with 0.0194 passband ripple and 53 dB stopband attenuation\n",
      "- Lower passband edge: 0.10\n",
      "- Lower transition bandwidth: 0.10 Hz (-12 dB cutoff frequency: 0.05 Hz)\n",
      "- Upper passband edge: 100.00 Hz\n",
      "- Upper transition bandwidth: 25.00 Hz (-12 dB cutoff frequency: 112.50 Hz)\n",
      "- Filter length: 16501 samples (33.002 sec)\n",
      "\n"
     ]
    },
    {
     "name": "stderr",
     "output_type": "stream",
     "text": [
      "[Parallel(n_jobs=1)]: Done  31 out of  31 | elapsed:    0.5s finished\n",
      "[Parallel(n_jobs=1)]: Using backend SequentialBackend with 1 concurrent workers.\n",
      "[Parallel(n_jobs=1)]: Done   1 out of   1 | elapsed:    0.0s remaining:    0.0s\n",
      "[Parallel(n_jobs=1)]: Done   2 out of   2 | elapsed:    0.0s remaining:    0.0s\n",
      "[Parallel(n_jobs=1)]: Done   3 out of   3 | elapsed:    0.0s remaining:    0.0s\n",
      "[Parallel(n_jobs=1)]: Done   4 out of   4 | elapsed:    0.0s remaining:    0.0s\n"
     ]
    },
    {
     "name": "stdout",
     "output_type": "stream",
     "text": [
      "Filtering raw data in 1 contiguous segment\n",
      "Setting up band-pass filter from 0.1 - 1e+02 Hz\n",
      "\n",
      "FIR filter parameters\n",
      "---------------------\n",
      "Designing a two-pass forward and reverse, zero-phase, non-causal bandpass filter:\n",
      "- Windowed time-domain design (firwin) method\n",
      "- Hamming window with 0.0194 passband ripple and 53 dB stopband attenuation\n",
      "- Lower passband edge: 0.10\n",
      "- Lower transition bandwidth: 0.10 Hz (-12 dB cutoff frequency: 0.05 Hz)\n",
      "- Upper passband edge: 100.00 Hz\n",
      "- Upper transition bandwidth: 25.00 Hz (-12 dB cutoff frequency: 112.50 Hz)\n",
      "- Filter length: 16501 samples (33.002 sec)\n",
      "\n"
     ]
    },
    {
     "name": "stderr",
     "output_type": "stream",
     "text": [
      "[Parallel(n_jobs=1)]: Done  31 out of  31 | elapsed:    0.5s finished\n",
      "[Parallel(n_jobs=1)]: Using backend SequentialBackend with 1 concurrent workers.\n",
      "[Parallel(n_jobs=1)]: Done   1 out of   1 | elapsed:    0.0s remaining:    0.0s\n",
      "[Parallel(n_jobs=1)]: Done   2 out of   2 | elapsed:    0.0s remaining:    0.0s\n",
      "[Parallel(n_jobs=1)]: Done   3 out of   3 | elapsed:    0.0s remaining:    0.0s\n",
      "[Parallel(n_jobs=1)]: Done   4 out of   4 | elapsed:    0.0s remaining:    0.0s\n"
     ]
    },
    {
     "name": "stdout",
     "output_type": "stream",
     "text": [
      "Filtering raw data in 1 contiguous segment\n",
      "Setting up band-pass filter from 0.1 - 1e+02 Hz\n",
      "\n",
      "FIR filter parameters\n",
      "---------------------\n",
      "Designing a two-pass forward and reverse, zero-phase, non-causal bandpass filter:\n",
      "- Windowed time-domain design (firwin) method\n",
      "- Hamming window with 0.0194 passband ripple and 53 dB stopband attenuation\n",
      "- Lower passband edge: 0.10\n",
      "- Lower transition bandwidth: 0.10 Hz (-12 dB cutoff frequency: 0.05 Hz)\n",
      "- Upper passband edge: 100.00 Hz\n",
      "- Upper transition bandwidth: 25.00 Hz (-12 dB cutoff frequency: 112.50 Hz)\n",
      "- Filter length: 16501 samples (33.002 sec)\n",
      "\n"
     ]
    },
    {
     "name": "stderr",
     "output_type": "stream",
     "text": [
      "[Parallel(n_jobs=1)]: Done  31 out of  31 | elapsed:    0.6s finished\n",
      "[Parallel(n_jobs=1)]: Using backend SequentialBackend with 1 concurrent workers.\n",
      "[Parallel(n_jobs=1)]: Done   1 out of   1 | elapsed:    0.0s remaining:    0.0s\n",
      "[Parallel(n_jobs=1)]: Done   2 out of   2 | elapsed:    0.0s remaining:    0.0s\n",
      "[Parallel(n_jobs=1)]: Done   3 out of   3 | elapsed:    0.0s remaining:    0.0s\n",
      "[Parallel(n_jobs=1)]: Done   4 out of   4 | elapsed:    0.0s remaining:    0.0s\n"
     ]
    },
    {
     "name": "stdout",
     "output_type": "stream",
     "text": [
      "Filtering raw data in 1 contiguous segment\n",
      "Setting up band-pass filter from 0.1 - 1e+02 Hz\n",
      "\n",
      "FIR filter parameters\n",
      "---------------------\n",
      "Designing a two-pass forward and reverse, zero-phase, non-causal bandpass filter:\n",
      "- Windowed time-domain design (firwin) method\n",
      "- Hamming window with 0.0194 passband ripple and 53 dB stopband attenuation\n",
      "- Lower passband edge: 0.10\n",
      "- Lower transition bandwidth: 0.10 Hz (-12 dB cutoff frequency: 0.05 Hz)\n",
      "- Upper passband edge: 100.00 Hz\n",
      "- Upper transition bandwidth: 25.00 Hz (-12 dB cutoff frequency: 112.50 Hz)\n",
      "- Filter length: 16501 samples (33.002 sec)\n",
      "\n"
     ]
    },
    {
     "name": "stderr",
     "output_type": "stream",
     "text": [
      "[Parallel(n_jobs=1)]: Done  31 out of  31 | elapsed:    1.1s finished\n",
      "[Parallel(n_jobs=1)]: Using backend SequentialBackend with 1 concurrent workers.\n",
      "[Parallel(n_jobs=1)]: Done   1 out of   1 | elapsed:    0.0s remaining:    0.0s\n",
      "[Parallel(n_jobs=1)]: Done   2 out of   2 | elapsed:    0.0s remaining:    0.0s\n",
      "[Parallel(n_jobs=1)]: Done   3 out of   3 | elapsed:    0.0s remaining:    0.0s\n",
      "[Parallel(n_jobs=1)]: Done   4 out of   4 | elapsed:    0.0s remaining:    0.0s\n"
     ]
    },
    {
     "name": "stdout",
     "output_type": "stream",
     "text": [
      "Filtering raw data in 1 contiguous segment\n",
      "Setting up band-pass filter from 0.1 - 1e+02 Hz\n",
      "\n",
      "FIR filter parameters\n",
      "---------------------\n",
      "Designing a two-pass forward and reverse, zero-phase, non-causal bandpass filter:\n",
      "- Windowed time-domain design (firwin) method\n",
      "- Hamming window with 0.0194 passband ripple and 53 dB stopband attenuation\n",
      "- Lower passband edge: 0.10\n",
      "- Lower transition bandwidth: 0.10 Hz (-12 dB cutoff frequency: 0.05 Hz)\n",
      "- Upper passband edge: 100.00 Hz\n",
      "- Upper transition bandwidth: 25.00 Hz (-12 dB cutoff frequency: 112.50 Hz)\n",
      "- Filter length: 16501 samples (33.002 sec)\n",
      "\n"
     ]
    },
    {
     "name": "stderr",
     "output_type": "stream",
     "text": [
      "[Parallel(n_jobs=1)]: Done  31 out of  31 | elapsed:    0.6s finished\n",
      "[Parallel(n_jobs=1)]: Using backend SequentialBackend with 1 concurrent workers.\n",
      "[Parallel(n_jobs=1)]: Done   1 out of   1 | elapsed:    0.0s remaining:    0.0s\n",
      "[Parallel(n_jobs=1)]: Done   2 out of   2 | elapsed:    0.0s remaining:    0.0s\n",
      "[Parallel(n_jobs=1)]: Done   3 out of   3 | elapsed:    0.0s remaining:    0.0s\n",
      "[Parallel(n_jobs=1)]: Done   4 out of   4 | elapsed:    0.0s remaining:    0.0s\n",
      "[Parallel(n_jobs=1)]: Done  31 out of  31 | elapsed:    0.7s finished\n"
     ]
    }
   ],
   "source": [
    "for i in range (0, len(EEG)):\n",
    "    EEG[i]=EEG[i].drop_channels(['Photo', 'micr'])  \n",
    "    #EEG[i]=EEG[i].drop_channels(EEG[i].ch_names[-1])  \n",
    "    EEG[i]=EEG[i].filter(0.1, 100, phase='zero-double')"
   ]
  },
  {
   "cell_type": "code",
   "execution_count": 24,
   "id": "4a5303f0",
   "metadata": {},
   "outputs": [
    {
     "name": "stdout",
     "output_type": "stream",
     "text": [
      "NP022301_2\n",
      "Non-RawBrainVision raw using branvision markers\n",
      "Used Annotations descriptions: ['New Segment/', 'Stimulus/S  1', 'Stimulus/S  2', 'Stimulus/S  3', 'Stimulus/S 11', 'Stimulus/S 12', 'Stimulus/S 13']\n",
      "NP022303_2\n",
      "Non-RawBrainVision raw using branvision markers\n",
      "Used Annotations descriptions: ['New Segment/', 'Stimulus/S  1', 'Stimulus/S  2', 'Stimulus/S  3', 'Stimulus/S 11', 'Stimulus/S 12', 'Stimulus/S 13']\n",
      "NP022307_2\n",
      "Non-RawBrainVision raw using branvision markers\n",
      "Used Annotations descriptions: ['New Segment/', 'Stimulus/S  1', 'Stimulus/S  2', 'Stimulus/S  3', 'Stimulus/S 11', 'Stimulus/S 12', 'Stimulus/S 13']\n",
      "NP022309_2\n",
      "Non-RawBrainVision raw using branvision markers\n",
      "Used Annotations descriptions: ['New Segment/', 'Stimulus/S  1', 'Stimulus/S  2', 'Stimulus/S  3', 'Stimulus/S 11', 'Stimulus/S 12', 'Stimulus/S 13']\n",
      "NP032401\n",
      "Non-RawBrainVision raw using branvision markers\n",
      "Used Annotations descriptions: ['New Segment/', 'Stimulus/S  1', 'Stimulus/S  2', 'Stimulus/S  3', 'Stimulus/S 11', 'Stimulus/S 12', 'Stimulus/S 13']\n",
      "NP032402\n",
      "Non-RawBrainVision raw using branvision markers\n",
      "Used Annotations descriptions: ['New Segment/', 'Stimulus/S  1', 'Stimulus/S  2', 'Stimulus/S  3', 'Stimulus/S 11', 'Stimulus/S 12', 'Stimulus/S 13']\n",
      "NP032403\n",
      "Non-RawBrainVision raw using branvision markers\n",
      "Used Annotations descriptions: ['New Segment/', 'Stimulus/S  1', 'Stimulus/S  2', 'Stimulus/S  3', 'Stimulus/S 11', 'Stimulus/S 12', 'Stimulus/S 13']\n",
      "NP042311_2\n",
      "Non-RawBrainVision raw using branvision markers\n",
      "Used Annotations descriptions: ['New Segment/', 'Stimulus/S  1', 'Stimulus/S  2', 'Stimulus/S  3', 'Stimulus/S 11', 'Stimulus/S 12', 'Stimulus/S 13']\n",
      "NP042313_2\n",
      "Non-RawBrainVision raw using branvision markers\n",
      "Used Annotations descriptions: ['New Segment/', 'Stimulus/S  1', 'Stimulus/S  2', 'Stimulus/S  3', 'Stimulus/S 11', 'Stimulus/S 12', 'Stimulus/S 13']\n",
      "NP042318_2\n",
      "Non-RawBrainVision raw using branvision markers\n",
      "Used Annotations descriptions: ['New Segment/', 'Stimulus/S  1', 'Stimulus/S  2', 'Stimulus/S  3', 'Stimulus/S 11', 'Stimulus/S 12', 'Stimulus/S 13']\n",
      "NP052401\n",
      "Non-RawBrainVision raw using branvision markers\n",
      "Used Annotations descriptions: ['New Segment/', 'Stimulus/S  1', 'Stimulus/S  2', 'Stimulus/S  3', 'Stimulus/S 11', 'Stimulus/S 12', 'Stimulus/S 13']\n",
      "NP052402\n",
      "Non-RawBrainVision raw using branvision markers\n",
      "Used Annotations descriptions: ['New Segment/', 'Stimulus/S  1', 'Stimulus/S  2', 'Stimulus/S  3', 'Stimulus/S 11', 'Stimulus/S 12', 'Stimulus/S 13']\n",
      "NP052403\n",
      "Non-RawBrainVision raw using branvision markers\n",
      "Used Annotations descriptions: ['New Segment/', 'Stimulus/S  1', 'Stimulus/S  2', 'Stimulus/S  3', 'Stimulus/S 11', 'Stimulus/S 12', 'Stimulus/S 13']\n",
      "NP062401\n",
      "Non-RawBrainVision raw using branvision markers\n",
      "Used Annotations descriptions: ['New Segment/', 'Stimulus/S  1', 'Stimulus/S  2', 'Stimulus/S  3', 'Stimulus/S 11', 'Stimulus/S 12', 'Stimulus/S 13']\n",
      "NP102201_2\n",
      "Non-RawBrainVision raw using branvision markers\n",
      "Used Annotations descriptions: ['New Segment/', 'Stimulus/S  1', 'Stimulus/S  2', 'Stimulus/S  3', 'Stimulus/S 11', 'Stimulus/S 12', 'Stimulus/S 13']\n",
      "NP102302\n",
      "Non-RawBrainVision raw using branvision markers\n",
      "Used Annotations descriptions: ['New Segment/', 'Stimulus/S  1', 'Stimulus/S  2', 'Stimulus/S  3', 'Stimulus/S 11', 'Stimulus/S 12', 'Stimulus/S 13']\n",
      "NP102308\n",
      "Non-RawBrainVision raw using branvision markers\n",
      "Used Annotations descriptions: ['New Segment/', 'Stimulus/S  1', 'Stimulus/S  2', 'Stimulus/S  3', 'Stimulus/S 11', 'Stimulus/S 12', 'Stimulus/S 13']\n",
      "NP102310\n",
      "Non-RawBrainVision raw using branvision markers\n",
      "Used Annotations descriptions: ['New Segment/', 'Stimulus/S  1', 'Stimulus/S  2', 'Stimulus/S  3', 'Stimulus/S 11', 'Stimulus/S 12', 'Stimulus/S 13']\n",
      "NP102313\n",
      "Non-RawBrainVision raw using branvision markers\n",
      "Used Annotations descriptions: ['New Segment/', 'Stimulus/S  1', 'Stimulus/S  2', 'Stimulus/S  3', 'Stimulus/S 11', 'Stimulus/S 12', 'Stimulus/S 13']\n",
      "NP102314\n",
      "Non-RawBrainVision raw using branvision markers\n",
      "Used Annotations descriptions: ['New Segment/', 'Stimulus/S  1', 'Stimulus/S  2', 'Stimulus/S  3', 'Stimulus/S 11', 'Stimulus/S 12', 'Stimulus/S 13']\n",
      "NP102315\n",
      "Non-RawBrainVision raw using branvision markers\n",
      "Used Annotations descriptions: ['New Segment/', 'Stimulus/S  1', 'Stimulus/S  2', 'Stimulus/S  3', 'Stimulus/S 11', 'Stimulus/S 12', 'Stimulus/S 13']\n",
      "NP112201_2\n",
      "Non-RawBrainVision raw using branvision markers\n",
      "Used Annotations descriptions: ['New Segment/', 'Stimulus/S  1', 'Stimulus/S  2', 'Stimulus/S  3', 'Stimulus/S 11', 'Stimulus/S 12', 'Stimulus/S 13']\n",
      "NP112206_2\n",
      "Non-RawBrainVision raw using branvision markers\n",
      "Used Annotations descriptions: ['New Segment/', 'Stimulus/S  1', 'Stimulus/S  2', 'Stimulus/S  3', 'Stimulus/S 11', 'Stimulus/S 12', 'Stimulus/S 13']\n",
      "NP112211_2\n",
      "Non-RawBrainVision raw using branvision markers\n",
      "Used Annotations descriptions: ['New Segment/', 'Stimulus/S  1', 'Stimulus/S  2', 'Stimulus/S  3', 'Stimulus/S 11', 'Stimulus/S 12', 'Stimulus/S 13']\n",
      "NP112212_2\n",
      "Non-RawBrainVision raw using branvision markers\n",
      "Used Annotations descriptions: ['New Segment/', 'Stimulus/S  1', 'Stimulus/S  2', 'Stimulus/S  3', 'Stimulus/S 11', 'Stimulus/S 12', 'Stimulus/S 13']\n",
      "NP112213_2\n",
      "Non-RawBrainVision raw using branvision markers\n",
      "Used Annotations descriptions: ['New Segment/', 'Stimulus/S  1', 'Stimulus/S  2', 'Stimulus/S  3', 'Stimulus/S 11', 'Stimulus/S 12', 'Stimulus/S 13']\n",
      "NP112214_2\n",
      "Non-RawBrainVision raw using branvision markers\n",
      "Used Annotations descriptions: ['New Segment/', 'Stimulus/S  1', 'Stimulus/S  2', 'Stimulus/S  3', 'Stimulus/S 11', 'Stimulus/S 12', 'Stimulus/S 13']\n",
      "NP112215_2\n",
      "Non-RawBrainVision raw using branvision markers\n",
      "Used Annotations descriptions: ['New Segment/', 'Stimulus/S  1', 'Stimulus/S  2', 'Stimulus/S  3', 'Stimulus/S 11', 'Stimulus/S 12', 'Stimulus/S 13']\n",
      "NP112218_2\n",
      "Non-RawBrainVision raw using branvision markers\n",
      "Used Annotations descriptions: ['New Segment/', 'Stimulus/S  1', 'Stimulus/S  2', 'Stimulus/S  3', 'Stimulus/S 11', 'Stimulus/S 12', 'Stimulus/S 13']\n",
      "NP112219_2\n",
      "Non-RawBrainVision raw using branvision markers\n",
      "Used Annotations descriptions: ['New Segment/', 'Stimulus/S  1', 'Stimulus/S  2', 'Stimulus/S  3', 'Stimulus/S 11', 'Stimulus/S 12', 'Stimulus/S 13']\n",
      "NP112221_2\n",
      "Non-RawBrainVision raw using branvision markers\n",
      "Used Annotations descriptions: ['New Segment/', 'Stimulus/S  1', 'Stimulus/S  2', 'Stimulus/S  3', 'Stimulus/S 11', 'Stimulus/S 12', 'Stimulus/S 13']\n",
      "NP112223_2\n",
      "Non-RawBrainVision raw using branvision markers\n",
      "Used Annotations descriptions: ['New Segment/', 'Stimulus/S  1', 'Stimulus/S  2', 'Stimulus/S  3', 'Stimulus/S 11', 'Stimulus/S 12', 'Stimulus/S 13']\n",
      "NP112225_2\n",
      "Non-RawBrainVision raw using branvision markers\n",
      "Used Annotations descriptions: ['New Segment/', 'Stimulus/S  1', 'Stimulus/S  2', 'Stimulus/S  3', 'Stimulus/S 11', 'Stimulus/S 12', 'Stimulus/S 13']\n",
      "NP112226_2\n",
      "Non-RawBrainVision raw using branvision markers\n",
      "Used Annotations descriptions: ['New Segment/', 'Stimulus/S  1', 'Stimulus/S  2', 'Stimulus/S  3', 'Stimulus/S 11', 'Stimulus/S 12', 'Stimulus/S 13']\n",
      "NP112229_2\n",
      "Non-RawBrainVision raw using branvision markers\n",
      "Used Annotations descriptions: ['New Segment/', 'Stimulus/S  1', 'Stimulus/S  2', 'Stimulus/S  3', 'Stimulus/S 11', 'Stimulus/S 12', 'Stimulus/S 13']\n",
      "NP112301\n",
      "Non-RawBrainVision raw using branvision markers\n",
      "Used Annotations descriptions: ['New Segment/', 'Stimulus/S  1', 'Stimulus/S  2', 'Stimulus/S  3', 'Stimulus/S 11', 'Stimulus/S 12', 'Stimulus/S 13']\n",
      "NP112302\n",
      "Non-RawBrainVision raw using branvision markers\n",
      "Used Annotations descriptions: ['New Segment/', 'Stimulus/S  1', 'Stimulus/S  2', 'Stimulus/S  3', 'Stimulus/S 11', 'Stimulus/S 12', 'Stimulus/S 13']\n",
      "NP112303\n",
      "Non-RawBrainVision raw using branvision markers\n",
      "Used Annotations descriptions: ['New Segment/', 'Stimulus/S  1', 'Stimulus/S  2', 'Stimulus/S  3', 'Stimulus/S 11', 'Stimulus/S 12', 'Stimulus/S 13']\n",
      "NP112304\n",
      "Non-RawBrainVision raw using branvision markers\n",
      "Used Annotations descriptions: ['New Segment/', 'Stimulus/S  1', 'Stimulus/S  2', 'Stimulus/S  3', 'Stimulus/S 11', 'Stimulus/S 12', 'Stimulus/S 13']\n",
      "NP112307\n",
      "Non-RawBrainVision raw using branvision markers\n",
      "Used Annotations descriptions: ['New Segment/', 'Stimulus/S  1', 'Stimulus/S  2', 'Stimulus/S  3', 'Stimulus/S 11', 'Stimulus/S 12', 'Stimulus/S 13']\n"
     ]
    },
    {
     "name": "stdout",
     "output_type": "stream",
     "text": [
      "NP112308\n",
      "Non-RawBrainVision raw using branvision markers\n",
      "Used Annotations descriptions: ['New Segment/', 'Stimulus/S  1', 'Stimulus/S  2', 'Stimulus/S  3', 'Stimulus/S 11', 'Stimulus/S 12', 'Stimulus/S 13']\n",
      "NP112309\n",
      "Non-RawBrainVision raw using branvision markers\n",
      "Used Annotations descriptions: ['New Segment/', 'Stimulus/S  1', 'Stimulus/S  2', 'Stimulus/S  3', 'Stimulus/S 11', 'Stimulus/S 12', 'Stimulus/S 13']\n",
      "NP112310\n",
      "Non-RawBrainVision raw using branvision markers\n",
      "Used Annotations descriptions: ['New Segment/', 'Stimulus/S  1', 'Stimulus/S  2', 'Stimulus/S  3', 'Stimulus/S 11', 'Stimulus/S 12', 'Stimulus/S 13']\n",
      "NP112311\n",
      "Non-RawBrainVision raw using branvision markers\n",
      "Used Annotations descriptions: ['New Segment/', 'Stimulus/S  1', 'Stimulus/S  2', 'Stimulus/S  3', 'Stimulus/S 11', 'Stimulus/S 12', 'Stimulus/S 13']\n",
      "NP112313\n",
      "Non-RawBrainVision raw using branvision markers\n",
      "Used Annotations descriptions: ['New Segment/', 'Stimulus/S  1', 'Stimulus/S  2', 'Stimulus/S  3', 'Stimulus/S 11', 'Stimulus/S 12', 'Stimulus/S 13']\n",
      "NP112314\n",
      "Non-RawBrainVision raw using branvision markers\n",
      "Used Annotations descriptions: ['New Segment/', 'Stimulus/S  1', 'Stimulus/S  2', 'Stimulus/S  3', 'Stimulus/S 11', 'Stimulus/S 12', 'Stimulus/S 13']\n",
      "NP112315\n",
      "Non-RawBrainVision raw using branvision markers\n",
      "Used Annotations descriptions: ['New Segment/', 'Stimulus/S  1', 'Stimulus/S  2', 'Stimulus/S  3', 'Stimulus/S 11', 'Stimulus/S 12', 'Stimulus/S 13']\n",
      "NP112316\n",
      "Non-RawBrainVision raw using branvision markers\n",
      "Used Annotations descriptions: ['New Segment/', 'Stimulus/S  1', 'Stimulus/S  2', 'Stimulus/S  3', 'Stimulus/S 11', 'Stimulus/S 12', 'Stimulus/S 13']\n",
      "NP112317\n",
      "Non-RawBrainVision raw using branvision markers\n",
      "Used Annotations descriptions: ['New Segment/', 'Stimulus/S  1', 'Stimulus/S  2', 'Stimulus/S  3', 'Stimulus/S 11', 'Stimulus/S 12', 'Stimulus/S 13']\n",
      "NP112318\n",
      "Non-RawBrainVision raw using branvision markers\n",
      "Used Annotations descriptions: ['New Segment/', 'Stimulus/S  1', 'Stimulus/S  2', 'Stimulus/S  3', 'Stimulus/S 11', 'Stimulus/S 12', 'Stimulus/S 13']\n",
      "NP112319\n",
      "Non-RawBrainVision raw using branvision markers\n",
      "Used Annotations descriptions: ['New Segment/', 'Stimulus/S  1', 'Stimulus/S  2', 'Stimulus/S  3', 'Stimulus/S 11', 'Stimulus/S 12', 'Stimulus/S 13']\n",
      "NP112320\n",
      "Non-RawBrainVision raw using branvision markers\n",
      "Used Annotations descriptions: ['New Segment/', 'Stimulus/S  1', 'Stimulus/S  2', 'Stimulus/S  3', 'Stimulus/S 11', 'Stimulus/S 12', 'Stimulus/S 13']\n",
      "NP112321\n",
      "Non-RawBrainVision raw using branvision markers\n",
      "Used Annotations descriptions: ['New Segment/', 'Stimulus/S  1', 'Stimulus/S  2', 'Stimulus/S  3', 'Stimulus/S 11', 'Stimulus/S 12', 'Stimulus/S 13']\n",
      "NP112322\n",
      "Non-RawBrainVision raw using branvision markers\n",
      "Used Annotations descriptions: ['New Segment/', 'Stimulus/S  1', 'Stimulus/S  2', 'Stimulus/S  3', 'Stimulus/S 11', 'Stimulus/S 12', 'Stimulus/S 13']\n",
      "NP122201_2\n",
      "Non-RawBrainVision raw using branvision markers\n",
      "Used Annotations descriptions: ['New Segment/', 'Stimulus/S  1', 'Stimulus/S  2', 'Stimulus/S  3', 'Stimulus/S 11', 'Stimulus/S 12', 'Stimulus/S 13']\n",
      "NP122202_2\n",
      "Non-RawBrainVision raw using branvision markers\n",
      "Used Annotations descriptions: ['New Segment/', 'Stimulus/S  1', 'Stimulus/S  2', 'Stimulus/S  3', 'Stimulus/S 11', 'Stimulus/S 12', 'Stimulus/S 13']\n",
      "NP122301\n",
      "Non-RawBrainVision raw using branvision markers\n",
      "Used Annotations descriptions: ['New Segment/', 'Stimulus/S  1', 'Stimulus/S  2', 'Stimulus/S  3', 'Stimulus/S 11', 'Stimulus/S 12', 'Stimulus/S 13']\n",
      "NP122302\n",
      "Non-RawBrainVision raw using branvision markers\n",
      "Used Annotations descriptions: ['New Segment/', 'Stimulus/S  1', 'Stimulus/S  2', 'Stimulus/S  3', 'Stimulus/S 11', 'Stimulus/S 12', 'Stimulus/S 13']\n",
      "NP122303\n",
      "Non-RawBrainVision raw using branvision markers\n",
      "Used Annotations descriptions: ['New Segment/', 'Stimulus/S  1', 'Stimulus/S  2', 'Stimulus/S  3', 'Stimulus/S 11', 'Stimulus/S 12', 'Stimulus/S 13']\n"
     ]
    }
   ],
   "source": [
    "Evlist = []\n",
    "for i in range (0, len(EEG)):\n",
    "    print(ID[i])\n",
    "    events=mne.events_from_annotations(EEG[i]) \n",
    "    Evlist.append(events)"
   ]
  },
  {
   "cell_type": "code",
   "execution_count": 25,
   "id": "46264939",
   "metadata": {},
   "outputs": [],
   "source": [
    "for i in range (0, len(EEG)):\n",
    "    if len(Evlist[i][0])!=7:\n",
    "        print(ID[i])"
   ]
  },
  {
   "cell_type": "code",
   "execution_count": 41,
   "id": "562c0936",
   "metadata": {},
   "outputs": [
    {
     "name": "stderr",
     "output_type": "stream",
     "text": [
      "Traceback (most recent call last):\n",
      "  File \"C:\\Users\\dasha\\anaconda3\\Lib\\site-packages\\matplotlib\\cbook.py\", line 298, in process\n",
      "    func(*args, **kwargs)\n",
      "  File \"C:\\Users\\dasha\\anaconda3\\Lib\\site-packages\\mne\\viz\\_mpl_figure.py\", line 729, in _buttonpress\n",
      "    self._show_vline(event.xdata)  # butterfly / not on data trace\n",
      "    ^^^^^^^^^^^^^^^^^^^^^^^^^^^^^\n",
      "  File \"C:\\Users\\dasha\\anaconda3\\Lib\\site-packages\\mne\\viz\\_mpl_figure.py\", line 1955, in _show_vline\n",
      "    self.mne.vline.set_xdata(xdata)\n",
      "  File \"C:\\Users\\dasha\\anaconda3\\Lib\\site-packages\\matplotlib\\lines.py\", line 1289, in set_xdata\n",
      "    raise RuntimeError('x must be a sequence')\n",
      "RuntimeError: x must be a sequence\n"
     ]
    },
    {
     "name": "stdout",
     "output_type": "stream",
     "text": [
      "Channels marked as bad:\n",
      "['T7', 'FT10', 'T8']\n",
      "Channels marked as bad:\n",
      "['T8']\n",
      "Channels marked as bad:\n",
      "['FC6']\n",
      "Channels marked as bad:\n",
      "none\n",
      "Channels marked as bad:\n",
      "['T8', 'T7']\n",
      "Channels marked as bad:\n",
      "['T7', 'T8']\n",
      "Channels marked as bad:\n",
      "['T8', 'T7']\n",
      "Channels marked as bad:\n",
      "['O2', 'O1']\n",
      "Channels marked as bad:\n",
      "['T7', 'T8']\n",
      "Channels marked as bad:\n",
      "['T8']\n"
     ]
    },
    {
     "name": "stderr",
     "output_type": "stream",
     "text": [
      "Traceback (most recent call last):\n",
      "  File \"C:\\Users\\dasha\\anaconda3\\Lib\\site-packages\\matplotlib\\cbook.py\", line 298, in process\n",
      "    func(*args, **kwargs)\n",
      "  File \"C:\\Users\\dasha\\anaconda3\\Lib\\site-packages\\mne\\viz\\_mpl_figure.py\", line 729, in _buttonpress\n",
      "    self._show_vline(event.xdata)  # butterfly / not on data trace\n",
      "    ^^^^^^^^^^^^^^^^^^^^^^^^^^^^^\n",
      "  File \"C:\\Users\\dasha\\anaconda3\\Lib\\site-packages\\mne\\viz\\_mpl_figure.py\", line 1955, in _show_vline\n",
      "    self.mne.vline.set_xdata(xdata)\n",
      "  File \"C:\\Users\\dasha\\anaconda3\\Lib\\site-packages\\matplotlib\\lines.py\", line 1289, in set_xdata\n",
      "    raise RuntimeError('x must be a sequence')\n",
      "RuntimeError: x must be a sequence\n"
     ]
    },
    {
     "name": "stdout",
     "output_type": "stream",
     "text": [
      "Channels marked as bad:\n",
      "['FT10', 'T7']\n",
      "Channels marked as bad:\n",
      "['T7']\n",
      "Channels marked as bad:\n",
      "['P8', 'T8', 'T7']\n",
      "Channels marked as bad:\n",
      "['T7']\n"
     ]
    }
   ],
   "source": [
    "for i in range (45,len(EEG)):\n",
    "    EEG[i].plot(n_channels=len(EEG[i].ch_names))"
   ]
  },
  {
   "cell_type": "code",
   "execution_count": null,
   "id": "4e0b0b12",
   "metadata": {},
   "outputs": [],
   "source": [
    "bc=dict()\n",
    "for i in range (len(EEG)):\n",
    "    bc[ID[i]]=', '.join(EEG[i].info['bads'])\n",
    "bc    "
   ]
  },
  {
   "cell_type": "code",
   "execution_count": 55,
   "id": "dfd07f0b",
   "metadata": {},
   "outputs": [
    {
     "data": {
      "text/html": [
       "<div>\n",
       "<style scoped>\n",
       "    .dataframe tbody tr th:only-of-type {\n",
       "        vertical-align: middle;\n",
       "    }\n",
       "\n",
       "    .dataframe tbody tr th {\n",
       "        vertical-align: top;\n",
       "    }\n",
       "\n",
       "    .dataframe thead th {\n",
       "        text-align: right;\n",
       "    }\n",
       "</style>\n",
       "<table border=\"1\" class=\"dataframe\">\n",
       "  <thead>\n",
       "    <tr style=\"text-align: right;\">\n",
       "      <th></th>\n",
       "      <th>BC</th>\n",
       "    </tr>\n",
       "  </thead>\n",
       "  <tbody>\n",
       "    <tr>\n",
       "      <th>NP022301_2</th>\n",
       "      <td></td>\n",
       "    </tr>\n",
       "    <tr>\n",
       "      <th>NP022303_2</th>\n",
       "      <td>T8, T7, P8</td>\n",
       "    </tr>\n",
       "    <tr>\n",
       "      <th>NP022307_2</th>\n",
       "      <td>T7, T8</td>\n",
       "    </tr>\n",
       "    <tr>\n",
       "      <th>NP022309_2</th>\n",
       "      <td></td>\n",
       "    </tr>\n",
       "    <tr>\n",
       "      <th>NP032401</th>\n",
       "      <td>Cz</td>\n",
       "    </tr>\n",
       "    <tr>\n",
       "      <th>NP032402</th>\n",
       "      <td>T7</td>\n",
       "    </tr>\n",
       "    <tr>\n",
       "      <th>NP032403</th>\n",
       "      <td>F8, T8</td>\n",
       "    </tr>\n",
       "    <tr>\n",
       "      <th>NP042311_2</th>\n",
       "      <td>T7</td>\n",
       "    </tr>\n",
       "    <tr>\n",
       "      <th>NP042313_2</th>\n",
       "      <td></td>\n",
       "    </tr>\n",
       "    <tr>\n",
       "      <th>NP042318_2</th>\n",
       "      <td></td>\n",
       "    </tr>\n",
       "    <tr>\n",
       "      <th>NP052401</th>\n",
       "      <td>T7, T8</td>\n",
       "    </tr>\n",
       "    <tr>\n",
       "      <th>NP052402</th>\n",
       "      <td>T7, T8</td>\n",
       "    </tr>\n",
       "    <tr>\n",
       "      <th>NP052403</th>\n",
       "      <td></td>\n",
       "    </tr>\n",
       "    <tr>\n",
       "      <th>NP062401</th>\n",
       "      <td>T7, FT10</td>\n",
       "    </tr>\n",
       "    <tr>\n",
       "      <th>NP102201_2</th>\n",
       "      <td>T7</td>\n",
       "    </tr>\n",
       "    <tr>\n",
       "      <th>NP102302</th>\n",
       "      <td>Fp1, Fp2</td>\n",
       "    </tr>\n",
       "    <tr>\n",
       "      <th>NP102308</th>\n",
       "      <td>P7</td>\n",
       "    </tr>\n",
       "    <tr>\n",
       "      <th>NP102310</th>\n",
       "      <td></td>\n",
       "    </tr>\n",
       "    <tr>\n",
       "      <th>NP102313</th>\n",
       "      <td>T8</td>\n",
       "    </tr>\n",
       "    <tr>\n",
       "      <th>NP102314</th>\n",
       "      <td>FC1, T7</td>\n",
       "    </tr>\n",
       "    <tr>\n",
       "      <th>NP102315</th>\n",
       "      <td></td>\n",
       "    </tr>\n",
       "    <tr>\n",
       "      <th>NP112201_2</th>\n",
       "      <td>T7</td>\n",
       "    </tr>\n",
       "    <tr>\n",
       "      <th>NP112206_2</th>\n",
       "      <td>T7, Fp2</td>\n",
       "    </tr>\n",
       "    <tr>\n",
       "      <th>NP112211_2</th>\n",
       "      <td>T8</td>\n",
       "    </tr>\n",
       "    <tr>\n",
       "      <th>NP112212_2</th>\n",
       "      <td>T7</td>\n",
       "    </tr>\n",
       "    <tr>\n",
       "      <th>NP112213_2</th>\n",
       "      <td></td>\n",
       "    </tr>\n",
       "    <tr>\n",
       "      <th>NP112214_2</th>\n",
       "      <td>Cz, T7</td>\n",
       "    </tr>\n",
       "    <tr>\n",
       "      <th>NP112215_2</th>\n",
       "      <td>T8, T7</td>\n",
       "    </tr>\n",
       "    <tr>\n",
       "      <th>NP112218_2</th>\n",
       "      <td>T7, O1</td>\n",
       "    </tr>\n",
       "    <tr>\n",
       "      <th>NP112219_2</th>\n",
       "      <td>T8</td>\n",
       "    </tr>\n",
       "    <tr>\n",
       "      <th>NP112221_2</th>\n",
       "      <td></td>\n",
       "    </tr>\n",
       "    <tr>\n",
       "      <th>NP112223_2</th>\n",
       "      <td>FC2, T7, Fp1, Fp2</td>\n",
       "    </tr>\n",
       "    <tr>\n",
       "      <th>NP112225_2</th>\n",
       "      <td>FT9, T7</td>\n",
       "    </tr>\n",
       "    <tr>\n",
       "      <th>NP112226_2</th>\n",
       "      <td>T7, T8</td>\n",
       "    </tr>\n",
       "    <tr>\n",
       "      <th>NP112229_2</th>\n",
       "      <td>T7</td>\n",
       "    </tr>\n",
       "    <tr>\n",
       "      <th>NP112301</th>\n",
       "      <td>T7</td>\n",
       "    </tr>\n",
       "    <tr>\n",
       "      <th>NP112302</th>\n",
       "      <td>T7</td>\n",
       "    </tr>\n",
       "    <tr>\n",
       "      <th>NP112303</th>\n",
       "      <td>T7, FC6, O1</td>\n",
       "    </tr>\n",
       "    <tr>\n",
       "      <th>NP112304</th>\n",
       "      <td>P3, Cz, CP1, Fz</td>\n",
       "    </tr>\n",
       "    <tr>\n",
       "      <th>NP112307</th>\n",
       "      <td>FC5, F7, FT9</td>\n",
       "    </tr>\n",
       "    <tr>\n",
       "      <th>NP112308</th>\n",
       "      <td>Fp1</td>\n",
       "    </tr>\n",
       "    <tr>\n",
       "      <th>NP112309</th>\n",
       "      <td>T8, TP9</td>\n",
       "    </tr>\n",
       "    <tr>\n",
       "      <th>NP112310</th>\n",
       "      <td>TP9, T8</td>\n",
       "    </tr>\n",
       "    <tr>\n",
       "      <th>NP112311</th>\n",
       "      <td>T8</td>\n",
       "    </tr>\n",
       "    <tr>\n",
       "      <th>NP112313</th>\n",
       "      <td></td>\n",
       "    </tr>\n",
       "    <tr>\n",
       "      <th>NP112314</th>\n",
       "      <td>T7</td>\n",
       "    </tr>\n",
       "    <tr>\n",
       "      <th>NP112315</th>\n",
       "      <td>P8, T8, T7</td>\n",
       "    </tr>\n",
       "    <tr>\n",
       "      <th>NP112316</th>\n",
       "      <td>T7</td>\n",
       "    </tr>\n",
       "    <tr>\n",
       "      <th>NP112317</th>\n",
       "      <td>FT10, T7</td>\n",
       "    </tr>\n",
       "    <tr>\n",
       "      <th>NP112318</th>\n",
       "      <td>T8</td>\n",
       "    </tr>\n",
       "    <tr>\n",
       "      <th>NP112319</th>\n",
       "      <td>T7, T8</td>\n",
       "    </tr>\n",
       "    <tr>\n",
       "      <th>NP112320</th>\n",
       "      <td>O2, O1</td>\n",
       "    </tr>\n",
       "    <tr>\n",
       "      <th>NP112321</th>\n",
       "      <td>T8, T7</td>\n",
       "    </tr>\n",
       "    <tr>\n",
       "      <th>NP112322</th>\n",
       "      <td>T7, T8</td>\n",
       "    </tr>\n",
       "    <tr>\n",
       "      <th>NP122201_2</th>\n",
       "      <td>T8, T7</td>\n",
       "    </tr>\n",
       "    <tr>\n",
       "      <th>NP122202_2</th>\n",
       "      <td></td>\n",
       "    </tr>\n",
       "    <tr>\n",
       "      <th>NP122301</th>\n",
       "      <td>FC6</td>\n",
       "    </tr>\n",
       "    <tr>\n",
       "      <th>NP122302</th>\n",
       "      <td>T8</td>\n",
       "    </tr>\n",
       "    <tr>\n",
       "      <th>NP122303</th>\n",
       "      <td>T7, FT10, T8</td>\n",
       "    </tr>\n",
       "  </tbody>\n",
       "</table>\n",
       "</div>"
      ],
      "text/plain": [
       "                           BC\n",
       "NP022301_2                   \n",
       "NP022303_2         T8, T7, P8\n",
       "NP022307_2             T7, T8\n",
       "NP022309_2                   \n",
       "NP032401                   Cz\n",
       "NP032402                   T7\n",
       "NP032403               F8, T8\n",
       "NP042311_2                 T7\n",
       "NP042313_2                   \n",
       "NP042318_2                   \n",
       "NP052401               T7, T8\n",
       "NP052402               T7, T8\n",
       "NP052403                     \n",
       "NP062401             T7, FT10\n",
       "NP102201_2                 T7\n",
       "NP102302             Fp1, Fp2\n",
       "NP102308                   P7\n",
       "NP102310                     \n",
       "NP102313                   T8\n",
       "NP102314              FC1, T7\n",
       "NP102315                     \n",
       "NP112201_2                 T7\n",
       "NP112206_2            T7, Fp2\n",
       "NP112211_2                 T8\n",
       "NP112212_2                 T7\n",
       "NP112213_2                   \n",
       "NP112214_2             Cz, T7\n",
       "NP112215_2             T8, T7\n",
       "NP112218_2             T7, O1\n",
       "NP112219_2                 T8\n",
       "NP112221_2                   \n",
       "NP112223_2  FC2, T7, Fp1, Fp2\n",
       "NP112225_2            FT9, T7\n",
       "NP112226_2             T7, T8\n",
       "NP112229_2                 T7\n",
       "NP112301                   T7\n",
       "NP112302                   T7\n",
       "NP112303          T7, FC6, O1\n",
       "NP112304      P3, Cz, CP1, Fz\n",
       "NP112307         FC5, F7, FT9\n",
       "NP112308                  Fp1\n",
       "NP112309              T8, TP9\n",
       "NP112310              TP9, T8\n",
       "NP112311                   T8\n",
       "NP112313                     \n",
       "NP112314                   T7\n",
       "NP112315           P8, T8, T7\n",
       "NP112316                   T7\n",
       "NP112317             FT10, T7\n",
       "NP112318                   T8\n",
       "NP112319               T7, T8\n",
       "NP112320               O2, O1\n",
       "NP112321               T8, T7\n",
       "NP112322               T7, T8\n",
       "NP122201_2             T8, T7\n",
       "NP122202_2                   \n",
       "NP122301                  FC6\n",
       "NP122302                   T8\n",
       "NP122303         T7, FT10, T8"
      ]
     },
     "execution_count": 55,
     "metadata": {},
     "output_type": "execute_result"
    }
   ],
   "source": [
    "df_bc=pd.DataFrame.from_dict(bc, orient='index',  columns=['BC'])\n",
    "df_bc"
   ]
  },
  {
   "cell_type": "code",
   "execution_count": 56,
   "id": "f4c2840c",
   "metadata": {},
   "outputs": [],
   "source": [
    "df_bc.to_csv('Pre_pro_data.csv')"
   ]
  },
  {
   "cell_type": "code",
   "execution_count": 57,
   "id": "945b016d",
   "metadata": {
    "scrolled": true
   },
   "outputs": [
    {
     "name": "stdout",
     "output_type": "stream",
     "text": [
      "Interpolating bad channels\n",
      "    Automatic origin fit: head of radius 95.0 mm\n",
      "    Computing dot products for 28 EEG channels...\n",
      "    Computing cross products for 28 → 31 EEG channels...\n",
      "    Preparing the mapping matrix...\n",
      "    Truncating at 28/28 components and regularizing with α=1.0e-01\n",
      "Interpolating bad channels\n",
      "    Automatic origin fit: head of radius 95.0 mm\n",
      "    Computing dot products for 29 EEG channels...\n",
      "    Computing cross products for 29 → 31 EEG channels...\n"
     ]
    },
    {
     "name": "stderr",
     "output_type": "stream",
     "text": [
      "C:\\Users\\dasha\\AppData\\Local\\Temp\\ipykernel_9316\\566404288.py:2: RuntimeWarning: No bad channels to interpolate. Doing nothing...\n",
      "  EEG[i]= EEG[i].interpolate_bads(reset_bads=True, method=dict(eeg='MNE'), verbose=True)\n",
      "[Parallel(n_jobs=1)]: Using backend SequentialBackend with 1 concurrent workers.\n",
      "[Parallel(n_jobs=1)]: Done   1 out of   1 | elapsed:    0.0s remaining:    0.0s\n",
      "[Parallel(n_jobs=1)]: Done   1 out of   1 | elapsed:    0.0s finished\n",
      "[Parallel(n_jobs=1)]: Using backend SequentialBackend with 1 concurrent workers.\n",
      "[Parallel(n_jobs=1)]: Done   1 out of   1 | elapsed:    0.0s remaining:    0.0s\n",
      "[Parallel(n_jobs=1)]: Done   1 out of   1 | elapsed:    0.0s finished\n"
     ]
    },
    {
     "name": "stdout",
     "output_type": "stream",
     "text": [
      "    Preparing the mapping matrix...\n",
      "    Truncating at 29/29 components and regularizing with α=1.0e-01\n",
      "Interpolating bad channels\n",
      "    Automatic origin fit: head of radius 95.0 mm\n",
      "    Computing dot products for 30 EEG channels...\n",
      "    Computing cross products for 30 → 31 EEG channels...\n",
      "    Preparing the mapping matrix...\n",
      "    Truncating at 30/30 components and regularizing with α=1.0e-01\n",
      "Interpolating bad channels\n",
      "    Automatic origin fit: head of radius 95.0 mm\n",
      "    Computing dot products for 30 EEG channels...\n",
      "    Computing cross products for 30 → 31 EEG channels...\n",
      "    Preparing the mapping matrix...\n",
      "    Truncating at 30/30 components and regularizing with α=1.0e-01\n",
      "Interpolating bad channels\n"
     ]
    },
    {
     "name": "stderr",
     "output_type": "stream",
     "text": [
      "C:\\Users\\dasha\\AppData\\Local\\Temp\\ipykernel_9316\\566404288.py:2: RuntimeWarning: No bad channels to interpolate. Doing nothing...\n",
      "  EEG[i]= EEG[i].interpolate_bads(reset_bads=True, method=dict(eeg='MNE'), verbose=True)\n",
      "[Parallel(n_jobs=1)]: Using backend SequentialBackend with 1 concurrent workers.\n",
      "[Parallel(n_jobs=1)]: Done   1 out of   1 | elapsed:    0.0s remaining:    0.0s\n",
      "[Parallel(n_jobs=1)]: Done   1 out of   1 | elapsed:    0.0s finished\n",
      "[Parallel(n_jobs=1)]: Using backend SequentialBackend with 1 concurrent workers.\n",
      "[Parallel(n_jobs=1)]: Done   1 out of   1 | elapsed:    0.0s remaining:    0.0s\n",
      "[Parallel(n_jobs=1)]: Done   1 out of   1 | elapsed:    0.0s finished\n"
     ]
    },
    {
     "name": "stdout",
     "output_type": "stream",
     "text": [
      "    Automatic origin fit: head of radius 95.0 mm\n",
      "    Computing dot products for 29 EEG channels...\n",
      "    Computing cross products for 29 → 31 EEG channels...\n",
      "    Preparing the mapping matrix...\n",
      "    Truncating at 29/29 components and regularizing with α=1.0e-01\n",
      "Interpolating bad channels\n",
      "    Automatic origin fit: head of radius 95.0 mm\n",
      "    Computing dot products for 30 EEG channels...\n",
      "    Computing cross products for 30 → 31 EEG channels...\n",
      "    Preparing the mapping matrix...\n",
      "    Truncating at 30/30 components and regularizing with α=1.0e-01\n",
      "Interpolating bad channels\n",
      "    Automatic origin fit: head of radius 95.0 mm\n"
     ]
    },
    {
     "name": "stderr",
     "output_type": "stream",
     "text": [
      "[Parallel(n_jobs=1)]: Using backend SequentialBackend with 1 concurrent workers.\n",
      "[Parallel(n_jobs=1)]: Done   1 out of   1 | elapsed:    0.0s remaining:    0.0s\n",
      "[Parallel(n_jobs=1)]: Done   1 out of   1 | elapsed:    0.0s finished\n",
      "[Parallel(n_jobs=1)]: Using backend SequentialBackend with 1 concurrent workers.\n",
      "[Parallel(n_jobs=1)]: Done   1 out of   1 | elapsed:    0.0s remaining:    0.0s\n",
      "[Parallel(n_jobs=1)]: Done   1 out of   1 | elapsed:    0.0s finished\n",
      "C:\\Users\\dasha\\AppData\\Local\\Temp\\ipykernel_9316\\566404288.py:2: RuntimeWarning: No bad channels to interpolate. Doing nothing...\n",
      "  EEG[i]= EEG[i].interpolate_bads(reset_bads=True, method=dict(eeg='MNE'), verbose=True)\n",
      "C:\\Users\\dasha\\AppData\\Local\\Temp\\ipykernel_9316\\566404288.py:2: RuntimeWarning: No bad channels to interpolate. Doing nothing...\n",
      "  EEG[i]= EEG[i].interpolate_bads(reset_bads=True, method=dict(eeg='MNE'), verbose=True)\n"
     ]
    },
    {
     "name": "stdout",
     "output_type": "stream",
     "text": [
      "    Computing dot products for 29 EEG channels...\n",
      "    Computing cross products for 29 → 31 EEG channels...\n",
      "    Preparing the mapping matrix...\n",
      "    Truncating at 29/29 components and regularizing with α=1.0e-01\n",
      "Interpolating bad channels\n",
      "    Automatic origin fit: head of radius 95.0 mm\n",
      "    Computing dot products for 29 EEG channels...\n",
      "    Computing cross products for 29 → 31 EEG channels...\n",
      "    Preparing the mapping matrix...\n",
      "    Truncating at 29/29 components and regularizing with α=1.0e-01\n",
      "Interpolating bad channels\n",
      "    Automatic origin fit: head of radius 95.0 mm\n",
      "    Computing dot products for 29 EEG channels...\n"
     ]
    },
    {
     "name": "stderr",
     "output_type": "stream",
     "text": [
      "[Parallel(n_jobs=1)]: Using backend SequentialBackend with 1 concurrent workers.\n",
      "[Parallel(n_jobs=1)]: Done   1 out of   1 | elapsed:    0.0s remaining:    0.0s\n",
      "[Parallel(n_jobs=1)]: Done   1 out of   1 | elapsed:    0.0s finished\n",
      "[Parallel(n_jobs=1)]: Using backend SequentialBackend with 1 concurrent workers.\n",
      "[Parallel(n_jobs=1)]: Done   1 out of   1 | elapsed:    0.0s remaining:    0.0s\n",
      "[Parallel(n_jobs=1)]: Done   1 out of   1 | elapsed:    0.0s finished\n",
      "C:\\Users\\dasha\\AppData\\Local\\Temp\\ipykernel_9316\\566404288.py:2: RuntimeWarning: No bad channels to interpolate. Doing nothing...\n",
      "  EEG[i]= EEG[i].interpolate_bads(reset_bads=True, method=dict(eeg='MNE'), verbose=True)\n"
     ]
    },
    {
     "name": "stdout",
     "output_type": "stream",
     "text": [
      "    Computing cross products for 29 → 31 EEG channels...\n",
      "    Preparing the mapping matrix...\n",
      "    Truncating at 29/29 components and regularizing with α=1.0e-01\n",
      "Interpolating bad channels\n",
      "    Automatic origin fit: head of radius 95.0 mm\n",
      "    Computing dot products for 30 EEG channels...\n",
      "    Computing cross products for 30 → 31 EEG channels...\n",
      "    Preparing the mapping matrix...\n",
      "    Truncating at 30/30 components and regularizing with α=1.0e-01\n"
     ]
    },
    {
     "name": "stderr",
     "output_type": "stream",
     "text": [
      "[Parallel(n_jobs=1)]: Using backend SequentialBackend with 1 concurrent workers.\n",
      "[Parallel(n_jobs=1)]: Done   1 out of   1 | elapsed:    0.0s remaining:    0.0s\n",
      "[Parallel(n_jobs=1)]: Done   1 out of   1 | elapsed:    0.0s finished\n",
      "[Parallel(n_jobs=1)]: Using backend SequentialBackend with 1 concurrent workers.\n",
      "[Parallel(n_jobs=1)]: Done   1 out of   1 | elapsed:    0.0s remaining:    0.0s\n",
      "[Parallel(n_jobs=1)]: Done   1 out of   1 | elapsed:    0.0s finished\n"
     ]
    },
    {
     "name": "stdout",
     "output_type": "stream",
     "text": [
      "Interpolating bad channels\n",
      "    Automatic origin fit: head of radius 95.0 mm\n",
      "    Computing dot products for 29 EEG channels...\n",
      "    Computing cross products for 29 → 31 EEG channels...\n",
      "    Preparing the mapping matrix...\n",
      "    Truncating at 29/29 components and regularizing with α=1.0e-01\n",
      "Interpolating bad channels\n",
      "    Automatic origin fit: head of radius 95.0 mm\n",
      "    Computing dot products for 30 EEG channels...\n",
      "    Computing cross products for 30 → 31 EEG channels...\n",
      "    Preparing the mapping matrix...\n",
      "    Truncating at 30/30 components and regularizing with α=1.0e-01\n"
     ]
    },
    {
     "name": "stderr",
     "output_type": "stream",
     "text": [
      "[Parallel(n_jobs=1)]: Using backend SequentialBackend with 1 concurrent workers.\n",
      "[Parallel(n_jobs=1)]: Done   1 out of   1 | elapsed:    0.0s remaining:    0.0s\n",
      "[Parallel(n_jobs=1)]: Done   1 out of   1 | elapsed:    0.0s finished\n",
      "[Parallel(n_jobs=1)]: Using backend SequentialBackend with 1 concurrent workers.\n",
      "[Parallel(n_jobs=1)]: Done   1 out of   1 | elapsed:    0.0s remaining:    0.0s\n",
      "[Parallel(n_jobs=1)]: Done   1 out of   1 | elapsed:    0.0s finished\n"
     ]
    },
    {
     "name": "stdout",
     "output_type": "stream",
     "text": [
      "Interpolating bad channels\n",
      "    Automatic origin fit: head of radius 95.0 mm\n",
      "    Computing dot products for 30 EEG channels...\n",
      "    Computing cross products for 30 → 31 EEG channels...\n",
      "    Preparing the mapping matrix...\n",
      "    Truncating at 30/30 components and regularizing with α=1.0e-01\n",
      "Interpolating bad channels\n",
      "    Automatic origin fit: head of radius 95.0 mm\n",
      "    Computing dot products for 29 EEG channels...\n",
      "    Computing cross products for 29 → 31 EEG channels...\n",
      "    Preparing the mapping matrix...\n",
      "    Truncating at 29/29 components and regularizing with α=1.0e-01\n",
      "Interpolating bad channels\n"
     ]
    },
    {
     "name": "stderr",
     "output_type": "stream",
     "text": [
      "C:\\Users\\dasha\\AppData\\Local\\Temp\\ipykernel_9316\\566404288.py:2: RuntimeWarning: No bad channels to interpolate. Doing nothing...\n",
      "  EEG[i]= EEG[i].interpolate_bads(reset_bads=True, method=dict(eeg='MNE'), verbose=True)\n",
      "[Parallel(n_jobs=1)]: Using backend SequentialBackend with 1 concurrent workers.\n",
      "[Parallel(n_jobs=1)]: Done   1 out of   1 | elapsed:    0.0s remaining:    0.0s\n",
      "[Parallel(n_jobs=1)]: Done   1 out of   1 | elapsed:    0.0s finished\n",
      "[Parallel(n_jobs=1)]: Using backend SequentialBackend with 1 concurrent workers.\n",
      "[Parallel(n_jobs=1)]: Done   1 out of   1 | elapsed:    0.0s remaining:    0.0s\n",
      "[Parallel(n_jobs=1)]: Done   1 out of   1 | elapsed:    0.0s finished\n",
      "C:\\Users\\dasha\\AppData\\Local\\Temp\\ipykernel_9316\\566404288.py:2: RuntimeWarning: No bad channels to interpolate. Doing nothing...\n",
      "  EEG[i]= EEG[i].interpolate_bads(reset_bads=True, method=dict(eeg='MNE'), verbose=True)\n"
     ]
    },
    {
     "name": "stdout",
     "output_type": "stream",
     "text": [
      "    Automatic origin fit: head of radius 95.0 mm\n",
      "    Computing dot products for 30 EEG channels...\n",
      "    Computing cross products for 30 → 31 EEG channels...\n",
      "    Preparing the mapping matrix...\n",
      "    Truncating at 30/30 components and regularizing with α=1.0e-01\n",
      "Interpolating bad channels\n",
      "    Automatic origin fit: head of radius 95.0 mm\n",
      "    Computing dot products for 29 EEG channels...\n",
      "    Computing cross products for 29 → 31 EEG channels...\n",
      "    Preparing the mapping matrix...\n",
      "    Truncating at 29/29 components and regularizing with α=1.0e-01\n",
      "Interpolating bad channels\n",
      "    Automatic origin fit: head of radius 95.0 mm\n",
      "    Computing dot products for 30 EEG channels...\n",
      "    Computing cross products for 30 → 31 EEG channels...\n",
      "    Preparing the mapping matrix...\n"
     ]
    },
    {
     "name": "stderr",
     "output_type": "stream",
     "text": [
      "[Parallel(n_jobs=1)]: Using backend SequentialBackend with 1 concurrent workers.\n",
      "[Parallel(n_jobs=1)]: Done   1 out of   1 | elapsed:    0.0s remaining:    0.0s\n",
      "[Parallel(n_jobs=1)]: Done   1 out of   1 | elapsed:    0.0s finished\n",
      "[Parallel(n_jobs=1)]: Using backend SequentialBackend with 1 concurrent workers.\n",
      "[Parallel(n_jobs=1)]: Done   1 out of   1 | elapsed:    0.0s remaining:    0.0s\n",
      "[Parallel(n_jobs=1)]: Done   1 out of   1 | elapsed:    0.0s finished\n",
      "[Parallel(n_jobs=1)]: Using backend SequentialBackend with 1 concurrent workers.\n",
      "[Parallel(n_jobs=1)]: Done   1 out of   1 | elapsed:    0.0s remaining:    0.0s\n",
      "[Parallel(n_jobs=1)]: Done   1 out of   1 | elapsed:    0.0s finished\n"
     ]
    },
    {
     "name": "stdout",
     "output_type": "stream",
     "text": [
      "    Truncating at 30/30 components and regularizing with α=1.0e-01\n",
      "Interpolating bad channels\n",
      "    Automatic origin fit: head of radius 95.0 mm\n",
      "    Computing dot products for 30 EEG channels...\n",
      "    Computing cross products for 30 → 31 EEG channels...\n",
      "    Preparing the mapping matrix...\n",
      "    Truncating at 30/30 components and regularizing with α=1.0e-01\n",
      "Interpolating bad channels\n",
      "    Automatic origin fit: head of radius 95.0 mm\n",
      "    Computing dot products for 29 EEG channels...\n",
      "    Computing cross products for 29 → 31 EEG channels...\n",
      "    Preparing the mapping matrix...\n",
      "    Truncating at 29/29 components and regularizing with α=1.0e-01\n",
      "Interpolating bad channels\n",
      "    Automatic origin fit: head of radius 95.0 mm\n",
      "    Computing dot products for 29 EEG channels...\n",
      "    Computing cross products for 29 → 31 EEG channels...\n"
     ]
    },
    {
     "name": "stderr",
     "output_type": "stream",
     "text": [
      "[Parallel(n_jobs=1)]: Using backend SequentialBackend with 1 concurrent workers.\n",
      "[Parallel(n_jobs=1)]: Done   1 out of   1 | elapsed:    0.0s remaining:    0.0s\n",
      "[Parallel(n_jobs=1)]: Done   1 out of   1 | elapsed:    0.0s finished\n",
      "C:\\Users\\dasha\\AppData\\Local\\Temp\\ipykernel_9316\\566404288.py:2: RuntimeWarning: No bad channels to interpolate. Doing nothing...\n",
      "  EEG[i]= EEG[i].interpolate_bads(reset_bads=True, method=dict(eeg='MNE'), verbose=True)\n",
      "[Parallel(n_jobs=1)]: Using backend SequentialBackend with 1 concurrent workers.\n",
      "[Parallel(n_jobs=1)]: Done   1 out of   1 | elapsed:    0.0s remaining:    0.0s\n",
      "[Parallel(n_jobs=1)]: Done   1 out of   1 | elapsed:    0.0s finished\n",
      "[Parallel(n_jobs=1)]: Using backend SequentialBackend with 1 concurrent workers.\n",
      "[Parallel(n_jobs=1)]: Done   1 out of   1 | elapsed:    0.0s remaining:    0.0s\n",
      "[Parallel(n_jobs=1)]: Done   1 out of   1 | elapsed:    0.0s finished\n"
     ]
    },
    {
     "name": "stdout",
     "output_type": "stream",
     "text": [
      "    Preparing the mapping matrix...\n",
      "    Truncating at 29/29 components and regularizing with α=1.0e-01\n",
      "Interpolating bad channels\n",
      "    Automatic origin fit: head of radius 95.0 mm\n",
      "    Computing dot products for 29 EEG channels...\n",
      "    Computing cross products for 29 → 31 EEG channels...\n",
      "    Preparing the mapping matrix...\n",
      "    Truncating at 29/29 components and regularizing with α=1.0e-01\n",
      "Interpolating bad channels\n",
      "    Automatic origin fit: head of radius 95.0 mm\n",
      "    Computing dot products for 30 EEG channels...\n",
      "    Computing cross products for 30 → 31 EEG channels...\n",
      "    Preparing the mapping matrix...\n",
      "    Truncating at 30/30 components and regularizing with α=1.0e-01\n",
      "Interpolating bad channels\n",
      "    Automatic origin fit: head of radius 95.0 mm\n",
      "    Computing dot products for 27 EEG channels...\n"
     ]
    },
    {
     "name": "stderr",
     "output_type": "stream",
     "text": [
      "[Parallel(n_jobs=1)]: Using backend SequentialBackend with 1 concurrent workers.\n",
      "[Parallel(n_jobs=1)]: Done   1 out of   1 | elapsed:    0.0s remaining:    0.0s\n",
      "[Parallel(n_jobs=1)]: Done   1 out of   1 | elapsed:    0.0s finished\n",
      "[Parallel(n_jobs=1)]: Using backend SequentialBackend with 1 concurrent workers.\n",
      "[Parallel(n_jobs=1)]: Done   1 out of   1 | elapsed:    0.0s remaining:    0.0s\n",
      "[Parallel(n_jobs=1)]: Done   1 out of   1 | elapsed:    0.0s finished\n",
      "C:\\Users\\dasha\\AppData\\Local\\Temp\\ipykernel_9316\\566404288.py:2: RuntimeWarning: No bad channels to interpolate. Doing nothing...\n",
      "  EEG[i]= EEG[i].interpolate_bads(reset_bads=True, method=dict(eeg='MNE'), verbose=True)\n"
     ]
    },
    {
     "name": "stdout",
     "output_type": "stream",
     "text": [
      "    Computing cross products for 27 → 31 EEG channels...\n",
      "    Preparing the mapping matrix...\n",
      "    Truncating at 27/27 components and regularizing with α=1.0e-01\n",
      "Interpolating bad channels\n",
      "    Automatic origin fit: head of radius 95.0 mm\n",
      "    Computing dot products for 29 EEG channels...\n",
      "    Computing cross products for 29 → 31 EEG channels...\n",
      "    Preparing the mapping matrix...\n",
      "    Truncating at 29/29 components and regularizing with α=1.0e-01\n",
      "Interpolating bad channels\n",
      "    Automatic origin fit: head of radius 95.0 mm\n",
      "    Computing dot products for 29 EEG channels...\n"
     ]
    },
    {
     "name": "stderr",
     "output_type": "stream",
     "text": [
      "[Parallel(n_jobs=1)]: Using backend SequentialBackend with 1 concurrent workers.\n",
      "[Parallel(n_jobs=1)]: Done   1 out of   1 | elapsed:    0.0s remaining:    0.0s\n",
      "[Parallel(n_jobs=1)]: Done   1 out of   1 | elapsed:    0.0s finished\n",
      "[Parallel(n_jobs=1)]: Using backend SequentialBackend with 1 concurrent workers.\n",
      "[Parallel(n_jobs=1)]: Done   1 out of   1 | elapsed:    0.0s remaining:    0.0s\n",
      "[Parallel(n_jobs=1)]: Done   1 out of   1 | elapsed:    0.0s finished\n"
     ]
    },
    {
     "name": "stdout",
     "output_type": "stream",
     "text": [
      "    Computing cross products for 29 → 31 EEG channels...\n",
      "    Preparing the mapping matrix...\n",
      "    Truncating at 29/29 components and regularizing with α=1.0e-01\n",
      "Interpolating bad channels\n",
      "    Automatic origin fit: head of radius 95.0 mm\n",
      "    Computing dot products for 30 EEG channels...\n",
      "    Computing cross products for 30 → 31 EEG channels...\n",
      "    Preparing the mapping matrix...\n",
      "    Truncating at 30/30 components and regularizing with α=1.0e-01\n",
      "Interpolating bad channels\n",
      "    Automatic origin fit: head of radius 95.0 mm\n",
      "    Computing dot products for 30 EEG channels...\n",
      "    Computing cross products for 30 → 31 EEG channels...\n"
     ]
    },
    {
     "name": "stderr",
     "output_type": "stream",
     "text": [
      "[Parallel(n_jobs=1)]: Using backend SequentialBackend with 1 concurrent workers.\n",
      "[Parallel(n_jobs=1)]: Done   1 out of   1 | elapsed:    0.0s remaining:    0.0s\n",
      "[Parallel(n_jobs=1)]: Done   1 out of   1 | elapsed:    0.0s finished\n",
      "[Parallel(n_jobs=1)]: Using backend SequentialBackend with 1 concurrent workers.\n",
      "[Parallel(n_jobs=1)]: Done   1 out of   1 | elapsed:    0.0s remaining:    0.0s\n",
      "[Parallel(n_jobs=1)]: Done   1 out of   1 | elapsed:    0.0s finished\n",
      "[Parallel(n_jobs=1)]: Using backend SequentialBackend with 1 concurrent workers.\n",
      "[Parallel(n_jobs=1)]: Done   1 out of   1 | elapsed:    0.0s remaining:    0.0s\n",
      "[Parallel(n_jobs=1)]: Done   1 out of   1 | elapsed:    0.0s finished\n"
     ]
    },
    {
     "name": "stdout",
     "output_type": "stream",
     "text": [
      "    Preparing the mapping matrix...\n",
      "    Truncating at 30/30 components and regularizing with α=1.0e-01\n",
      "Interpolating bad channels\n",
      "    Automatic origin fit: head of radius 95.0 mm\n",
      "    Computing dot products for 30 EEG channels...\n",
      "    Computing cross products for 30 → 31 EEG channels...\n",
      "    Preparing the mapping matrix...\n",
      "    Truncating at 30/30 components and regularizing with α=1.0e-01\n",
      "Interpolating bad channels\n",
      "    Automatic origin fit: head of radius 95.0 mm\n",
      "    Computing dot products for 28 EEG channels...\n",
      "    Computing cross products for 28 → 31 EEG channels...\n",
      "    Preparing the mapping matrix...\n",
      "    Truncating at 28/28 components and regularizing with α=1.0e-01\n",
      "Interpolating bad channels\n",
      "    Automatic origin fit: head of radius 95.0 mm\n",
      "    Computing dot products for 27 EEG channels...\n",
      "    Computing cross products for 27 → 31 EEG channels...\n"
     ]
    },
    {
     "name": "stderr",
     "output_type": "stream",
     "text": [
      "[Parallel(n_jobs=1)]: Using backend SequentialBackend with 1 concurrent workers.\n",
      "[Parallel(n_jobs=1)]: Done   1 out of   1 | elapsed:    0.0s remaining:    0.0s\n",
      "[Parallel(n_jobs=1)]: Done   1 out of   1 | elapsed:    0.0s finished\n",
      "[Parallel(n_jobs=1)]: Using backend SequentialBackend with 1 concurrent workers.\n",
      "[Parallel(n_jobs=1)]: Done   1 out of   1 | elapsed:    0.0s remaining:    0.0s\n",
      "[Parallel(n_jobs=1)]: Done   1 out of   1 | elapsed:    0.0s finished\n",
      "[Parallel(n_jobs=1)]: Using backend SequentialBackend with 1 concurrent workers.\n",
      "[Parallel(n_jobs=1)]: Done   1 out of   1 | elapsed:    0.0s remaining:    0.0s\n",
      "[Parallel(n_jobs=1)]: Done   1 out of   1 | elapsed:    0.0s finished\n"
     ]
    },
    {
     "name": "stdout",
     "output_type": "stream",
     "text": [
      "    Preparing the mapping matrix...\n",
      "    Truncating at 27/27 components and regularizing with α=1.0e-01\n",
      "Interpolating bad channels\n",
      "    Automatic origin fit: head of radius 95.0 mm\n",
      "    Computing dot products for 28 EEG channels...\n",
      "    Computing cross products for 28 → 31 EEG channels...\n",
      "    Preparing the mapping matrix...\n",
      "    Truncating at 28/28 components and regularizing with α=1.0e-01\n",
      "Interpolating bad channels\n",
      "    Automatic origin fit: head of radius 95.0 mm\n",
      "    Computing dot products for 30 EEG channels...\n",
      "    Computing cross products for 30 → 31 EEG channels...\n",
      "    Preparing the mapping matrix...\n",
      "    Truncating at 30/30 components and regularizing with α=1.0e-01\n",
      "Interpolating bad channels\n",
      "    Automatic origin fit: head of radius 95.0 mm\n",
      "    Computing dot products for 29 EEG channels...\n",
      "    Computing cross products for 29 → 31 EEG channels...\n",
      "    Preparing the mapping matrix...\n"
     ]
    },
    {
     "name": "stderr",
     "output_type": "stream",
     "text": [
      "[Parallel(n_jobs=1)]: Using backend SequentialBackend with 1 concurrent workers.\n",
      "[Parallel(n_jobs=1)]: Done   1 out of   1 | elapsed:    0.0s remaining:    0.0s\n",
      "[Parallel(n_jobs=1)]: Done   1 out of   1 | elapsed:    0.0s finished\n",
      "[Parallel(n_jobs=1)]: Using backend SequentialBackend with 1 concurrent workers.\n",
      "[Parallel(n_jobs=1)]: Done   1 out of   1 | elapsed:    0.0s remaining:    0.0s\n",
      "[Parallel(n_jobs=1)]: Done   1 out of   1 | elapsed:    0.0s finished\n",
      "[Parallel(n_jobs=1)]: Using backend SequentialBackend with 1 concurrent workers.\n",
      "[Parallel(n_jobs=1)]: Done   1 out of   1 | elapsed:    0.0s remaining:    0.0s\n",
      "[Parallel(n_jobs=1)]: Done   1 out of   1 | elapsed:    0.0s finished\n"
     ]
    },
    {
     "name": "stdout",
     "output_type": "stream",
     "text": [
      "    Truncating at 29/29 components and regularizing with α=1.0e-01\n",
      "Interpolating bad channels\n",
      "    Automatic origin fit: head of radius 95.0 mm\n",
      "    Computing dot products for 29 EEG channels...\n",
      "    Computing cross products for 29 → 31 EEG channels...\n",
      "    Preparing the mapping matrix...\n",
      "    Truncating at 29/29 components and regularizing with α=1.0e-01\n",
      "Interpolating bad channels\n",
      "    Automatic origin fit: head of radius 95.0 mm\n",
      "    Computing dot products for 30 EEG channels...\n",
      "    Computing cross products for 30 → 31 EEG channels...\n",
      "    Preparing the mapping matrix...\n",
      "    Truncating at 30/30 components and regularizing with α=1.0e-01\n",
      "Interpolating bad channels\n",
      "    Automatic origin fit: head of radius 95.0 mm\n",
      "    Computing dot products for 30 EEG channels...\n",
      "    Computing cross products for 30 → 31 EEG channels...\n"
     ]
    },
    {
     "name": "stderr",
     "output_type": "stream",
     "text": [
      "[Parallel(n_jobs=1)]: Using backend SequentialBackend with 1 concurrent workers.\n",
      "[Parallel(n_jobs=1)]: Done   1 out of   1 | elapsed:    0.0s remaining:    0.0s\n",
      "[Parallel(n_jobs=1)]: Done   1 out of   1 | elapsed:    0.0s finished\n",
      "[Parallel(n_jobs=1)]: Using backend SequentialBackend with 1 concurrent workers.\n",
      "[Parallel(n_jobs=1)]: Done   1 out of   1 | elapsed:    0.0s remaining:    0.0s\n",
      "[Parallel(n_jobs=1)]: Done   1 out of   1 | elapsed:    0.0s finished\n",
      "C:\\Users\\dasha\\AppData\\Local\\Temp\\ipykernel_9316\\566404288.py:2: RuntimeWarning: No bad channels to interpolate. Doing nothing...\n",
      "  EEG[i]= EEG[i].interpolate_bads(reset_bads=True, method=dict(eeg='MNE'), verbose=True)\n",
      "[Parallel(n_jobs=1)]: Using backend SequentialBackend with 1 concurrent workers.\n",
      "[Parallel(n_jobs=1)]: Done   1 out of   1 | elapsed:    0.0s remaining:    0.0s\n",
      "[Parallel(n_jobs=1)]: Done   1 out of   1 | elapsed:    0.0s finished\n"
     ]
    },
    {
     "name": "stdout",
     "output_type": "stream",
     "text": [
      "    Preparing the mapping matrix...\n",
      "    Truncating at 30/30 components and regularizing with α=1.0e-01\n",
      "Interpolating bad channels\n",
      "    Automatic origin fit: head of radius 95.0 mm\n",
      "    Computing dot products for 28 EEG channels...\n",
      "    Computing cross products for 28 → 31 EEG channels...\n",
      "    Preparing the mapping matrix...\n",
      "    Truncating at 28/28 components and regularizing with α=1.0e-01\n",
      "Interpolating bad channels\n",
      "    Automatic origin fit: head of radius 95.0 mm\n",
      "    Computing dot products for 30 EEG channels...\n",
      "    Computing cross products for 30 → 31 EEG channels...\n",
      "    Preparing the mapping matrix...\n",
      "    Truncating at 30/30 components and regularizing with α=1.0e-01\n",
      "Interpolating bad channels\n",
      "    Automatic origin fit: head of radius 95.0 mm\n",
      "    Computing dot products for 29 EEG channels...\n",
      "    Computing cross products for 29 → 31 EEG channels...\n"
     ]
    },
    {
     "name": "stderr",
     "output_type": "stream",
     "text": [
      "[Parallel(n_jobs=1)]: Using backend SequentialBackend with 1 concurrent workers.\n",
      "[Parallel(n_jobs=1)]: Done   1 out of   1 | elapsed:    0.0s remaining:    0.0s\n",
      "[Parallel(n_jobs=1)]: Done   1 out of   1 | elapsed:    0.0s finished\n",
      "[Parallel(n_jobs=1)]: Using backend SequentialBackend with 1 concurrent workers.\n",
      "[Parallel(n_jobs=1)]: Done   1 out of   1 | elapsed:    0.0s remaining:    0.0s\n",
      "[Parallel(n_jobs=1)]: Done   1 out of   1 | elapsed:    0.0s finished\n",
      "[Parallel(n_jobs=1)]: Using backend SequentialBackend with 1 concurrent workers.\n",
      "[Parallel(n_jobs=1)]: Done   1 out of   1 | elapsed:    0.0s remaining:    0.0s\n",
      "[Parallel(n_jobs=1)]: Done   1 out of   1 | elapsed:    0.0s finished\n"
     ]
    },
    {
     "name": "stdout",
     "output_type": "stream",
     "text": [
      "    Preparing the mapping matrix...\n",
      "    Truncating at 29/29 components and regularizing with α=1.0e-01\n",
      "Interpolating bad channels\n",
      "    Automatic origin fit: head of radius 95.0 mm\n",
      "    Computing dot products for 30 EEG channels...\n",
      "    Computing cross products for 30 → 31 EEG channels...\n",
      "    Preparing the mapping matrix...\n",
      "    Truncating at 30/30 components and regularizing with α=1.0e-01\n",
      "Interpolating bad channels\n",
      "    Automatic origin fit: head of radius 95.0 mm\n",
      "    Computing dot products for 29 EEG channels...\n",
      "    Computing cross products for 29 → 31 EEG channels...\n",
      "    Preparing the mapping matrix...\n",
      "    Truncating at 29/29 components and regularizing with α=1.0e-01\n",
      "Interpolating bad channels\n",
      "    Automatic origin fit: head of radius 95.0 mm\n",
      "    Computing dot products for 29 EEG channels...\n"
     ]
    },
    {
     "name": "stderr",
     "output_type": "stream",
     "text": [
      "[Parallel(n_jobs=1)]: Using backend SequentialBackend with 1 concurrent workers.\n",
      "[Parallel(n_jobs=1)]: Done   1 out of   1 | elapsed:    0.0s remaining:    0.0s\n",
      "[Parallel(n_jobs=1)]: Done   1 out of   1 | elapsed:    0.0s finished\n",
      "[Parallel(n_jobs=1)]: Using backend SequentialBackend with 1 concurrent workers.\n",
      "[Parallel(n_jobs=1)]: Done   1 out of   1 | elapsed:    0.0s remaining:    0.0s\n",
      "[Parallel(n_jobs=1)]: Done   1 out of   1 | elapsed:    0.0s finished\n"
     ]
    },
    {
     "name": "stdout",
     "output_type": "stream",
     "text": [
      "    Computing cross products for 29 → 31 EEG channels...\n",
      "    Preparing the mapping matrix...\n",
      "    Truncating at 29/29 components and regularizing with α=1.0e-01\n",
      "Interpolating bad channels\n",
      "    Automatic origin fit: head of radius 95.0 mm\n",
      "    Computing dot products for 29 EEG channels...\n",
      "    Computing cross products for 29 → 31 EEG channels...\n",
      "    Preparing the mapping matrix...\n",
      "    Truncating at 29/29 components and regularizing with α=1.0e-01\n",
      "Interpolating bad channels\n",
      "    Automatic origin fit: head of radius 95.0 mm\n",
      "    Computing dot products for 29 EEG channels...\n"
     ]
    },
    {
     "name": "stderr",
     "output_type": "stream",
     "text": [
      "[Parallel(n_jobs=1)]: Using backend SequentialBackend with 1 concurrent workers.\n",
      "[Parallel(n_jobs=1)]: Done   1 out of   1 | elapsed:    0.0s remaining:    0.0s\n",
      "[Parallel(n_jobs=1)]: Done   1 out of   1 | elapsed:    0.0s finished\n",
      "[Parallel(n_jobs=1)]: Using backend SequentialBackend with 1 concurrent workers.\n",
      "[Parallel(n_jobs=1)]: Done   1 out of   1 | elapsed:    0.0s remaining:    0.0s\n",
      "[Parallel(n_jobs=1)]: Done   1 out of   1 | elapsed:    0.0s finished\n"
     ]
    },
    {
     "name": "stdout",
     "output_type": "stream",
     "text": [
      "    Computing cross products for 29 → 31 EEG channels...\n",
      "    Preparing the mapping matrix...\n",
      "    Truncating at 29/29 components and regularizing with α=1.0e-01\n",
      "Interpolating bad channels\n",
      "    Automatic origin fit: head of radius 95.0 mm\n",
      "    Computing dot products for 29 EEG channels...\n",
      "    Computing cross products for 29 → 31 EEG channels...\n",
      "    Preparing the mapping matrix...\n",
      "    Truncating at 29/29 components and regularizing with α=1.0e-01\n",
      "Interpolating bad channels\n",
      "    Automatic origin fit: head of radius 95.0 mm\n",
      "    Computing dot products for 30 EEG channels...\n"
     ]
    },
    {
     "name": "stderr",
     "output_type": "stream",
     "text": [
      "[Parallel(n_jobs=1)]: Using backend SequentialBackend with 1 concurrent workers.\n",
      "[Parallel(n_jobs=1)]: Done   1 out of   1 | elapsed:    0.0s remaining:    0.0s\n",
      "[Parallel(n_jobs=1)]: Done   1 out of   1 | elapsed:    0.0s finished\n",
      "[Parallel(n_jobs=1)]: Using backend SequentialBackend with 1 concurrent workers.\n",
      "[Parallel(n_jobs=1)]: Done   1 out of   1 | elapsed:    0.0s remaining:    0.0s\n",
      "[Parallel(n_jobs=1)]: Done   1 out of   1 | elapsed:    0.0s finished\n",
      "C:\\Users\\dasha\\AppData\\Local\\Temp\\ipykernel_9316\\566404288.py:2: RuntimeWarning: No bad channels to interpolate. Doing nothing...\n",
      "  EEG[i]= EEG[i].interpolate_bads(reset_bads=True, method=dict(eeg='MNE'), verbose=True)\n"
     ]
    },
    {
     "name": "stdout",
     "output_type": "stream",
     "text": [
      "    Computing cross products for 30 → 31 EEG channels...\n",
      "    Preparing the mapping matrix...\n",
      "    Truncating at 30/30 components and regularizing with α=1.0e-01\n",
      "Interpolating bad channels\n",
      "    Automatic origin fit: head of radius 95.0 mm\n",
      "    Computing dot products for 30 EEG channels...\n",
      "    Computing cross products for 30 → 31 EEG channels...\n",
      "    Preparing the mapping matrix...\n",
      "    Truncating at 30/30 components and regularizing with α=1.0e-01\n",
      "Interpolating bad channels\n",
      "    Automatic origin fit: head of radius 95.0 mm\n",
      "    Computing dot products for 28 EEG channels...\n"
     ]
    },
    {
     "name": "stderr",
     "output_type": "stream",
     "text": [
      "[Parallel(n_jobs=1)]: Using backend SequentialBackend with 1 concurrent workers.\n",
      "[Parallel(n_jobs=1)]: Done   1 out of   1 | elapsed:    0.0s remaining:    0.0s\n",
      "[Parallel(n_jobs=1)]: Done   1 out of   1 | elapsed:    0.0s finished\n",
      "[Parallel(n_jobs=1)]: Using backend SequentialBackend with 1 concurrent workers.\n",
      "[Parallel(n_jobs=1)]: Done   1 out of   1 | elapsed:    0.0s remaining:    0.0s\n",
      "[Parallel(n_jobs=1)]: Done   1 out of   1 | elapsed:    0.0s finished\n"
     ]
    },
    {
     "name": "stdout",
     "output_type": "stream",
     "text": [
      "    Computing cross products for 28 → 31 EEG channels...\n",
      "    Preparing the mapping matrix...\n",
      "    Truncating at 28/28 components and regularizing with α=1.0e-01\n"
     ]
    },
    {
     "name": "stderr",
     "output_type": "stream",
     "text": [
      "[Parallel(n_jobs=1)]: Using backend SequentialBackend with 1 concurrent workers.\n",
      "[Parallel(n_jobs=1)]: Done   1 out of   1 | elapsed:    0.0s remaining:    0.0s\n",
      "[Parallel(n_jobs=1)]: Done   1 out of   1 | elapsed:    0.0s finished\n"
     ]
    }
   ],
   "source": [
    "for i in range (len(ID)):\n",
    "  EEG[i]= EEG[i].interpolate_bads(reset_bads=True, method=dict(eeg='MNE'), verbose=True)"
   ]
  },
  {
   "cell_type": "code",
   "execution_count": 60,
   "id": "3cd6b8a3",
   "metadata": {
    "scrolled": true
   },
   "outputs": [
    {
     "name": "stdout",
     "output_type": "stream",
     "text": [
      "Setting up band-stop filter from 49 - 51 Hz\n",
      "\n",
      "FIR filter parameters\n",
      "---------------------\n",
      "Designing a one-pass, zero-phase, non-causal bandstop filter:\n",
      "- Windowed time-domain design (firwin) method\n",
      "- Hamming window with 0.0194 passband ripple and 53 dB stopband attenuation\n",
      "- Lower passband edge: 49.38\n",
      "- Lower transition bandwidth: 0.50 Hz (-6 dB cutoff frequency: 49.12 Hz)\n",
      "- Upper passband edge: 50.62 Hz\n",
      "- Upper transition bandwidth: 0.50 Hz (-6 dB cutoff frequency: 50.88 Hz)\n",
      "- Filter length: 3301 samples (6.602 sec)\n",
      "\n"
     ]
    },
    {
     "name": "stderr",
     "output_type": "stream",
     "text": [
      "[Parallel(n_jobs=1)]: Using backend SequentialBackend with 1 concurrent workers.\n",
      "[Parallel(n_jobs=1)]: Done   1 out of   1 | elapsed:    0.0s remaining:    0.0s\n",
      "[Parallel(n_jobs=1)]: Done   2 out of   2 | elapsed:    0.0s remaining:    0.0s\n",
      "[Parallel(n_jobs=1)]: Done   3 out of   3 | elapsed:    0.0s remaining:    0.0s\n",
      "[Parallel(n_jobs=1)]: Done   4 out of   4 | elapsed:    0.0s remaining:    0.0s\n"
     ]
    },
    {
     "name": "stdout",
     "output_type": "stream",
     "text": [
      "Setting up band-stop filter from 49 - 51 Hz\n",
      "\n",
      "FIR filter parameters\n",
      "---------------------\n",
      "Designing a one-pass, zero-phase, non-causal bandstop filter:\n",
      "- Windowed time-domain design (firwin) method\n",
      "- Hamming window with 0.0194 passband ripple and 53 dB stopband attenuation\n",
      "- Lower passband edge: 49.38\n",
      "- Lower transition bandwidth: 0.50 Hz (-6 dB cutoff frequency: 49.12 Hz)\n",
      "- Upper passband edge: 50.62 Hz\n",
      "- Upper transition bandwidth: 0.50 Hz (-6 dB cutoff frequency: 50.88 Hz)\n",
      "- Filter length: 3301 samples (6.602 sec)\n",
      "\n"
     ]
    },
    {
     "name": "stderr",
     "output_type": "stream",
     "text": [
      "[Parallel(n_jobs=1)]: Done  31 out of  31 | elapsed:    0.1s finished\n",
      "[Parallel(n_jobs=1)]: Using backend SequentialBackend with 1 concurrent workers.\n",
      "[Parallel(n_jobs=1)]: Done   1 out of   1 | elapsed:    0.0s remaining:    0.0s\n",
      "[Parallel(n_jobs=1)]: Done   2 out of   2 | elapsed:    0.0s remaining:    0.0s\n",
      "[Parallel(n_jobs=1)]: Done   3 out of   3 | elapsed:    0.0s remaining:    0.0s\n",
      "[Parallel(n_jobs=1)]: Done   4 out of   4 | elapsed:    0.0s remaining:    0.0s\n"
     ]
    },
    {
     "name": "stdout",
     "output_type": "stream",
     "text": [
      "Setting up band-stop filter from 49 - 51 Hz\n",
      "\n",
      "FIR filter parameters\n",
      "---------------------\n",
      "Designing a one-pass, zero-phase, non-causal bandstop filter:\n",
      "- Windowed time-domain design (firwin) method\n",
      "- Hamming window with 0.0194 passband ripple and 53 dB stopband attenuation\n",
      "- Lower passband edge: 49.38\n",
      "- Lower transition bandwidth: 0.50 Hz (-6 dB cutoff frequency: 49.12 Hz)\n",
      "- Upper passband edge: 50.62 Hz\n",
      "- Upper transition bandwidth: 0.50 Hz (-6 dB cutoff frequency: 50.88 Hz)\n",
      "- Filter length: 3301 samples (6.602 sec)\n",
      "\n"
     ]
    },
    {
     "name": "stderr",
     "output_type": "stream",
     "text": [
      "[Parallel(n_jobs=1)]: Done  31 out of  31 | elapsed:    0.2s finished\n",
      "[Parallel(n_jobs=1)]: Using backend SequentialBackend with 1 concurrent workers.\n",
      "[Parallel(n_jobs=1)]: Done   1 out of   1 | elapsed:    0.0s remaining:    0.0s\n",
      "[Parallel(n_jobs=1)]: Done   2 out of   2 | elapsed:    0.0s remaining:    0.0s\n",
      "[Parallel(n_jobs=1)]: Done   3 out of   3 | elapsed:    0.0s remaining:    0.0s\n",
      "[Parallel(n_jobs=1)]: Done   4 out of   4 | elapsed:    0.0s remaining:    0.0s\n",
      "[Parallel(n_jobs=1)]: Done  31 out of  31 | elapsed:    0.1s finished\n"
     ]
    },
    {
     "name": "stdout",
     "output_type": "stream",
     "text": [
      "Setting up band-stop filter from 49 - 51 Hz\n",
      "\n",
      "FIR filter parameters\n",
      "---------------------\n",
      "Designing a one-pass, zero-phase, non-causal bandstop filter:\n",
      "- Windowed time-domain design (firwin) method\n",
      "- Hamming window with 0.0194 passband ripple and 53 dB stopband attenuation\n",
      "- Lower passband edge: 49.38\n",
      "- Lower transition bandwidth: 0.50 Hz (-6 dB cutoff frequency: 49.12 Hz)\n",
      "- Upper passband edge: 50.62 Hz\n",
      "- Upper transition bandwidth: 0.50 Hz (-6 dB cutoff frequency: 50.88 Hz)\n",
      "- Filter length: 3301 samples (6.602 sec)\n",
      "\n"
     ]
    },
    {
     "name": "stderr",
     "output_type": "stream",
     "text": [
      "[Parallel(n_jobs=1)]: Using backend SequentialBackend with 1 concurrent workers.\n",
      "[Parallel(n_jobs=1)]: Done   1 out of   1 | elapsed:    0.0s remaining:    0.0s\n",
      "[Parallel(n_jobs=1)]: Done   2 out of   2 | elapsed:    0.0s remaining:    0.0s\n",
      "[Parallel(n_jobs=1)]: Done   3 out of   3 | elapsed:    0.0s remaining:    0.0s\n",
      "[Parallel(n_jobs=1)]: Done   4 out of   4 | elapsed:    0.0s remaining:    0.0s\n"
     ]
    },
    {
     "name": "stdout",
     "output_type": "stream",
     "text": [
      "Setting up band-stop filter from 49 - 51 Hz\n",
      "\n",
      "FIR filter parameters\n",
      "---------------------\n",
      "Designing a one-pass, zero-phase, non-causal bandstop filter:\n",
      "- Windowed time-domain design (firwin) method\n",
      "- Hamming window with 0.0194 passband ripple and 53 dB stopband attenuation\n",
      "- Lower passband edge: 49.38\n",
      "- Lower transition bandwidth: 0.50 Hz (-6 dB cutoff frequency: 49.12 Hz)\n",
      "- Upper passband edge: 50.62 Hz\n",
      "- Upper transition bandwidth: 0.50 Hz (-6 dB cutoff frequency: 50.88 Hz)\n",
      "- Filter length: 3301 samples (6.602 sec)\n",
      "\n"
     ]
    },
    {
     "name": "stderr",
     "output_type": "stream",
     "text": [
      "[Parallel(n_jobs=1)]: Done  31 out of  31 | elapsed:    0.2s finished\n",
      "[Parallel(n_jobs=1)]: Using backend SequentialBackend with 1 concurrent workers.\n",
      "[Parallel(n_jobs=1)]: Done   1 out of   1 | elapsed:    0.0s remaining:    0.0s\n",
      "[Parallel(n_jobs=1)]: Done   2 out of   2 | elapsed:    0.0s remaining:    0.0s\n",
      "[Parallel(n_jobs=1)]: Done   3 out of   3 | elapsed:    0.0s remaining:    0.0s\n",
      "[Parallel(n_jobs=1)]: Done   4 out of   4 | elapsed:    0.0s remaining:    0.0s\n"
     ]
    },
    {
     "name": "stdout",
     "output_type": "stream",
     "text": [
      "Setting up band-stop filter from 49 - 51 Hz\n",
      "\n",
      "FIR filter parameters\n",
      "---------------------\n",
      "Designing a one-pass, zero-phase, non-causal bandstop filter:\n",
      "- Windowed time-domain design (firwin) method\n",
      "- Hamming window with 0.0194 passband ripple and 53 dB stopband attenuation\n",
      "- Lower passband edge: 49.38\n",
      "- Lower transition bandwidth: 0.50 Hz (-6 dB cutoff frequency: 49.12 Hz)\n",
      "- Upper passband edge: 50.62 Hz\n",
      "- Upper transition bandwidth: 0.50 Hz (-6 dB cutoff frequency: 50.88 Hz)\n",
      "- Filter length: 3301 samples (6.602 sec)\n",
      "\n"
     ]
    },
    {
     "name": "stderr",
     "output_type": "stream",
     "text": [
      "[Parallel(n_jobs=1)]: Done  31 out of  31 | elapsed:    0.2s finished\n",
      "[Parallel(n_jobs=1)]: Using backend SequentialBackend with 1 concurrent workers.\n",
      "[Parallel(n_jobs=1)]: Done   1 out of   1 | elapsed:    0.0s remaining:    0.0s\n",
      "[Parallel(n_jobs=1)]: Done   2 out of   2 | elapsed:    0.0s remaining:    0.0s\n",
      "[Parallel(n_jobs=1)]: Done   3 out of   3 | elapsed:    0.0s remaining:    0.0s\n",
      "[Parallel(n_jobs=1)]: Done   4 out of   4 | elapsed:    0.0s remaining:    0.0s\n"
     ]
    },
    {
     "name": "stdout",
     "output_type": "stream",
     "text": [
      "Setting up band-stop filter from 49 - 51 Hz\n",
      "\n",
      "FIR filter parameters\n",
      "---------------------\n",
      "Designing a one-pass, zero-phase, non-causal bandstop filter:\n",
      "- Windowed time-domain design (firwin) method\n",
      "- Hamming window with 0.0194 passband ripple and 53 dB stopband attenuation\n",
      "- Lower passband edge: 49.38\n",
      "- Lower transition bandwidth: 0.50 Hz (-6 dB cutoff frequency: 49.12 Hz)\n",
      "- Upper passband edge: 50.62 Hz\n",
      "- Upper transition bandwidth: 0.50 Hz (-6 dB cutoff frequency: 50.88 Hz)\n",
      "- Filter length: 3301 samples (6.602 sec)\n",
      "\n"
     ]
    },
    {
     "name": "stderr",
     "output_type": "stream",
     "text": [
      "[Parallel(n_jobs=1)]: Done  31 out of  31 | elapsed:    0.2s finished\n",
      "[Parallel(n_jobs=1)]: Using backend SequentialBackend with 1 concurrent workers.\n",
      "[Parallel(n_jobs=1)]: Done   1 out of   1 | elapsed:    0.0s remaining:    0.0s\n",
      "[Parallel(n_jobs=1)]: Done   2 out of   2 | elapsed:    0.0s remaining:    0.0s\n",
      "[Parallel(n_jobs=1)]: Done   3 out of   3 | elapsed:    0.0s remaining:    0.0s\n",
      "[Parallel(n_jobs=1)]: Done   4 out of   4 | elapsed:    0.0s remaining:    0.0s\n"
     ]
    },
    {
     "name": "stdout",
     "output_type": "stream",
     "text": [
      "Setting up band-stop filter from 49 - 51 Hz\n",
      "\n",
      "FIR filter parameters\n",
      "---------------------\n",
      "Designing a one-pass, zero-phase, non-causal bandstop filter:\n",
      "- Windowed time-domain design (firwin) method\n",
      "- Hamming window with 0.0194 passband ripple and 53 dB stopband attenuation\n",
      "- Lower passband edge: 49.38\n",
      "- Lower transition bandwidth: 0.50 Hz (-6 dB cutoff frequency: 49.12 Hz)\n",
      "- Upper passband edge: 50.62 Hz\n",
      "- Upper transition bandwidth: 0.50 Hz (-6 dB cutoff frequency: 50.88 Hz)\n",
      "- Filter length: 3301 samples (6.602 sec)\n",
      "\n"
     ]
    },
    {
     "name": "stderr",
     "output_type": "stream",
     "text": [
      "[Parallel(n_jobs=1)]: Done  31 out of  31 | elapsed:    0.1s finished\n",
      "[Parallel(n_jobs=1)]: Using backend SequentialBackend with 1 concurrent workers.\n",
      "[Parallel(n_jobs=1)]: Done   1 out of   1 | elapsed:    0.0s remaining:    0.0s\n",
      "[Parallel(n_jobs=1)]: Done   2 out of   2 | elapsed:    0.0s remaining:    0.0s\n",
      "[Parallel(n_jobs=1)]: Done   3 out of   3 | elapsed:    0.0s remaining:    0.0s\n",
      "[Parallel(n_jobs=1)]: Done   4 out of   4 | elapsed:    0.0s remaining:    0.0s\n"
     ]
    },
    {
     "name": "stdout",
     "output_type": "stream",
     "text": [
      "Setting up band-stop filter from 49 - 51 Hz\n",
      "\n",
      "FIR filter parameters\n",
      "---------------------\n",
      "Designing a one-pass, zero-phase, non-causal bandstop filter:\n",
      "- Windowed time-domain design (firwin) method\n",
      "- Hamming window with 0.0194 passband ripple and 53 dB stopband attenuation\n",
      "- Lower passband edge: 49.38\n",
      "- Lower transition bandwidth: 0.50 Hz (-6 dB cutoff frequency: 49.12 Hz)\n",
      "- Upper passband edge: 50.62 Hz\n",
      "- Upper transition bandwidth: 0.50 Hz (-6 dB cutoff frequency: 50.88 Hz)\n",
      "- Filter length: 3301 samples (6.602 sec)\n",
      "\n"
     ]
    },
    {
     "name": "stderr",
     "output_type": "stream",
     "text": [
      "[Parallel(n_jobs=1)]: Done  31 out of  31 | elapsed:    0.2s finished\n",
      "[Parallel(n_jobs=1)]: Using backend SequentialBackend with 1 concurrent workers.\n",
      "[Parallel(n_jobs=1)]: Done   1 out of   1 | elapsed:    0.0s remaining:    0.0s\n",
      "[Parallel(n_jobs=1)]: Done   2 out of   2 | elapsed:    0.0s remaining:    0.0s\n",
      "[Parallel(n_jobs=1)]: Done   3 out of   3 | elapsed:    0.0s remaining:    0.0s\n",
      "[Parallel(n_jobs=1)]: Done   4 out of   4 | elapsed:    0.0s remaining:    0.0s\n"
     ]
    },
    {
     "name": "stdout",
     "output_type": "stream",
     "text": [
      "Setting up band-stop filter from 49 - 51 Hz\n",
      "\n",
      "FIR filter parameters\n",
      "---------------------\n",
      "Designing a one-pass, zero-phase, non-causal bandstop filter:\n",
      "- Windowed time-domain design (firwin) method\n",
      "- Hamming window with 0.0194 passband ripple and 53 dB stopband attenuation\n",
      "- Lower passband edge: 49.38\n",
      "- Lower transition bandwidth: 0.50 Hz (-6 dB cutoff frequency: 49.12 Hz)\n",
      "- Upper passband edge: 50.62 Hz\n",
      "- Upper transition bandwidth: 0.50 Hz (-6 dB cutoff frequency: 50.88 Hz)\n",
      "- Filter length: 3301 samples (6.602 sec)\n",
      "\n"
     ]
    },
    {
     "name": "stderr",
     "output_type": "stream",
     "text": [
      "[Parallel(n_jobs=1)]: Done  31 out of  31 | elapsed:    0.1s finished\n",
      "[Parallel(n_jobs=1)]: Using backend SequentialBackend with 1 concurrent workers.\n",
      "[Parallel(n_jobs=1)]: Done   1 out of   1 | elapsed:    0.0s remaining:    0.0s\n",
      "[Parallel(n_jobs=1)]: Done   2 out of   2 | elapsed:    0.0s remaining:    0.0s\n",
      "[Parallel(n_jobs=1)]: Done   3 out of   3 | elapsed:    0.0s remaining:    0.0s\n",
      "[Parallel(n_jobs=1)]: Done   4 out of   4 | elapsed:    0.0s remaining:    0.0s\n"
     ]
    },
    {
     "name": "stdout",
     "output_type": "stream",
     "text": [
      "Setting up band-stop filter from 49 - 51 Hz\n",
      "\n",
      "FIR filter parameters\n",
      "---------------------\n",
      "Designing a one-pass, zero-phase, non-causal bandstop filter:\n",
      "- Windowed time-domain design (firwin) method\n",
      "- Hamming window with 0.0194 passband ripple and 53 dB stopband attenuation\n",
      "- Lower passband edge: 49.38\n",
      "- Lower transition bandwidth: 0.50 Hz (-6 dB cutoff frequency: 49.12 Hz)\n",
      "- Upper passband edge: 50.62 Hz\n",
      "- Upper transition bandwidth: 0.50 Hz (-6 dB cutoff frequency: 50.88 Hz)\n",
      "- Filter length: 3301 samples (6.602 sec)\n",
      "\n"
     ]
    },
    {
     "name": "stderr",
     "output_type": "stream",
     "text": [
      "[Parallel(n_jobs=1)]: Done  31 out of  31 | elapsed:    0.2s finished\n",
      "[Parallel(n_jobs=1)]: Using backend SequentialBackend with 1 concurrent workers.\n",
      "[Parallel(n_jobs=1)]: Done   1 out of   1 | elapsed:    0.0s remaining:    0.0s\n",
      "[Parallel(n_jobs=1)]: Done   2 out of   2 | elapsed:    0.0s remaining:    0.0s\n",
      "[Parallel(n_jobs=1)]: Done   3 out of   3 | elapsed:    0.0s remaining:    0.0s\n",
      "[Parallel(n_jobs=1)]: Done   4 out of   4 | elapsed:    0.0s remaining:    0.0s\n"
     ]
    },
    {
     "name": "stdout",
     "output_type": "stream",
     "text": [
      "Setting up band-stop filter from 49 - 51 Hz\n",
      "\n",
      "FIR filter parameters\n",
      "---------------------\n",
      "Designing a one-pass, zero-phase, non-causal bandstop filter:\n",
      "- Windowed time-domain design (firwin) method\n",
      "- Hamming window with 0.0194 passband ripple and 53 dB stopband attenuation\n",
      "- Lower passband edge: 49.38\n",
      "- Lower transition bandwidth: 0.50 Hz (-6 dB cutoff frequency: 49.12 Hz)\n",
      "- Upper passband edge: 50.62 Hz\n",
      "- Upper transition bandwidth: 0.50 Hz (-6 dB cutoff frequency: 50.88 Hz)\n",
      "- Filter length: 3301 samples (6.602 sec)\n",
      "\n"
     ]
    },
    {
     "name": "stderr",
     "output_type": "stream",
     "text": [
      "[Parallel(n_jobs=1)]: Done  31 out of  31 | elapsed:    0.1s finished\n",
      "[Parallel(n_jobs=1)]: Using backend SequentialBackend with 1 concurrent workers.\n",
      "[Parallel(n_jobs=1)]: Done   1 out of   1 | elapsed:    0.0s remaining:    0.0s\n",
      "[Parallel(n_jobs=1)]: Done   2 out of   2 | elapsed:    0.0s remaining:    0.0s\n",
      "[Parallel(n_jobs=1)]: Done   3 out of   3 | elapsed:    0.0s remaining:    0.0s\n",
      "[Parallel(n_jobs=1)]: Done   4 out of   4 | elapsed:    0.0s remaining:    0.0s\n"
     ]
    },
    {
     "name": "stdout",
     "output_type": "stream",
     "text": [
      "Setting up band-stop filter from 49 - 51 Hz\n",
      "\n",
      "FIR filter parameters\n",
      "---------------------\n",
      "Designing a one-pass, zero-phase, non-causal bandstop filter:\n",
      "- Windowed time-domain design (firwin) method\n",
      "- Hamming window with 0.0194 passband ripple and 53 dB stopband attenuation\n",
      "- Lower passband edge: 49.38\n",
      "- Lower transition bandwidth: 0.50 Hz (-6 dB cutoff frequency: 49.12 Hz)\n",
      "- Upper passband edge: 50.62 Hz\n",
      "- Upper transition bandwidth: 0.50 Hz (-6 dB cutoff frequency: 50.88 Hz)\n",
      "- Filter length: 3301 samples (6.602 sec)\n",
      "\n"
     ]
    },
    {
     "name": "stderr",
     "output_type": "stream",
     "text": [
      "[Parallel(n_jobs=1)]: Done  31 out of  31 | elapsed:    0.1s finished\n",
      "[Parallel(n_jobs=1)]: Using backend SequentialBackend with 1 concurrent workers.\n",
      "[Parallel(n_jobs=1)]: Done   1 out of   1 | elapsed:    0.0s remaining:    0.0s\n",
      "[Parallel(n_jobs=1)]: Done   2 out of   2 | elapsed:    0.0s remaining:    0.0s\n",
      "[Parallel(n_jobs=1)]: Done   3 out of   3 | elapsed:    0.0s remaining:    0.0s\n",
      "[Parallel(n_jobs=1)]: Done   4 out of   4 | elapsed:    0.0s remaining:    0.0s\n"
     ]
    },
    {
     "name": "stdout",
     "output_type": "stream",
     "text": [
      "Setting up band-stop filter from 49 - 51 Hz\n",
      "\n",
      "FIR filter parameters\n",
      "---------------------\n",
      "Designing a one-pass, zero-phase, non-causal bandstop filter:\n",
      "- Windowed time-domain design (firwin) method\n",
      "- Hamming window with 0.0194 passband ripple and 53 dB stopband attenuation\n",
      "- Lower passband edge: 49.38\n",
      "- Lower transition bandwidth: 0.50 Hz (-6 dB cutoff frequency: 49.12 Hz)\n",
      "- Upper passband edge: 50.62 Hz\n",
      "- Upper transition bandwidth: 0.50 Hz (-6 dB cutoff frequency: 50.88 Hz)\n",
      "- Filter length: 3301 samples (6.602 sec)\n",
      "\n"
     ]
    },
    {
     "name": "stderr",
     "output_type": "stream",
     "text": [
      "[Parallel(n_jobs=1)]: Done  31 out of  31 | elapsed:    0.1s finished\n",
      "[Parallel(n_jobs=1)]: Using backend SequentialBackend with 1 concurrent workers.\n",
      "[Parallel(n_jobs=1)]: Done   1 out of   1 | elapsed:    0.0s remaining:    0.0s\n",
      "[Parallel(n_jobs=1)]: Done   2 out of   2 | elapsed:    0.0s remaining:    0.0s\n",
      "[Parallel(n_jobs=1)]: Done   3 out of   3 | elapsed:    0.0s remaining:    0.0s\n",
      "[Parallel(n_jobs=1)]: Done   4 out of   4 | elapsed:    0.0s remaining:    0.0s\n"
     ]
    },
    {
     "name": "stdout",
     "output_type": "stream",
     "text": [
      "Setting up band-stop filter from 49 - 51 Hz\n",
      "\n",
      "FIR filter parameters\n",
      "---------------------\n",
      "Designing a one-pass, zero-phase, non-causal bandstop filter:\n",
      "- Windowed time-domain design (firwin) method\n",
      "- Hamming window with 0.0194 passband ripple and 53 dB stopband attenuation\n",
      "- Lower passband edge: 49.38\n",
      "- Lower transition bandwidth: 0.50 Hz (-6 dB cutoff frequency: 49.12 Hz)\n",
      "- Upper passband edge: 50.62 Hz\n",
      "- Upper transition bandwidth: 0.50 Hz (-6 dB cutoff frequency: 50.88 Hz)\n",
      "- Filter length: 3301 samples (6.602 sec)\n",
      "\n"
     ]
    },
    {
     "name": "stderr",
     "output_type": "stream",
     "text": [
      "[Parallel(n_jobs=1)]: Done  31 out of  31 | elapsed:    0.1s finished\n",
      "[Parallel(n_jobs=1)]: Using backend SequentialBackend with 1 concurrent workers.\n",
      "[Parallel(n_jobs=1)]: Done   1 out of   1 | elapsed:    0.0s remaining:    0.0s\n",
      "[Parallel(n_jobs=1)]: Done   2 out of   2 | elapsed:    0.0s remaining:    0.0s\n",
      "[Parallel(n_jobs=1)]: Done   3 out of   3 | elapsed:    0.0s remaining:    0.0s\n",
      "[Parallel(n_jobs=1)]: Done   4 out of   4 | elapsed:    0.0s remaining:    0.0s\n"
     ]
    },
    {
     "name": "stdout",
     "output_type": "stream",
     "text": [
      "Setting up band-stop filter from 49 - 51 Hz\n",
      "\n",
      "FIR filter parameters\n",
      "---------------------\n",
      "Designing a one-pass, zero-phase, non-causal bandstop filter:\n",
      "- Windowed time-domain design (firwin) method\n",
      "- Hamming window with 0.0194 passband ripple and 53 dB stopband attenuation\n",
      "- Lower passband edge: 49.38\n",
      "- Lower transition bandwidth: 0.50 Hz (-6 dB cutoff frequency: 49.12 Hz)\n",
      "- Upper passband edge: 50.62 Hz\n",
      "- Upper transition bandwidth: 0.50 Hz (-6 dB cutoff frequency: 50.88 Hz)\n",
      "- Filter length: 3301 samples (6.602 sec)\n",
      "\n"
     ]
    },
    {
     "name": "stderr",
     "output_type": "stream",
     "text": [
      "[Parallel(n_jobs=1)]: Done  31 out of  31 | elapsed:    0.1s finished\n",
      "[Parallel(n_jobs=1)]: Using backend SequentialBackend with 1 concurrent workers.\n",
      "[Parallel(n_jobs=1)]: Done   1 out of   1 | elapsed:    0.0s remaining:    0.0s\n",
      "[Parallel(n_jobs=1)]: Done   2 out of   2 | elapsed:    0.0s remaining:    0.0s\n",
      "[Parallel(n_jobs=1)]: Done   3 out of   3 | elapsed:    0.0s remaining:    0.0s\n",
      "[Parallel(n_jobs=1)]: Done   4 out of   4 | elapsed:    0.0s remaining:    0.0s\n"
     ]
    },
    {
     "name": "stdout",
     "output_type": "stream",
     "text": [
      "Setting up band-stop filter from 49 - 51 Hz\n",
      "\n",
      "FIR filter parameters\n",
      "---------------------\n",
      "Designing a one-pass, zero-phase, non-causal bandstop filter:\n",
      "- Windowed time-domain design (firwin) method\n",
      "- Hamming window with 0.0194 passband ripple and 53 dB stopband attenuation\n",
      "- Lower passband edge: 49.38\n",
      "- Lower transition bandwidth: 0.50 Hz (-6 dB cutoff frequency: 49.12 Hz)\n",
      "- Upper passband edge: 50.62 Hz\n",
      "- Upper transition bandwidth: 0.50 Hz (-6 dB cutoff frequency: 50.88 Hz)\n",
      "- Filter length: 3301 samples (6.602 sec)\n",
      "\n"
     ]
    },
    {
     "name": "stderr",
     "output_type": "stream",
     "text": [
      "[Parallel(n_jobs=1)]: Done  31 out of  31 | elapsed:    0.1s finished\n",
      "[Parallel(n_jobs=1)]: Using backend SequentialBackend with 1 concurrent workers.\n",
      "[Parallel(n_jobs=1)]: Done   1 out of   1 | elapsed:    0.0s remaining:    0.0s\n",
      "[Parallel(n_jobs=1)]: Done   2 out of   2 | elapsed:    0.0s remaining:    0.0s\n",
      "[Parallel(n_jobs=1)]: Done   3 out of   3 | elapsed:    0.0s remaining:    0.0s\n",
      "[Parallel(n_jobs=1)]: Done   4 out of   4 | elapsed:    0.0s remaining:    0.0s\n"
     ]
    },
    {
     "name": "stdout",
     "output_type": "stream",
     "text": [
      "Setting up band-stop filter from 49 - 51 Hz\n",
      "\n",
      "FIR filter parameters\n",
      "---------------------\n",
      "Designing a one-pass, zero-phase, non-causal bandstop filter:\n",
      "- Windowed time-domain design (firwin) method\n",
      "- Hamming window with 0.0194 passband ripple and 53 dB stopband attenuation\n",
      "- Lower passband edge: 49.38\n",
      "- Lower transition bandwidth: 0.50 Hz (-6 dB cutoff frequency: 49.12 Hz)\n",
      "- Upper passband edge: 50.62 Hz\n",
      "- Upper transition bandwidth: 0.50 Hz (-6 dB cutoff frequency: 50.88 Hz)\n",
      "- Filter length: 3301 samples (6.602 sec)\n",
      "\n"
     ]
    },
    {
     "name": "stderr",
     "output_type": "stream",
     "text": [
      "[Parallel(n_jobs=1)]: Done  31 out of  31 | elapsed:    0.1s finished\n",
      "[Parallel(n_jobs=1)]: Using backend SequentialBackend with 1 concurrent workers.\n",
      "[Parallel(n_jobs=1)]: Done   1 out of   1 | elapsed:    0.0s remaining:    0.0s\n",
      "[Parallel(n_jobs=1)]: Done   2 out of   2 | elapsed:    0.0s remaining:    0.0s\n",
      "[Parallel(n_jobs=1)]: Done   3 out of   3 | elapsed:    0.0s remaining:    0.0s\n",
      "[Parallel(n_jobs=1)]: Done   4 out of   4 | elapsed:    0.0s remaining:    0.0s\n"
     ]
    },
    {
     "name": "stdout",
     "output_type": "stream",
     "text": [
      "Setting up band-stop filter from 49 - 51 Hz\n",
      "\n",
      "FIR filter parameters\n",
      "---------------------\n",
      "Designing a one-pass, zero-phase, non-causal bandstop filter:\n",
      "- Windowed time-domain design (firwin) method\n",
      "- Hamming window with 0.0194 passband ripple and 53 dB stopband attenuation\n",
      "- Lower passband edge: 49.38\n",
      "- Lower transition bandwidth: 0.50 Hz (-6 dB cutoff frequency: 49.12 Hz)\n",
      "- Upper passband edge: 50.62 Hz\n",
      "- Upper transition bandwidth: 0.50 Hz (-6 dB cutoff frequency: 50.88 Hz)\n",
      "- Filter length: 3301 samples (6.602 sec)\n",
      "\n"
     ]
    },
    {
     "name": "stderr",
     "output_type": "stream",
     "text": [
      "[Parallel(n_jobs=1)]: Done  31 out of  31 | elapsed:    0.2s finished\n",
      "[Parallel(n_jobs=1)]: Using backend SequentialBackend with 1 concurrent workers.\n",
      "[Parallel(n_jobs=1)]: Done   1 out of   1 | elapsed:    0.0s remaining:    0.0s\n",
      "[Parallel(n_jobs=1)]: Done   2 out of   2 | elapsed:    0.0s remaining:    0.0s\n",
      "[Parallel(n_jobs=1)]: Done   3 out of   3 | elapsed:    0.0s remaining:    0.0s\n",
      "[Parallel(n_jobs=1)]: Done   4 out of   4 | elapsed:    0.0s remaining:    0.0s\n"
     ]
    },
    {
     "name": "stdout",
     "output_type": "stream",
     "text": [
      "Setting up band-stop filter from 49 - 51 Hz\n",
      "\n",
      "FIR filter parameters\n",
      "---------------------\n",
      "Designing a one-pass, zero-phase, non-causal bandstop filter:\n",
      "- Windowed time-domain design (firwin) method\n",
      "- Hamming window with 0.0194 passband ripple and 53 dB stopband attenuation\n",
      "- Lower passband edge: 49.38\n",
      "- Lower transition bandwidth: 0.50 Hz (-6 dB cutoff frequency: 49.12 Hz)\n",
      "- Upper passband edge: 50.62 Hz\n",
      "- Upper transition bandwidth: 0.50 Hz (-6 dB cutoff frequency: 50.88 Hz)\n",
      "- Filter length: 3301 samples (6.602 sec)\n",
      "\n"
     ]
    },
    {
     "name": "stderr",
     "output_type": "stream",
     "text": [
      "[Parallel(n_jobs=1)]: Done  31 out of  31 | elapsed:    0.2s finished\n",
      "[Parallel(n_jobs=1)]: Using backend SequentialBackend with 1 concurrent workers.\n",
      "[Parallel(n_jobs=1)]: Done   1 out of   1 | elapsed:    0.0s remaining:    0.0s\n",
      "[Parallel(n_jobs=1)]: Done   2 out of   2 | elapsed:    0.0s remaining:    0.0s\n",
      "[Parallel(n_jobs=1)]: Done   3 out of   3 | elapsed:    0.0s remaining:    0.0s\n",
      "[Parallel(n_jobs=1)]: Done   4 out of   4 | elapsed:    0.0s remaining:    0.0s\n"
     ]
    },
    {
     "name": "stdout",
     "output_type": "stream",
     "text": [
      "Setting up band-stop filter from 49 - 51 Hz\n",
      "\n",
      "FIR filter parameters\n",
      "---------------------\n",
      "Designing a one-pass, zero-phase, non-causal bandstop filter:\n",
      "- Windowed time-domain design (firwin) method\n",
      "- Hamming window with 0.0194 passband ripple and 53 dB stopband attenuation\n",
      "- Lower passband edge: 49.38\n",
      "- Lower transition bandwidth: 0.50 Hz (-6 dB cutoff frequency: 49.12 Hz)\n",
      "- Upper passband edge: 50.62 Hz\n",
      "- Upper transition bandwidth: 0.50 Hz (-6 dB cutoff frequency: 50.88 Hz)\n",
      "- Filter length: 3301 samples (6.602 sec)\n",
      "\n"
     ]
    },
    {
     "name": "stderr",
     "output_type": "stream",
     "text": [
      "[Parallel(n_jobs=1)]: Done  31 out of  31 | elapsed:    0.3s finished\n",
      "[Parallel(n_jobs=1)]: Using backend SequentialBackend with 1 concurrent workers.\n",
      "[Parallel(n_jobs=1)]: Done   1 out of   1 | elapsed:    0.0s remaining:    0.0s\n",
      "[Parallel(n_jobs=1)]: Done   2 out of   2 | elapsed:    0.0s remaining:    0.0s\n",
      "[Parallel(n_jobs=1)]: Done   3 out of   3 | elapsed:    0.0s remaining:    0.0s\n",
      "[Parallel(n_jobs=1)]: Done   4 out of   4 | elapsed:    0.0s remaining:    0.0s\n"
     ]
    },
    {
     "name": "stdout",
     "output_type": "stream",
     "text": [
      "Setting up band-stop filter from 49 - 51 Hz\n",
      "\n",
      "FIR filter parameters\n",
      "---------------------\n",
      "Designing a one-pass, zero-phase, non-causal bandstop filter:\n",
      "- Windowed time-domain design (firwin) method\n",
      "- Hamming window with 0.0194 passband ripple and 53 dB stopband attenuation\n",
      "- Lower passband edge: 49.38\n",
      "- Lower transition bandwidth: 0.50 Hz (-6 dB cutoff frequency: 49.12 Hz)\n",
      "- Upper passband edge: 50.62 Hz\n",
      "- Upper transition bandwidth: 0.50 Hz (-6 dB cutoff frequency: 50.88 Hz)\n",
      "- Filter length: 3301 samples (6.602 sec)\n",
      "\n"
     ]
    },
    {
     "name": "stderr",
     "output_type": "stream",
     "text": [
      "[Parallel(n_jobs=1)]: Done  31 out of  31 | elapsed:    0.3s finished\n",
      "[Parallel(n_jobs=1)]: Using backend SequentialBackend with 1 concurrent workers.\n",
      "[Parallel(n_jobs=1)]: Done   1 out of   1 | elapsed:    0.0s remaining:    0.0s\n",
      "[Parallel(n_jobs=1)]: Done   2 out of   2 | elapsed:    0.0s remaining:    0.0s\n",
      "[Parallel(n_jobs=1)]: Done   3 out of   3 | elapsed:    0.0s remaining:    0.0s\n",
      "[Parallel(n_jobs=1)]: Done   4 out of   4 | elapsed:    0.0s remaining:    0.0s\n"
     ]
    },
    {
     "name": "stdout",
     "output_type": "stream",
     "text": [
      "Setting up band-stop filter from 49 - 51 Hz\n",
      "\n",
      "FIR filter parameters\n",
      "---------------------\n",
      "Designing a one-pass, zero-phase, non-causal bandstop filter:\n",
      "- Windowed time-domain design (firwin) method\n",
      "- Hamming window with 0.0194 passband ripple and 53 dB stopband attenuation\n",
      "- Lower passband edge: 49.38\n",
      "- Lower transition bandwidth: 0.50 Hz (-6 dB cutoff frequency: 49.12 Hz)\n",
      "- Upper passband edge: 50.62 Hz\n",
      "- Upper transition bandwidth: 0.50 Hz (-6 dB cutoff frequency: 50.88 Hz)\n",
      "- Filter length: 3301 samples (6.602 sec)\n",
      "\n"
     ]
    },
    {
     "name": "stderr",
     "output_type": "stream",
     "text": [
      "[Parallel(n_jobs=1)]: Done  31 out of  31 | elapsed:    0.3s finished\n",
      "[Parallel(n_jobs=1)]: Using backend SequentialBackend with 1 concurrent workers.\n",
      "[Parallel(n_jobs=1)]: Done   1 out of   1 | elapsed:    0.0s remaining:    0.0s\n",
      "[Parallel(n_jobs=1)]: Done   2 out of   2 | elapsed:    0.0s remaining:    0.0s\n",
      "[Parallel(n_jobs=1)]: Done   3 out of   3 | elapsed:    0.0s remaining:    0.0s\n",
      "[Parallel(n_jobs=1)]: Done   4 out of   4 | elapsed:    0.0s remaining:    0.0s\n"
     ]
    },
    {
     "name": "stdout",
     "output_type": "stream",
     "text": [
      "Setting up band-stop filter from 49 - 51 Hz\n",
      "\n",
      "FIR filter parameters\n",
      "---------------------\n",
      "Designing a one-pass, zero-phase, non-causal bandstop filter:\n",
      "- Windowed time-domain design (firwin) method\n",
      "- Hamming window with 0.0194 passband ripple and 53 dB stopband attenuation\n",
      "- Lower passband edge: 49.38\n",
      "- Lower transition bandwidth: 0.50 Hz (-6 dB cutoff frequency: 49.12 Hz)\n",
      "- Upper passband edge: 50.62 Hz\n",
      "- Upper transition bandwidth: 0.50 Hz (-6 dB cutoff frequency: 50.88 Hz)\n",
      "- Filter length: 3301 samples (6.602 sec)\n",
      "\n"
     ]
    },
    {
     "name": "stderr",
     "output_type": "stream",
     "text": [
      "[Parallel(n_jobs=1)]: Done  31 out of  31 | elapsed:    0.2s finished\n",
      "[Parallel(n_jobs=1)]: Using backend SequentialBackend with 1 concurrent workers.\n",
      "[Parallel(n_jobs=1)]: Done   1 out of   1 | elapsed:    0.0s remaining:    0.0s\n",
      "[Parallel(n_jobs=1)]: Done   2 out of   2 | elapsed:    0.0s remaining:    0.0s\n",
      "[Parallel(n_jobs=1)]: Done   3 out of   3 | elapsed:    0.0s remaining:    0.0s\n",
      "[Parallel(n_jobs=1)]: Done   4 out of   4 | elapsed:    0.0s remaining:    0.0s\n"
     ]
    },
    {
     "name": "stdout",
     "output_type": "stream",
     "text": [
      "Setting up band-stop filter from 49 - 51 Hz\n",
      "\n",
      "FIR filter parameters\n",
      "---------------------\n",
      "Designing a one-pass, zero-phase, non-causal bandstop filter:\n",
      "- Windowed time-domain design (firwin) method\n",
      "- Hamming window with 0.0194 passband ripple and 53 dB stopband attenuation\n",
      "- Lower passband edge: 49.38\n",
      "- Lower transition bandwidth: 0.50 Hz (-6 dB cutoff frequency: 49.12 Hz)\n",
      "- Upper passband edge: 50.62 Hz\n",
      "- Upper transition bandwidth: 0.50 Hz (-6 dB cutoff frequency: 50.88 Hz)\n",
      "- Filter length: 3301 samples (6.602 sec)\n",
      "\n"
     ]
    },
    {
     "name": "stderr",
     "output_type": "stream",
     "text": [
      "[Parallel(n_jobs=1)]: Done  31 out of  31 | elapsed:    0.1s finished\n",
      "[Parallel(n_jobs=1)]: Using backend SequentialBackend with 1 concurrent workers.\n",
      "[Parallel(n_jobs=1)]: Done   1 out of   1 | elapsed:    0.0s remaining:    0.0s\n",
      "[Parallel(n_jobs=1)]: Done   2 out of   2 | elapsed:    0.0s remaining:    0.0s\n",
      "[Parallel(n_jobs=1)]: Done   3 out of   3 | elapsed:    0.0s remaining:    0.0s\n",
      "[Parallel(n_jobs=1)]: Done   4 out of   4 | elapsed:    0.0s remaining:    0.0s\n"
     ]
    },
    {
     "name": "stdout",
     "output_type": "stream",
     "text": [
      "Setting up band-stop filter from 49 - 51 Hz\n",
      "\n",
      "FIR filter parameters\n",
      "---------------------\n",
      "Designing a one-pass, zero-phase, non-causal bandstop filter:\n",
      "- Windowed time-domain design (firwin) method\n",
      "- Hamming window with 0.0194 passband ripple and 53 dB stopband attenuation\n",
      "- Lower passband edge: 49.38\n",
      "- Lower transition bandwidth: 0.50 Hz (-6 dB cutoff frequency: 49.12 Hz)\n",
      "- Upper passband edge: 50.62 Hz\n",
      "- Upper transition bandwidth: 0.50 Hz (-6 dB cutoff frequency: 50.88 Hz)\n",
      "- Filter length: 3301 samples (6.602 sec)\n",
      "\n"
     ]
    },
    {
     "name": "stderr",
     "output_type": "stream",
     "text": [
      "[Parallel(n_jobs=1)]: Done  31 out of  31 | elapsed:    0.1s finished\n",
      "[Parallel(n_jobs=1)]: Using backend SequentialBackend with 1 concurrent workers.\n",
      "[Parallel(n_jobs=1)]: Done   1 out of   1 | elapsed:    0.0s remaining:    0.0s\n",
      "[Parallel(n_jobs=1)]: Done   2 out of   2 | elapsed:    0.0s remaining:    0.0s\n",
      "[Parallel(n_jobs=1)]: Done   3 out of   3 | elapsed:    0.0s remaining:    0.0s\n",
      "[Parallel(n_jobs=1)]: Done   4 out of   4 | elapsed:    0.0s remaining:    0.0s\n"
     ]
    },
    {
     "name": "stdout",
     "output_type": "stream",
     "text": [
      "Setting up band-stop filter from 49 - 51 Hz\n",
      "\n",
      "FIR filter parameters\n",
      "---------------------\n",
      "Designing a one-pass, zero-phase, non-causal bandstop filter:\n",
      "- Windowed time-domain design (firwin) method\n",
      "- Hamming window with 0.0194 passband ripple and 53 dB stopband attenuation\n",
      "- Lower passband edge: 49.38\n",
      "- Lower transition bandwidth: 0.50 Hz (-6 dB cutoff frequency: 49.12 Hz)\n",
      "- Upper passband edge: 50.62 Hz\n",
      "- Upper transition bandwidth: 0.50 Hz (-6 dB cutoff frequency: 50.88 Hz)\n",
      "- Filter length: 3301 samples (6.602 sec)\n",
      "\n"
     ]
    },
    {
     "name": "stderr",
     "output_type": "stream",
     "text": [
      "[Parallel(n_jobs=1)]: Done  31 out of  31 | elapsed:    0.1s finished\n",
      "[Parallel(n_jobs=1)]: Using backend SequentialBackend with 1 concurrent workers.\n",
      "[Parallel(n_jobs=1)]: Done   1 out of   1 | elapsed:    0.0s remaining:    0.0s\n",
      "[Parallel(n_jobs=1)]: Done   2 out of   2 | elapsed:    0.0s remaining:    0.0s\n",
      "[Parallel(n_jobs=1)]: Done   3 out of   3 | elapsed:    0.0s remaining:    0.0s\n",
      "[Parallel(n_jobs=1)]: Done   4 out of   4 | elapsed:    0.0s remaining:    0.0s\n"
     ]
    },
    {
     "name": "stdout",
     "output_type": "stream",
     "text": [
      "Setting up band-stop filter from 49 - 51 Hz\n",
      "\n",
      "FIR filter parameters\n",
      "---------------------\n",
      "Designing a one-pass, zero-phase, non-causal bandstop filter:\n",
      "- Windowed time-domain design (firwin) method\n",
      "- Hamming window with 0.0194 passband ripple and 53 dB stopband attenuation\n",
      "- Lower passband edge: 49.38\n",
      "- Lower transition bandwidth: 0.50 Hz (-6 dB cutoff frequency: 49.12 Hz)\n",
      "- Upper passband edge: 50.62 Hz\n",
      "- Upper transition bandwidth: 0.50 Hz (-6 dB cutoff frequency: 50.88 Hz)\n",
      "- Filter length: 3301 samples (6.602 sec)\n",
      "\n"
     ]
    },
    {
     "name": "stderr",
     "output_type": "stream",
     "text": [
      "[Parallel(n_jobs=1)]: Done  31 out of  31 | elapsed:    0.1s finished\n",
      "[Parallel(n_jobs=1)]: Using backend SequentialBackend with 1 concurrent workers.\n",
      "[Parallel(n_jobs=1)]: Done   1 out of   1 | elapsed:    0.0s remaining:    0.0s\n",
      "[Parallel(n_jobs=1)]: Done   2 out of   2 | elapsed:    0.0s remaining:    0.0s\n",
      "[Parallel(n_jobs=1)]: Done   3 out of   3 | elapsed:    0.0s remaining:    0.0s\n",
      "[Parallel(n_jobs=1)]: Done   4 out of   4 | elapsed:    0.0s remaining:    0.0s\n"
     ]
    },
    {
     "name": "stdout",
     "output_type": "stream",
     "text": [
      "Setting up band-stop filter from 49 - 51 Hz\n",
      "\n",
      "FIR filter parameters\n",
      "---------------------\n",
      "Designing a one-pass, zero-phase, non-causal bandstop filter:\n",
      "- Windowed time-domain design (firwin) method\n",
      "- Hamming window with 0.0194 passband ripple and 53 dB stopband attenuation\n",
      "- Lower passband edge: 49.38\n",
      "- Lower transition bandwidth: 0.50 Hz (-6 dB cutoff frequency: 49.12 Hz)\n",
      "- Upper passband edge: 50.62 Hz\n",
      "- Upper transition bandwidth: 0.50 Hz (-6 dB cutoff frequency: 50.88 Hz)\n",
      "- Filter length: 3301 samples (6.602 sec)\n",
      "\n"
     ]
    },
    {
     "name": "stderr",
     "output_type": "stream",
     "text": [
      "[Parallel(n_jobs=1)]: Done  31 out of  31 | elapsed:    0.1s finished\n",
      "[Parallel(n_jobs=1)]: Using backend SequentialBackend with 1 concurrent workers.\n",
      "[Parallel(n_jobs=1)]: Done   1 out of   1 | elapsed:    0.0s remaining:    0.0s\n",
      "[Parallel(n_jobs=1)]: Done   2 out of   2 | elapsed:    0.0s remaining:    0.0s\n",
      "[Parallel(n_jobs=1)]: Done   3 out of   3 | elapsed:    0.0s remaining:    0.0s\n",
      "[Parallel(n_jobs=1)]: Done   4 out of   4 | elapsed:    0.0s remaining:    0.0s\n"
     ]
    },
    {
     "name": "stdout",
     "output_type": "stream",
     "text": [
      "Setting up band-stop filter from 49 - 51 Hz\n",
      "\n",
      "FIR filter parameters\n",
      "---------------------\n",
      "Designing a one-pass, zero-phase, non-causal bandstop filter:\n",
      "- Windowed time-domain design (firwin) method\n",
      "- Hamming window with 0.0194 passband ripple and 53 dB stopband attenuation\n",
      "- Lower passband edge: 49.38\n",
      "- Lower transition bandwidth: 0.50 Hz (-6 dB cutoff frequency: 49.12 Hz)\n",
      "- Upper passband edge: 50.62 Hz\n",
      "- Upper transition bandwidth: 0.50 Hz (-6 dB cutoff frequency: 50.88 Hz)\n",
      "- Filter length: 3301 samples (6.602 sec)\n",
      "\n"
     ]
    },
    {
     "name": "stderr",
     "output_type": "stream",
     "text": [
      "[Parallel(n_jobs=1)]: Done  31 out of  31 | elapsed:    0.1s finished\n",
      "[Parallel(n_jobs=1)]: Using backend SequentialBackend with 1 concurrent workers.\n",
      "[Parallel(n_jobs=1)]: Done   1 out of   1 | elapsed:    0.0s remaining:    0.0s\n",
      "[Parallel(n_jobs=1)]: Done   2 out of   2 | elapsed:    0.0s remaining:    0.0s\n",
      "[Parallel(n_jobs=1)]: Done   3 out of   3 | elapsed:    0.0s remaining:    0.0s\n",
      "[Parallel(n_jobs=1)]: Done   4 out of   4 | elapsed:    0.0s remaining:    0.0s\n"
     ]
    },
    {
     "name": "stdout",
     "output_type": "stream",
     "text": [
      "Setting up band-stop filter from 49 - 51 Hz\n",
      "\n",
      "FIR filter parameters\n",
      "---------------------\n",
      "Designing a one-pass, zero-phase, non-causal bandstop filter:\n",
      "- Windowed time-domain design (firwin) method\n",
      "- Hamming window with 0.0194 passband ripple and 53 dB stopband attenuation\n",
      "- Lower passband edge: 49.38\n",
      "- Lower transition bandwidth: 0.50 Hz (-6 dB cutoff frequency: 49.12 Hz)\n",
      "- Upper passband edge: 50.62 Hz\n",
      "- Upper transition bandwidth: 0.50 Hz (-6 dB cutoff frequency: 50.88 Hz)\n",
      "- Filter length: 3301 samples (6.602 sec)\n",
      "\n"
     ]
    },
    {
     "name": "stderr",
     "output_type": "stream",
     "text": [
      "[Parallel(n_jobs=1)]: Done  31 out of  31 | elapsed:    0.1s finished\n",
      "[Parallel(n_jobs=1)]: Using backend SequentialBackend with 1 concurrent workers.\n",
      "[Parallel(n_jobs=1)]: Done   1 out of   1 | elapsed:    0.0s remaining:    0.0s\n",
      "[Parallel(n_jobs=1)]: Done   2 out of   2 | elapsed:    0.0s remaining:    0.0s\n",
      "[Parallel(n_jobs=1)]: Done   3 out of   3 | elapsed:    0.0s remaining:    0.0s\n",
      "[Parallel(n_jobs=1)]: Done   4 out of   4 | elapsed:    0.0s remaining:    0.0s\n"
     ]
    },
    {
     "name": "stdout",
     "output_type": "stream",
     "text": [
      "Setting up band-stop filter from 49 - 51 Hz\n",
      "\n",
      "FIR filter parameters\n",
      "---------------------\n",
      "Designing a one-pass, zero-phase, non-causal bandstop filter:\n",
      "- Windowed time-domain design (firwin) method\n",
      "- Hamming window with 0.0194 passband ripple and 53 dB stopband attenuation\n",
      "- Lower passband edge: 49.38\n",
      "- Lower transition bandwidth: 0.50 Hz (-6 dB cutoff frequency: 49.12 Hz)\n",
      "- Upper passband edge: 50.62 Hz\n",
      "- Upper transition bandwidth: 0.50 Hz (-6 dB cutoff frequency: 50.88 Hz)\n",
      "- Filter length: 3301 samples (6.602 sec)\n",
      "\n"
     ]
    },
    {
     "name": "stderr",
     "output_type": "stream",
     "text": [
      "[Parallel(n_jobs=1)]: Done  31 out of  31 | elapsed:    0.1s finished\n",
      "[Parallel(n_jobs=1)]: Using backend SequentialBackend with 1 concurrent workers.\n",
      "[Parallel(n_jobs=1)]: Done   1 out of   1 | elapsed:    0.0s remaining:    0.0s\n",
      "[Parallel(n_jobs=1)]: Done   2 out of   2 | elapsed:    0.0s remaining:    0.0s\n",
      "[Parallel(n_jobs=1)]: Done   3 out of   3 | elapsed:    0.0s remaining:    0.0s\n",
      "[Parallel(n_jobs=1)]: Done   4 out of   4 | elapsed:    0.0s remaining:    0.0s\n"
     ]
    },
    {
     "name": "stdout",
     "output_type": "stream",
     "text": [
      "Setting up band-stop filter from 49 - 51 Hz\n",
      "\n",
      "FIR filter parameters\n",
      "---------------------\n",
      "Designing a one-pass, zero-phase, non-causal bandstop filter:\n",
      "- Windowed time-domain design (firwin) method\n",
      "- Hamming window with 0.0194 passband ripple and 53 dB stopband attenuation\n",
      "- Lower passband edge: 49.38\n",
      "- Lower transition bandwidth: 0.50 Hz (-6 dB cutoff frequency: 49.12 Hz)\n",
      "- Upper passband edge: 50.62 Hz\n",
      "- Upper transition bandwidth: 0.50 Hz (-6 dB cutoff frequency: 50.88 Hz)\n",
      "- Filter length: 3301 samples (6.602 sec)\n",
      "\n"
     ]
    },
    {
     "name": "stderr",
     "output_type": "stream",
     "text": [
      "[Parallel(n_jobs=1)]: Done  31 out of  31 | elapsed:    0.2s finished\n",
      "[Parallel(n_jobs=1)]: Using backend SequentialBackend with 1 concurrent workers.\n",
      "[Parallel(n_jobs=1)]: Done   1 out of   1 | elapsed:    0.0s remaining:    0.0s\n",
      "[Parallel(n_jobs=1)]: Done   2 out of   2 | elapsed:    0.0s remaining:    0.0s\n",
      "[Parallel(n_jobs=1)]: Done   3 out of   3 | elapsed:    0.0s remaining:    0.0s\n",
      "[Parallel(n_jobs=1)]: Done   4 out of   4 | elapsed:    0.0s remaining:    0.0s\n"
     ]
    },
    {
     "name": "stdout",
     "output_type": "stream",
     "text": [
      "Setting up band-stop filter from 49 - 51 Hz\n",
      "\n",
      "FIR filter parameters\n",
      "---------------------\n",
      "Designing a one-pass, zero-phase, non-causal bandstop filter:\n",
      "- Windowed time-domain design (firwin) method\n",
      "- Hamming window with 0.0194 passband ripple and 53 dB stopband attenuation\n",
      "- Lower passband edge: 49.38\n",
      "- Lower transition bandwidth: 0.50 Hz (-6 dB cutoff frequency: 49.12 Hz)\n",
      "- Upper passband edge: 50.62 Hz\n",
      "- Upper transition bandwidth: 0.50 Hz (-6 dB cutoff frequency: 50.88 Hz)\n",
      "- Filter length: 3301 samples (6.602 sec)\n",
      "\n"
     ]
    },
    {
     "name": "stderr",
     "output_type": "stream",
     "text": [
      "[Parallel(n_jobs=1)]: Done  31 out of  31 | elapsed:    0.2s finished\n",
      "[Parallel(n_jobs=1)]: Using backend SequentialBackend with 1 concurrent workers.\n",
      "[Parallel(n_jobs=1)]: Done   1 out of   1 | elapsed:    0.0s remaining:    0.0s\n",
      "[Parallel(n_jobs=1)]: Done   2 out of   2 | elapsed:    0.0s remaining:    0.0s\n",
      "[Parallel(n_jobs=1)]: Done   3 out of   3 | elapsed:    0.0s remaining:    0.0s\n",
      "[Parallel(n_jobs=1)]: Done   4 out of   4 | elapsed:    0.0s remaining:    0.0s\n"
     ]
    },
    {
     "name": "stdout",
     "output_type": "stream",
     "text": [
      "Setting up band-stop filter from 49 - 51 Hz\n",
      "\n",
      "FIR filter parameters\n",
      "---------------------\n",
      "Designing a one-pass, zero-phase, non-causal bandstop filter:\n",
      "- Windowed time-domain design (firwin) method\n",
      "- Hamming window with 0.0194 passband ripple and 53 dB stopband attenuation\n",
      "- Lower passband edge: 49.38\n",
      "- Lower transition bandwidth: 0.50 Hz (-6 dB cutoff frequency: 49.12 Hz)\n",
      "- Upper passband edge: 50.62 Hz\n",
      "- Upper transition bandwidth: 0.50 Hz (-6 dB cutoff frequency: 50.88 Hz)\n",
      "- Filter length: 3301 samples (6.602 sec)\n",
      "\n"
     ]
    },
    {
     "name": "stderr",
     "output_type": "stream",
     "text": [
      "[Parallel(n_jobs=1)]: Done  31 out of  31 | elapsed:    0.1s finished\n",
      "[Parallel(n_jobs=1)]: Using backend SequentialBackend with 1 concurrent workers.\n",
      "[Parallel(n_jobs=1)]: Done   1 out of   1 | elapsed:    0.0s remaining:    0.0s\n",
      "[Parallel(n_jobs=1)]: Done   2 out of   2 | elapsed:    0.0s remaining:    0.0s\n",
      "[Parallel(n_jobs=1)]: Done   3 out of   3 | elapsed:    0.0s remaining:    0.0s\n",
      "[Parallel(n_jobs=1)]: Done   4 out of   4 | elapsed:    0.0s remaining:    0.0s\n"
     ]
    },
    {
     "name": "stdout",
     "output_type": "stream",
     "text": [
      "Setting up band-stop filter from 49 - 51 Hz\n",
      "\n",
      "FIR filter parameters\n",
      "---------------------\n",
      "Designing a one-pass, zero-phase, non-causal bandstop filter:\n",
      "- Windowed time-domain design (firwin) method\n",
      "- Hamming window with 0.0194 passband ripple and 53 dB stopband attenuation\n",
      "- Lower passband edge: 49.38\n",
      "- Lower transition bandwidth: 0.50 Hz (-6 dB cutoff frequency: 49.12 Hz)\n",
      "- Upper passband edge: 50.62 Hz\n",
      "- Upper transition bandwidth: 0.50 Hz (-6 dB cutoff frequency: 50.88 Hz)\n",
      "- Filter length: 3301 samples (6.602 sec)\n",
      "\n"
     ]
    },
    {
     "name": "stderr",
     "output_type": "stream",
     "text": [
      "[Parallel(n_jobs=1)]: Done  31 out of  31 | elapsed:    0.2s finished\n",
      "[Parallel(n_jobs=1)]: Using backend SequentialBackend with 1 concurrent workers.\n",
      "[Parallel(n_jobs=1)]: Done   1 out of   1 | elapsed:    0.0s remaining:    0.0s\n",
      "[Parallel(n_jobs=1)]: Done   2 out of   2 | elapsed:    0.0s remaining:    0.0s\n",
      "[Parallel(n_jobs=1)]: Done   3 out of   3 | elapsed:    0.0s remaining:    0.0s\n",
      "[Parallel(n_jobs=1)]: Done   4 out of   4 | elapsed:    0.0s remaining:    0.0s\n"
     ]
    },
    {
     "name": "stdout",
     "output_type": "stream",
     "text": [
      "Setting up band-stop filter from 49 - 51 Hz\n",
      "\n",
      "FIR filter parameters\n",
      "---------------------\n",
      "Designing a one-pass, zero-phase, non-causal bandstop filter:\n",
      "- Windowed time-domain design (firwin) method\n",
      "- Hamming window with 0.0194 passband ripple and 53 dB stopband attenuation\n",
      "- Lower passband edge: 49.38\n",
      "- Lower transition bandwidth: 0.50 Hz (-6 dB cutoff frequency: 49.12 Hz)\n",
      "- Upper passband edge: 50.62 Hz\n",
      "- Upper transition bandwidth: 0.50 Hz (-6 dB cutoff frequency: 50.88 Hz)\n",
      "- Filter length: 3301 samples (6.602 sec)\n",
      "\n"
     ]
    },
    {
     "name": "stderr",
     "output_type": "stream",
     "text": [
      "[Parallel(n_jobs=1)]: Done  31 out of  31 | elapsed:    0.2s finished\n",
      "[Parallel(n_jobs=1)]: Using backend SequentialBackend with 1 concurrent workers.\n",
      "[Parallel(n_jobs=1)]: Done   1 out of   1 | elapsed:    0.0s remaining:    0.0s\n",
      "[Parallel(n_jobs=1)]: Done   2 out of   2 | elapsed:    0.0s remaining:    0.0s\n",
      "[Parallel(n_jobs=1)]: Done   3 out of   3 | elapsed:    0.0s remaining:    0.0s\n",
      "[Parallel(n_jobs=1)]: Done   4 out of   4 | elapsed:    0.0s remaining:    0.0s\n"
     ]
    },
    {
     "name": "stdout",
     "output_type": "stream",
     "text": [
      "Setting up band-stop filter from 49 - 51 Hz\n",
      "\n",
      "FIR filter parameters\n",
      "---------------------\n",
      "Designing a one-pass, zero-phase, non-causal bandstop filter:\n",
      "- Windowed time-domain design (firwin) method\n",
      "- Hamming window with 0.0194 passband ripple and 53 dB stopband attenuation\n",
      "- Lower passband edge: 49.38\n",
      "- Lower transition bandwidth: 0.50 Hz (-6 dB cutoff frequency: 49.12 Hz)\n",
      "- Upper passband edge: 50.62 Hz\n",
      "- Upper transition bandwidth: 0.50 Hz (-6 dB cutoff frequency: 50.88 Hz)\n",
      "- Filter length: 3301 samples (6.602 sec)\n",
      "\n"
     ]
    },
    {
     "name": "stderr",
     "output_type": "stream",
     "text": [
      "[Parallel(n_jobs=1)]: Done  31 out of  31 | elapsed:    0.3s finished\n",
      "[Parallel(n_jobs=1)]: Using backend SequentialBackend with 1 concurrent workers.\n",
      "[Parallel(n_jobs=1)]: Done   1 out of   1 | elapsed:    0.0s remaining:    0.0s\n",
      "[Parallel(n_jobs=1)]: Done   2 out of   2 | elapsed:    0.0s remaining:    0.0s\n",
      "[Parallel(n_jobs=1)]: Done   3 out of   3 | elapsed:    0.0s remaining:    0.0s\n",
      "[Parallel(n_jobs=1)]: Done   4 out of   4 | elapsed:    0.0s remaining:    0.0s\n"
     ]
    },
    {
     "name": "stdout",
     "output_type": "stream",
     "text": [
      "Setting up band-stop filter from 49 - 51 Hz\n",
      "\n",
      "FIR filter parameters\n",
      "---------------------\n",
      "Designing a one-pass, zero-phase, non-causal bandstop filter:\n",
      "- Windowed time-domain design (firwin) method\n",
      "- Hamming window with 0.0194 passband ripple and 53 dB stopband attenuation\n",
      "- Lower passband edge: 49.38\n",
      "- Lower transition bandwidth: 0.50 Hz (-6 dB cutoff frequency: 49.12 Hz)\n",
      "- Upper passband edge: 50.62 Hz\n",
      "- Upper transition bandwidth: 0.50 Hz (-6 dB cutoff frequency: 50.88 Hz)\n",
      "- Filter length: 3301 samples (6.602 sec)\n",
      "\n"
     ]
    },
    {
     "name": "stderr",
     "output_type": "stream",
     "text": [
      "[Parallel(n_jobs=1)]: Done  31 out of  31 | elapsed:    0.2s finished\n",
      "[Parallel(n_jobs=1)]: Using backend SequentialBackend with 1 concurrent workers.\n",
      "[Parallel(n_jobs=1)]: Done   1 out of   1 | elapsed:    0.0s remaining:    0.0s\n",
      "[Parallel(n_jobs=1)]: Done   2 out of   2 | elapsed:    0.0s remaining:    0.0s\n",
      "[Parallel(n_jobs=1)]: Done   3 out of   3 | elapsed:    0.0s remaining:    0.0s\n",
      "[Parallel(n_jobs=1)]: Done   4 out of   4 | elapsed:    0.0s remaining:    0.0s\n"
     ]
    },
    {
     "name": "stdout",
     "output_type": "stream",
     "text": [
      "Setting up band-stop filter from 49 - 51 Hz\n",
      "\n",
      "FIR filter parameters\n",
      "---------------------\n",
      "Designing a one-pass, zero-phase, non-causal bandstop filter:\n",
      "- Windowed time-domain design (firwin) method\n",
      "- Hamming window with 0.0194 passband ripple and 53 dB stopband attenuation\n",
      "- Lower passband edge: 49.38\n",
      "- Lower transition bandwidth: 0.50 Hz (-6 dB cutoff frequency: 49.12 Hz)\n",
      "- Upper passband edge: 50.62 Hz\n",
      "- Upper transition bandwidth: 0.50 Hz (-6 dB cutoff frequency: 50.88 Hz)\n",
      "- Filter length: 3301 samples (6.602 sec)\n",
      "\n"
     ]
    },
    {
     "name": "stderr",
     "output_type": "stream",
     "text": [
      "[Parallel(n_jobs=1)]: Done  31 out of  31 | elapsed:    0.2s finished\n",
      "[Parallel(n_jobs=1)]: Using backend SequentialBackend with 1 concurrent workers.\n",
      "[Parallel(n_jobs=1)]: Done   1 out of   1 | elapsed:    0.0s remaining:    0.0s\n",
      "[Parallel(n_jobs=1)]: Done   2 out of   2 | elapsed:    0.0s remaining:    0.0s\n",
      "[Parallel(n_jobs=1)]: Done   3 out of   3 | elapsed:    0.0s remaining:    0.0s\n",
      "[Parallel(n_jobs=1)]: Done   4 out of   4 | elapsed:    0.0s remaining:    0.0s\n"
     ]
    },
    {
     "name": "stdout",
     "output_type": "stream",
     "text": [
      "Setting up band-stop filter from 49 - 51 Hz\n",
      "\n",
      "FIR filter parameters\n",
      "---------------------\n",
      "Designing a one-pass, zero-phase, non-causal bandstop filter:\n",
      "- Windowed time-domain design (firwin) method\n",
      "- Hamming window with 0.0194 passband ripple and 53 dB stopband attenuation\n",
      "- Lower passband edge: 49.38\n",
      "- Lower transition bandwidth: 0.50 Hz (-6 dB cutoff frequency: 49.12 Hz)\n",
      "- Upper passband edge: 50.62 Hz\n",
      "- Upper transition bandwidth: 0.50 Hz (-6 dB cutoff frequency: 50.88 Hz)\n",
      "- Filter length: 3301 samples (6.602 sec)\n",
      "\n"
     ]
    },
    {
     "name": "stderr",
     "output_type": "stream",
     "text": [
      "[Parallel(n_jobs=1)]: Done  31 out of  31 | elapsed:    0.1s finished\n",
      "[Parallel(n_jobs=1)]: Using backend SequentialBackend with 1 concurrent workers.\n",
      "[Parallel(n_jobs=1)]: Done   1 out of   1 | elapsed:    0.0s remaining:    0.0s\n",
      "[Parallel(n_jobs=1)]: Done   2 out of   2 | elapsed:    0.0s remaining:    0.0s\n",
      "[Parallel(n_jobs=1)]: Done   3 out of   3 | elapsed:    0.0s remaining:    0.0s\n",
      "[Parallel(n_jobs=1)]: Done   4 out of   4 | elapsed:    0.0s remaining:    0.0s\n"
     ]
    },
    {
     "name": "stdout",
     "output_type": "stream",
     "text": [
      "Setting up band-stop filter from 49 - 51 Hz\n",
      "\n",
      "FIR filter parameters\n",
      "---------------------\n",
      "Designing a one-pass, zero-phase, non-causal bandstop filter:\n",
      "- Windowed time-domain design (firwin) method\n",
      "- Hamming window with 0.0194 passband ripple and 53 dB stopband attenuation\n",
      "- Lower passband edge: 49.38\n",
      "- Lower transition bandwidth: 0.50 Hz (-6 dB cutoff frequency: 49.12 Hz)\n",
      "- Upper passband edge: 50.62 Hz\n",
      "- Upper transition bandwidth: 0.50 Hz (-6 dB cutoff frequency: 50.88 Hz)\n",
      "- Filter length: 3301 samples (6.602 sec)\n",
      "\n"
     ]
    },
    {
     "name": "stderr",
     "output_type": "stream",
     "text": [
      "[Parallel(n_jobs=1)]: Done  31 out of  31 | elapsed:    0.2s finished\n",
      "[Parallel(n_jobs=1)]: Using backend SequentialBackend with 1 concurrent workers.\n",
      "[Parallel(n_jobs=1)]: Done   1 out of   1 | elapsed:    0.0s remaining:    0.0s\n",
      "[Parallel(n_jobs=1)]: Done   2 out of   2 | elapsed:    0.0s remaining:    0.0s\n",
      "[Parallel(n_jobs=1)]: Done   3 out of   3 | elapsed:    0.0s remaining:    0.0s\n",
      "[Parallel(n_jobs=1)]: Done   4 out of   4 | elapsed:    0.0s remaining:    0.0s\n"
     ]
    },
    {
     "name": "stdout",
     "output_type": "stream",
     "text": [
      "Setting up band-stop filter from 49 - 51 Hz\n",
      "\n",
      "FIR filter parameters\n",
      "---------------------\n",
      "Designing a one-pass, zero-phase, non-causal bandstop filter:\n",
      "- Windowed time-domain design (firwin) method\n",
      "- Hamming window with 0.0194 passband ripple and 53 dB stopband attenuation\n",
      "- Lower passband edge: 49.38\n",
      "- Lower transition bandwidth: 0.50 Hz (-6 dB cutoff frequency: 49.12 Hz)\n",
      "- Upper passband edge: 50.62 Hz\n",
      "- Upper transition bandwidth: 0.50 Hz (-6 dB cutoff frequency: 50.88 Hz)\n",
      "- Filter length: 3301 samples (6.602 sec)\n",
      "\n"
     ]
    },
    {
     "name": "stderr",
     "output_type": "stream",
     "text": [
      "[Parallel(n_jobs=1)]: Done  31 out of  31 | elapsed:    0.2s finished\n",
      "[Parallel(n_jobs=1)]: Using backend SequentialBackend with 1 concurrent workers.\n",
      "[Parallel(n_jobs=1)]: Done   1 out of   1 | elapsed:    0.0s remaining:    0.0s\n",
      "[Parallel(n_jobs=1)]: Done   2 out of   2 | elapsed:    0.0s remaining:    0.0s\n",
      "[Parallel(n_jobs=1)]: Done   3 out of   3 | elapsed:    0.0s remaining:    0.0s\n",
      "[Parallel(n_jobs=1)]: Done   4 out of   4 | elapsed:    0.0s remaining:    0.0s\n"
     ]
    },
    {
     "name": "stdout",
     "output_type": "stream",
     "text": [
      "Setting up band-stop filter from 49 - 51 Hz\n",
      "\n",
      "FIR filter parameters\n",
      "---------------------\n",
      "Designing a one-pass, zero-phase, non-causal bandstop filter:\n",
      "- Windowed time-domain design (firwin) method\n",
      "- Hamming window with 0.0194 passband ripple and 53 dB stopband attenuation\n",
      "- Lower passband edge: 49.38\n",
      "- Lower transition bandwidth: 0.50 Hz (-6 dB cutoff frequency: 49.12 Hz)\n",
      "- Upper passband edge: 50.62 Hz\n",
      "- Upper transition bandwidth: 0.50 Hz (-6 dB cutoff frequency: 50.88 Hz)\n",
      "- Filter length: 3301 samples (6.602 sec)\n",
      "\n"
     ]
    },
    {
     "name": "stderr",
     "output_type": "stream",
     "text": [
      "[Parallel(n_jobs=1)]: Done  31 out of  31 | elapsed:    0.2s finished\n",
      "[Parallel(n_jobs=1)]: Using backend SequentialBackend with 1 concurrent workers.\n",
      "[Parallel(n_jobs=1)]: Done   1 out of   1 | elapsed:    0.0s remaining:    0.0s\n",
      "[Parallel(n_jobs=1)]: Done   2 out of   2 | elapsed:    0.0s remaining:    0.0s\n",
      "[Parallel(n_jobs=1)]: Done   3 out of   3 | elapsed:    0.0s remaining:    0.0s\n",
      "[Parallel(n_jobs=1)]: Done   4 out of   4 | elapsed:    0.0s remaining:    0.0s\n"
     ]
    },
    {
     "name": "stdout",
     "output_type": "stream",
     "text": [
      "Setting up band-stop filter from 49 - 51 Hz\n",
      "\n",
      "FIR filter parameters\n",
      "---------------------\n",
      "Designing a one-pass, zero-phase, non-causal bandstop filter:\n",
      "- Windowed time-domain design (firwin) method\n",
      "- Hamming window with 0.0194 passband ripple and 53 dB stopband attenuation\n",
      "- Lower passband edge: 49.38\n",
      "- Lower transition bandwidth: 0.50 Hz (-6 dB cutoff frequency: 49.12 Hz)\n",
      "- Upper passband edge: 50.62 Hz\n",
      "- Upper transition bandwidth: 0.50 Hz (-6 dB cutoff frequency: 50.88 Hz)\n",
      "- Filter length: 3301 samples (6.602 sec)\n",
      "\n"
     ]
    },
    {
     "name": "stderr",
     "output_type": "stream",
     "text": [
      "[Parallel(n_jobs=1)]: Done  31 out of  31 | elapsed:    0.1s finished\n",
      "[Parallel(n_jobs=1)]: Using backend SequentialBackend with 1 concurrent workers.\n",
      "[Parallel(n_jobs=1)]: Done   1 out of   1 | elapsed:    0.0s remaining:    0.0s\n",
      "[Parallel(n_jobs=1)]: Done   2 out of   2 | elapsed:    0.0s remaining:    0.0s\n",
      "[Parallel(n_jobs=1)]: Done   3 out of   3 | elapsed:    0.0s remaining:    0.0s\n",
      "[Parallel(n_jobs=1)]: Done   4 out of   4 | elapsed:    0.0s remaining:    0.0s\n"
     ]
    },
    {
     "name": "stdout",
     "output_type": "stream",
     "text": [
      "Setting up band-stop filter from 49 - 51 Hz\n",
      "\n",
      "FIR filter parameters\n",
      "---------------------\n",
      "Designing a one-pass, zero-phase, non-causal bandstop filter:\n",
      "- Windowed time-domain design (firwin) method\n",
      "- Hamming window with 0.0194 passband ripple and 53 dB stopband attenuation\n",
      "- Lower passband edge: 49.38\n",
      "- Lower transition bandwidth: 0.50 Hz (-6 dB cutoff frequency: 49.12 Hz)\n",
      "- Upper passband edge: 50.62 Hz\n",
      "- Upper transition bandwidth: 0.50 Hz (-6 dB cutoff frequency: 50.88 Hz)\n",
      "- Filter length: 3301 samples (6.602 sec)\n",
      "\n"
     ]
    },
    {
     "name": "stderr",
     "output_type": "stream",
     "text": [
      "[Parallel(n_jobs=1)]: Done  31 out of  31 | elapsed:    0.1s finished\n",
      "[Parallel(n_jobs=1)]: Using backend SequentialBackend with 1 concurrent workers.\n",
      "[Parallel(n_jobs=1)]: Done   1 out of   1 | elapsed:    0.0s remaining:    0.0s\n",
      "[Parallel(n_jobs=1)]: Done   2 out of   2 | elapsed:    0.0s remaining:    0.0s\n",
      "[Parallel(n_jobs=1)]: Done   3 out of   3 | elapsed:    0.0s remaining:    0.0s\n",
      "[Parallel(n_jobs=1)]: Done   4 out of   4 | elapsed:    0.0s remaining:    0.0s\n"
     ]
    },
    {
     "name": "stdout",
     "output_type": "stream",
     "text": [
      "Setting up band-stop filter from 49 - 51 Hz\n",
      "\n",
      "FIR filter parameters\n",
      "---------------------\n",
      "Designing a one-pass, zero-phase, non-causal bandstop filter:\n",
      "- Windowed time-domain design (firwin) method\n",
      "- Hamming window with 0.0194 passband ripple and 53 dB stopband attenuation\n",
      "- Lower passband edge: 49.38\n",
      "- Lower transition bandwidth: 0.50 Hz (-6 dB cutoff frequency: 49.12 Hz)\n",
      "- Upper passband edge: 50.62 Hz\n",
      "- Upper transition bandwidth: 0.50 Hz (-6 dB cutoff frequency: 50.88 Hz)\n",
      "- Filter length: 3301 samples (6.602 sec)\n",
      "\n"
     ]
    },
    {
     "name": "stderr",
     "output_type": "stream",
     "text": [
      "[Parallel(n_jobs=1)]: Done  31 out of  31 | elapsed:    0.2s finished\n",
      "[Parallel(n_jobs=1)]: Using backend SequentialBackend with 1 concurrent workers.\n",
      "[Parallel(n_jobs=1)]: Done   1 out of   1 | elapsed:    0.0s remaining:    0.0s\n",
      "[Parallel(n_jobs=1)]: Done   2 out of   2 | elapsed:    0.0s remaining:    0.0s\n",
      "[Parallel(n_jobs=1)]: Done   3 out of   3 | elapsed:    0.0s remaining:    0.0s\n",
      "[Parallel(n_jobs=1)]: Done   4 out of   4 | elapsed:    0.0s remaining:    0.0s\n"
     ]
    },
    {
     "name": "stdout",
     "output_type": "stream",
     "text": [
      "Setting up band-stop filter from 49 - 51 Hz\n",
      "\n",
      "FIR filter parameters\n",
      "---------------------\n",
      "Designing a one-pass, zero-phase, non-causal bandstop filter:\n",
      "- Windowed time-domain design (firwin) method\n",
      "- Hamming window with 0.0194 passband ripple and 53 dB stopband attenuation\n",
      "- Lower passband edge: 49.38\n",
      "- Lower transition bandwidth: 0.50 Hz (-6 dB cutoff frequency: 49.12 Hz)\n",
      "- Upper passband edge: 50.62 Hz\n",
      "- Upper transition bandwidth: 0.50 Hz (-6 dB cutoff frequency: 50.88 Hz)\n",
      "- Filter length: 3301 samples (6.602 sec)\n",
      "\n"
     ]
    },
    {
     "name": "stderr",
     "output_type": "stream",
     "text": [
      "[Parallel(n_jobs=1)]: Done  31 out of  31 | elapsed:    0.1s finished\n",
      "[Parallel(n_jobs=1)]: Using backend SequentialBackend with 1 concurrent workers.\n",
      "[Parallel(n_jobs=1)]: Done   1 out of   1 | elapsed:    0.0s remaining:    0.0s\n",
      "[Parallel(n_jobs=1)]: Done   2 out of   2 | elapsed:    0.0s remaining:    0.0s\n",
      "[Parallel(n_jobs=1)]: Done   3 out of   3 | elapsed:    0.0s remaining:    0.0s\n",
      "[Parallel(n_jobs=1)]: Done   4 out of   4 | elapsed:    0.0s remaining:    0.0s\n"
     ]
    },
    {
     "name": "stdout",
     "output_type": "stream",
     "text": [
      "Setting up band-stop filter from 49 - 51 Hz\n",
      "\n",
      "FIR filter parameters\n",
      "---------------------\n",
      "Designing a one-pass, zero-phase, non-causal bandstop filter:\n",
      "- Windowed time-domain design (firwin) method\n",
      "- Hamming window with 0.0194 passband ripple and 53 dB stopband attenuation\n",
      "- Lower passband edge: 49.38\n",
      "- Lower transition bandwidth: 0.50 Hz (-6 dB cutoff frequency: 49.12 Hz)\n",
      "- Upper passband edge: 50.62 Hz\n",
      "- Upper transition bandwidth: 0.50 Hz (-6 dB cutoff frequency: 50.88 Hz)\n",
      "- Filter length: 3301 samples (6.602 sec)\n",
      "\n"
     ]
    },
    {
     "name": "stderr",
     "output_type": "stream",
     "text": [
      "[Parallel(n_jobs=1)]: Done  31 out of  31 | elapsed:    0.1s finished\n",
      "[Parallel(n_jobs=1)]: Using backend SequentialBackend with 1 concurrent workers.\n",
      "[Parallel(n_jobs=1)]: Done   1 out of   1 | elapsed:    0.0s remaining:    0.0s\n",
      "[Parallel(n_jobs=1)]: Done   2 out of   2 | elapsed:    0.0s remaining:    0.0s\n",
      "[Parallel(n_jobs=1)]: Done   3 out of   3 | elapsed:    0.0s remaining:    0.0s\n",
      "[Parallel(n_jobs=1)]: Done   4 out of   4 | elapsed:    0.0s remaining:    0.0s\n"
     ]
    },
    {
     "name": "stdout",
     "output_type": "stream",
     "text": [
      "Setting up band-stop filter from 49 - 51 Hz\n",
      "\n",
      "FIR filter parameters\n",
      "---------------------\n",
      "Designing a one-pass, zero-phase, non-causal bandstop filter:\n",
      "- Windowed time-domain design (firwin) method\n",
      "- Hamming window with 0.0194 passband ripple and 53 dB stopband attenuation\n",
      "- Lower passband edge: 49.38\n",
      "- Lower transition bandwidth: 0.50 Hz (-6 dB cutoff frequency: 49.12 Hz)\n",
      "- Upper passband edge: 50.62 Hz\n",
      "- Upper transition bandwidth: 0.50 Hz (-6 dB cutoff frequency: 50.88 Hz)\n",
      "- Filter length: 3301 samples (6.602 sec)\n",
      "\n"
     ]
    },
    {
     "name": "stderr",
     "output_type": "stream",
     "text": [
      "[Parallel(n_jobs=1)]: Done  31 out of  31 | elapsed:    0.2s finished\n",
      "[Parallel(n_jobs=1)]: Using backend SequentialBackend with 1 concurrent workers.\n",
      "[Parallel(n_jobs=1)]: Done   1 out of   1 | elapsed:    0.0s remaining:    0.0s\n",
      "[Parallel(n_jobs=1)]: Done   2 out of   2 | elapsed:    0.0s remaining:    0.0s\n",
      "[Parallel(n_jobs=1)]: Done   3 out of   3 | elapsed:    0.0s remaining:    0.0s\n",
      "[Parallel(n_jobs=1)]: Done   4 out of   4 | elapsed:    0.0s remaining:    0.0s\n"
     ]
    },
    {
     "name": "stdout",
     "output_type": "stream",
     "text": [
      "Setting up band-stop filter from 49 - 51 Hz\n",
      "\n",
      "FIR filter parameters\n",
      "---------------------\n",
      "Designing a one-pass, zero-phase, non-causal bandstop filter:\n",
      "- Windowed time-domain design (firwin) method\n",
      "- Hamming window with 0.0194 passband ripple and 53 dB stopband attenuation\n",
      "- Lower passband edge: 49.38\n",
      "- Lower transition bandwidth: 0.50 Hz (-6 dB cutoff frequency: 49.12 Hz)\n",
      "- Upper passband edge: 50.62 Hz\n",
      "- Upper transition bandwidth: 0.50 Hz (-6 dB cutoff frequency: 50.88 Hz)\n",
      "- Filter length: 3301 samples (6.602 sec)\n",
      "\n"
     ]
    },
    {
     "name": "stderr",
     "output_type": "stream",
     "text": [
      "[Parallel(n_jobs=1)]: Done  31 out of  31 | elapsed:    0.1s finished\n",
      "[Parallel(n_jobs=1)]: Using backend SequentialBackend with 1 concurrent workers.\n",
      "[Parallel(n_jobs=1)]: Done   1 out of   1 | elapsed:    0.0s remaining:    0.0s\n",
      "[Parallel(n_jobs=1)]: Done   2 out of   2 | elapsed:    0.0s remaining:    0.0s\n",
      "[Parallel(n_jobs=1)]: Done   3 out of   3 | elapsed:    0.0s remaining:    0.0s\n",
      "[Parallel(n_jobs=1)]: Done   4 out of   4 | elapsed:    0.0s remaining:    0.0s\n"
     ]
    },
    {
     "name": "stdout",
     "output_type": "stream",
     "text": [
      "Setting up band-stop filter from 49 - 51 Hz\n",
      "\n",
      "FIR filter parameters\n",
      "---------------------\n",
      "Designing a one-pass, zero-phase, non-causal bandstop filter:\n",
      "- Windowed time-domain design (firwin) method\n",
      "- Hamming window with 0.0194 passband ripple and 53 dB stopband attenuation\n",
      "- Lower passband edge: 49.38\n",
      "- Lower transition bandwidth: 0.50 Hz (-6 dB cutoff frequency: 49.12 Hz)\n",
      "- Upper passband edge: 50.62 Hz\n",
      "- Upper transition bandwidth: 0.50 Hz (-6 dB cutoff frequency: 50.88 Hz)\n",
      "- Filter length: 3301 samples (6.602 sec)\n",
      "\n"
     ]
    },
    {
     "name": "stderr",
     "output_type": "stream",
     "text": [
      "[Parallel(n_jobs=1)]: Done  31 out of  31 | elapsed:    0.2s finished\n",
      "[Parallel(n_jobs=1)]: Using backend SequentialBackend with 1 concurrent workers.\n",
      "[Parallel(n_jobs=1)]: Done   1 out of   1 | elapsed:    0.0s remaining:    0.0s\n",
      "[Parallel(n_jobs=1)]: Done   2 out of   2 | elapsed:    0.0s remaining:    0.0s\n",
      "[Parallel(n_jobs=1)]: Done   3 out of   3 | elapsed:    0.0s remaining:    0.0s\n",
      "[Parallel(n_jobs=1)]: Done   4 out of   4 | elapsed:    0.0s remaining:    0.0s\n"
     ]
    },
    {
     "name": "stdout",
     "output_type": "stream",
     "text": [
      "Setting up band-stop filter from 49 - 51 Hz\n",
      "\n",
      "FIR filter parameters\n",
      "---------------------\n",
      "Designing a one-pass, zero-phase, non-causal bandstop filter:\n",
      "- Windowed time-domain design (firwin) method\n",
      "- Hamming window with 0.0194 passband ripple and 53 dB stopband attenuation\n",
      "- Lower passband edge: 49.38\n",
      "- Lower transition bandwidth: 0.50 Hz (-6 dB cutoff frequency: 49.12 Hz)\n",
      "- Upper passband edge: 50.62 Hz\n",
      "- Upper transition bandwidth: 0.50 Hz (-6 dB cutoff frequency: 50.88 Hz)\n",
      "- Filter length: 3301 samples (6.602 sec)\n",
      "\n"
     ]
    },
    {
     "name": "stderr",
     "output_type": "stream",
     "text": [
      "[Parallel(n_jobs=1)]: Done  31 out of  31 | elapsed:    0.2s finished\n",
      "[Parallel(n_jobs=1)]: Using backend SequentialBackend with 1 concurrent workers.\n",
      "[Parallel(n_jobs=1)]: Done   1 out of   1 | elapsed:    0.0s remaining:    0.0s\n",
      "[Parallel(n_jobs=1)]: Done   2 out of   2 | elapsed:    0.0s remaining:    0.0s\n",
      "[Parallel(n_jobs=1)]: Done   3 out of   3 | elapsed:    0.0s remaining:    0.0s\n",
      "[Parallel(n_jobs=1)]: Done   4 out of   4 | elapsed:    0.0s remaining:    0.0s\n"
     ]
    },
    {
     "name": "stdout",
     "output_type": "stream",
     "text": [
      "Setting up band-stop filter from 49 - 51 Hz\n",
      "\n",
      "FIR filter parameters\n",
      "---------------------\n",
      "Designing a one-pass, zero-phase, non-causal bandstop filter:\n",
      "- Windowed time-domain design (firwin) method\n",
      "- Hamming window with 0.0194 passband ripple and 53 dB stopband attenuation\n",
      "- Lower passband edge: 49.38\n",
      "- Lower transition bandwidth: 0.50 Hz (-6 dB cutoff frequency: 49.12 Hz)\n",
      "- Upper passband edge: 50.62 Hz\n",
      "- Upper transition bandwidth: 0.50 Hz (-6 dB cutoff frequency: 50.88 Hz)\n",
      "- Filter length: 3301 samples (6.602 sec)\n",
      "\n"
     ]
    },
    {
     "name": "stderr",
     "output_type": "stream",
     "text": [
      "[Parallel(n_jobs=1)]: Done  31 out of  31 | elapsed:    0.1s finished\n",
      "[Parallel(n_jobs=1)]: Using backend SequentialBackend with 1 concurrent workers.\n",
      "[Parallel(n_jobs=1)]: Done   1 out of   1 | elapsed:    0.0s remaining:    0.0s\n",
      "[Parallel(n_jobs=1)]: Done   2 out of   2 | elapsed:    0.0s remaining:    0.0s\n",
      "[Parallel(n_jobs=1)]: Done   3 out of   3 | elapsed:    0.0s remaining:    0.0s\n",
      "[Parallel(n_jobs=1)]: Done   4 out of   4 | elapsed:    0.0s remaining:    0.0s\n"
     ]
    },
    {
     "name": "stdout",
     "output_type": "stream",
     "text": [
      "Setting up band-stop filter from 49 - 51 Hz\n",
      "\n",
      "FIR filter parameters\n",
      "---------------------\n",
      "Designing a one-pass, zero-phase, non-causal bandstop filter:\n",
      "- Windowed time-domain design (firwin) method\n",
      "- Hamming window with 0.0194 passband ripple and 53 dB stopband attenuation\n",
      "- Lower passband edge: 49.38\n",
      "- Lower transition bandwidth: 0.50 Hz (-6 dB cutoff frequency: 49.12 Hz)\n",
      "- Upper passband edge: 50.62 Hz\n",
      "- Upper transition bandwidth: 0.50 Hz (-6 dB cutoff frequency: 50.88 Hz)\n",
      "- Filter length: 3301 samples (6.602 sec)\n",
      "\n"
     ]
    },
    {
     "name": "stderr",
     "output_type": "stream",
     "text": [
      "[Parallel(n_jobs=1)]: Done  31 out of  31 | elapsed:    0.1s finished\n",
      "[Parallel(n_jobs=1)]: Using backend SequentialBackend with 1 concurrent workers.\n",
      "[Parallel(n_jobs=1)]: Done   1 out of   1 | elapsed:    0.0s remaining:    0.0s\n",
      "[Parallel(n_jobs=1)]: Done   2 out of   2 | elapsed:    0.0s remaining:    0.0s\n",
      "[Parallel(n_jobs=1)]: Done   3 out of   3 | elapsed:    0.0s remaining:    0.0s\n",
      "[Parallel(n_jobs=1)]: Done   4 out of   4 | elapsed:    0.0s remaining:    0.0s\n"
     ]
    },
    {
     "name": "stdout",
     "output_type": "stream",
     "text": [
      "Setting up band-stop filter from 49 - 51 Hz\n",
      "\n",
      "FIR filter parameters\n",
      "---------------------\n",
      "Designing a one-pass, zero-phase, non-causal bandstop filter:\n",
      "- Windowed time-domain design (firwin) method\n",
      "- Hamming window with 0.0194 passband ripple and 53 dB stopband attenuation\n",
      "- Lower passband edge: 49.38\n",
      "- Lower transition bandwidth: 0.50 Hz (-6 dB cutoff frequency: 49.12 Hz)\n",
      "- Upper passband edge: 50.62 Hz\n",
      "- Upper transition bandwidth: 0.50 Hz (-6 dB cutoff frequency: 50.88 Hz)\n",
      "- Filter length: 3301 samples (6.602 sec)\n",
      "\n"
     ]
    },
    {
     "name": "stderr",
     "output_type": "stream",
     "text": [
      "[Parallel(n_jobs=1)]: Done  31 out of  31 | elapsed:    0.2s finished\n",
      "[Parallel(n_jobs=1)]: Using backend SequentialBackend with 1 concurrent workers.\n",
      "[Parallel(n_jobs=1)]: Done   1 out of   1 | elapsed:    0.0s remaining:    0.0s\n",
      "[Parallel(n_jobs=1)]: Done   2 out of   2 | elapsed:    0.0s remaining:    0.0s\n",
      "[Parallel(n_jobs=1)]: Done   3 out of   3 | elapsed:    0.0s remaining:    0.0s\n",
      "[Parallel(n_jobs=1)]: Done   4 out of   4 | elapsed:    0.0s remaining:    0.0s\n"
     ]
    },
    {
     "name": "stdout",
     "output_type": "stream",
     "text": [
      "Setting up band-stop filter from 49 - 51 Hz\n",
      "\n",
      "FIR filter parameters\n",
      "---------------------\n",
      "Designing a one-pass, zero-phase, non-causal bandstop filter:\n",
      "- Windowed time-domain design (firwin) method\n",
      "- Hamming window with 0.0194 passband ripple and 53 dB stopband attenuation\n",
      "- Lower passband edge: 49.38\n",
      "- Lower transition bandwidth: 0.50 Hz (-6 dB cutoff frequency: 49.12 Hz)\n",
      "- Upper passband edge: 50.62 Hz\n",
      "- Upper transition bandwidth: 0.50 Hz (-6 dB cutoff frequency: 50.88 Hz)\n",
      "- Filter length: 3301 samples (6.602 sec)\n",
      "\n"
     ]
    },
    {
     "name": "stderr",
     "output_type": "stream",
     "text": [
      "[Parallel(n_jobs=1)]: Done  31 out of  31 | elapsed:    0.2s finished\n",
      "[Parallel(n_jobs=1)]: Using backend SequentialBackend with 1 concurrent workers.\n",
      "[Parallel(n_jobs=1)]: Done   1 out of   1 | elapsed:    0.0s remaining:    0.0s\n",
      "[Parallel(n_jobs=1)]: Done   2 out of   2 | elapsed:    0.0s remaining:    0.0s\n",
      "[Parallel(n_jobs=1)]: Done   3 out of   3 | elapsed:    0.0s remaining:    0.0s\n",
      "[Parallel(n_jobs=1)]: Done   4 out of   4 | elapsed:    0.0s remaining:    0.0s\n"
     ]
    },
    {
     "name": "stdout",
     "output_type": "stream",
     "text": [
      "Setting up band-stop filter from 49 - 51 Hz\n",
      "\n",
      "FIR filter parameters\n",
      "---------------------\n",
      "Designing a one-pass, zero-phase, non-causal bandstop filter:\n",
      "- Windowed time-domain design (firwin) method\n",
      "- Hamming window with 0.0194 passband ripple and 53 dB stopband attenuation\n",
      "- Lower passband edge: 49.38\n",
      "- Lower transition bandwidth: 0.50 Hz (-6 dB cutoff frequency: 49.12 Hz)\n",
      "- Upper passband edge: 50.62 Hz\n",
      "- Upper transition bandwidth: 0.50 Hz (-6 dB cutoff frequency: 50.88 Hz)\n",
      "- Filter length: 3301 samples (6.602 sec)\n",
      "\n"
     ]
    },
    {
     "name": "stderr",
     "output_type": "stream",
     "text": [
      "[Parallel(n_jobs=1)]: Done  31 out of  31 | elapsed:    0.3s finished\n",
      "[Parallel(n_jobs=1)]: Using backend SequentialBackend with 1 concurrent workers.\n",
      "[Parallel(n_jobs=1)]: Done   1 out of   1 | elapsed:    0.0s remaining:    0.0s\n",
      "[Parallel(n_jobs=1)]: Done   2 out of   2 | elapsed:    0.0s remaining:    0.0s\n",
      "[Parallel(n_jobs=1)]: Done   3 out of   3 | elapsed:    0.0s remaining:    0.0s\n",
      "[Parallel(n_jobs=1)]: Done   4 out of   4 | elapsed:    0.0s remaining:    0.0s\n"
     ]
    },
    {
     "name": "stdout",
     "output_type": "stream",
     "text": [
      "Setting up band-stop filter from 49 - 51 Hz\n",
      "\n",
      "FIR filter parameters\n",
      "---------------------\n",
      "Designing a one-pass, zero-phase, non-causal bandstop filter:\n",
      "- Windowed time-domain design (firwin) method\n",
      "- Hamming window with 0.0194 passband ripple and 53 dB stopband attenuation\n",
      "- Lower passband edge: 49.38\n",
      "- Lower transition bandwidth: 0.50 Hz (-6 dB cutoff frequency: 49.12 Hz)\n",
      "- Upper passband edge: 50.62 Hz\n",
      "- Upper transition bandwidth: 0.50 Hz (-6 dB cutoff frequency: 50.88 Hz)\n",
      "- Filter length: 3301 samples (6.602 sec)\n",
      "\n"
     ]
    },
    {
     "name": "stderr",
     "output_type": "stream",
     "text": [
      "[Parallel(n_jobs=1)]: Done  31 out of  31 | elapsed:    0.2s finished\n",
      "[Parallel(n_jobs=1)]: Using backend SequentialBackend with 1 concurrent workers.\n",
      "[Parallel(n_jobs=1)]: Done   1 out of   1 | elapsed:    0.0s remaining:    0.0s\n",
      "[Parallel(n_jobs=1)]: Done   2 out of   2 | elapsed:    0.0s remaining:    0.0s\n",
      "[Parallel(n_jobs=1)]: Done   3 out of   3 | elapsed:    0.0s remaining:    0.0s\n",
      "[Parallel(n_jobs=1)]: Done   4 out of   4 | elapsed:    0.0s remaining:    0.0s\n",
      "[Parallel(n_jobs=1)]: Done  31 out of  31 | elapsed:    0.1s finished\n"
     ]
    }
   ],
   "source": [
    "for i in range (len(ID)):  \n",
    "    EEG[i] =  EEG[i].copy().notch_filter(50, picks=None, filter_length='auto', \n",
    "                                       notch_widths=None, trans_bandwidth=1.0, n_jobs=None, method='fir', \n",
    "                                       iir_params=None, mt_bandwidth=None, p_value=0.05, phase='zero', \n",
    "                                       fir_window='hamming', fir_design='firwin', \n",
    "                                       pad='reflect_limited', verbose=None)"
   ]
  },
  {
   "cell_type": "code",
   "execution_count": 61,
   "id": "0d5f2e84",
   "metadata": {
    "scrolled": true
   },
   "outputs": [
    {
     "name": "stdout",
     "output_type": "stream",
     "text": [
      "EEG channel type selected for re-referencing\n",
      "Applying average reference.\n",
      "Applying a custom ('EEG',) reference.\n",
      "EEG channel type selected for re-referencing\n",
      "Applying average reference.\n",
      "Applying a custom ('EEG',) reference.\n",
      "EEG channel type selected for re-referencing\n",
      "Applying average reference.\n",
      "Applying a custom ('EEG',) reference.\n",
      "EEG channel type selected for re-referencing\n",
      "Applying average reference.\n",
      "Applying a custom ('EEG',) reference.\n",
      "EEG channel type selected for re-referencing\n",
      "Applying average reference.\n",
      "Applying a custom ('EEG',) reference.\n",
      "EEG channel type selected for re-referencing\n",
      "Applying average reference.\n",
      "Applying a custom ('EEG',) reference.\n",
      "EEG channel type selected for re-referencing\n",
      "Applying average reference.\n",
      "Applying a custom ('EEG',) reference.\n",
      "EEG channel type selected for re-referencing\n",
      "Applying average reference.\n",
      "Applying a custom ('EEG',) reference.\n",
      "EEG channel type selected for re-referencing\n",
      "Applying average reference.\n",
      "Applying a custom ('EEG',) reference.\n",
      "EEG channel type selected for re-referencing\n",
      "Applying average reference.\n",
      "Applying a custom ('EEG',) reference.\n",
      "EEG channel type selected for re-referencing\n",
      "Applying average reference.\n",
      "Applying a custom ('EEG',) reference.\n",
      "EEG channel type selected for re-referencing\n",
      "Applying average reference.\n",
      "Applying a custom ('EEG',) reference.\n",
      "EEG channel type selected for re-referencing\n",
      "Applying average reference.\n",
      "Applying a custom ('EEG',) reference.\n",
      "EEG channel type selected for re-referencing\n",
      "Applying average reference.\n",
      "Applying a custom ('EEG',) reference.\n",
      "EEG channel type selected for re-referencing\n",
      "Applying average reference.\n",
      "Applying a custom ('EEG',) reference.\n",
      "EEG channel type selected for re-referencing\n",
      "Applying average reference.\n",
      "Applying a custom ('EEG',) reference.\n",
      "EEG channel type selected for re-referencing\n",
      "Applying average reference.\n",
      "Applying a custom ('EEG',) reference.\n",
      "EEG channel type selected for re-referencing\n",
      "Applying average reference.\n",
      "Applying a custom ('EEG',) reference.\n",
      "EEG channel type selected for re-referencing\n",
      "Applying average reference.\n",
      "Applying a custom ('EEG',) reference.\n",
      "EEG channel type selected for re-referencing\n",
      "Applying average reference.\n",
      "Applying a custom ('EEG',) reference.\n",
      "EEG channel type selected for re-referencing\n",
      "Applying average reference.\n",
      "Applying a custom ('EEG',) reference.\n",
      "EEG channel type selected for re-referencing\n",
      "Applying average reference.\n",
      "Applying a custom ('EEG',) reference.\n",
      "EEG channel type selected for re-referencing\n",
      "Applying average reference.\n",
      "Applying a custom ('EEG',) reference.\n",
      "EEG channel type selected for re-referencing\n",
      "Applying average reference.\n",
      "Applying a custom ('EEG',) reference.\n",
      "EEG channel type selected for re-referencing\n",
      "Applying average reference.\n",
      "Applying a custom ('EEG',) reference.\n",
      "EEG channel type selected for re-referencing\n",
      "Applying average reference.\n",
      "Applying a custom ('EEG',) reference.\n",
      "EEG channel type selected for re-referencing\n",
      "Applying average reference.\n",
      "Applying a custom ('EEG',) reference.\n",
      "EEG channel type selected for re-referencing\n",
      "Applying average reference.\n",
      "Applying a custom ('EEG',) reference.\n",
      "EEG channel type selected for re-referencing\n",
      "Applying average reference.\n",
      "Applying a custom ('EEG',) reference.\n",
      "EEG channel type selected for re-referencing\n",
      "Applying average reference.\n",
      "Applying a custom ('EEG',) reference.\n",
      "EEG channel type selected for re-referencing\n",
      "Applying average reference.\n",
      "Applying a custom ('EEG',) reference.\n",
      "EEG channel type selected for re-referencing\n",
      "Applying average reference.\n",
      "Applying a custom ('EEG',) reference.\n",
      "EEG channel type selected for re-referencing\n",
      "Applying average reference.\n",
      "Applying a custom ('EEG',) reference.\n",
      "EEG channel type selected for re-referencing\n",
      "Applying average reference.\n",
      "Applying a custom ('EEG',) reference.\n",
      "EEG channel type selected for re-referencing\n",
      "Applying average reference.\n",
      "Applying a custom ('EEG',) reference.\n",
      "EEG channel type selected for re-referencing\n",
      "Applying average reference.\n",
      "Applying a custom ('EEG',) reference.\n",
      "EEG channel type selected for re-referencing\n",
      "Applying average reference.\n",
      "Applying a custom ('EEG',) reference.\n",
      "EEG channel type selected for re-referencing\n",
      "Applying average reference.\n",
      "Applying a custom ('EEG',) reference.\n",
      "EEG channel type selected for re-referencing\n",
      "Applying average reference.\n",
      "Applying a custom ('EEG',) reference.\n",
      "EEG channel type selected for re-referencing\n",
      "Applying average reference.\n",
      "Applying a custom ('EEG',) reference.\n",
      "EEG channel type selected for re-referencing\n",
      "Applying average reference.\n",
      "Applying a custom ('EEG',) reference.\n",
      "EEG channel type selected for re-referencing\n",
      "Applying average reference.\n",
      "Applying a custom ('EEG',) reference.\n",
      "EEG channel type selected for re-referencing\n",
      "Applying average reference.\n",
      "Applying a custom ('EEG',) reference.\n",
      "EEG channel type selected for re-referencing\n",
      "Applying average reference.\n",
      "Applying a custom ('EEG',) reference.\n",
      "EEG channel type selected for re-referencing\n",
      "Applying average reference.\n",
      "Applying a custom ('EEG',) reference.\n",
      "EEG channel type selected for re-referencing\n",
      "Applying average reference.\n",
      "Applying a custom ('EEG',) reference.\n",
      "EEG channel type selected for re-referencing\n",
      "Applying average reference.\n",
      "Applying a custom ('EEG',) reference.\n",
      "EEG channel type selected for re-referencing\n",
      "Applying average reference.\n",
      "Applying a custom ('EEG',) reference.\n",
      "EEG channel type selected for re-referencing\n",
      "Applying average reference.\n",
      "Applying a custom ('EEG',) reference.\n",
      "EEG channel type selected for re-referencing\n",
      "Applying average reference.\n",
      "Applying a custom ('EEG',) reference.\n",
      "EEG channel type selected for re-referencing\n",
      "Applying average reference.\n",
      "Applying a custom ('EEG',) reference.\n",
      "EEG channel type selected for re-referencing\n",
      "Applying average reference.\n",
      "Applying a custom ('EEG',) reference.\n",
      "EEG channel type selected for re-referencing\n",
      "Applying average reference.\n",
      "Applying a custom ('EEG',) reference.\n",
      "EEG channel type selected for re-referencing\n",
      "Applying average reference.\n",
      "Applying a custom ('EEG',) reference.\n",
      "EEG channel type selected for re-referencing\n",
      "Applying average reference.\n",
      "Applying a custom ('EEG',) reference.\n",
      "EEG channel type selected for re-referencing\n",
      "Applying average reference.\n",
      "Applying a custom ('EEG',) reference.\n",
      "EEG channel type selected for re-referencing\n",
      "Applying average reference.\n",
      "Applying a custom ('EEG',) reference.\n",
      "EEG channel type selected for re-referencing\n",
      "Applying average reference.\n",
      "Applying a custom ('EEG',) reference.\n",
      "EEG channel type selected for re-referencing\n",
      "Applying average reference.\n",
      "Applying a custom ('EEG',) reference.\n"
     ]
    }
   ],
   "source": [
    "for i in range (len(EEG)):\n",
    "    EEG[i]=EEG[i].set_eeg_reference(ref_channels='average')"
   ]
  },
  {
   "cell_type": "code",
   "execution_count": 62,
   "id": "2d20dad6",
   "metadata": {},
   "outputs": [
    {
     "name": "stdout",
     "output_type": "stream",
     "text": [
      "Writing C:\\Users\\dasha\\Documents\\Neurobiology_EEG\\VFT\\VFT1\\procested\\NP022301_2_prepro.fif\n",
      "Closing C:\\Users\\dasha\\Documents\\Neurobiology_EEG\\VFT\\VFT1\\procested\\NP022301_2_prepro.fif\n",
      "[done]\n",
      "Writing C:\\Users\\dasha\\Documents\\Neurobiology_EEG\\VFT\\VFT1\\procested\\NP022303_2_prepro.fif\n"
     ]
    },
    {
     "name": "stderr",
     "output_type": "stream",
     "text": [
      "C:\\Users\\dasha\\AppData\\Local\\Temp\\ipykernel_9316\\351897922.py:2: RuntimeWarning: This filename (C:\\Users\\dasha\\Documents\\Neurobiology_EEG\\VFT\\VFT1\\procested\\NP022301_2_prepro.fif) does not conform to MNE naming conventions. All raw files should end with raw.fif, raw_sss.fif, raw_tsss.fif, _meg.fif, _eeg.fif, _ieeg.fif, raw.fif.gz, raw_sss.fif.gz, raw_tsss.fif.gz, _meg.fif.gz, _eeg.fif.gz or _ieeg.fif.gz\n",
      "  EEG[i].save('procested/'+ID[i] + '_prepro.fif', overwrite=True)\n",
      "C:\\Users\\dasha\\AppData\\Local\\Temp\\ipykernel_9316\\351897922.py:2: RuntimeWarning: This filename (C:\\Users\\dasha\\Documents\\Neurobiology_EEG\\VFT\\VFT1\\procested\\NP022303_2_prepro.fif) does not conform to MNE naming conventions. All raw files should end with raw.fif, raw_sss.fif, raw_tsss.fif, _meg.fif, _eeg.fif, _ieeg.fif, raw.fif.gz, raw_sss.fif.gz, raw_tsss.fif.gz, _meg.fif.gz, _eeg.fif.gz or _ieeg.fif.gz\n",
      "  EEG[i].save('procested/'+ID[i] + '_prepro.fif', overwrite=True)\n"
     ]
    },
    {
     "name": "stdout",
     "output_type": "stream",
     "text": [
      "Closing C:\\Users\\dasha\\Documents\\Neurobiology_EEG\\VFT\\VFT1\\procested\\NP022303_2_prepro.fif\n",
      "[done]\n",
      "Writing C:\\Users\\dasha\\Documents\\Neurobiology_EEG\\VFT\\VFT1\\procested\\NP022307_2_prepro.fif\n",
      "Closing C:\\Users\\dasha\\Documents\\Neurobiology_EEG\\VFT\\VFT1\\procested\\NP022307_2_prepro.fif\n",
      "[done]\n",
      "Writing C:\\Users\\dasha\\Documents\\Neurobiology_EEG\\VFT\\VFT1\\procested\\NP022309_2_prepro.fif\n",
      "Closing C:\\Users\\dasha\\Documents\\Neurobiology_EEG\\VFT\\VFT1\\procested\\NP022309_2_prepro.fif\n"
     ]
    },
    {
     "name": "stderr",
     "output_type": "stream",
     "text": [
      "C:\\Users\\dasha\\AppData\\Local\\Temp\\ipykernel_9316\\351897922.py:2: RuntimeWarning: This filename (C:\\Users\\dasha\\Documents\\Neurobiology_EEG\\VFT\\VFT1\\procested\\NP022307_2_prepro.fif) does not conform to MNE naming conventions. All raw files should end with raw.fif, raw_sss.fif, raw_tsss.fif, _meg.fif, _eeg.fif, _ieeg.fif, raw.fif.gz, raw_sss.fif.gz, raw_tsss.fif.gz, _meg.fif.gz, _eeg.fif.gz or _ieeg.fif.gz\n",
      "  EEG[i].save('procested/'+ID[i] + '_prepro.fif', overwrite=True)\n",
      "C:\\Users\\dasha\\AppData\\Local\\Temp\\ipykernel_9316\\351897922.py:2: RuntimeWarning: This filename (C:\\Users\\dasha\\Documents\\Neurobiology_EEG\\VFT\\VFT1\\procested\\NP022309_2_prepro.fif) does not conform to MNE naming conventions. All raw files should end with raw.fif, raw_sss.fif, raw_tsss.fif, _meg.fif, _eeg.fif, _ieeg.fif, raw.fif.gz, raw_sss.fif.gz, raw_tsss.fif.gz, _meg.fif.gz, _eeg.fif.gz or _ieeg.fif.gz\n",
      "  EEG[i].save('procested/'+ID[i] + '_prepro.fif', overwrite=True)\n"
     ]
    },
    {
     "name": "stdout",
     "output_type": "stream",
     "text": [
      "[done]\n",
      "Writing C:\\Users\\dasha\\Documents\\Neurobiology_EEG\\VFT\\VFT1\\procested\\NP032401_prepro.fif\n",
      "Closing C:\\Users\\dasha\\Documents\\Neurobiology_EEG\\VFT\\VFT1\\procested\\NP032401_prepro.fif\n",
      "[done]\n",
      "Writing C:\\Users\\dasha\\Documents\\Neurobiology_EEG\\VFT\\VFT1\\procested\\NP032402_prepro.fif\n"
     ]
    },
    {
     "name": "stderr",
     "output_type": "stream",
     "text": [
      "C:\\Users\\dasha\\AppData\\Local\\Temp\\ipykernel_9316\\351897922.py:2: RuntimeWarning: This filename (C:\\Users\\dasha\\Documents\\Neurobiology_EEG\\VFT\\VFT1\\procested\\NP032401_prepro.fif) does not conform to MNE naming conventions. All raw files should end with raw.fif, raw_sss.fif, raw_tsss.fif, _meg.fif, _eeg.fif, _ieeg.fif, raw.fif.gz, raw_sss.fif.gz, raw_tsss.fif.gz, _meg.fif.gz, _eeg.fif.gz or _ieeg.fif.gz\n",
      "  EEG[i].save('procested/'+ID[i] + '_prepro.fif', overwrite=True)\n",
      "C:\\Users\\dasha\\AppData\\Local\\Temp\\ipykernel_9316\\351897922.py:2: RuntimeWarning: This filename (C:\\Users\\dasha\\Documents\\Neurobiology_EEG\\VFT\\VFT1\\procested\\NP032402_prepro.fif) does not conform to MNE naming conventions. All raw files should end with raw.fif, raw_sss.fif, raw_tsss.fif, _meg.fif, _eeg.fif, _ieeg.fif, raw.fif.gz, raw_sss.fif.gz, raw_tsss.fif.gz, _meg.fif.gz, _eeg.fif.gz or _ieeg.fif.gz\n",
      "  EEG[i].save('procested/'+ID[i] + '_prepro.fif', overwrite=True)\n"
     ]
    },
    {
     "name": "stdout",
     "output_type": "stream",
     "text": [
      "Closing C:\\Users\\dasha\\Documents\\Neurobiology_EEG\\VFT\\VFT1\\procested\\NP032402_prepro.fif\n",
      "[done]\n",
      "Writing C:\\Users\\dasha\\Documents\\Neurobiology_EEG\\VFT\\VFT1\\procested\\NP032403_prepro.fif\n",
      "Closing C:\\Users\\dasha\\Documents\\Neurobiology_EEG\\VFT\\VFT1\\procested\\NP032403_prepro.fif\n",
      "[done]\n",
      "Writing C:\\Users\\dasha\\Documents\\Neurobiology_EEG\\VFT\\VFT1\\procested\\NP042311_2_prepro.fif\n"
     ]
    },
    {
     "name": "stderr",
     "output_type": "stream",
     "text": [
      "C:\\Users\\dasha\\AppData\\Local\\Temp\\ipykernel_9316\\351897922.py:2: RuntimeWarning: This filename (C:\\Users\\dasha\\Documents\\Neurobiology_EEG\\VFT\\VFT1\\procested\\NP032403_prepro.fif) does not conform to MNE naming conventions. All raw files should end with raw.fif, raw_sss.fif, raw_tsss.fif, _meg.fif, _eeg.fif, _ieeg.fif, raw.fif.gz, raw_sss.fif.gz, raw_tsss.fif.gz, _meg.fif.gz, _eeg.fif.gz or _ieeg.fif.gz\n",
      "  EEG[i].save('procested/'+ID[i] + '_prepro.fif', overwrite=True)\n",
      "C:\\Users\\dasha\\AppData\\Local\\Temp\\ipykernel_9316\\351897922.py:2: RuntimeWarning: This filename (C:\\Users\\dasha\\Documents\\Neurobiology_EEG\\VFT\\VFT1\\procested\\NP042311_2_prepro.fif) does not conform to MNE naming conventions. All raw files should end with raw.fif, raw_sss.fif, raw_tsss.fif, _meg.fif, _eeg.fif, _ieeg.fif, raw.fif.gz, raw_sss.fif.gz, raw_tsss.fif.gz, _meg.fif.gz, _eeg.fif.gz or _ieeg.fif.gz\n",
      "  EEG[i].save('procested/'+ID[i] + '_prepro.fif', overwrite=True)\n"
     ]
    },
    {
     "name": "stdout",
     "output_type": "stream",
     "text": [
      "Closing C:\\Users\\dasha\\Documents\\Neurobiology_EEG\\VFT\\VFT1\\procested\\NP042311_2_prepro.fif\n",
      "[done]\n",
      "Writing C:\\Users\\dasha\\Documents\\Neurobiology_EEG\\VFT\\VFT1\\procested\\NP042313_2_prepro.fif\n",
      "Closing C:\\Users\\dasha\\Documents\\Neurobiology_EEG\\VFT\\VFT1\\procested\\NP042313_2_prepro.fif\n",
      "[done]\n",
      "Writing C:\\Users\\dasha\\Documents\\Neurobiology_EEG\\VFT\\VFT1\\procested\\NP042318_2_prepro.fif\n"
     ]
    },
    {
     "name": "stderr",
     "output_type": "stream",
     "text": [
      "C:\\Users\\dasha\\AppData\\Local\\Temp\\ipykernel_9316\\351897922.py:2: RuntimeWarning: This filename (C:\\Users\\dasha\\Documents\\Neurobiology_EEG\\VFT\\VFT1\\procested\\NP042313_2_prepro.fif) does not conform to MNE naming conventions. All raw files should end with raw.fif, raw_sss.fif, raw_tsss.fif, _meg.fif, _eeg.fif, _ieeg.fif, raw.fif.gz, raw_sss.fif.gz, raw_tsss.fif.gz, _meg.fif.gz, _eeg.fif.gz or _ieeg.fif.gz\n",
      "  EEG[i].save('procested/'+ID[i] + '_prepro.fif', overwrite=True)\n",
      "C:\\Users\\dasha\\AppData\\Local\\Temp\\ipykernel_9316\\351897922.py:2: RuntimeWarning: This filename (C:\\Users\\dasha\\Documents\\Neurobiology_EEG\\VFT\\VFT1\\procested\\NP042318_2_prepro.fif) does not conform to MNE naming conventions. All raw files should end with raw.fif, raw_sss.fif, raw_tsss.fif, _meg.fif, _eeg.fif, _ieeg.fif, raw.fif.gz, raw_sss.fif.gz, raw_tsss.fif.gz, _meg.fif.gz, _eeg.fif.gz or _ieeg.fif.gz\n",
      "  EEG[i].save('procested/'+ID[i] + '_prepro.fif', overwrite=True)\n"
     ]
    },
    {
     "name": "stdout",
     "output_type": "stream",
     "text": [
      "Closing C:\\Users\\dasha\\Documents\\Neurobiology_EEG\\VFT\\VFT1\\procested\\NP042318_2_prepro.fif\n",
      "[done]\n",
      "Writing C:\\Users\\dasha\\Documents\\Neurobiology_EEG\\VFT\\VFT1\\procested\\NP052401_prepro.fif\n",
      "Closing C:\\Users\\dasha\\Documents\\Neurobiology_EEG\\VFT\\VFT1\\procested\\NP052401_prepro.fif\n",
      "[done]\n",
      "Writing C:\\Users\\dasha\\Documents\\Neurobiology_EEG\\VFT\\VFT1\\procested\\NP052402_prepro.fif\n"
     ]
    },
    {
     "name": "stderr",
     "output_type": "stream",
     "text": [
      "C:\\Users\\dasha\\AppData\\Local\\Temp\\ipykernel_9316\\351897922.py:2: RuntimeWarning: This filename (C:\\Users\\dasha\\Documents\\Neurobiology_EEG\\VFT\\VFT1\\procested\\NP052401_prepro.fif) does not conform to MNE naming conventions. All raw files should end with raw.fif, raw_sss.fif, raw_tsss.fif, _meg.fif, _eeg.fif, _ieeg.fif, raw.fif.gz, raw_sss.fif.gz, raw_tsss.fif.gz, _meg.fif.gz, _eeg.fif.gz or _ieeg.fif.gz\n",
      "  EEG[i].save('procested/'+ID[i] + '_prepro.fif', overwrite=True)\n",
      "C:\\Users\\dasha\\AppData\\Local\\Temp\\ipykernel_9316\\351897922.py:2: RuntimeWarning: This filename (C:\\Users\\dasha\\Documents\\Neurobiology_EEG\\VFT\\VFT1\\procested\\NP052402_prepro.fif) does not conform to MNE naming conventions. All raw files should end with raw.fif, raw_sss.fif, raw_tsss.fif, _meg.fif, _eeg.fif, _ieeg.fif, raw.fif.gz, raw_sss.fif.gz, raw_tsss.fif.gz, _meg.fif.gz, _eeg.fif.gz or _ieeg.fif.gz\n",
      "  EEG[i].save('procested/'+ID[i] + '_prepro.fif', overwrite=True)\n"
     ]
    },
    {
     "name": "stdout",
     "output_type": "stream",
     "text": [
      "Closing C:\\Users\\dasha\\Documents\\Neurobiology_EEG\\VFT\\VFT1\\procested\\NP052402_prepro.fif\n",
      "[done]\n",
      "Writing C:\\Users\\dasha\\Documents\\Neurobiology_EEG\\VFT\\VFT1\\procested\\NP052403_prepro.fif\n",
      "Closing C:\\Users\\dasha\\Documents\\Neurobiology_EEG\\VFT\\VFT1\\procested\\NP052403_prepro.fif\n",
      "[done]\n",
      "Writing C:\\Users\\dasha\\Documents\\Neurobiology_EEG\\VFT\\VFT1\\procested\\NP062401_prepro.fif\n"
     ]
    },
    {
     "name": "stderr",
     "output_type": "stream",
     "text": [
      "C:\\Users\\dasha\\AppData\\Local\\Temp\\ipykernel_9316\\351897922.py:2: RuntimeWarning: This filename (C:\\Users\\dasha\\Documents\\Neurobiology_EEG\\VFT\\VFT1\\procested\\NP052403_prepro.fif) does not conform to MNE naming conventions. All raw files should end with raw.fif, raw_sss.fif, raw_tsss.fif, _meg.fif, _eeg.fif, _ieeg.fif, raw.fif.gz, raw_sss.fif.gz, raw_tsss.fif.gz, _meg.fif.gz, _eeg.fif.gz or _ieeg.fif.gz\n",
      "  EEG[i].save('procested/'+ID[i] + '_prepro.fif', overwrite=True)\n",
      "C:\\Users\\dasha\\AppData\\Local\\Temp\\ipykernel_9316\\351897922.py:2: RuntimeWarning: This filename (C:\\Users\\dasha\\Documents\\Neurobiology_EEG\\VFT\\VFT1\\procested\\NP062401_prepro.fif) does not conform to MNE naming conventions. All raw files should end with raw.fif, raw_sss.fif, raw_tsss.fif, _meg.fif, _eeg.fif, _ieeg.fif, raw.fif.gz, raw_sss.fif.gz, raw_tsss.fif.gz, _meg.fif.gz, _eeg.fif.gz or _ieeg.fif.gz\n",
      "  EEG[i].save('procested/'+ID[i] + '_prepro.fif', overwrite=True)\n"
     ]
    },
    {
     "name": "stdout",
     "output_type": "stream",
     "text": [
      "Closing C:\\Users\\dasha\\Documents\\Neurobiology_EEG\\VFT\\VFT1\\procested\\NP062401_prepro.fif\n",
      "[done]\n",
      "Writing C:\\Users\\dasha\\Documents\\Neurobiology_EEG\\VFT\\VFT1\\procested\\NP102201_2_prepro.fif\n",
      "Closing C:\\Users\\dasha\\Documents\\Neurobiology_EEG\\VFT\\VFT1\\procested\\NP102201_2_prepro.fif\n",
      "[done]\n",
      "Writing C:\\Users\\dasha\\Documents\\Neurobiology_EEG\\VFT\\VFT1\\procested\\NP102302_prepro.fif\n"
     ]
    },
    {
     "name": "stderr",
     "output_type": "stream",
     "text": [
      "C:\\Users\\dasha\\AppData\\Local\\Temp\\ipykernel_9316\\351897922.py:2: RuntimeWarning: This filename (C:\\Users\\dasha\\Documents\\Neurobiology_EEG\\VFT\\VFT1\\procested\\NP102201_2_prepro.fif) does not conform to MNE naming conventions. All raw files should end with raw.fif, raw_sss.fif, raw_tsss.fif, _meg.fif, _eeg.fif, _ieeg.fif, raw.fif.gz, raw_sss.fif.gz, raw_tsss.fif.gz, _meg.fif.gz, _eeg.fif.gz or _ieeg.fif.gz\n",
      "  EEG[i].save('procested/'+ID[i] + '_prepro.fif', overwrite=True)\n",
      "C:\\Users\\dasha\\AppData\\Local\\Temp\\ipykernel_9316\\351897922.py:2: RuntimeWarning: This filename (C:\\Users\\dasha\\Documents\\Neurobiology_EEG\\VFT\\VFT1\\procested\\NP102302_prepro.fif) does not conform to MNE naming conventions. All raw files should end with raw.fif, raw_sss.fif, raw_tsss.fif, _meg.fif, _eeg.fif, _ieeg.fif, raw.fif.gz, raw_sss.fif.gz, raw_tsss.fif.gz, _meg.fif.gz, _eeg.fif.gz or _ieeg.fif.gz\n",
      "  EEG[i].save('procested/'+ID[i] + '_prepro.fif', overwrite=True)\n"
     ]
    },
    {
     "name": "stdout",
     "output_type": "stream",
     "text": [
      "Closing C:\\Users\\dasha\\Documents\\Neurobiology_EEG\\VFT\\VFT1\\procested\\NP102302_prepro.fif\n",
      "[done]\n",
      "Writing C:\\Users\\dasha\\Documents\\Neurobiology_EEG\\VFT\\VFT1\\procested\\NP102308_prepro.fif\n",
      "Closing C:\\Users\\dasha\\Documents\\Neurobiology_EEG\\VFT\\VFT1\\procested\\NP102308_prepro.fif\n",
      "[done]\n",
      "Writing C:\\Users\\dasha\\Documents\\Neurobiology_EEG\\VFT\\VFT1\\procested\\NP102310_prepro.fif\n"
     ]
    },
    {
     "name": "stderr",
     "output_type": "stream",
     "text": [
      "C:\\Users\\dasha\\AppData\\Local\\Temp\\ipykernel_9316\\351897922.py:2: RuntimeWarning: This filename (C:\\Users\\dasha\\Documents\\Neurobiology_EEG\\VFT\\VFT1\\procested\\NP102308_prepro.fif) does not conform to MNE naming conventions. All raw files should end with raw.fif, raw_sss.fif, raw_tsss.fif, _meg.fif, _eeg.fif, _ieeg.fif, raw.fif.gz, raw_sss.fif.gz, raw_tsss.fif.gz, _meg.fif.gz, _eeg.fif.gz or _ieeg.fif.gz\n",
      "  EEG[i].save('procested/'+ID[i] + '_prepro.fif', overwrite=True)\n",
      "C:\\Users\\dasha\\AppData\\Local\\Temp\\ipykernel_9316\\351897922.py:2: RuntimeWarning: This filename (C:\\Users\\dasha\\Documents\\Neurobiology_EEG\\VFT\\VFT1\\procested\\NP102310_prepro.fif) does not conform to MNE naming conventions. All raw files should end with raw.fif, raw_sss.fif, raw_tsss.fif, _meg.fif, _eeg.fif, _ieeg.fif, raw.fif.gz, raw_sss.fif.gz, raw_tsss.fif.gz, _meg.fif.gz, _eeg.fif.gz or _ieeg.fif.gz\n",
      "  EEG[i].save('procested/'+ID[i] + '_prepro.fif', overwrite=True)\n"
     ]
    },
    {
     "name": "stdout",
     "output_type": "stream",
     "text": [
      "Closing C:\\Users\\dasha\\Documents\\Neurobiology_EEG\\VFT\\VFT1\\procested\\NP102310_prepro.fif\n",
      "[done]\n",
      "Writing C:\\Users\\dasha\\Documents\\Neurobiology_EEG\\VFT\\VFT1\\procested\\NP102313_prepro.fif\n",
      "Closing C:\\Users\\dasha\\Documents\\Neurobiology_EEG\\VFT\\VFT1\\procested\\NP102313_prepro.fif\n",
      "[done]\n",
      "Writing C:\\Users\\dasha\\Documents\\Neurobiology_EEG\\VFT\\VFT1\\procested\\NP102314_prepro.fif\n"
     ]
    },
    {
     "name": "stderr",
     "output_type": "stream",
     "text": [
      "C:\\Users\\dasha\\AppData\\Local\\Temp\\ipykernel_9316\\351897922.py:2: RuntimeWarning: This filename (C:\\Users\\dasha\\Documents\\Neurobiology_EEG\\VFT\\VFT1\\procested\\NP102313_prepro.fif) does not conform to MNE naming conventions. All raw files should end with raw.fif, raw_sss.fif, raw_tsss.fif, _meg.fif, _eeg.fif, _ieeg.fif, raw.fif.gz, raw_sss.fif.gz, raw_tsss.fif.gz, _meg.fif.gz, _eeg.fif.gz or _ieeg.fif.gz\n",
      "  EEG[i].save('procested/'+ID[i] + '_prepro.fif', overwrite=True)\n",
      "C:\\Users\\dasha\\AppData\\Local\\Temp\\ipykernel_9316\\351897922.py:2: RuntimeWarning: This filename (C:\\Users\\dasha\\Documents\\Neurobiology_EEG\\VFT\\VFT1\\procested\\NP102314_prepro.fif) does not conform to MNE naming conventions. All raw files should end with raw.fif, raw_sss.fif, raw_tsss.fif, _meg.fif, _eeg.fif, _ieeg.fif, raw.fif.gz, raw_sss.fif.gz, raw_tsss.fif.gz, _meg.fif.gz, _eeg.fif.gz or _ieeg.fif.gz\n",
      "  EEG[i].save('procested/'+ID[i] + '_prepro.fif', overwrite=True)\n"
     ]
    },
    {
     "name": "stdout",
     "output_type": "stream",
     "text": [
      "Closing C:\\Users\\dasha\\Documents\\Neurobiology_EEG\\VFT\\VFT1\\procested\\NP102314_prepro.fif\n",
      "[done]\n",
      "Writing C:\\Users\\dasha\\Documents\\Neurobiology_EEG\\VFT\\VFT1\\procested\\NP102315_prepro.fif\n",
      "Closing C:\\Users\\dasha\\Documents\\Neurobiology_EEG\\VFT\\VFT1\\procested\\NP102315_prepro.fif\n",
      "[done]\n",
      "Writing C:\\Users\\dasha\\Documents\\Neurobiology_EEG\\VFT\\VFT1\\procested\\NP112201_2_prepro.fif\n"
     ]
    },
    {
     "name": "stderr",
     "output_type": "stream",
     "text": [
      "C:\\Users\\dasha\\AppData\\Local\\Temp\\ipykernel_9316\\351897922.py:2: RuntimeWarning: This filename (C:\\Users\\dasha\\Documents\\Neurobiology_EEG\\VFT\\VFT1\\procested\\NP102315_prepro.fif) does not conform to MNE naming conventions. All raw files should end with raw.fif, raw_sss.fif, raw_tsss.fif, _meg.fif, _eeg.fif, _ieeg.fif, raw.fif.gz, raw_sss.fif.gz, raw_tsss.fif.gz, _meg.fif.gz, _eeg.fif.gz or _ieeg.fif.gz\n",
      "  EEG[i].save('procested/'+ID[i] + '_prepro.fif', overwrite=True)\n",
      "C:\\Users\\dasha\\AppData\\Local\\Temp\\ipykernel_9316\\351897922.py:2: RuntimeWarning: This filename (C:\\Users\\dasha\\Documents\\Neurobiology_EEG\\VFT\\VFT1\\procested\\NP112201_2_prepro.fif) does not conform to MNE naming conventions. All raw files should end with raw.fif, raw_sss.fif, raw_tsss.fif, _meg.fif, _eeg.fif, _ieeg.fif, raw.fif.gz, raw_sss.fif.gz, raw_tsss.fif.gz, _meg.fif.gz, _eeg.fif.gz or _ieeg.fif.gz\n",
      "  EEG[i].save('procested/'+ID[i] + '_prepro.fif', overwrite=True)\n"
     ]
    },
    {
     "name": "stdout",
     "output_type": "stream",
     "text": [
      "Closing C:\\Users\\dasha\\Documents\\Neurobiology_EEG\\VFT\\VFT1\\procested\\NP112201_2_prepro.fif\n",
      "[done]\n",
      "Writing C:\\Users\\dasha\\Documents\\Neurobiology_EEG\\VFT\\VFT1\\procested\\NP112206_2_prepro.fif\n",
      "Closing C:\\Users\\dasha\\Documents\\Neurobiology_EEG\\VFT\\VFT1\\procested\\NP112206_2_prepro.fif\n",
      "[done]\n",
      "Writing C:\\Users\\dasha\\Documents\\Neurobiology_EEG\\VFT\\VFT1\\procested\\NP112211_2_prepro.fif\n",
      "Closing C:\\Users\\dasha\\Documents\\Neurobiology_EEG\\VFT\\VFT1\\procested\\NP112211_2_prepro.fif\n"
     ]
    },
    {
     "name": "stderr",
     "output_type": "stream",
     "text": [
      "C:\\Users\\dasha\\AppData\\Local\\Temp\\ipykernel_9316\\351897922.py:2: RuntimeWarning: This filename (C:\\Users\\dasha\\Documents\\Neurobiology_EEG\\VFT\\VFT1\\procested\\NP112206_2_prepro.fif) does not conform to MNE naming conventions. All raw files should end with raw.fif, raw_sss.fif, raw_tsss.fif, _meg.fif, _eeg.fif, _ieeg.fif, raw.fif.gz, raw_sss.fif.gz, raw_tsss.fif.gz, _meg.fif.gz, _eeg.fif.gz or _ieeg.fif.gz\n",
      "  EEG[i].save('procested/'+ID[i] + '_prepro.fif', overwrite=True)\n",
      "C:\\Users\\dasha\\AppData\\Local\\Temp\\ipykernel_9316\\351897922.py:2: RuntimeWarning: This filename (C:\\Users\\dasha\\Documents\\Neurobiology_EEG\\VFT\\VFT1\\procested\\NP112211_2_prepro.fif) does not conform to MNE naming conventions. All raw files should end with raw.fif, raw_sss.fif, raw_tsss.fif, _meg.fif, _eeg.fif, _ieeg.fif, raw.fif.gz, raw_sss.fif.gz, raw_tsss.fif.gz, _meg.fif.gz, _eeg.fif.gz or _ieeg.fif.gz\n",
      "  EEG[i].save('procested/'+ID[i] + '_prepro.fif', overwrite=True)\n"
     ]
    },
    {
     "name": "stdout",
     "output_type": "stream",
     "text": [
      "[done]\n",
      "Writing C:\\Users\\dasha\\Documents\\Neurobiology_EEG\\VFT\\VFT1\\procested\\NP112212_2_prepro.fif\n",
      "Closing C:\\Users\\dasha\\Documents\\Neurobiology_EEG\\VFT\\VFT1\\procested\\NP112212_2_prepro.fif\n",
      "[done]\n",
      "Writing C:\\Users\\dasha\\Documents\\Neurobiology_EEG\\VFT\\VFT1\\procested\\NP112213_2_prepro.fif\n"
     ]
    },
    {
     "name": "stderr",
     "output_type": "stream",
     "text": [
      "C:\\Users\\dasha\\AppData\\Local\\Temp\\ipykernel_9316\\351897922.py:2: RuntimeWarning: This filename (C:\\Users\\dasha\\Documents\\Neurobiology_EEG\\VFT\\VFT1\\procested\\NP112212_2_prepro.fif) does not conform to MNE naming conventions. All raw files should end with raw.fif, raw_sss.fif, raw_tsss.fif, _meg.fif, _eeg.fif, _ieeg.fif, raw.fif.gz, raw_sss.fif.gz, raw_tsss.fif.gz, _meg.fif.gz, _eeg.fif.gz or _ieeg.fif.gz\n",
      "  EEG[i].save('procested/'+ID[i] + '_prepro.fif', overwrite=True)\n",
      "C:\\Users\\dasha\\AppData\\Local\\Temp\\ipykernel_9316\\351897922.py:2: RuntimeWarning: This filename (C:\\Users\\dasha\\Documents\\Neurobiology_EEG\\VFT\\VFT1\\procested\\NP112213_2_prepro.fif) does not conform to MNE naming conventions. All raw files should end with raw.fif, raw_sss.fif, raw_tsss.fif, _meg.fif, _eeg.fif, _ieeg.fif, raw.fif.gz, raw_sss.fif.gz, raw_tsss.fif.gz, _meg.fif.gz, _eeg.fif.gz or _ieeg.fif.gz\n",
      "  EEG[i].save('procested/'+ID[i] + '_prepro.fif', overwrite=True)\n"
     ]
    },
    {
     "name": "stdout",
     "output_type": "stream",
     "text": [
      "Closing C:\\Users\\dasha\\Documents\\Neurobiology_EEG\\VFT\\VFT1\\procested\\NP112213_2_prepro.fif\n",
      "[done]\n",
      "Writing C:\\Users\\dasha\\Documents\\Neurobiology_EEG\\VFT\\VFT1\\procested\\NP112214_2_prepro.fif\n",
      "Closing C:\\Users\\dasha\\Documents\\Neurobiology_EEG\\VFT\\VFT1\\procested\\NP112214_2_prepro.fif\n",
      "[done]\n",
      "Writing C:\\Users\\dasha\\Documents\\Neurobiology_EEG\\VFT\\VFT1\\procested\\NP112215_2_prepro.fif\n"
     ]
    },
    {
     "name": "stderr",
     "output_type": "stream",
     "text": [
      "C:\\Users\\dasha\\AppData\\Local\\Temp\\ipykernel_9316\\351897922.py:2: RuntimeWarning: This filename (C:\\Users\\dasha\\Documents\\Neurobiology_EEG\\VFT\\VFT1\\procested\\NP112214_2_prepro.fif) does not conform to MNE naming conventions. All raw files should end with raw.fif, raw_sss.fif, raw_tsss.fif, _meg.fif, _eeg.fif, _ieeg.fif, raw.fif.gz, raw_sss.fif.gz, raw_tsss.fif.gz, _meg.fif.gz, _eeg.fif.gz or _ieeg.fif.gz\n",
      "  EEG[i].save('procested/'+ID[i] + '_prepro.fif', overwrite=True)\n",
      "C:\\Users\\dasha\\AppData\\Local\\Temp\\ipykernel_9316\\351897922.py:2: RuntimeWarning: This filename (C:\\Users\\dasha\\Documents\\Neurobiology_EEG\\VFT\\VFT1\\procested\\NP112215_2_prepro.fif) does not conform to MNE naming conventions. All raw files should end with raw.fif, raw_sss.fif, raw_tsss.fif, _meg.fif, _eeg.fif, _ieeg.fif, raw.fif.gz, raw_sss.fif.gz, raw_tsss.fif.gz, _meg.fif.gz, _eeg.fif.gz or _ieeg.fif.gz\n",
      "  EEG[i].save('procested/'+ID[i] + '_prepro.fif', overwrite=True)\n"
     ]
    },
    {
     "name": "stdout",
     "output_type": "stream",
     "text": [
      "Closing C:\\Users\\dasha\\Documents\\Neurobiology_EEG\\VFT\\VFT1\\procested\\NP112215_2_prepro.fif\n",
      "[done]\n",
      "Writing C:\\Users\\dasha\\Documents\\Neurobiology_EEG\\VFT\\VFT1\\procested\\NP112218_2_prepro.fif\n"
     ]
    },
    {
     "name": "stderr",
     "output_type": "stream",
     "text": [
      "C:\\Users\\dasha\\AppData\\Local\\Temp\\ipykernel_9316\\351897922.py:2: RuntimeWarning: This filename (C:\\Users\\dasha\\Documents\\Neurobiology_EEG\\VFT\\VFT1\\procested\\NP112218_2_prepro.fif) does not conform to MNE naming conventions. All raw files should end with raw.fif, raw_sss.fif, raw_tsss.fif, _meg.fif, _eeg.fif, _ieeg.fif, raw.fif.gz, raw_sss.fif.gz, raw_tsss.fif.gz, _meg.fif.gz, _eeg.fif.gz or _ieeg.fif.gz\n",
      "  EEG[i].save('procested/'+ID[i] + '_prepro.fif', overwrite=True)\n"
     ]
    },
    {
     "name": "stdout",
     "output_type": "stream",
     "text": [
      "Closing C:\\Users\\dasha\\Documents\\Neurobiology_EEG\\VFT\\VFT1\\procested\\NP112218_2_prepro.fif\n",
      "[done]\n",
      "Writing C:\\Users\\dasha\\Documents\\Neurobiology_EEG\\VFT\\VFT1\\procested\\NP112219_2_prepro.fif\n",
      "Closing C:\\Users\\dasha\\Documents\\Neurobiology_EEG\\VFT\\VFT1\\procested\\NP112219_2_prepro.fif\n",
      "[done]\n",
      "Writing C:\\Users\\dasha\\Documents\\Neurobiology_EEG\\VFT\\VFT1\\procested\\NP112221_2_prepro.fif\n"
     ]
    },
    {
     "name": "stderr",
     "output_type": "stream",
     "text": [
      "C:\\Users\\dasha\\AppData\\Local\\Temp\\ipykernel_9316\\351897922.py:2: RuntimeWarning: This filename (C:\\Users\\dasha\\Documents\\Neurobiology_EEG\\VFT\\VFT1\\procested\\NP112219_2_prepro.fif) does not conform to MNE naming conventions. All raw files should end with raw.fif, raw_sss.fif, raw_tsss.fif, _meg.fif, _eeg.fif, _ieeg.fif, raw.fif.gz, raw_sss.fif.gz, raw_tsss.fif.gz, _meg.fif.gz, _eeg.fif.gz or _ieeg.fif.gz\n",
      "  EEG[i].save('procested/'+ID[i] + '_prepro.fif', overwrite=True)\n",
      "C:\\Users\\dasha\\AppData\\Local\\Temp\\ipykernel_9316\\351897922.py:2: RuntimeWarning: This filename (C:\\Users\\dasha\\Documents\\Neurobiology_EEG\\VFT\\VFT1\\procested\\NP112221_2_prepro.fif) does not conform to MNE naming conventions. All raw files should end with raw.fif, raw_sss.fif, raw_tsss.fif, _meg.fif, _eeg.fif, _ieeg.fif, raw.fif.gz, raw_sss.fif.gz, raw_tsss.fif.gz, _meg.fif.gz, _eeg.fif.gz or _ieeg.fif.gz\n",
      "  EEG[i].save('procested/'+ID[i] + '_prepro.fif', overwrite=True)\n"
     ]
    },
    {
     "name": "stdout",
     "output_type": "stream",
     "text": [
      "Closing C:\\Users\\dasha\\Documents\\Neurobiology_EEG\\VFT\\VFT1\\procested\\NP112221_2_prepro.fif\n",
      "[done]\n",
      "Writing C:\\Users\\dasha\\Documents\\Neurobiology_EEG\\VFT\\VFT1\\procested\\NP112223_2_prepro.fif\n",
      "Closing C:\\Users\\dasha\\Documents\\Neurobiology_EEG\\VFT\\VFT1\\procested\\NP112223_2_prepro.fif\n",
      "[done]\n",
      "Writing C:\\Users\\dasha\\Documents\\Neurobiology_EEG\\VFT\\VFT1\\procested\\NP112225_2_prepro.fif\n"
     ]
    },
    {
     "name": "stderr",
     "output_type": "stream",
     "text": [
      "C:\\Users\\dasha\\AppData\\Local\\Temp\\ipykernel_9316\\351897922.py:2: RuntimeWarning: This filename (C:\\Users\\dasha\\Documents\\Neurobiology_EEG\\VFT\\VFT1\\procested\\NP112223_2_prepro.fif) does not conform to MNE naming conventions. All raw files should end with raw.fif, raw_sss.fif, raw_tsss.fif, _meg.fif, _eeg.fif, _ieeg.fif, raw.fif.gz, raw_sss.fif.gz, raw_tsss.fif.gz, _meg.fif.gz, _eeg.fif.gz or _ieeg.fif.gz\n",
      "  EEG[i].save('procested/'+ID[i] + '_prepro.fif', overwrite=True)\n",
      "C:\\Users\\dasha\\AppData\\Local\\Temp\\ipykernel_9316\\351897922.py:2: RuntimeWarning: This filename (C:\\Users\\dasha\\Documents\\Neurobiology_EEG\\VFT\\VFT1\\procested\\NP112225_2_prepro.fif) does not conform to MNE naming conventions. All raw files should end with raw.fif, raw_sss.fif, raw_tsss.fif, _meg.fif, _eeg.fif, _ieeg.fif, raw.fif.gz, raw_sss.fif.gz, raw_tsss.fif.gz, _meg.fif.gz, _eeg.fif.gz or _ieeg.fif.gz\n",
      "  EEG[i].save('procested/'+ID[i] + '_prepro.fif', overwrite=True)\n"
     ]
    },
    {
     "name": "stdout",
     "output_type": "stream",
     "text": [
      "Closing C:\\Users\\dasha\\Documents\\Neurobiology_EEG\\VFT\\VFT1\\procested\\NP112225_2_prepro.fif\n",
      "[done]\n",
      "Writing C:\\Users\\dasha\\Documents\\Neurobiology_EEG\\VFT\\VFT1\\procested\\NP112226_2_prepro.fif\n",
      "Closing C:\\Users\\dasha\\Documents\\Neurobiology_EEG\\VFT\\VFT1\\procested\\NP112226_2_prepro.fif\n",
      "[done]\n",
      "Writing C:\\Users\\dasha\\Documents\\Neurobiology_EEG\\VFT\\VFT1\\procested\\NP112229_2_prepro.fif\n",
      "Closing C:\\Users\\dasha\\Documents\\Neurobiology_EEG\\VFT\\VFT1\\procested\\NP112229_2_prepro.fif\n"
     ]
    },
    {
     "name": "stderr",
     "output_type": "stream",
     "text": [
      "C:\\Users\\dasha\\AppData\\Local\\Temp\\ipykernel_9316\\351897922.py:2: RuntimeWarning: This filename (C:\\Users\\dasha\\Documents\\Neurobiology_EEG\\VFT\\VFT1\\procested\\NP112226_2_prepro.fif) does not conform to MNE naming conventions. All raw files should end with raw.fif, raw_sss.fif, raw_tsss.fif, _meg.fif, _eeg.fif, _ieeg.fif, raw.fif.gz, raw_sss.fif.gz, raw_tsss.fif.gz, _meg.fif.gz, _eeg.fif.gz or _ieeg.fif.gz\n",
      "  EEG[i].save('procested/'+ID[i] + '_prepro.fif', overwrite=True)\n",
      "C:\\Users\\dasha\\AppData\\Local\\Temp\\ipykernel_9316\\351897922.py:2: RuntimeWarning: This filename (C:\\Users\\dasha\\Documents\\Neurobiology_EEG\\VFT\\VFT1\\procested\\NP112229_2_prepro.fif) does not conform to MNE naming conventions. All raw files should end with raw.fif, raw_sss.fif, raw_tsss.fif, _meg.fif, _eeg.fif, _ieeg.fif, raw.fif.gz, raw_sss.fif.gz, raw_tsss.fif.gz, _meg.fif.gz, _eeg.fif.gz or _ieeg.fif.gz\n",
      "  EEG[i].save('procested/'+ID[i] + '_prepro.fif', overwrite=True)\n"
     ]
    },
    {
     "name": "stdout",
     "output_type": "stream",
     "text": [
      "[done]\n",
      "Writing C:\\Users\\dasha\\Documents\\Neurobiology_EEG\\VFT\\VFT1\\procested\\NP112301_prepro.fif\n",
      "Closing C:\\Users\\dasha\\Documents\\Neurobiology_EEG\\VFT\\VFT1\\procested\\NP112301_prepro.fif\n",
      "[done]\n",
      "Writing C:\\Users\\dasha\\Documents\\Neurobiology_EEG\\VFT\\VFT1\\procested\\NP112302_prepro.fif\n"
     ]
    },
    {
     "name": "stderr",
     "output_type": "stream",
     "text": [
      "C:\\Users\\dasha\\AppData\\Local\\Temp\\ipykernel_9316\\351897922.py:2: RuntimeWarning: This filename (C:\\Users\\dasha\\Documents\\Neurobiology_EEG\\VFT\\VFT1\\procested\\NP112301_prepro.fif) does not conform to MNE naming conventions. All raw files should end with raw.fif, raw_sss.fif, raw_tsss.fif, _meg.fif, _eeg.fif, _ieeg.fif, raw.fif.gz, raw_sss.fif.gz, raw_tsss.fif.gz, _meg.fif.gz, _eeg.fif.gz or _ieeg.fif.gz\n",
      "  EEG[i].save('procested/'+ID[i] + '_prepro.fif', overwrite=True)\n",
      "C:\\Users\\dasha\\AppData\\Local\\Temp\\ipykernel_9316\\351897922.py:2: RuntimeWarning: This filename (C:\\Users\\dasha\\Documents\\Neurobiology_EEG\\VFT\\VFT1\\procested\\NP112302_prepro.fif) does not conform to MNE naming conventions. All raw files should end with raw.fif, raw_sss.fif, raw_tsss.fif, _meg.fif, _eeg.fif, _ieeg.fif, raw.fif.gz, raw_sss.fif.gz, raw_tsss.fif.gz, _meg.fif.gz, _eeg.fif.gz or _ieeg.fif.gz\n",
      "  EEG[i].save('procested/'+ID[i] + '_prepro.fif', overwrite=True)\n"
     ]
    },
    {
     "name": "stdout",
     "output_type": "stream",
     "text": [
      "Closing C:\\Users\\dasha\\Documents\\Neurobiology_EEG\\VFT\\VFT1\\procested\\NP112302_prepro.fif\n",
      "[done]\n",
      "Writing C:\\Users\\dasha\\Documents\\Neurobiology_EEG\\VFT\\VFT1\\procested\\NP112303_prepro.fif\n",
      "Closing C:\\Users\\dasha\\Documents\\Neurobiology_EEG\\VFT\\VFT1\\procested\\NP112303_prepro.fif\n",
      "[done]\n",
      "Writing C:\\Users\\dasha\\Documents\\Neurobiology_EEG\\VFT\\VFT1\\procested\\NP112304_prepro.fif\n",
      "Closing C:\\Users\\dasha\\Documents\\Neurobiology_EEG\\VFT\\VFT1\\procested\\NP112304_prepro.fif\n"
     ]
    },
    {
     "name": "stderr",
     "output_type": "stream",
     "text": [
      "C:\\Users\\dasha\\AppData\\Local\\Temp\\ipykernel_9316\\351897922.py:2: RuntimeWarning: This filename (C:\\Users\\dasha\\Documents\\Neurobiology_EEG\\VFT\\VFT1\\procested\\NP112303_prepro.fif) does not conform to MNE naming conventions. All raw files should end with raw.fif, raw_sss.fif, raw_tsss.fif, _meg.fif, _eeg.fif, _ieeg.fif, raw.fif.gz, raw_sss.fif.gz, raw_tsss.fif.gz, _meg.fif.gz, _eeg.fif.gz or _ieeg.fif.gz\n",
      "  EEG[i].save('procested/'+ID[i] + '_prepro.fif', overwrite=True)\n",
      "C:\\Users\\dasha\\AppData\\Local\\Temp\\ipykernel_9316\\351897922.py:2: RuntimeWarning: This filename (C:\\Users\\dasha\\Documents\\Neurobiology_EEG\\VFT\\VFT1\\procested\\NP112304_prepro.fif) does not conform to MNE naming conventions. All raw files should end with raw.fif, raw_sss.fif, raw_tsss.fif, _meg.fif, _eeg.fif, _ieeg.fif, raw.fif.gz, raw_sss.fif.gz, raw_tsss.fif.gz, _meg.fif.gz, _eeg.fif.gz or _ieeg.fif.gz\n",
      "  EEG[i].save('procested/'+ID[i] + '_prepro.fif', overwrite=True)\n"
     ]
    },
    {
     "name": "stdout",
     "output_type": "stream",
     "text": [
      "[done]\n",
      "Writing C:\\Users\\dasha\\Documents\\Neurobiology_EEG\\VFT\\VFT1\\procested\\NP112307_prepro.fif\n",
      "Closing C:\\Users\\dasha\\Documents\\Neurobiology_EEG\\VFT\\VFT1\\procested\\NP112307_prepro.fif\n",
      "[done]\n",
      "Writing C:\\Users\\dasha\\Documents\\Neurobiology_EEG\\VFT\\VFT1\\procested\\NP112308_prepro.fif\n",
      "Closing C:\\Users\\dasha\\Documents\\Neurobiology_EEG\\VFT\\VFT1\\procested\\NP112308_prepro.fif\n"
     ]
    },
    {
     "name": "stderr",
     "output_type": "stream",
     "text": [
      "C:\\Users\\dasha\\AppData\\Local\\Temp\\ipykernel_9316\\351897922.py:2: RuntimeWarning: This filename (C:\\Users\\dasha\\Documents\\Neurobiology_EEG\\VFT\\VFT1\\procested\\NP112307_prepro.fif) does not conform to MNE naming conventions. All raw files should end with raw.fif, raw_sss.fif, raw_tsss.fif, _meg.fif, _eeg.fif, _ieeg.fif, raw.fif.gz, raw_sss.fif.gz, raw_tsss.fif.gz, _meg.fif.gz, _eeg.fif.gz or _ieeg.fif.gz\n",
      "  EEG[i].save('procested/'+ID[i] + '_prepro.fif', overwrite=True)\n",
      "C:\\Users\\dasha\\AppData\\Local\\Temp\\ipykernel_9316\\351897922.py:2: RuntimeWarning: This filename (C:\\Users\\dasha\\Documents\\Neurobiology_EEG\\VFT\\VFT1\\procested\\NP112308_prepro.fif) does not conform to MNE naming conventions. All raw files should end with raw.fif, raw_sss.fif, raw_tsss.fif, _meg.fif, _eeg.fif, _ieeg.fif, raw.fif.gz, raw_sss.fif.gz, raw_tsss.fif.gz, _meg.fif.gz, _eeg.fif.gz or _ieeg.fif.gz\n",
      "  EEG[i].save('procested/'+ID[i] + '_prepro.fif', overwrite=True)\n"
     ]
    },
    {
     "name": "stdout",
     "output_type": "stream",
     "text": [
      "[done]\n",
      "Writing C:\\Users\\dasha\\Documents\\Neurobiology_EEG\\VFT\\VFT1\\procested\\NP112309_prepro.fif\n",
      "Closing C:\\Users\\dasha\\Documents\\Neurobiology_EEG\\VFT\\VFT1\\procested\\NP112309_prepro.fif\n",
      "[done]\n",
      "Writing C:\\Users\\dasha\\Documents\\Neurobiology_EEG\\VFT\\VFT1\\procested\\NP112310_prepro.fif\n"
     ]
    },
    {
     "name": "stderr",
     "output_type": "stream",
     "text": [
      "C:\\Users\\dasha\\AppData\\Local\\Temp\\ipykernel_9316\\351897922.py:2: RuntimeWarning: This filename (C:\\Users\\dasha\\Documents\\Neurobiology_EEG\\VFT\\VFT1\\procested\\NP112309_prepro.fif) does not conform to MNE naming conventions. All raw files should end with raw.fif, raw_sss.fif, raw_tsss.fif, _meg.fif, _eeg.fif, _ieeg.fif, raw.fif.gz, raw_sss.fif.gz, raw_tsss.fif.gz, _meg.fif.gz, _eeg.fif.gz or _ieeg.fif.gz\n",
      "  EEG[i].save('procested/'+ID[i] + '_prepro.fif', overwrite=True)\n",
      "C:\\Users\\dasha\\AppData\\Local\\Temp\\ipykernel_9316\\351897922.py:2: RuntimeWarning: This filename (C:\\Users\\dasha\\Documents\\Neurobiology_EEG\\VFT\\VFT1\\procested\\NP112310_prepro.fif) does not conform to MNE naming conventions. All raw files should end with raw.fif, raw_sss.fif, raw_tsss.fif, _meg.fif, _eeg.fif, _ieeg.fif, raw.fif.gz, raw_sss.fif.gz, raw_tsss.fif.gz, _meg.fif.gz, _eeg.fif.gz or _ieeg.fif.gz\n",
      "  EEG[i].save('procested/'+ID[i] + '_prepro.fif', overwrite=True)\n"
     ]
    },
    {
     "name": "stdout",
     "output_type": "stream",
     "text": [
      "Closing C:\\Users\\dasha\\Documents\\Neurobiology_EEG\\VFT\\VFT1\\procested\\NP112310_prepro.fif\n",
      "[done]\n",
      "Writing C:\\Users\\dasha\\Documents\\Neurobiology_EEG\\VFT\\VFT1\\procested\\NP112311_prepro.fif\n",
      "Closing C:\\Users\\dasha\\Documents\\Neurobiology_EEG\\VFT\\VFT1\\procested\\NP112311_prepro.fif\n",
      "[done]\n",
      "Writing C:\\Users\\dasha\\Documents\\Neurobiology_EEG\\VFT\\VFT1\\procested\\NP112313_prepro.fif\n"
     ]
    },
    {
     "name": "stderr",
     "output_type": "stream",
     "text": [
      "C:\\Users\\dasha\\AppData\\Local\\Temp\\ipykernel_9316\\351897922.py:2: RuntimeWarning: This filename (C:\\Users\\dasha\\Documents\\Neurobiology_EEG\\VFT\\VFT1\\procested\\NP112311_prepro.fif) does not conform to MNE naming conventions. All raw files should end with raw.fif, raw_sss.fif, raw_tsss.fif, _meg.fif, _eeg.fif, _ieeg.fif, raw.fif.gz, raw_sss.fif.gz, raw_tsss.fif.gz, _meg.fif.gz, _eeg.fif.gz or _ieeg.fif.gz\n",
      "  EEG[i].save('procested/'+ID[i] + '_prepro.fif', overwrite=True)\n",
      "C:\\Users\\dasha\\AppData\\Local\\Temp\\ipykernel_9316\\351897922.py:2: RuntimeWarning: This filename (C:\\Users\\dasha\\Documents\\Neurobiology_EEG\\VFT\\VFT1\\procested\\NP112313_prepro.fif) does not conform to MNE naming conventions. All raw files should end with raw.fif, raw_sss.fif, raw_tsss.fif, _meg.fif, _eeg.fif, _ieeg.fif, raw.fif.gz, raw_sss.fif.gz, raw_tsss.fif.gz, _meg.fif.gz, _eeg.fif.gz or _ieeg.fif.gz\n",
      "  EEG[i].save('procested/'+ID[i] + '_prepro.fif', overwrite=True)\n"
     ]
    },
    {
     "name": "stdout",
     "output_type": "stream",
     "text": [
      "Closing C:\\Users\\dasha\\Documents\\Neurobiology_EEG\\VFT\\VFT1\\procested\\NP112313_prepro.fif\n",
      "[done]\n",
      "Writing C:\\Users\\dasha\\Documents\\Neurobiology_EEG\\VFT\\VFT1\\procested\\NP112314_prepro.fif\n",
      "Closing C:\\Users\\dasha\\Documents\\Neurobiology_EEG\\VFT\\VFT1\\procested\\NP112314_prepro.fif\n",
      "[done]\n",
      "Writing C:\\Users\\dasha\\Documents\\Neurobiology_EEG\\VFT\\VFT1\\procested\\NP112315_prepro.fif\n"
     ]
    },
    {
     "name": "stderr",
     "output_type": "stream",
     "text": [
      "C:\\Users\\dasha\\AppData\\Local\\Temp\\ipykernel_9316\\351897922.py:2: RuntimeWarning: This filename (C:\\Users\\dasha\\Documents\\Neurobiology_EEG\\VFT\\VFT1\\procested\\NP112314_prepro.fif) does not conform to MNE naming conventions. All raw files should end with raw.fif, raw_sss.fif, raw_tsss.fif, _meg.fif, _eeg.fif, _ieeg.fif, raw.fif.gz, raw_sss.fif.gz, raw_tsss.fif.gz, _meg.fif.gz, _eeg.fif.gz or _ieeg.fif.gz\n",
      "  EEG[i].save('procested/'+ID[i] + '_prepro.fif', overwrite=True)\n",
      "C:\\Users\\dasha\\AppData\\Local\\Temp\\ipykernel_9316\\351897922.py:2: RuntimeWarning: This filename (C:\\Users\\dasha\\Documents\\Neurobiology_EEG\\VFT\\VFT1\\procested\\NP112315_prepro.fif) does not conform to MNE naming conventions. All raw files should end with raw.fif, raw_sss.fif, raw_tsss.fif, _meg.fif, _eeg.fif, _ieeg.fif, raw.fif.gz, raw_sss.fif.gz, raw_tsss.fif.gz, _meg.fif.gz, _eeg.fif.gz or _ieeg.fif.gz\n",
      "  EEG[i].save('procested/'+ID[i] + '_prepro.fif', overwrite=True)\n"
     ]
    },
    {
     "name": "stdout",
     "output_type": "stream",
     "text": [
      "Closing C:\\Users\\dasha\\Documents\\Neurobiology_EEG\\VFT\\VFT1\\procested\\NP112315_prepro.fif\n",
      "[done]\n",
      "Writing C:\\Users\\dasha\\Documents\\Neurobiology_EEG\\VFT\\VFT1\\procested\\NP112316_prepro.fif\n",
      "Closing C:\\Users\\dasha\\Documents\\Neurobiology_EEG\\VFT\\VFT1\\procested\\NP112316_prepro.fif\n",
      "[done]\n",
      "Writing C:\\Users\\dasha\\Documents\\Neurobiology_EEG\\VFT\\VFT1\\procested\\NP112317_prepro.fif\n"
     ]
    },
    {
     "name": "stderr",
     "output_type": "stream",
     "text": [
      "C:\\Users\\dasha\\AppData\\Local\\Temp\\ipykernel_9316\\351897922.py:2: RuntimeWarning: This filename (C:\\Users\\dasha\\Documents\\Neurobiology_EEG\\VFT\\VFT1\\procested\\NP112316_prepro.fif) does not conform to MNE naming conventions. All raw files should end with raw.fif, raw_sss.fif, raw_tsss.fif, _meg.fif, _eeg.fif, _ieeg.fif, raw.fif.gz, raw_sss.fif.gz, raw_tsss.fif.gz, _meg.fif.gz, _eeg.fif.gz or _ieeg.fif.gz\n",
      "  EEG[i].save('procested/'+ID[i] + '_prepro.fif', overwrite=True)\n",
      "C:\\Users\\dasha\\AppData\\Local\\Temp\\ipykernel_9316\\351897922.py:2: RuntimeWarning: This filename (C:\\Users\\dasha\\Documents\\Neurobiology_EEG\\VFT\\VFT1\\procested\\NP112317_prepro.fif) does not conform to MNE naming conventions. All raw files should end with raw.fif, raw_sss.fif, raw_tsss.fif, _meg.fif, _eeg.fif, _ieeg.fif, raw.fif.gz, raw_sss.fif.gz, raw_tsss.fif.gz, _meg.fif.gz, _eeg.fif.gz or _ieeg.fif.gz\n",
      "  EEG[i].save('procested/'+ID[i] + '_prepro.fif', overwrite=True)\n"
     ]
    },
    {
     "name": "stdout",
     "output_type": "stream",
     "text": [
      "Closing C:\\Users\\dasha\\Documents\\Neurobiology_EEG\\VFT\\VFT1\\procested\\NP112317_prepro.fif\n",
      "[done]\n",
      "Writing C:\\Users\\dasha\\Documents\\Neurobiology_EEG\\VFT\\VFT1\\procested\\NP112318_prepro.fif\n",
      "Closing C:\\Users\\dasha\\Documents\\Neurobiology_EEG\\VFT\\VFT1\\procested\\NP112318_prepro.fif\n",
      "[done]\n",
      "Writing C:\\Users\\dasha\\Documents\\Neurobiology_EEG\\VFT\\VFT1\\procested\\NP112319_prepro.fif\n"
     ]
    },
    {
     "name": "stderr",
     "output_type": "stream",
     "text": [
      "C:\\Users\\dasha\\AppData\\Local\\Temp\\ipykernel_9316\\351897922.py:2: RuntimeWarning: This filename (C:\\Users\\dasha\\Documents\\Neurobiology_EEG\\VFT\\VFT1\\procested\\NP112318_prepro.fif) does not conform to MNE naming conventions. All raw files should end with raw.fif, raw_sss.fif, raw_tsss.fif, _meg.fif, _eeg.fif, _ieeg.fif, raw.fif.gz, raw_sss.fif.gz, raw_tsss.fif.gz, _meg.fif.gz, _eeg.fif.gz or _ieeg.fif.gz\n",
      "  EEG[i].save('procested/'+ID[i] + '_prepro.fif', overwrite=True)\n",
      "C:\\Users\\dasha\\AppData\\Local\\Temp\\ipykernel_9316\\351897922.py:2: RuntimeWarning: This filename (C:\\Users\\dasha\\Documents\\Neurobiology_EEG\\VFT\\VFT1\\procested\\NP112319_prepro.fif) does not conform to MNE naming conventions. All raw files should end with raw.fif, raw_sss.fif, raw_tsss.fif, _meg.fif, _eeg.fif, _ieeg.fif, raw.fif.gz, raw_sss.fif.gz, raw_tsss.fif.gz, _meg.fif.gz, _eeg.fif.gz or _ieeg.fif.gz\n",
      "  EEG[i].save('procested/'+ID[i] + '_prepro.fif', overwrite=True)\n"
     ]
    },
    {
     "name": "stdout",
     "output_type": "stream",
     "text": [
      "Closing C:\\Users\\dasha\\Documents\\Neurobiology_EEG\\VFT\\VFT1\\procested\\NP112319_prepro.fif\n",
      "[done]\n",
      "Writing C:\\Users\\dasha\\Documents\\Neurobiology_EEG\\VFT\\VFT1\\procested\\NP112320_prepro.fif\n",
      "Closing C:\\Users\\dasha\\Documents\\Neurobiology_EEG\\VFT\\VFT1\\procested\\NP112320_prepro.fif\n",
      "[done]\n",
      "Writing C:\\Users\\dasha\\Documents\\Neurobiology_EEG\\VFT\\VFT1\\procested\\NP112321_prepro.fif\n",
      "Closing C:\\Users\\dasha\\Documents\\Neurobiology_EEG\\VFT\\VFT1\\procested\\NP112321_prepro.fif\n"
     ]
    },
    {
     "name": "stderr",
     "output_type": "stream",
     "text": [
      "C:\\Users\\dasha\\AppData\\Local\\Temp\\ipykernel_9316\\351897922.py:2: RuntimeWarning: This filename (C:\\Users\\dasha\\Documents\\Neurobiology_EEG\\VFT\\VFT1\\procested\\NP112320_prepro.fif) does not conform to MNE naming conventions. All raw files should end with raw.fif, raw_sss.fif, raw_tsss.fif, _meg.fif, _eeg.fif, _ieeg.fif, raw.fif.gz, raw_sss.fif.gz, raw_tsss.fif.gz, _meg.fif.gz, _eeg.fif.gz or _ieeg.fif.gz\n",
      "  EEG[i].save('procested/'+ID[i] + '_prepro.fif', overwrite=True)\n",
      "C:\\Users\\dasha\\AppData\\Local\\Temp\\ipykernel_9316\\351897922.py:2: RuntimeWarning: This filename (C:\\Users\\dasha\\Documents\\Neurobiology_EEG\\VFT\\VFT1\\procested\\NP112321_prepro.fif) does not conform to MNE naming conventions. All raw files should end with raw.fif, raw_sss.fif, raw_tsss.fif, _meg.fif, _eeg.fif, _ieeg.fif, raw.fif.gz, raw_sss.fif.gz, raw_tsss.fif.gz, _meg.fif.gz, _eeg.fif.gz or _ieeg.fif.gz\n",
      "  EEG[i].save('procested/'+ID[i] + '_prepro.fif', overwrite=True)\n"
     ]
    },
    {
     "name": "stdout",
     "output_type": "stream",
     "text": [
      "[done]\n",
      "Writing C:\\Users\\dasha\\Documents\\Neurobiology_EEG\\VFT\\VFT1\\procested\\NP112322_prepro.fif\n",
      "Closing C:\\Users\\dasha\\Documents\\Neurobiology_EEG\\VFT\\VFT1\\procested\\NP112322_prepro.fif\n",
      "[done]\n",
      "Writing C:\\Users\\dasha\\Documents\\Neurobiology_EEG\\VFT\\VFT1\\procested\\NP122201_2_prepro.fif\n",
      "Closing C:\\Users\\dasha\\Documents\\Neurobiology_EEG\\VFT\\VFT1\\procested\\NP122201_2_prepro.fif\n"
     ]
    },
    {
     "name": "stderr",
     "output_type": "stream",
     "text": [
      "C:\\Users\\dasha\\AppData\\Local\\Temp\\ipykernel_9316\\351897922.py:2: RuntimeWarning: This filename (C:\\Users\\dasha\\Documents\\Neurobiology_EEG\\VFT\\VFT1\\procested\\NP112322_prepro.fif) does not conform to MNE naming conventions. All raw files should end with raw.fif, raw_sss.fif, raw_tsss.fif, _meg.fif, _eeg.fif, _ieeg.fif, raw.fif.gz, raw_sss.fif.gz, raw_tsss.fif.gz, _meg.fif.gz, _eeg.fif.gz or _ieeg.fif.gz\n",
      "  EEG[i].save('procested/'+ID[i] + '_prepro.fif', overwrite=True)\n",
      "C:\\Users\\dasha\\AppData\\Local\\Temp\\ipykernel_9316\\351897922.py:2: RuntimeWarning: This filename (C:\\Users\\dasha\\Documents\\Neurobiology_EEG\\VFT\\VFT1\\procested\\NP122201_2_prepro.fif) does not conform to MNE naming conventions. All raw files should end with raw.fif, raw_sss.fif, raw_tsss.fif, _meg.fif, _eeg.fif, _ieeg.fif, raw.fif.gz, raw_sss.fif.gz, raw_tsss.fif.gz, _meg.fif.gz, _eeg.fif.gz or _ieeg.fif.gz\n",
      "  EEG[i].save('procested/'+ID[i] + '_prepro.fif', overwrite=True)\n"
     ]
    },
    {
     "name": "stdout",
     "output_type": "stream",
     "text": [
      "[done]\n",
      "Writing C:\\Users\\dasha\\Documents\\Neurobiology_EEG\\VFT\\VFT1\\procested\\NP122202_2_prepro.fif\n",
      "Closing C:\\Users\\dasha\\Documents\\Neurobiology_EEG\\VFT\\VFT1\\procested\\NP122202_2_prepro.fif\n",
      "[done]\n",
      "Writing C:\\Users\\dasha\\Documents\\Neurobiology_EEG\\VFT\\VFT1\\procested\\NP122301_prepro.fif\n"
     ]
    },
    {
     "name": "stderr",
     "output_type": "stream",
     "text": [
      "C:\\Users\\dasha\\AppData\\Local\\Temp\\ipykernel_9316\\351897922.py:2: RuntimeWarning: This filename (C:\\Users\\dasha\\Documents\\Neurobiology_EEG\\VFT\\VFT1\\procested\\NP122202_2_prepro.fif) does not conform to MNE naming conventions. All raw files should end with raw.fif, raw_sss.fif, raw_tsss.fif, _meg.fif, _eeg.fif, _ieeg.fif, raw.fif.gz, raw_sss.fif.gz, raw_tsss.fif.gz, _meg.fif.gz, _eeg.fif.gz or _ieeg.fif.gz\n",
      "  EEG[i].save('procested/'+ID[i] + '_prepro.fif', overwrite=True)\n",
      "C:\\Users\\dasha\\AppData\\Local\\Temp\\ipykernel_9316\\351897922.py:2: RuntimeWarning: This filename (C:\\Users\\dasha\\Documents\\Neurobiology_EEG\\VFT\\VFT1\\procested\\NP122301_prepro.fif) does not conform to MNE naming conventions. All raw files should end with raw.fif, raw_sss.fif, raw_tsss.fif, _meg.fif, _eeg.fif, _ieeg.fif, raw.fif.gz, raw_sss.fif.gz, raw_tsss.fif.gz, _meg.fif.gz, _eeg.fif.gz or _ieeg.fif.gz\n",
      "  EEG[i].save('procested/'+ID[i] + '_prepro.fif', overwrite=True)\n"
     ]
    },
    {
     "name": "stdout",
     "output_type": "stream",
     "text": [
      "Closing C:\\Users\\dasha\\Documents\\Neurobiology_EEG\\VFT\\VFT1\\procested\\NP122301_prepro.fif\n",
      "[done]\n",
      "Writing C:\\Users\\dasha\\Documents\\Neurobiology_EEG\\VFT\\VFT1\\procested\\NP122302_prepro.fif\n",
      "Closing C:\\Users\\dasha\\Documents\\Neurobiology_EEG\\VFT\\VFT1\\procested\\NP122302_prepro.fif\n",
      "[done]\n",
      "Writing C:\\Users\\dasha\\Documents\\Neurobiology_EEG\\VFT\\VFT1\\procested\\NP122303_prepro.fif\n",
      "Closing C:\\Users\\dasha\\Documents\\Neurobiology_EEG\\VFT\\VFT1\\procested\\NP122303_prepro.fif\n"
     ]
    },
    {
     "name": "stderr",
     "output_type": "stream",
     "text": [
      "C:\\Users\\dasha\\AppData\\Local\\Temp\\ipykernel_9316\\351897922.py:2: RuntimeWarning: This filename (C:\\Users\\dasha\\Documents\\Neurobiology_EEG\\VFT\\VFT1\\procested\\NP122302_prepro.fif) does not conform to MNE naming conventions. All raw files should end with raw.fif, raw_sss.fif, raw_tsss.fif, _meg.fif, _eeg.fif, _ieeg.fif, raw.fif.gz, raw_sss.fif.gz, raw_tsss.fif.gz, _meg.fif.gz, _eeg.fif.gz or _ieeg.fif.gz\n",
      "  EEG[i].save('procested/'+ID[i] + '_prepro.fif', overwrite=True)\n",
      "C:\\Users\\dasha\\AppData\\Local\\Temp\\ipykernel_9316\\351897922.py:2: RuntimeWarning: This filename (C:\\Users\\dasha\\Documents\\Neurobiology_EEG\\VFT\\VFT1\\procested\\NP122303_prepro.fif) does not conform to MNE naming conventions. All raw files should end with raw.fif, raw_sss.fif, raw_tsss.fif, _meg.fif, _eeg.fif, _ieeg.fif, raw.fif.gz, raw_sss.fif.gz, raw_tsss.fif.gz, _meg.fif.gz, _eeg.fif.gz or _ieeg.fif.gz\n",
      "  EEG[i].save('procested/'+ID[i] + '_prepro.fif', overwrite=True)\n"
     ]
    },
    {
     "name": "stdout",
     "output_type": "stream",
     "text": [
      "[done]\n"
     ]
    }
   ],
   "source": [
    "for i in range (len(ID)):\n",
    "    EEG[i].save('procested/'+ID[i] + '_prepro.fif', overwrite=True)"
   ]
  },
  {
   "cell_type": "code",
   "execution_count": 64,
   "id": "2886b18a",
   "metadata": {
    "scrolled": true
   },
   "outputs": [
    {
     "name": "stdout",
     "output_type": "stream",
     "text": [
      "[17156     0     1]\n",
      "[22135     0     1]\n",
      "[45069     0     1]\n",
      "[17557     0     1]\n",
      "[21723     0     1]\n",
      "[24121     0     1]\n",
      "[25097     0     1]\n",
      "[19335     0     1]\n",
      "[29213     0     1]\n",
      "[21076     0     1]\n",
      "[25463     0     1]\n",
      "[16840     0     1]\n",
      "[31278     0     1]\n",
      "[21930     0     1]\n",
      "[19924     0     1]\n",
      "[6093    0    1]\n",
      "[12833     0     1]\n",
      "[13888     0     1]\n",
      "[16802     0     1]\n",
      "[8675    0    1]\n",
      "[14491     0     1]\n",
      "[21701     0     1]\n",
      "[19609     0     1]\n",
      "[23371     0     1]\n",
      "[22721     0     1]\n",
      "[32217     0     1]\n",
      "[21039     0     1]\n",
      "[9175    0    1]\n",
      "[13716     0     1]\n",
      "[21273     0     1]\n",
      "[22080     0     1]\n",
      "[32541     0     1]\n",
      "[25230     0     1]\n",
      "[29456     0     1]\n",
      "[15918     0     1]\n",
      "[11403     0     1]\n",
      "[9582    0    1]\n",
      "[9589    0    1]\n",
      "[16068     0     1]\n",
      "[19309     0     1]\n",
      "[15462     0     1]\n",
      "[20068     0     1]\n",
      "[22889     0     1]\n",
      "[11344     0     1]\n",
      "[14918     0     1]\n",
      "[3708    0    1]\n",
      "[26958     0     1]\n",
      "[13972     0     1]\n",
      "[12953     0     1]\n",
      "[29306     0     1]\n",
      "[7461    0    1]\n",
      "[10405     0     1]\n",
      "[8657    0    1]\n",
      "[15940     0     1]\n",
      "[21950     0     1]\n",
      "[17202     0     1]\n",
      "[33259     0     1]\n",
      "[17310     0     1]\n",
      "[23041     0     1]\n"
     ]
    }
   ],
   "source": [
    "for i in range (0, len(EEG)):\n",
    "    start=Evlist[i][0][1]\n",
    "    print(start)"
   ]
  },
  {
   "cell_type": "code",
   "execution_count": 67,
   "id": "32f600c9",
   "metadata": {
    "scrolled": true
   },
   "outputs": [
    {
     "name": "stdout",
     "output_type": "stream",
     "text": [
      "34.312\n",
      "44.27\n",
      "90.138\n",
      "35.114\n",
      "43.446\n",
      "48.242\n",
      "50.194\n",
      "38.67\n",
      "58.426\n",
      "42.152\n",
      "50.926\n",
      "33.68\n",
      "62.556\n",
      "43.86\n",
      "39.848\n",
      "12.186\n",
      "25.666\n",
      "27.776\n",
      "33.604\n",
      "17.35\n",
      "28.982\n",
      "43.402\n",
      "39.218\n",
      "46.742\n",
      "45.442\n",
      "64.434\n",
      "42.078\n",
      "18.35\n",
      "27.432\n",
      "42.546\n",
      "44.16\n",
      "65.082\n",
      "50.46\n",
      "58.912\n",
      "31.836\n",
      "22.806\n",
      "19.164\n",
      "19.178\n",
      "32.136\n",
      "38.618\n",
      "30.924\n",
      "40.136\n",
      "45.778\n",
      "22.688\n",
      "29.836\n",
      "7.416\n",
      "53.916\n",
      "27.944\n",
      "25.906\n",
      "58.612\n",
      "14.922\n",
      "20.81\n",
      "17.314\n",
      "31.88\n",
      "43.9\n",
      "34.404\n",
      "66.518\n",
      "34.62\n",
      "46.082\n"
     ]
    }
   ],
   "source": [
    "NW_PF_list=[]\n",
    "for i in range (0, len(EEG)):\n",
    "    start=Evlist[i][0][1][0]/500\n",
    "    print(start)\n",
    "    ep = EEG[i].copy().crop(tmin=start, tmax=start+120)\n",
    "    NW_PF_list.append(ep)"
   ]
  },
  {
   "cell_type": "code",
   "execution_count": 68,
   "id": "10f42eaa",
   "metadata": {
    "scrolled": true
   },
   "outputs": [
    {
     "name": "stdout",
     "output_type": "stream",
     "text": [
      "[81998     0     2]\n",
      "[104702      0      2]\n",
      "[107611      0      2]\n",
      "[82366     0     2]\n",
      "[86782     0     2]\n",
      "[90814     0     2]\n",
      "[91997     0     2]\n",
      "[83085     0     2]\n",
      "[94222     0     2]\n",
      "[85759     0     2]\n",
      "[88530     0     2]\n",
      "[82624     0     2]\n",
      "[95079     0     2]\n",
      "[92056     0     2]\n",
      "[85208     0     2]\n",
      "[72018     0     2]\n",
      "[74816     0     2]\n",
      "[77747     0     2]\n",
      "[83453     0     2]\n",
      "[90959     0     2]\n",
      "[106467      0      2]\n",
      "[87118     0     2]\n",
      "[85218     0     2]\n",
      "[87471     0     2]\n",
      "[86805     0     2]\n",
      "[97593     0     2]\n",
      "[86323     0     2]\n",
      "[74893     0     2]\n",
      "[85175     0     2]\n",
      "[85915     0     2]\n",
      "[87088     0     2]\n",
      "[96283     0     2]\n",
      "[90522     0     2]\n",
      "[94357     0     2]\n",
      "[82502     0     2]\n",
      "[83662     0     2]\n",
      "[76141     0     2]\n",
      "[80590     0     2]\n",
      "[82702     0     2]\n",
      "[87468     0     2]\n",
      "[79154     0     2]\n",
      "[87402     0     2]\n",
      "[117640      0      2]\n",
      "[77470     0     2]\n",
      "[78102     0     2]\n",
      "[74925     0     2]\n",
      "[93116     0     2]\n",
      "[78381     0     2]\n",
      "[74862     0     2]\n",
      "[91524     0     2]\n",
      "[93786     0     2]\n",
      "[75072     0     2]\n",
      "[78607     0     2]\n",
      "[86290     0     2]\n",
      "[86526     0     2]\n",
      "[81627     0     2]\n",
      "[125593      0      2]\n",
      "[80261     0     2]\n",
      "[88267     0     2]\n"
     ]
    }
   ],
   "source": [
    "for i in range (0, len(EEG)):\n",
    "    start=Evlist[i][0][3]\n",
    "    print(start)"
   ]
  },
  {
   "cell_type": "code",
   "execution_count": 69,
   "id": "a1df3b53",
   "metadata": {
    "scrolled": true
   },
   "outputs": [
    {
     "name": "stdout",
     "output_type": "stream",
     "text": [
      "154.346\n",
      "164.304\n",
      "210.172\n",
      "155.148\n",
      "163.48\n",
      "168.276\n",
      "170.228\n",
      "158.704\n",
      "178.46\n",
      "162.184\n",
      "170.96\n",
      "153.714\n",
      "182.59\n",
      "163.894\n",
      "159.882\n",
      "132.22\n",
      "145.698\n",
      "147.81\n",
      "153.638\n",
      "137.384\n",
      "149.016\n",
      "163.434\n",
      "159.252\n",
      "166.776\n",
      "165.476\n",
      "184.468\n",
      "162.112\n",
      "138.382\n",
      "147.466\n",
      "162.578\n",
      "164.192\n",
      "185.116\n",
      "170.494\n",
      "178.944\n",
      "151.87\n",
      "142.84\n",
      "139.198\n",
      "139.212\n",
      "152.17\n",
      "158.652\n",
      "150.956\n",
      "160.168\n",
      "165.812\n",
      "142.722\n",
      "149.87\n",
      "127.45\n",
      "173.946\n",
      "147.978\n",
      "145.94\n",
      "178.646\n",
      "134.956\n",
      "140.844\n",
      "137.348\n",
      "151.91\n",
      "163.934\n",
      "154.436\n",
      "186.55\n",
      "154.654\n",
      "166.116\n"
     ]
    }
   ],
   "source": [
    "PW_W_list=[]\n",
    "for i in range (0, len(EEG)):\n",
    "    start=Evlist[i][0][2][0]/500\n",
    "    print(start)\n",
    "    ep = EEG[i].copy().crop(tmin=start, tmax=start+120)\n",
    "    PW_W_list.append(ep)"
   ]
  },
  {
   "cell_type": "code",
   "execution_count": 70,
   "id": "4c120f41",
   "metadata": {
    "collapsed": true
   },
   "outputs": [
    {
     "name": "stdout",
     "output_type": "stream",
     "text": [
      "[148407      0      3]\n",
      "[180069      0      3]\n",
      "[169795      0      3]\n",
      "[147517      0      3]\n",
      "[151216      0      3]\n",
      "[162531      0      3]\n",
      "[156406      0      3]\n",
      "[145911      0      3]\n",
      "[156681      0      3]\n",
      "[149510      0      3]\n",
      "[151756      0      3]\n",
      "[146575      0      3]\n",
      "[158646      0      3]\n",
      "[158406      0      3]\n",
      "[158217      0      3]\n",
      "[145444      0      3]\n",
      "[165467      0      3]\n",
      "[141747      0      3]\n",
      "[169645      0      3]\n",
      "[159301      0      3]\n",
      "[200218      0      3]\n",
      "[152352      0      3]\n",
      "[151085      0      3]\n",
      "[153080      0      3]\n",
      "[150138      0      3]\n",
      "[161910      0      3]\n",
      "[149390      0      3]\n",
      "[143510      0      3]\n",
      "[159434      0      3]\n",
      "[151507      0      3]\n",
      "[150347      0      3]\n",
      "[159059      0      3]\n",
      "[167814      0      3]\n",
      "[158624      0      3]\n",
      "[149577      0      3]\n",
      "[146038      0      3]\n",
      "[201183      0      3]\n",
      "[149540      0      3]\n",
      "[144703      0      3]\n",
      "[152110      0      3]\n",
      "[142346      0      3]\n",
      "[180586      0      3]\n",
      "[206499      0      3]\n",
      "[139237      0      3]\n",
      "[139886      0      3]\n",
      "[137025      0      3]\n",
      "[156767      0      3]\n",
      "[140965      0      3]\n",
      "[136838      0      3]\n",
      "[160941      0      3]\n",
      "[161329      0      3]\n",
      "[143881      0      3]\n",
      "[141616      0      3]\n",
      "[151432      0      3]\n",
      "[151026      0      3]\n",
      "[143911      0      3]\n",
      "[209377      0      3]\n",
      "[146670      0      3]\n",
      "[158492      0      3]\n"
     ]
    }
   ],
   "source": [
    "for i in range (0, len(EEG)):\n",
    "    start=Evlist[i][0][5]\n",
    "    print(start)"
   ]
  },
  {
   "cell_type": "code",
   "execution_count": 71,
   "id": "64710c69",
   "metadata": {
    "scrolled": true
   },
   "outputs": [
    {
     "name": "stdout",
     "output_type": "stream",
     "text": [
      "296.814\n",
      "360.138\n",
      "339.59\n",
      "295.034\n",
      "302.432\n",
      "325.062\n",
      "312.812\n",
      "291.822\n",
      "313.362\n",
      "299.02\n",
      "303.512\n",
      "293.15\n",
      "317.292\n",
      "316.812\n",
      "316.434\n",
      "290.888\n",
      "330.934\n",
      "283.494\n",
      "339.29\n",
      "318.602\n",
      "400.436\n",
      "304.704\n",
      "302.17\n",
      "306.16\n",
      "300.276\n",
      "323.82\n",
      "298.78\n",
      "287.02\n",
      "318.868\n",
      "303.014\n",
      "300.694\n",
      "318.118\n",
      "335.628\n",
      "317.248\n",
      "299.154\n",
      "292.076\n",
      "402.366\n",
      "299.08\n",
      "289.406\n",
      "304.22\n",
      "284.692\n",
      "361.172\n",
      "412.998\n",
      "278.474\n",
      "279.772\n",
      "274.05\n",
      "313.534\n",
      "281.93\n",
      "273.676\n",
      "321.882\n",
      "322.658\n",
      "287.762\n",
      "283.232\n",
      "302.864\n",
      "302.052\n",
      "287.822\n",
      "418.754\n",
      "293.34\n",
      "316.984\n"
     ]
    }
   ],
   "source": [
    "PW_NW_list=[]\n",
    "for i in range (0, len(EEG)):\n",
    "    start=Evlist[i][0][5][0]/500\n",
    "    print(start)\n",
    "    ep = EEG[i].copy().crop(tmin=start, tmax=start+120)\n",
    "    PW_NW_list.append(ep)"
   ]
  },
  {
   "cell_type": "code",
   "execution_count": 72,
   "id": "865ce44f",
   "metadata": {},
   "outputs": [
    {
     "name": "stdout",
     "output_type": "stream",
     "text": [
      "Writing C:\\Users\\dasha\\Documents\\Neurobiology_EEG\\VFT\\VFT1\\procested\\NW_PF\\NP022301_2.fif\n",
      "Closing C:\\Users\\dasha\\Documents\\Neurobiology_EEG\\VFT\\VFT1\\procested\\NW_PF\\NP022301_2.fif\n",
      "[done]\n",
      "Writing C:\\Users\\dasha\\Documents\\Neurobiology_EEG\\VFT\\VFT1\\procested\\PW_NW\\NP022301_2.fif\n",
      "Closing C:\\Users\\dasha\\Documents\\Neurobiology_EEG\\VFT\\VFT1\\procested\\PW_NW\\NP022301_2.fif\n",
      "[done]\n",
      "Overwriting existing file.\n",
      "Writing C:\\Users\\dasha\\Documents\\Neurobiology_EEG\\VFT\\VFT1\\procested\\PW_NW\\NP022301_2.fif\n",
      "Closing C:\\Users\\dasha\\Documents\\Neurobiology_EEG\\VFT\\VFT1\\procested\\PW_NW\\NP022301_2.fif\n",
      "[done]\n",
      "Writing C:\\Users\\dasha\\Documents\\Neurobiology_EEG\\VFT\\VFT1\\procested\\NW_PF\\NP022303_2.fif\n",
      "Closing C:\\Users\\dasha\\Documents\\Neurobiology_EEG\\VFT\\VFT1\\procested\\NW_PF\\NP022303_2.fif\n",
      "[done]\n",
      "Writing C:\\Users\\dasha\\Documents\\Neurobiology_EEG\\VFT\\VFT1\\procested\\PW_NW\\NP022303_2.fif\n",
      "Closing C:\\Users\\dasha\\Documents\\Neurobiology_EEG\\VFT\\VFT1\\procested\\PW_NW\\NP022303_2.fif\n"
     ]
    },
    {
     "name": "stderr",
     "output_type": "stream",
     "text": [
      "C:\\Users\\dasha\\AppData\\Local\\Temp\\ipykernel_9316\\352767205.py:2: RuntimeWarning: This filename (C:\\Users\\dasha\\Documents\\Neurobiology_EEG\\VFT\\VFT1\\procested\\NW_PF\\NP022301_2.fif) does not conform to MNE naming conventions. All raw files should end with raw.fif, raw_sss.fif, raw_tsss.fif, _meg.fif, _eeg.fif, _ieeg.fif, raw.fif.gz, raw_sss.fif.gz, raw_tsss.fif.gz, _meg.fif.gz, _eeg.fif.gz or _ieeg.fif.gz\n",
      "  NW_PF_list[i].save('procested/NW_PF/'+ID[i] + '.fif', overwrite=True)\n",
      "C:\\Users\\dasha\\AppData\\Local\\Temp\\ipykernel_9316\\352767205.py:3: RuntimeWarning: This filename (C:\\Users\\dasha\\Documents\\Neurobiology_EEG\\VFT\\VFT1\\procested\\PW_NW\\NP022301_2.fif) does not conform to MNE naming conventions. All raw files should end with raw.fif, raw_sss.fif, raw_tsss.fif, _meg.fif, _eeg.fif, _ieeg.fif, raw.fif.gz, raw_sss.fif.gz, raw_tsss.fif.gz, _meg.fif.gz, _eeg.fif.gz or _ieeg.fif.gz\n",
      "  PW_W_list[i].save('procested/PW_NW/'+ID[i] + '.fif', overwrite=True)\n",
      "C:\\Users\\dasha\\AppData\\Local\\Temp\\ipykernel_9316\\352767205.py:4: RuntimeWarning: This filename (C:\\Users\\dasha\\Documents\\Neurobiology_EEG\\VFT\\VFT1\\procested\\PW_NW\\NP022301_2.fif) does not conform to MNE naming conventions. All raw files should end with raw.fif, raw_sss.fif, raw_tsss.fif, _meg.fif, _eeg.fif, _ieeg.fif, raw.fif.gz, raw_sss.fif.gz, raw_tsss.fif.gz, _meg.fif.gz, _eeg.fif.gz or _ieeg.fif.gz\n",
      "  PW_NW_list[i].save('procested/PW_NW/'+ID[i] + '.fif', overwrite=True)\n",
      "C:\\Users\\dasha\\AppData\\Local\\Temp\\ipykernel_9316\\352767205.py:2: RuntimeWarning: This filename (C:\\Users\\dasha\\Documents\\Neurobiology_EEG\\VFT\\VFT1\\procested\\NW_PF\\NP022303_2.fif) does not conform to MNE naming conventions. All raw files should end with raw.fif, raw_sss.fif, raw_tsss.fif, _meg.fif, _eeg.fif, _ieeg.fif, raw.fif.gz, raw_sss.fif.gz, raw_tsss.fif.gz, _meg.fif.gz, _eeg.fif.gz or _ieeg.fif.gz\n",
      "  NW_PF_list[i].save('procested/NW_PF/'+ID[i] + '.fif', overwrite=True)\n",
      "C:\\Users\\dasha\\AppData\\Local\\Temp\\ipykernel_9316\\352767205.py:3: RuntimeWarning: This filename (C:\\Users\\dasha\\Documents\\Neurobiology_EEG\\VFT\\VFT1\\procested\\PW_NW\\NP022303_2.fif) does not conform to MNE naming conventions. All raw files should end with raw.fif, raw_sss.fif, raw_tsss.fif, _meg.fif, _eeg.fif, _ieeg.fif, raw.fif.gz, raw_sss.fif.gz, raw_tsss.fif.gz, _meg.fif.gz, _eeg.fif.gz or _ieeg.fif.gz\n",
      "  PW_W_list[i].save('procested/PW_NW/'+ID[i] + '.fif', overwrite=True)\n"
     ]
    },
    {
     "name": "stdout",
     "output_type": "stream",
     "text": [
      "[done]\n",
      "Overwriting existing file.\n",
      "Writing C:\\Users\\dasha\\Documents\\Neurobiology_EEG\\VFT\\VFT1\\procested\\PW_NW\\NP022303_2.fif\n",
      "Closing C:\\Users\\dasha\\Documents\\Neurobiology_EEG\\VFT\\VFT1\\procested\\PW_NW\\NP022303_2.fif\n",
      "[done]\n",
      "Writing C:\\Users\\dasha\\Documents\\Neurobiology_EEG\\VFT\\VFT1\\procested\\NW_PF\\NP022307_2.fif\n",
      "Closing C:\\Users\\dasha\\Documents\\Neurobiology_EEG\\VFT\\VFT1\\procested\\NW_PF\\NP022307_2.fif\n",
      "[done]\n",
      "Writing C:\\Users\\dasha\\Documents\\Neurobiology_EEG\\VFT\\VFT1\\procested\\PW_NW\\NP022307_2.fif\n",
      "Closing C:\\Users\\dasha\\Documents\\Neurobiology_EEG\\VFT\\VFT1\\procested\\PW_NW\\NP022307_2.fif\n",
      "[done]\n",
      "Overwriting existing file.\n",
      "Writing C:\\Users\\dasha\\Documents\\Neurobiology_EEG\\VFT\\VFT1\\procested\\PW_NW\\NP022307_2.fif\n",
      "Closing C:\\Users\\dasha\\Documents\\Neurobiology_EEG\\VFT\\VFT1\\procested\\PW_NW\\NP022307_2.fif\n",
      "[done]\n",
      "Writing C:\\Users\\dasha\\Documents\\Neurobiology_EEG\\VFT\\VFT1\\procested\\NW_PF\\NP022309_2.fif\n"
     ]
    },
    {
     "name": "stderr",
     "output_type": "stream",
     "text": [
      "C:\\Users\\dasha\\AppData\\Local\\Temp\\ipykernel_9316\\352767205.py:4: RuntimeWarning: This filename (C:\\Users\\dasha\\Documents\\Neurobiology_EEG\\VFT\\VFT1\\procested\\PW_NW\\NP022303_2.fif) does not conform to MNE naming conventions. All raw files should end with raw.fif, raw_sss.fif, raw_tsss.fif, _meg.fif, _eeg.fif, _ieeg.fif, raw.fif.gz, raw_sss.fif.gz, raw_tsss.fif.gz, _meg.fif.gz, _eeg.fif.gz or _ieeg.fif.gz\n",
      "  PW_NW_list[i].save('procested/PW_NW/'+ID[i] + '.fif', overwrite=True)\n",
      "C:\\Users\\dasha\\AppData\\Local\\Temp\\ipykernel_9316\\352767205.py:2: RuntimeWarning: This filename (C:\\Users\\dasha\\Documents\\Neurobiology_EEG\\VFT\\VFT1\\procested\\NW_PF\\NP022307_2.fif) does not conform to MNE naming conventions. All raw files should end with raw.fif, raw_sss.fif, raw_tsss.fif, _meg.fif, _eeg.fif, _ieeg.fif, raw.fif.gz, raw_sss.fif.gz, raw_tsss.fif.gz, _meg.fif.gz, _eeg.fif.gz or _ieeg.fif.gz\n",
      "  NW_PF_list[i].save('procested/NW_PF/'+ID[i] + '.fif', overwrite=True)\n",
      "C:\\Users\\dasha\\AppData\\Local\\Temp\\ipykernel_9316\\352767205.py:3: RuntimeWarning: This filename (C:\\Users\\dasha\\Documents\\Neurobiology_EEG\\VFT\\VFT1\\procested\\PW_NW\\NP022307_2.fif) does not conform to MNE naming conventions. All raw files should end with raw.fif, raw_sss.fif, raw_tsss.fif, _meg.fif, _eeg.fif, _ieeg.fif, raw.fif.gz, raw_sss.fif.gz, raw_tsss.fif.gz, _meg.fif.gz, _eeg.fif.gz or _ieeg.fif.gz\n",
      "  PW_W_list[i].save('procested/PW_NW/'+ID[i] + '.fif', overwrite=True)\n",
      "C:\\Users\\dasha\\AppData\\Local\\Temp\\ipykernel_9316\\352767205.py:4: RuntimeWarning: This filename (C:\\Users\\dasha\\Documents\\Neurobiology_EEG\\VFT\\VFT1\\procested\\PW_NW\\NP022307_2.fif) does not conform to MNE naming conventions. All raw files should end with raw.fif, raw_sss.fif, raw_tsss.fif, _meg.fif, _eeg.fif, _ieeg.fif, raw.fif.gz, raw_sss.fif.gz, raw_tsss.fif.gz, _meg.fif.gz, _eeg.fif.gz or _ieeg.fif.gz\n",
      "  PW_NW_list[i].save('procested/PW_NW/'+ID[i] + '.fif', overwrite=True)\n",
      "C:\\Users\\dasha\\AppData\\Local\\Temp\\ipykernel_9316\\352767205.py:2: RuntimeWarning: This filename (C:\\Users\\dasha\\Documents\\Neurobiology_EEG\\VFT\\VFT1\\procested\\NW_PF\\NP022309_2.fif) does not conform to MNE naming conventions. All raw files should end with raw.fif, raw_sss.fif, raw_tsss.fif, _meg.fif, _eeg.fif, _ieeg.fif, raw.fif.gz, raw_sss.fif.gz, raw_tsss.fif.gz, _meg.fif.gz, _eeg.fif.gz or _ieeg.fif.gz\n",
      "  NW_PF_list[i].save('procested/NW_PF/'+ID[i] + '.fif', overwrite=True)\n"
     ]
    },
    {
     "name": "stdout",
     "output_type": "stream",
     "text": [
      "Closing C:\\Users\\dasha\\Documents\\Neurobiology_EEG\\VFT\\VFT1\\procested\\NW_PF\\NP022309_2.fif\n",
      "[done]\n",
      "Writing C:\\Users\\dasha\\Documents\\Neurobiology_EEG\\VFT\\VFT1\\procested\\PW_NW\\NP022309_2.fif\n",
      "Closing C:\\Users\\dasha\\Documents\\Neurobiology_EEG\\VFT\\VFT1\\procested\\PW_NW\\NP022309_2.fif\n",
      "[done]\n",
      "Overwriting existing file.\n",
      "Writing C:\\Users\\dasha\\Documents\\Neurobiology_EEG\\VFT\\VFT1\\procested\\PW_NW\\NP022309_2.fif\n",
      "Closing C:\\Users\\dasha\\Documents\\Neurobiology_EEG\\VFT\\VFT1\\procested\\PW_NW\\NP022309_2.fif\n",
      "[done]\n",
      "Writing C:\\Users\\dasha\\Documents\\Neurobiology_EEG\\VFT\\VFT1\\procested\\NW_PF\\NP032401.fif\n",
      "Closing C:\\Users\\dasha\\Documents\\Neurobiology_EEG\\VFT\\VFT1\\procested\\NW_PF\\NP032401.fif\n",
      "[done]\n",
      "Writing C:\\Users\\dasha\\Documents\\Neurobiology_EEG\\VFT\\VFT1\\procested\\PW_NW\\NP032401.fif\n",
      "Closing C:\\Users\\dasha\\Documents\\Neurobiology_EEG\\VFT\\VFT1\\procested\\PW_NW\\NP032401.fif\n",
      "[done]\n",
      "Overwriting existing file.\n",
      "Writing C:\\Users\\dasha\\Documents\\Neurobiology_EEG\\VFT\\VFT1\\procested\\PW_NW\\NP032401.fif\n",
      "Closing C:\\Users\\dasha\\Documents\\Neurobiology_EEG\\VFT\\VFT1\\procested\\PW_NW\\NP032401.fif\n"
     ]
    },
    {
     "name": "stderr",
     "output_type": "stream",
     "text": [
      "C:\\Users\\dasha\\AppData\\Local\\Temp\\ipykernel_9316\\352767205.py:3: RuntimeWarning: This filename (C:\\Users\\dasha\\Documents\\Neurobiology_EEG\\VFT\\VFT1\\procested\\PW_NW\\NP022309_2.fif) does not conform to MNE naming conventions. All raw files should end with raw.fif, raw_sss.fif, raw_tsss.fif, _meg.fif, _eeg.fif, _ieeg.fif, raw.fif.gz, raw_sss.fif.gz, raw_tsss.fif.gz, _meg.fif.gz, _eeg.fif.gz or _ieeg.fif.gz\n",
      "  PW_W_list[i].save('procested/PW_NW/'+ID[i] + '.fif', overwrite=True)\n",
      "C:\\Users\\dasha\\AppData\\Local\\Temp\\ipykernel_9316\\352767205.py:4: RuntimeWarning: This filename (C:\\Users\\dasha\\Documents\\Neurobiology_EEG\\VFT\\VFT1\\procested\\PW_NW\\NP022309_2.fif) does not conform to MNE naming conventions. All raw files should end with raw.fif, raw_sss.fif, raw_tsss.fif, _meg.fif, _eeg.fif, _ieeg.fif, raw.fif.gz, raw_sss.fif.gz, raw_tsss.fif.gz, _meg.fif.gz, _eeg.fif.gz or _ieeg.fif.gz\n",
      "  PW_NW_list[i].save('procested/PW_NW/'+ID[i] + '.fif', overwrite=True)\n",
      "C:\\Users\\dasha\\AppData\\Local\\Temp\\ipykernel_9316\\352767205.py:2: RuntimeWarning: This filename (C:\\Users\\dasha\\Documents\\Neurobiology_EEG\\VFT\\VFT1\\procested\\NW_PF\\NP032401.fif) does not conform to MNE naming conventions. All raw files should end with raw.fif, raw_sss.fif, raw_tsss.fif, _meg.fif, _eeg.fif, _ieeg.fif, raw.fif.gz, raw_sss.fif.gz, raw_tsss.fif.gz, _meg.fif.gz, _eeg.fif.gz or _ieeg.fif.gz\n",
      "  NW_PF_list[i].save('procested/NW_PF/'+ID[i] + '.fif', overwrite=True)\n",
      "C:\\Users\\dasha\\AppData\\Local\\Temp\\ipykernel_9316\\352767205.py:3: RuntimeWarning: This filename (C:\\Users\\dasha\\Documents\\Neurobiology_EEG\\VFT\\VFT1\\procested\\PW_NW\\NP032401.fif) does not conform to MNE naming conventions. All raw files should end with raw.fif, raw_sss.fif, raw_tsss.fif, _meg.fif, _eeg.fif, _ieeg.fif, raw.fif.gz, raw_sss.fif.gz, raw_tsss.fif.gz, _meg.fif.gz, _eeg.fif.gz or _ieeg.fif.gz\n",
      "  PW_W_list[i].save('procested/PW_NW/'+ID[i] + '.fif', overwrite=True)\n",
      "C:\\Users\\dasha\\AppData\\Local\\Temp\\ipykernel_9316\\352767205.py:4: RuntimeWarning: This filename (C:\\Users\\dasha\\Documents\\Neurobiology_EEG\\VFT\\VFT1\\procested\\PW_NW\\NP032401.fif) does not conform to MNE naming conventions. All raw files should end with raw.fif, raw_sss.fif, raw_tsss.fif, _meg.fif, _eeg.fif, _ieeg.fif, raw.fif.gz, raw_sss.fif.gz, raw_tsss.fif.gz, _meg.fif.gz, _eeg.fif.gz or _ieeg.fif.gz\n",
      "  PW_NW_list[i].save('procested/PW_NW/'+ID[i] + '.fif', overwrite=True)\n"
     ]
    },
    {
     "name": "stdout",
     "output_type": "stream",
     "text": [
      "[done]\n",
      "Writing C:\\Users\\dasha\\Documents\\Neurobiology_EEG\\VFT\\VFT1\\procested\\NW_PF\\NP032402.fif\n",
      "Closing C:\\Users\\dasha\\Documents\\Neurobiology_EEG\\VFT\\VFT1\\procested\\NW_PF\\NP032402.fif\n",
      "[done]\n",
      "Writing C:\\Users\\dasha\\Documents\\Neurobiology_EEG\\VFT\\VFT1\\procested\\PW_NW\\NP032402.fif\n",
      "Closing C:\\Users\\dasha\\Documents\\Neurobiology_EEG\\VFT\\VFT1\\procested\\PW_NW\\NP032402.fif\n",
      "[done]\n",
      "Overwriting existing file.\n",
      "Writing C:\\Users\\dasha\\Documents\\Neurobiology_EEG\\VFT\\VFT1\\procested\\PW_NW\\NP032402.fif\n",
      "Closing C:\\Users\\dasha\\Documents\\Neurobiology_EEG\\VFT\\VFT1\\procested\\PW_NW\\NP032402.fif\n",
      "[done]\n",
      "Writing C:\\Users\\dasha\\Documents\\Neurobiology_EEG\\VFT\\VFT1\\procested\\NW_PF\\NP032403.fif\n",
      "Closing C:\\Users\\dasha\\Documents\\Neurobiology_EEG\\VFT\\VFT1\\procested\\NW_PF\\NP032403.fif\n",
      "[done]\n",
      "Writing C:\\Users\\dasha\\Documents\\Neurobiology_EEG\\VFT\\VFT1\\procested\\PW_NW\\NP032403.fif\n",
      "Closing C:\\Users\\dasha\\Documents\\Neurobiology_EEG\\VFT\\VFT1\\procested\\PW_NW\\NP032403.fif\n"
     ]
    },
    {
     "name": "stderr",
     "output_type": "stream",
     "text": [
      "C:\\Users\\dasha\\AppData\\Local\\Temp\\ipykernel_9316\\352767205.py:2: RuntimeWarning: This filename (C:\\Users\\dasha\\Documents\\Neurobiology_EEG\\VFT\\VFT1\\procested\\NW_PF\\NP032402.fif) does not conform to MNE naming conventions. All raw files should end with raw.fif, raw_sss.fif, raw_tsss.fif, _meg.fif, _eeg.fif, _ieeg.fif, raw.fif.gz, raw_sss.fif.gz, raw_tsss.fif.gz, _meg.fif.gz, _eeg.fif.gz or _ieeg.fif.gz\n",
      "  NW_PF_list[i].save('procested/NW_PF/'+ID[i] + '.fif', overwrite=True)\n",
      "C:\\Users\\dasha\\AppData\\Local\\Temp\\ipykernel_9316\\352767205.py:3: RuntimeWarning: This filename (C:\\Users\\dasha\\Documents\\Neurobiology_EEG\\VFT\\VFT1\\procested\\PW_NW\\NP032402.fif) does not conform to MNE naming conventions. All raw files should end with raw.fif, raw_sss.fif, raw_tsss.fif, _meg.fif, _eeg.fif, _ieeg.fif, raw.fif.gz, raw_sss.fif.gz, raw_tsss.fif.gz, _meg.fif.gz, _eeg.fif.gz or _ieeg.fif.gz\n",
      "  PW_W_list[i].save('procested/PW_NW/'+ID[i] + '.fif', overwrite=True)\n",
      "C:\\Users\\dasha\\AppData\\Local\\Temp\\ipykernel_9316\\352767205.py:4: RuntimeWarning: This filename (C:\\Users\\dasha\\Documents\\Neurobiology_EEG\\VFT\\VFT1\\procested\\PW_NW\\NP032402.fif) does not conform to MNE naming conventions. All raw files should end with raw.fif, raw_sss.fif, raw_tsss.fif, _meg.fif, _eeg.fif, _ieeg.fif, raw.fif.gz, raw_sss.fif.gz, raw_tsss.fif.gz, _meg.fif.gz, _eeg.fif.gz or _ieeg.fif.gz\n",
      "  PW_NW_list[i].save('procested/PW_NW/'+ID[i] + '.fif', overwrite=True)\n",
      "C:\\Users\\dasha\\AppData\\Local\\Temp\\ipykernel_9316\\352767205.py:2: RuntimeWarning: This filename (C:\\Users\\dasha\\Documents\\Neurobiology_EEG\\VFT\\VFT1\\procested\\NW_PF\\NP032403.fif) does not conform to MNE naming conventions. All raw files should end with raw.fif, raw_sss.fif, raw_tsss.fif, _meg.fif, _eeg.fif, _ieeg.fif, raw.fif.gz, raw_sss.fif.gz, raw_tsss.fif.gz, _meg.fif.gz, _eeg.fif.gz or _ieeg.fif.gz\n",
      "  NW_PF_list[i].save('procested/NW_PF/'+ID[i] + '.fif', overwrite=True)\n",
      "C:\\Users\\dasha\\AppData\\Local\\Temp\\ipykernel_9316\\352767205.py:3: RuntimeWarning: This filename (C:\\Users\\dasha\\Documents\\Neurobiology_EEG\\VFT\\VFT1\\procested\\PW_NW\\NP032403.fif) does not conform to MNE naming conventions. All raw files should end with raw.fif, raw_sss.fif, raw_tsss.fif, _meg.fif, _eeg.fif, _ieeg.fif, raw.fif.gz, raw_sss.fif.gz, raw_tsss.fif.gz, _meg.fif.gz, _eeg.fif.gz or _ieeg.fif.gz\n",
      "  PW_W_list[i].save('procested/PW_NW/'+ID[i] + '.fif', overwrite=True)\n"
     ]
    },
    {
     "name": "stdout",
     "output_type": "stream",
     "text": [
      "[done]\n",
      "Overwriting existing file.\n",
      "Writing C:\\Users\\dasha\\Documents\\Neurobiology_EEG\\VFT\\VFT1\\procested\\PW_NW\\NP032403.fif\n",
      "Closing C:\\Users\\dasha\\Documents\\Neurobiology_EEG\\VFT\\VFT1\\procested\\PW_NW\\NP032403.fif\n",
      "[done]\n",
      "Writing C:\\Users\\dasha\\Documents\\Neurobiology_EEG\\VFT\\VFT1\\procested\\NW_PF\\NP042311_2.fif\n",
      "Closing C:\\Users\\dasha\\Documents\\Neurobiology_EEG\\VFT\\VFT1\\procested\\NW_PF\\NP042311_2.fif\n",
      "[done]\n",
      "Writing C:\\Users\\dasha\\Documents\\Neurobiology_EEG\\VFT\\VFT1\\procested\\PW_NW\\NP042311_2.fif\n",
      "Closing C:\\Users\\dasha\\Documents\\Neurobiology_EEG\\VFT\\VFT1\\procested\\PW_NW\\NP042311_2.fif\n",
      "[done]\n",
      "Overwriting existing file.\n",
      "Writing C:\\Users\\dasha\\Documents\\Neurobiology_EEG\\VFT\\VFT1\\procested\\PW_NW\\NP042311_2.fif\n",
      "Closing C:\\Users\\dasha\\Documents\\Neurobiology_EEG\\VFT\\VFT1\\procested\\PW_NW\\NP042311_2.fif\n",
      "[done]\n",
      "Writing C:\\Users\\dasha\\Documents\\Neurobiology_EEG\\VFT\\VFT1\\procested\\NW_PF\\NP042313_2.fif\n",
      "Closing C:\\Users\\dasha\\Documents\\Neurobiology_EEG\\VFT\\VFT1\\procested\\NW_PF\\NP042313_2.fif\n"
     ]
    },
    {
     "name": "stderr",
     "output_type": "stream",
     "text": [
      "C:\\Users\\dasha\\AppData\\Local\\Temp\\ipykernel_9316\\352767205.py:4: RuntimeWarning: This filename (C:\\Users\\dasha\\Documents\\Neurobiology_EEG\\VFT\\VFT1\\procested\\PW_NW\\NP032403.fif) does not conform to MNE naming conventions. All raw files should end with raw.fif, raw_sss.fif, raw_tsss.fif, _meg.fif, _eeg.fif, _ieeg.fif, raw.fif.gz, raw_sss.fif.gz, raw_tsss.fif.gz, _meg.fif.gz, _eeg.fif.gz or _ieeg.fif.gz\n",
      "  PW_NW_list[i].save('procested/PW_NW/'+ID[i] + '.fif', overwrite=True)\n",
      "C:\\Users\\dasha\\AppData\\Local\\Temp\\ipykernel_9316\\352767205.py:2: RuntimeWarning: This filename (C:\\Users\\dasha\\Documents\\Neurobiology_EEG\\VFT\\VFT1\\procested\\NW_PF\\NP042311_2.fif) does not conform to MNE naming conventions. All raw files should end with raw.fif, raw_sss.fif, raw_tsss.fif, _meg.fif, _eeg.fif, _ieeg.fif, raw.fif.gz, raw_sss.fif.gz, raw_tsss.fif.gz, _meg.fif.gz, _eeg.fif.gz or _ieeg.fif.gz\n",
      "  NW_PF_list[i].save('procested/NW_PF/'+ID[i] + '.fif', overwrite=True)\n",
      "C:\\Users\\dasha\\AppData\\Local\\Temp\\ipykernel_9316\\352767205.py:3: RuntimeWarning: This filename (C:\\Users\\dasha\\Documents\\Neurobiology_EEG\\VFT\\VFT1\\procested\\PW_NW\\NP042311_2.fif) does not conform to MNE naming conventions. All raw files should end with raw.fif, raw_sss.fif, raw_tsss.fif, _meg.fif, _eeg.fif, _ieeg.fif, raw.fif.gz, raw_sss.fif.gz, raw_tsss.fif.gz, _meg.fif.gz, _eeg.fif.gz or _ieeg.fif.gz\n",
      "  PW_W_list[i].save('procested/PW_NW/'+ID[i] + '.fif', overwrite=True)\n",
      "C:\\Users\\dasha\\AppData\\Local\\Temp\\ipykernel_9316\\352767205.py:4: RuntimeWarning: This filename (C:\\Users\\dasha\\Documents\\Neurobiology_EEG\\VFT\\VFT1\\procested\\PW_NW\\NP042311_2.fif) does not conform to MNE naming conventions. All raw files should end with raw.fif, raw_sss.fif, raw_tsss.fif, _meg.fif, _eeg.fif, _ieeg.fif, raw.fif.gz, raw_sss.fif.gz, raw_tsss.fif.gz, _meg.fif.gz, _eeg.fif.gz or _ieeg.fif.gz\n",
      "  PW_NW_list[i].save('procested/PW_NW/'+ID[i] + '.fif', overwrite=True)\n",
      "C:\\Users\\dasha\\AppData\\Local\\Temp\\ipykernel_9316\\352767205.py:2: RuntimeWarning: This filename (C:\\Users\\dasha\\Documents\\Neurobiology_EEG\\VFT\\VFT1\\procested\\NW_PF\\NP042313_2.fif) does not conform to MNE naming conventions. All raw files should end with raw.fif, raw_sss.fif, raw_tsss.fif, _meg.fif, _eeg.fif, _ieeg.fif, raw.fif.gz, raw_sss.fif.gz, raw_tsss.fif.gz, _meg.fif.gz, _eeg.fif.gz or _ieeg.fif.gz\n",
      "  NW_PF_list[i].save('procested/NW_PF/'+ID[i] + '.fif', overwrite=True)\n"
     ]
    },
    {
     "name": "stdout",
     "output_type": "stream",
     "text": [
      "[done]\n",
      "Writing C:\\Users\\dasha\\Documents\\Neurobiology_EEG\\VFT\\VFT1\\procested\\PW_NW\\NP042313_2.fif\n",
      "Closing C:\\Users\\dasha\\Documents\\Neurobiology_EEG\\VFT\\VFT1\\procested\\PW_NW\\NP042313_2.fif\n",
      "[done]\n",
      "Overwriting existing file.\n",
      "Writing C:\\Users\\dasha\\Documents\\Neurobiology_EEG\\VFT\\VFT1\\procested\\PW_NW\\NP042313_2.fif\n",
      "Closing C:\\Users\\dasha\\Documents\\Neurobiology_EEG\\VFT\\VFT1\\procested\\PW_NW\\NP042313_2.fif\n",
      "[done]\n",
      "Writing C:\\Users\\dasha\\Documents\\Neurobiology_EEG\\VFT\\VFT1\\procested\\NW_PF\\NP042318_2.fif\n",
      "Closing C:\\Users\\dasha\\Documents\\Neurobiology_EEG\\VFT\\VFT1\\procested\\NW_PF\\NP042318_2.fif\n",
      "[done]\n",
      "Writing C:\\Users\\dasha\\Documents\\Neurobiology_EEG\\VFT\\VFT1\\procested\\PW_NW\\NP042318_2.fif\n",
      "Closing C:\\Users\\dasha\\Documents\\Neurobiology_EEG\\VFT\\VFT1\\procested\\PW_NW\\NP042318_2.fif\n"
     ]
    },
    {
     "name": "stderr",
     "output_type": "stream",
     "text": [
      "C:\\Users\\dasha\\AppData\\Local\\Temp\\ipykernel_9316\\352767205.py:3: RuntimeWarning: This filename (C:\\Users\\dasha\\Documents\\Neurobiology_EEG\\VFT\\VFT1\\procested\\PW_NW\\NP042313_2.fif) does not conform to MNE naming conventions. All raw files should end with raw.fif, raw_sss.fif, raw_tsss.fif, _meg.fif, _eeg.fif, _ieeg.fif, raw.fif.gz, raw_sss.fif.gz, raw_tsss.fif.gz, _meg.fif.gz, _eeg.fif.gz or _ieeg.fif.gz\n",
      "  PW_W_list[i].save('procested/PW_NW/'+ID[i] + '.fif', overwrite=True)\n",
      "C:\\Users\\dasha\\AppData\\Local\\Temp\\ipykernel_9316\\352767205.py:4: RuntimeWarning: This filename (C:\\Users\\dasha\\Documents\\Neurobiology_EEG\\VFT\\VFT1\\procested\\PW_NW\\NP042313_2.fif) does not conform to MNE naming conventions. All raw files should end with raw.fif, raw_sss.fif, raw_tsss.fif, _meg.fif, _eeg.fif, _ieeg.fif, raw.fif.gz, raw_sss.fif.gz, raw_tsss.fif.gz, _meg.fif.gz, _eeg.fif.gz or _ieeg.fif.gz\n",
      "  PW_NW_list[i].save('procested/PW_NW/'+ID[i] + '.fif', overwrite=True)\n",
      "C:\\Users\\dasha\\AppData\\Local\\Temp\\ipykernel_9316\\352767205.py:2: RuntimeWarning: This filename (C:\\Users\\dasha\\Documents\\Neurobiology_EEG\\VFT\\VFT1\\procested\\NW_PF\\NP042318_2.fif) does not conform to MNE naming conventions. All raw files should end with raw.fif, raw_sss.fif, raw_tsss.fif, _meg.fif, _eeg.fif, _ieeg.fif, raw.fif.gz, raw_sss.fif.gz, raw_tsss.fif.gz, _meg.fif.gz, _eeg.fif.gz or _ieeg.fif.gz\n",
      "  NW_PF_list[i].save('procested/NW_PF/'+ID[i] + '.fif', overwrite=True)\n",
      "C:\\Users\\dasha\\AppData\\Local\\Temp\\ipykernel_9316\\352767205.py:3: RuntimeWarning: This filename (C:\\Users\\dasha\\Documents\\Neurobiology_EEG\\VFT\\VFT1\\procested\\PW_NW\\NP042318_2.fif) does not conform to MNE naming conventions. All raw files should end with raw.fif, raw_sss.fif, raw_tsss.fif, _meg.fif, _eeg.fif, _ieeg.fif, raw.fif.gz, raw_sss.fif.gz, raw_tsss.fif.gz, _meg.fif.gz, _eeg.fif.gz or _ieeg.fif.gz\n",
      "  PW_W_list[i].save('procested/PW_NW/'+ID[i] + '.fif', overwrite=True)\n"
     ]
    },
    {
     "name": "stdout",
     "output_type": "stream",
     "text": [
      "[done]\n",
      "Overwriting existing file.\n",
      "Writing C:\\Users\\dasha\\Documents\\Neurobiology_EEG\\VFT\\VFT1\\procested\\PW_NW\\NP042318_2.fif\n",
      "Closing C:\\Users\\dasha\\Documents\\Neurobiology_EEG\\VFT\\VFT1\\procested\\PW_NW\\NP042318_2.fif\n",
      "[done]\n",
      "Writing C:\\Users\\dasha\\Documents\\Neurobiology_EEG\\VFT\\VFT1\\procested\\NW_PF\\NP052401.fif\n",
      "Closing C:\\Users\\dasha\\Documents\\Neurobiology_EEG\\VFT\\VFT1\\procested\\NW_PF\\NP052401.fif\n",
      "[done]\n",
      "Writing C:\\Users\\dasha\\Documents\\Neurobiology_EEG\\VFT\\VFT1\\procested\\PW_NW\\NP052401.fif\n",
      "Closing C:\\Users\\dasha\\Documents\\Neurobiology_EEG\\VFT\\VFT1\\procested\\PW_NW\\NP052401.fif\n",
      "[done]\n",
      "Overwriting existing file.\n",
      "Writing C:\\Users\\dasha\\Documents\\Neurobiology_EEG\\VFT\\VFT1\\procested\\PW_NW\\NP052401.fif\n",
      "Closing C:\\Users\\dasha\\Documents\\Neurobiology_EEG\\VFT\\VFT1\\procested\\PW_NW\\NP052401.fif\n",
      "[done]\n",
      "Writing C:\\Users\\dasha\\Documents\\Neurobiology_EEG\\VFT\\VFT1\\procested\\NW_PF\\NP052402.fif\n",
      "Closing C:\\Users\\dasha\\Documents\\Neurobiology_EEG\\VFT\\VFT1\\procested\\NW_PF\\NP052402.fif\n",
      "[done]\n",
      "Writing C:\\Users\\dasha\\Documents\\Neurobiology_EEG\\VFT\\VFT1\\procested\\PW_NW\\NP052402.fif\n",
      "Closing C:\\Users\\dasha\\Documents\\Neurobiology_EEG\\VFT\\VFT1\\procested\\PW_NW\\NP052402.fif\n"
     ]
    },
    {
     "name": "stderr",
     "output_type": "stream",
     "text": [
      "C:\\Users\\dasha\\AppData\\Local\\Temp\\ipykernel_9316\\352767205.py:4: RuntimeWarning: This filename (C:\\Users\\dasha\\Documents\\Neurobiology_EEG\\VFT\\VFT1\\procested\\PW_NW\\NP042318_2.fif) does not conform to MNE naming conventions. All raw files should end with raw.fif, raw_sss.fif, raw_tsss.fif, _meg.fif, _eeg.fif, _ieeg.fif, raw.fif.gz, raw_sss.fif.gz, raw_tsss.fif.gz, _meg.fif.gz, _eeg.fif.gz or _ieeg.fif.gz\n",
      "  PW_NW_list[i].save('procested/PW_NW/'+ID[i] + '.fif', overwrite=True)\n",
      "C:\\Users\\dasha\\AppData\\Local\\Temp\\ipykernel_9316\\352767205.py:2: RuntimeWarning: This filename (C:\\Users\\dasha\\Documents\\Neurobiology_EEG\\VFT\\VFT1\\procested\\NW_PF\\NP052401.fif) does not conform to MNE naming conventions. All raw files should end with raw.fif, raw_sss.fif, raw_tsss.fif, _meg.fif, _eeg.fif, _ieeg.fif, raw.fif.gz, raw_sss.fif.gz, raw_tsss.fif.gz, _meg.fif.gz, _eeg.fif.gz or _ieeg.fif.gz\n",
      "  NW_PF_list[i].save('procested/NW_PF/'+ID[i] + '.fif', overwrite=True)\n",
      "C:\\Users\\dasha\\AppData\\Local\\Temp\\ipykernel_9316\\352767205.py:3: RuntimeWarning: This filename (C:\\Users\\dasha\\Documents\\Neurobiology_EEG\\VFT\\VFT1\\procested\\PW_NW\\NP052401.fif) does not conform to MNE naming conventions. All raw files should end with raw.fif, raw_sss.fif, raw_tsss.fif, _meg.fif, _eeg.fif, _ieeg.fif, raw.fif.gz, raw_sss.fif.gz, raw_tsss.fif.gz, _meg.fif.gz, _eeg.fif.gz or _ieeg.fif.gz\n",
      "  PW_W_list[i].save('procested/PW_NW/'+ID[i] + '.fif', overwrite=True)\n",
      "C:\\Users\\dasha\\AppData\\Local\\Temp\\ipykernel_9316\\352767205.py:4: RuntimeWarning: This filename (C:\\Users\\dasha\\Documents\\Neurobiology_EEG\\VFT\\VFT1\\procested\\PW_NW\\NP052401.fif) does not conform to MNE naming conventions. All raw files should end with raw.fif, raw_sss.fif, raw_tsss.fif, _meg.fif, _eeg.fif, _ieeg.fif, raw.fif.gz, raw_sss.fif.gz, raw_tsss.fif.gz, _meg.fif.gz, _eeg.fif.gz or _ieeg.fif.gz\n",
      "  PW_NW_list[i].save('procested/PW_NW/'+ID[i] + '.fif', overwrite=True)\n",
      "C:\\Users\\dasha\\AppData\\Local\\Temp\\ipykernel_9316\\352767205.py:2: RuntimeWarning: This filename (C:\\Users\\dasha\\Documents\\Neurobiology_EEG\\VFT\\VFT1\\procested\\NW_PF\\NP052402.fif) does not conform to MNE naming conventions. All raw files should end with raw.fif, raw_sss.fif, raw_tsss.fif, _meg.fif, _eeg.fif, _ieeg.fif, raw.fif.gz, raw_sss.fif.gz, raw_tsss.fif.gz, _meg.fif.gz, _eeg.fif.gz or _ieeg.fif.gz\n",
      "  NW_PF_list[i].save('procested/NW_PF/'+ID[i] + '.fif', overwrite=True)\n",
      "C:\\Users\\dasha\\AppData\\Local\\Temp\\ipykernel_9316\\352767205.py:3: RuntimeWarning: This filename (C:\\Users\\dasha\\Documents\\Neurobiology_EEG\\VFT\\VFT1\\procested\\PW_NW\\NP052402.fif) does not conform to MNE naming conventions. All raw files should end with raw.fif, raw_sss.fif, raw_tsss.fif, _meg.fif, _eeg.fif, _ieeg.fif, raw.fif.gz, raw_sss.fif.gz, raw_tsss.fif.gz, _meg.fif.gz, _eeg.fif.gz or _ieeg.fif.gz\n",
      "  PW_W_list[i].save('procested/PW_NW/'+ID[i] + '.fif', overwrite=True)\n"
     ]
    },
    {
     "name": "stdout",
     "output_type": "stream",
     "text": [
      "[done]\n",
      "Overwriting existing file.\n",
      "Writing C:\\Users\\dasha\\Documents\\Neurobiology_EEG\\VFT\\VFT1\\procested\\PW_NW\\NP052402.fif\n",
      "Closing C:\\Users\\dasha\\Documents\\Neurobiology_EEG\\VFT\\VFT1\\procested\\PW_NW\\NP052402.fif\n",
      "[done]\n",
      "Writing C:\\Users\\dasha\\Documents\\Neurobiology_EEG\\VFT\\VFT1\\procested\\NW_PF\\NP052403.fif\n",
      "Closing C:\\Users\\dasha\\Documents\\Neurobiology_EEG\\VFT\\VFT1\\procested\\NW_PF\\NP052403.fif\n",
      "[done]\n",
      "Writing C:\\Users\\dasha\\Documents\\Neurobiology_EEG\\VFT\\VFT1\\procested\\PW_NW\\NP052403.fif\n",
      "Closing C:\\Users\\dasha\\Documents\\Neurobiology_EEG\\VFT\\VFT1\\procested\\PW_NW\\NP052403.fif\n",
      "[done]\n",
      "Overwriting existing file.\n",
      "Writing C:\\Users\\dasha\\Documents\\Neurobiology_EEG\\VFT\\VFT1\\procested\\PW_NW\\NP052403.fif\n",
      "Closing C:\\Users\\dasha\\Documents\\Neurobiology_EEG\\VFT\\VFT1\\procested\\PW_NW\\NP052403.fif\n",
      "[done]\n",
      "Writing C:\\Users\\dasha\\Documents\\Neurobiology_EEG\\VFT\\VFT1\\procested\\NW_PF\\NP062401.fif\n"
     ]
    },
    {
     "name": "stderr",
     "output_type": "stream",
     "text": [
      "C:\\Users\\dasha\\AppData\\Local\\Temp\\ipykernel_9316\\352767205.py:4: RuntimeWarning: This filename (C:\\Users\\dasha\\Documents\\Neurobiology_EEG\\VFT\\VFT1\\procested\\PW_NW\\NP052402.fif) does not conform to MNE naming conventions. All raw files should end with raw.fif, raw_sss.fif, raw_tsss.fif, _meg.fif, _eeg.fif, _ieeg.fif, raw.fif.gz, raw_sss.fif.gz, raw_tsss.fif.gz, _meg.fif.gz, _eeg.fif.gz or _ieeg.fif.gz\n",
      "  PW_NW_list[i].save('procested/PW_NW/'+ID[i] + '.fif', overwrite=True)\n",
      "C:\\Users\\dasha\\AppData\\Local\\Temp\\ipykernel_9316\\352767205.py:2: RuntimeWarning: This filename (C:\\Users\\dasha\\Documents\\Neurobiology_EEG\\VFT\\VFT1\\procested\\NW_PF\\NP052403.fif) does not conform to MNE naming conventions. All raw files should end with raw.fif, raw_sss.fif, raw_tsss.fif, _meg.fif, _eeg.fif, _ieeg.fif, raw.fif.gz, raw_sss.fif.gz, raw_tsss.fif.gz, _meg.fif.gz, _eeg.fif.gz or _ieeg.fif.gz\n",
      "  NW_PF_list[i].save('procested/NW_PF/'+ID[i] + '.fif', overwrite=True)\n",
      "C:\\Users\\dasha\\AppData\\Local\\Temp\\ipykernel_9316\\352767205.py:3: RuntimeWarning: This filename (C:\\Users\\dasha\\Documents\\Neurobiology_EEG\\VFT\\VFT1\\procested\\PW_NW\\NP052403.fif) does not conform to MNE naming conventions. All raw files should end with raw.fif, raw_sss.fif, raw_tsss.fif, _meg.fif, _eeg.fif, _ieeg.fif, raw.fif.gz, raw_sss.fif.gz, raw_tsss.fif.gz, _meg.fif.gz, _eeg.fif.gz or _ieeg.fif.gz\n",
      "  PW_W_list[i].save('procested/PW_NW/'+ID[i] + '.fif', overwrite=True)\n",
      "C:\\Users\\dasha\\AppData\\Local\\Temp\\ipykernel_9316\\352767205.py:4: RuntimeWarning: This filename (C:\\Users\\dasha\\Documents\\Neurobiology_EEG\\VFT\\VFT1\\procested\\PW_NW\\NP052403.fif) does not conform to MNE naming conventions. All raw files should end with raw.fif, raw_sss.fif, raw_tsss.fif, _meg.fif, _eeg.fif, _ieeg.fif, raw.fif.gz, raw_sss.fif.gz, raw_tsss.fif.gz, _meg.fif.gz, _eeg.fif.gz or _ieeg.fif.gz\n",
      "  PW_NW_list[i].save('procested/PW_NW/'+ID[i] + '.fif', overwrite=True)\n",
      "C:\\Users\\dasha\\AppData\\Local\\Temp\\ipykernel_9316\\352767205.py:2: RuntimeWarning: This filename (C:\\Users\\dasha\\Documents\\Neurobiology_EEG\\VFT\\VFT1\\procested\\NW_PF\\NP062401.fif) does not conform to MNE naming conventions. All raw files should end with raw.fif, raw_sss.fif, raw_tsss.fif, _meg.fif, _eeg.fif, _ieeg.fif, raw.fif.gz, raw_sss.fif.gz, raw_tsss.fif.gz, _meg.fif.gz, _eeg.fif.gz or _ieeg.fif.gz\n",
      "  NW_PF_list[i].save('procested/NW_PF/'+ID[i] + '.fif', overwrite=True)\n"
     ]
    },
    {
     "name": "stdout",
     "output_type": "stream",
     "text": [
      "Closing C:\\Users\\dasha\\Documents\\Neurobiology_EEG\\VFT\\VFT1\\procested\\NW_PF\\NP062401.fif\n",
      "[done]\n",
      "Writing C:\\Users\\dasha\\Documents\\Neurobiology_EEG\\VFT\\VFT1\\procested\\PW_NW\\NP062401.fif\n",
      "Closing C:\\Users\\dasha\\Documents\\Neurobiology_EEG\\VFT\\VFT1\\procested\\PW_NW\\NP062401.fif\n",
      "[done]\n",
      "Overwriting existing file.\n",
      "Writing C:\\Users\\dasha\\Documents\\Neurobiology_EEG\\VFT\\VFT1\\procested\\PW_NW\\NP062401.fif\n",
      "Closing C:\\Users\\dasha\\Documents\\Neurobiology_EEG\\VFT\\VFT1\\procested\\PW_NW\\NP062401.fif\n",
      "[done]\n",
      "Writing C:\\Users\\dasha\\Documents\\Neurobiology_EEG\\VFT\\VFT1\\procested\\NW_PF\\NP102201_2.fif\n",
      "Closing C:\\Users\\dasha\\Documents\\Neurobiology_EEG\\VFT\\VFT1\\procested\\NW_PF\\NP102201_2.fif\n",
      "[done]\n",
      "Writing C:\\Users\\dasha\\Documents\\Neurobiology_EEG\\VFT\\VFT1\\procested\\PW_NW\\NP102201_2.fif\n",
      "Closing C:\\Users\\dasha\\Documents\\Neurobiology_EEG\\VFT\\VFT1\\procested\\PW_NW\\NP102201_2.fif\n",
      "[done]\n"
     ]
    },
    {
     "name": "stderr",
     "output_type": "stream",
     "text": [
      "C:\\Users\\dasha\\AppData\\Local\\Temp\\ipykernel_9316\\352767205.py:3: RuntimeWarning: This filename (C:\\Users\\dasha\\Documents\\Neurobiology_EEG\\VFT\\VFT1\\procested\\PW_NW\\NP062401.fif) does not conform to MNE naming conventions. All raw files should end with raw.fif, raw_sss.fif, raw_tsss.fif, _meg.fif, _eeg.fif, _ieeg.fif, raw.fif.gz, raw_sss.fif.gz, raw_tsss.fif.gz, _meg.fif.gz, _eeg.fif.gz or _ieeg.fif.gz\n",
      "  PW_W_list[i].save('procested/PW_NW/'+ID[i] + '.fif', overwrite=True)\n",
      "C:\\Users\\dasha\\AppData\\Local\\Temp\\ipykernel_9316\\352767205.py:4: RuntimeWarning: This filename (C:\\Users\\dasha\\Documents\\Neurobiology_EEG\\VFT\\VFT1\\procested\\PW_NW\\NP062401.fif) does not conform to MNE naming conventions. All raw files should end with raw.fif, raw_sss.fif, raw_tsss.fif, _meg.fif, _eeg.fif, _ieeg.fif, raw.fif.gz, raw_sss.fif.gz, raw_tsss.fif.gz, _meg.fif.gz, _eeg.fif.gz or _ieeg.fif.gz\n",
      "  PW_NW_list[i].save('procested/PW_NW/'+ID[i] + '.fif', overwrite=True)\n",
      "C:\\Users\\dasha\\AppData\\Local\\Temp\\ipykernel_9316\\352767205.py:2: RuntimeWarning: This filename (C:\\Users\\dasha\\Documents\\Neurobiology_EEG\\VFT\\VFT1\\procested\\NW_PF\\NP102201_2.fif) does not conform to MNE naming conventions. All raw files should end with raw.fif, raw_sss.fif, raw_tsss.fif, _meg.fif, _eeg.fif, _ieeg.fif, raw.fif.gz, raw_sss.fif.gz, raw_tsss.fif.gz, _meg.fif.gz, _eeg.fif.gz or _ieeg.fif.gz\n",
      "  NW_PF_list[i].save('procested/NW_PF/'+ID[i] + '.fif', overwrite=True)\n",
      "C:\\Users\\dasha\\AppData\\Local\\Temp\\ipykernel_9316\\352767205.py:3: RuntimeWarning: This filename (C:\\Users\\dasha\\Documents\\Neurobiology_EEG\\VFT\\VFT1\\procested\\PW_NW\\NP102201_2.fif) does not conform to MNE naming conventions. All raw files should end with raw.fif, raw_sss.fif, raw_tsss.fif, _meg.fif, _eeg.fif, _ieeg.fif, raw.fif.gz, raw_sss.fif.gz, raw_tsss.fif.gz, _meg.fif.gz, _eeg.fif.gz or _ieeg.fif.gz\n",
      "  PW_W_list[i].save('procested/PW_NW/'+ID[i] + '.fif', overwrite=True)\n"
     ]
    },
    {
     "name": "stdout",
     "output_type": "stream",
     "text": [
      "Overwriting existing file.\n",
      "Writing C:\\Users\\dasha\\Documents\\Neurobiology_EEG\\VFT\\VFT1\\procested\\PW_NW\\NP102201_2.fif\n",
      "Closing C:\\Users\\dasha\\Documents\\Neurobiology_EEG\\VFT\\VFT1\\procested\\PW_NW\\NP102201_2.fif\n",
      "[done]\n",
      "Writing C:\\Users\\dasha\\Documents\\Neurobiology_EEG\\VFT\\VFT1\\procested\\NW_PF\\NP102302.fif\n",
      "Closing C:\\Users\\dasha\\Documents\\Neurobiology_EEG\\VFT\\VFT1\\procested\\NW_PF\\NP102302.fif\n",
      "[done]\n",
      "Writing C:\\Users\\dasha\\Documents\\Neurobiology_EEG\\VFT\\VFT1\\procested\\PW_NW\\NP102302.fif\n",
      "Closing C:\\Users\\dasha\\Documents\\Neurobiology_EEG\\VFT\\VFT1\\procested\\PW_NW\\NP102302.fif\n",
      "[done]\n",
      "Overwriting existing file.\n",
      "Writing C:\\Users\\dasha\\Documents\\Neurobiology_EEG\\VFT\\VFT1\\procested\\PW_NW\\NP102302.fif\n",
      "Closing C:\\Users\\dasha\\Documents\\Neurobiology_EEG\\VFT\\VFT1\\procested\\PW_NW\\NP102302.fif\n",
      "[done]\n",
      "Writing C:\\Users\\dasha\\Documents\\Neurobiology_EEG\\VFT\\VFT1\\procested\\NW_PF\\NP102308.fif\n",
      "Closing C:\\Users\\dasha\\Documents\\Neurobiology_EEG\\VFT\\VFT1\\procested\\NW_PF\\NP102308.fif\n"
     ]
    },
    {
     "name": "stderr",
     "output_type": "stream",
     "text": [
      "C:\\Users\\dasha\\AppData\\Local\\Temp\\ipykernel_9316\\352767205.py:4: RuntimeWarning: This filename (C:\\Users\\dasha\\Documents\\Neurobiology_EEG\\VFT\\VFT1\\procested\\PW_NW\\NP102201_2.fif) does not conform to MNE naming conventions. All raw files should end with raw.fif, raw_sss.fif, raw_tsss.fif, _meg.fif, _eeg.fif, _ieeg.fif, raw.fif.gz, raw_sss.fif.gz, raw_tsss.fif.gz, _meg.fif.gz, _eeg.fif.gz or _ieeg.fif.gz\n",
      "  PW_NW_list[i].save('procested/PW_NW/'+ID[i] + '.fif', overwrite=True)\n",
      "C:\\Users\\dasha\\AppData\\Local\\Temp\\ipykernel_9316\\352767205.py:2: RuntimeWarning: This filename (C:\\Users\\dasha\\Documents\\Neurobiology_EEG\\VFT\\VFT1\\procested\\NW_PF\\NP102302.fif) does not conform to MNE naming conventions. All raw files should end with raw.fif, raw_sss.fif, raw_tsss.fif, _meg.fif, _eeg.fif, _ieeg.fif, raw.fif.gz, raw_sss.fif.gz, raw_tsss.fif.gz, _meg.fif.gz, _eeg.fif.gz or _ieeg.fif.gz\n",
      "  NW_PF_list[i].save('procested/NW_PF/'+ID[i] + '.fif', overwrite=True)\n",
      "C:\\Users\\dasha\\AppData\\Local\\Temp\\ipykernel_9316\\352767205.py:3: RuntimeWarning: This filename (C:\\Users\\dasha\\Documents\\Neurobiology_EEG\\VFT\\VFT1\\procested\\PW_NW\\NP102302.fif) does not conform to MNE naming conventions. All raw files should end with raw.fif, raw_sss.fif, raw_tsss.fif, _meg.fif, _eeg.fif, _ieeg.fif, raw.fif.gz, raw_sss.fif.gz, raw_tsss.fif.gz, _meg.fif.gz, _eeg.fif.gz or _ieeg.fif.gz\n",
      "  PW_W_list[i].save('procested/PW_NW/'+ID[i] + '.fif', overwrite=True)\n",
      "C:\\Users\\dasha\\AppData\\Local\\Temp\\ipykernel_9316\\352767205.py:4: RuntimeWarning: This filename (C:\\Users\\dasha\\Documents\\Neurobiology_EEG\\VFT\\VFT1\\procested\\PW_NW\\NP102302.fif) does not conform to MNE naming conventions. All raw files should end with raw.fif, raw_sss.fif, raw_tsss.fif, _meg.fif, _eeg.fif, _ieeg.fif, raw.fif.gz, raw_sss.fif.gz, raw_tsss.fif.gz, _meg.fif.gz, _eeg.fif.gz or _ieeg.fif.gz\n",
      "  PW_NW_list[i].save('procested/PW_NW/'+ID[i] + '.fif', overwrite=True)\n",
      "C:\\Users\\dasha\\AppData\\Local\\Temp\\ipykernel_9316\\352767205.py:2: RuntimeWarning: This filename (C:\\Users\\dasha\\Documents\\Neurobiology_EEG\\VFT\\VFT1\\procested\\NW_PF\\NP102308.fif) does not conform to MNE naming conventions. All raw files should end with raw.fif, raw_sss.fif, raw_tsss.fif, _meg.fif, _eeg.fif, _ieeg.fif, raw.fif.gz, raw_sss.fif.gz, raw_tsss.fif.gz, _meg.fif.gz, _eeg.fif.gz or _ieeg.fif.gz\n",
      "  NW_PF_list[i].save('procested/NW_PF/'+ID[i] + '.fif', overwrite=True)\n"
     ]
    },
    {
     "name": "stdout",
     "output_type": "stream",
     "text": [
      "[done]\n",
      "Writing C:\\Users\\dasha\\Documents\\Neurobiology_EEG\\VFT\\VFT1\\procested\\PW_NW\\NP102308.fif\n",
      "Closing C:\\Users\\dasha\\Documents\\Neurobiology_EEG\\VFT\\VFT1\\procested\\PW_NW\\NP102308.fif\n",
      "[done]\n",
      "Overwriting existing file.\n",
      "Writing C:\\Users\\dasha\\Documents\\Neurobiology_EEG\\VFT\\VFT1\\procested\\PW_NW\\NP102308.fif\n",
      "Closing C:\\Users\\dasha\\Documents\\Neurobiology_EEG\\VFT\\VFT1\\procested\\PW_NW\\NP102308.fif\n",
      "[done]\n",
      "Writing C:\\Users\\dasha\\Documents\\Neurobiology_EEG\\VFT\\VFT1\\procested\\NW_PF\\NP102310.fif\n",
      "Closing C:\\Users\\dasha\\Documents\\Neurobiology_EEG\\VFT\\VFT1\\procested\\NW_PF\\NP102310.fif\n",
      "[done]\n",
      "Writing C:\\Users\\dasha\\Documents\\Neurobiology_EEG\\VFT\\VFT1\\procested\\PW_NW\\NP102310.fif\n",
      "Closing C:\\Users\\dasha\\Documents\\Neurobiology_EEG\\VFT\\VFT1\\procested\\PW_NW\\NP102310.fif\n",
      "[done]\n",
      "Overwriting existing file.\n",
      "Writing C:\\Users\\dasha\\Documents\\Neurobiology_EEG\\VFT\\VFT1\\procested\\PW_NW\\NP102310.fif\n",
      "Closing C:\\Users\\dasha\\Documents\\Neurobiology_EEG\\VFT\\VFT1\\procested\\PW_NW\\NP102310.fif\n",
      "[done]\n",
      "Writing C:\\Users\\dasha\\Documents\\Neurobiology_EEG\\VFT\\VFT1\\procested\\NW_PF\\NP102313.fif\n",
      "Closing C:\\Users\\dasha\\Documents\\Neurobiology_EEG\\VFT\\VFT1\\procested\\NW_PF\\NP102313.fif\n"
     ]
    },
    {
     "name": "stderr",
     "output_type": "stream",
     "text": [
      "C:\\Users\\dasha\\AppData\\Local\\Temp\\ipykernel_9316\\352767205.py:3: RuntimeWarning: This filename (C:\\Users\\dasha\\Documents\\Neurobiology_EEG\\VFT\\VFT1\\procested\\PW_NW\\NP102308.fif) does not conform to MNE naming conventions. All raw files should end with raw.fif, raw_sss.fif, raw_tsss.fif, _meg.fif, _eeg.fif, _ieeg.fif, raw.fif.gz, raw_sss.fif.gz, raw_tsss.fif.gz, _meg.fif.gz, _eeg.fif.gz or _ieeg.fif.gz\n",
      "  PW_W_list[i].save('procested/PW_NW/'+ID[i] + '.fif', overwrite=True)\n",
      "C:\\Users\\dasha\\AppData\\Local\\Temp\\ipykernel_9316\\352767205.py:4: RuntimeWarning: This filename (C:\\Users\\dasha\\Documents\\Neurobiology_EEG\\VFT\\VFT1\\procested\\PW_NW\\NP102308.fif) does not conform to MNE naming conventions. All raw files should end with raw.fif, raw_sss.fif, raw_tsss.fif, _meg.fif, _eeg.fif, _ieeg.fif, raw.fif.gz, raw_sss.fif.gz, raw_tsss.fif.gz, _meg.fif.gz, _eeg.fif.gz or _ieeg.fif.gz\n",
      "  PW_NW_list[i].save('procested/PW_NW/'+ID[i] + '.fif', overwrite=True)\n",
      "C:\\Users\\dasha\\AppData\\Local\\Temp\\ipykernel_9316\\352767205.py:2: RuntimeWarning: This filename (C:\\Users\\dasha\\Documents\\Neurobiology_EEG\\VFT\\VFT1\\procested\\NW_PF\\NP102310.fif) does not conform to MNE naming conventions. All raw files should end with raw.fif, raw_sss.fif, raw_tsss.fif, _meg.fif, _eeg.fif, _ieeg.fif, raw.fif.gz, raw_sss.fif.gz, raw_tsss.fif.gz, _meg.fif.gz, _eeg.fif.gz or _ieeg.fif.gz\n",
      "  NW_PF_list[i].save('procested/NW_PF/'+ID[i] + '.fif', overwrite=True)\n",
      "C:\\Users\\dasha\\AppData\\Local\\Temp\\ipykernel_9316\\352767205.py:3: RuntimeWarning: This filename (C:\\Users\\dasha\\Documents\\Neurobiology_EEG\\VFT\\VFT1\\procested\\PW_NW\\NP102310.fif) does not conform to MNE naming conventions. All raw files should end with raw.fif, raw_sss.fif, raw_tsss.fif, _meg.fif, _eeg.fif, _ieeg.fif, raw.fif.gz, raw_sss.fif.gz, raw_tsss.fif.gz, _meg.fif.gz, _eeg.fif.gz or _ieeg.fif.gz\n",
      "  PW_W_list[i].save('procested/PW_NW/'+ID[i] + '.fif', overwrite=True)\n",
      "C:\\Users\\dasha\\AppData\\Local\\Temp\\ipykernel_9316\\352767205.py:4: RuntimeWarning: This filename (C:\\Users\\dasha\\Documents\\Neurobiology_EEG\\VFT\\VFT1\\procested\\PW_NW\\NP102310.fif) does not conform to MNE naming conventions. All raw files should end with raw.fif, raw_sss.fif, raw_tsss.fif, _meg.fif, _eeg.fif, _ieeg.fif, raw.fif.gz, raw_sss.fif.gz, raw_tsss.fif.gz, _meg.fif.gz, _eeg.fif.gz or _ieeg.fif.gz\n",
      "  PW_NW_list[i].save('procested/PW_NW/'+ID[i] + '.fif', overwrite=True)\n",
      "C:\\Users\\dasha\\AppData\\Local\\Temp\\ipykernel_9316\\352767205.py:2: RuntimeWarning: This filename (C:\\Users\\dasha\\Documents\\Neurobiology_EEG\\VFT\\VFT1\\procested\\NW_PF\\NP102313.fif) does not conform to MNE naming conventions. All raw files should end with raw.fif, raw_sss.fif, raw_tsss.fif, _meg.fif, _eeg.fif, _ieeg.fif, raw.fif.gz, raw_sss.fif.gz, raw_tsss.fif.gz, _meg.fif.gz, _eeg.fif.gz or _ieeg.fif.gz\n",
      "  NW_PF_list[i].save('procested/NW_PF/'+ID[i] + '.fif', overwrite=True)\n"
     ]
    },
    {
     "name": "stdout",
     "output_type": "stream",
     "text": [
      "[done]\n",
      "Writing C:\\Users\\dasha\\Documents\\Neurobiology_EEG\\VFT\\VFT1\\procested\\PW_NW\\NP102313.fif\n",
      "Closing C:\\Users\\dasha\\Documents\\Neurobiology_EEG\\VFT\\VFT1\\procested\\PW_NW\\NP102313.fif\n",
      "[done]\n",
      "Overwriting existing file.\n",
      "Writing C:\\Users\\dasha\\Documents\\Neurobiology_EEG\\VFT\\VFT1\\procested\\PW_NW\\NP102313.fif\n",
      "Closing C:\\Users\\dasha\\Documents\\Neurobiology_EEG\\VFT\\VFT1\\procested\\PW_NW\\NP102313.fif\n",
      "[done]\n",
      "Writing C:\\Users\\dasha\\Documents\\Neurobiology_EEG\\VFT\\VFT1\\procested\\NW_PF\\NP102314.fif\n",
      "Closing C:\\Users\\dasha\\Documents\\Neurobiology_EEG\\VFT\\VFT1\\procested\\NW_PF\\NP102314.fif\n",
      "[done]\n",
      "Writing C:\\Users\\dasha\\Documents\\Neurobiology_EEG\\VFT\\VFT1\\procested\\PW_NW\\NP102314.fif\n",
      "Closing C:\\Users\\dasha\\Documents\\Neurobiology_EEG\\VFT\\VFT1\\procested\\PW_NW\\NP102314.fif\n",
      "[done]\n",
      "Overwriting existing file.\n",
      "Writing C:\\Users\\dasha\\Documents\\Neurobiology_EEG\\VFT\\VFT1\\procested\\PW_NW\\NP102314.fif\n"
     ]
    },
    {
     "name": "stderr",
     "output_type": "stream",
     "text": [
      "C:\\Users\\dasha\\AppData\\Local\\Temp\\ipykernel_9316\\352767205.py:3: RuntimeWarning: This filename (C:\\Users\\dasha\\Documents\\Neurobiology_EEG\\VFT\\VFT1\\procested\\PW_NW\\NP102313.fif) does not conform to MNE naming conventions. All raw files should end with raw.fif, raw_sss.fif, raw_tsss.fif, _meg.fif, _eeg.fif, _ieeg.fif, raw.fif.gz, raw_sss.fif.gz, raw_tsss.fif.gz, _meg.fif.gz, _eeg.fif.gz or _ieeg.fif.gz\n",
      "  PW_W_list[i].save('procested/PW_NW/'+ID[i] + '.fif', overwrite=True)\n",
      "C:\\Users\\dasha\\AppData\\Local\\Temp\\ipykernel_9316\\352767205.py:4: RuntimeWarning: This filename (C:\\Users\\dasha\\Documents\\Neurobiology_EEG\\VFT\\VFT1\\procested\\PW_NW\\NP102313.fif) does not conform to MNE naming conventions. All raw files should end with raw.fif, raw_sss.fif, raw_tsss.fif, _meg.fif, _eeg.fif, _ieeg.fif, raw.fif.gz, raw_sss.fif.gz, raw_tsss.fif.gz, _meg.fif.gz, _eeg.fif.gz or _ieeg.fif.gz\n",
      "  PW_NW_list[i].save('procested/PW_NW/'+ID[i] + '.fif', overwrite=True)\n",
      "C:\\Users\\dasha\\AppData\\Local\\Temp\\ipykernel_9316\\352767205.py:2: RuntimeWarning: This filename (C:\\Users\\dasha\\Documents\\Neurobiology_EEG\\VFT\\VFT1\\procested\\NW_PF\\NP102314.fif) does not conform to MNE naming conventions. All raw files should end with raw.fif, raw_sss.fif, raw_tsss.fif, _meg.fif, _eeg.fif, _ieeg.fif, raw.fif.gz, raw_sss.fif.gz, raw_tsss.fif.gz, _meg.fif.gz, _eeg.fif.gz or _ieeg.fif.gz\n",
      "  NW_PF_list[i].save('procested/NW_PF/'+ID[i] + '.fif', overwrite=True)\n",
      "C:\\Users\\dasha\\AppData\\Local\\Temp\\ipykernel_9316\\352767205.py:3: RuntimeWarning: This filename (C:\\Users\\dasha\\Documents\\Neurobiology_EEG\\VFT\\VFT1\\procested\\PW_NW\\NP102314.fif) does not conform to MNE naming conventions. All raw files should end with raw.fif, raw_sss.fif, raw_tsss.fif, _meg.fif, _eeg.fif, _ieeg.fif, raw.fif.gz, raw_sss.fif.gz, raw_tsss.fif.gz, _meg.fif.gz, _eeg.fif.gz or _ieeg.fif.gz\n",
      "  PW_W_list[i].save('procested/PW_NW/'+ID[i] + '.fif', overwrite=True)\n",
      "C:\\Users\\dasha\\AppData\\Local\\Temp\\ipykernel_9316\\352767205.py:4: RuntimeWarning: This filename (C:\\Users\\dasha\\Documents\\Neurobiology_EEG\\VFT\\VFT1\\procested\\PW_NW\\NP102314.fif) does not conform to MNE naming conventions. All raw files should end with raw.fif, raw_sss.fif, raw_tsss.fif, _meg.fif, _eeg.fif, _ieeg.fif, raw.fif.gz, raw_sss.fif.gz, raw_tsss.fif.gz, _meg.fif.gz, _eeg.fif.gz or _ieeg.fif.gz\n",
      "  PW_NW_list[i].save('procested/PW_NW/'+ID[i] + '.fif', overwrite=True)\n"
     ]
    },
    {
     "name": "stdout",
     "output_type": "stream",
     "text": [
      "Closing C:\\Users\\dasha\\Documents\\Neurobiology_EEG\\VFT\\VFT1\\procested\\PW_NW\\NP102314.fif\n",
      "[done]\n",
      "Writing C:\\Users\\dasha\\Documents\\Neurobiology_EEG\\VFT\\VFT1\\procested\\NW_PF\\NP102315.fif\n",
      "Closing C:\\Users\\dasha\\Documents\\Neurobiology_EEG\\VFT\\VFT1\\procested\\NW_PF\\NP102315.fif\n",
      "[done]\n",
      "Writing C:\\Users\\dasha\\Documents\\Neurobiology_EEG\\VFT\\VFT1\\procested\\PW_NW\\NP102315.fif\n",
      "Closing C:\\Users\\dasha\\Documents\\Neurobiology_EEG\\VFT\\VFT1\\procested\\PW_NW\\NP102315.fif\n",
      "[done]\n",
      "Overwriting existing file.\n",
      "Writing C:\\Users\\dasha\\Documents\\Neurobiology_EEG\\VFT\\VFT1\\procested\\PW_NW\\NP102315.fif\n",
      "Closing C:\\Users\\dasha\\Documents\\Neurobiology_EEG\\VFT\\VFT1\\procested\\PW_NW\\NP102315.fif\n",
      "[done]\n",
      "Writing C:\\Users\\dasha\\Documents\\Neurobiology_EEG\\VFT\\VFT1\\procested\\NW_PF\\NP112201_2.fif\n",
      "Closing C:\\Users\\dasha\\Documents\\Neurobiology_EEG\\VFT\\VFT1\\procested\\NW_PF\\NP112201_2.fif\n",
      "[done]\n",
      "Writing C:\\Users\\dasha\\Documents\\Neurobiology_EEG\\VFT\\VFT1\\procested\\PW_NW\\NP112201_2.fif\n",
      "Closing C:\\Users\\dasha\\Documents\\Neurobiology_EEG\\VFT\\VFT1\\procested\\PW_NW\\NP112201_2.fif\n"
     ]
    },
    {
     "name": "stderr",
     "output_type": "stream",
     "text": [
      "C:\\Users\\dasha\\AppData\\Local\\Temp\\ipykernel_9316\\352767205.py:2: RuntimeWarning: This filename (C:\\Users\\dasha\\Documents\\Neurobiology_EEG\\VFT\\VFT1\\procested\\NW_PF\\NP102315.fif) does not conform to MNE naming conventions. All raw files should end with raw.fif, raw_sss.fif, raw_tsss.fif, _meg.fif, _eeg.fif, _ieeg.fif, raw.fif.gz, raw_sss.fif.gz, raw_tsss.fif.gz, _meg.fif.gz, _eeg.fif.gz or _ieeg.fif.gz\n",
      "  NW_PF_list[i].save('procested/NW_PF/'+ID[i] + '.fif', overwrite=True)\n",
      "C:\\Users\\dasha\\AppData\\Local\\Temp\\ipykernel_9316\\352767205.py:3: RuntimeWarning: This filename (C:\\Users\\dasha\\Documents\\Neurobiology_EEG\\VFT\\VFT1\\procested\\PW_NW\\NP102315.fif) does not conform to MNE naming conventions. All raw files should end with raw.fif, raw_sss.fif, raw_tsss.fif, _meg.fif, _eeg.fif, _ieeg.fif, raw.fif.gz, raw_sss.fif.gz, raw_tsss.fif.gz, _meg.fif.gz, _eeg.fif.gz or _ieeg.fif.gz\n",
      "  PW_W_list[i].save('procested/PW_NW/'+ID[i] + '.fif', overwrite=True)\n",
      "C:\\Users\\dasha\\AppData\\Local\\Temp\\ipykernel_9316\\352767205.py:4: RuntimeWarning: This filename (C:\\Users\\dasha\\Documents\\Neurobiology_EEG\\VFT\\VFT1\\procested\\PW_NW\\NP102315.fif) does not conform to MNE naming conventions. All raw files should end with raw.fif, raw_sss.fif, raw_tsss.fif, _meg.fif, _eeg.fif, _ieeg.fif, raw.fif.gz, raw_sss.fif.gz, raw_tsss.fif.gz, _meg.fif.gz, _eeg.fif.gz or _ieeg.fif.gz\n",
      "  PW_NW_list[i].save('procested/PW_NW/'+ID[i] + '.fif', overwrite=True)\n",
      "C:\\Users\\dasha\\AppData\\Local\\Temp\\ipykernel_9316\\352767205.py:2: RuntimeWarning: This filename (C:\\Users\\dasha\\Documents\\Neurobiology_EEG\\VFT\\VFT1\\procested\\NW_PF\\NP112201_2.fif) does not conform to MNE naming conventions. All raw files should end with raw.fif, raw_sss.fif, raw_tsss.fif, _meg.fif, _eeg.fif, _ieeg.fif, raw.fif.gz, raw_sss.fif.gz, raw_tsss.fif.gz, _meg.fif.gz, _eeg.fif.gz or _ieeg.fif.gz\n",
      "  NW_PF_list[i].save('procested/NW_PF/'+ID[i] + '.fif', overwrite=True)\n",
      "C:\\Users\\dasha\\AppData\\Local\\Temp\\ipykernel_9316\\352767205.py:3: RuntimeWarning: This filename (C:\\Users\\dasha\\Documents\\Neurobiology_EEG\\VFT\\VFT1\\procested\\PW_NW\\NP112201_2.fif) does not conform to MNE naming conventions. All raw files should end with raw.fif, raw_sss.fif, raw_tsss.fif, _meg.fif, _eeg.fif, _ieeg.fif, raw.fif.gz, raw_sss.fif.gz, raw_tsss.fif.gz, _meg.fif.gz, _eeg.fif.gz or _ieeg.fif.gz\n",
      "  PW_W_list[i].save('procested/PW_NW/'+ID[i] + '.fif', overwrite=True)\n"
     ]
    },
    {
     "name": "stdout",
     "output_type": "stream",
     "text": [
      "[done]\n",
      "Overwriting existing file.\n",
      "Writing C:\\Users\\dasha\\Documents\\Neurobiology_EEG\\VFT\\VFT1\\procested\\PW_NW\\NP112201_2.fif\n",
      "Closing C:\\Users\\dasha\\Documents\\Neurobiology_EEG\\VFT\\VFT1\\procested\\PW_NW\\NP112201_2.fif\n",
      "[done]\n",
      "Writing C:\\Users\\dasha\\Documents\\Neurobiology_EEG\\VFT\\VFT1\\procested\\NW_PF\\NP112206_2.fif\n",
      "Closing C:\\Users\\dasha\\Documents\\Neurobiology_EEG\\VFT\\VFT1\\procested\\NW_PF\\NP112206_2.fif\n",
      "[done]\n",
      "Writing C:\\Users\\dasha\\Documents\\Neurobiology_EEG\\VFT\\VFT1\\procested\\PW_NW\\NP112206_2.fif\n",
      "Closing C:\\Users\\dasha\\Documents\\Neurobiology_EEG\\VFT\\VFT1\\procested\\PW_NW\\NP112206_2.fif\n",
      "[done]\n",
      "Overwriting existing file.\n",
      "Writing C:\\Users\\dasha\\Documents\\Neurobiology_EEG\\VFT\\VFT1\\procested\\PW_NW\\NP112206_2.fif\n"
     ]
    },
    {
     "name": "stderr",
     "output_type": "stream",
     "text": [
      "C:\\Users\\dasha\\AppData\\Local\\Temp\\ipykernel_9316\\352767205.py:4: RuntimeWarning: This filename (C:\\Users\\dasha\\Documents\\Neurobiology_EEG\\VFT\\VFT1\\procested\\PW_NW\\NP112201_2.fif) does not conform to MNE naming conventions. All raw files should end with raw.fif, raw_sss.fif, raw_tsss.fif, _meg.fif, _eeg.fif, _ieeg.fif, raw.fif.gz, raw_sss.fif.gz, raw_tsss.fif.gz, _meg.fif.gz, _eeg.fif.gz or _ieeg.fif.gz\n",
      "  PW_NW_list[i].save('procested/PW_NW/'+ID[i] + '.fif', overwrite=True)\n",
      "C:\\Users\\dasha\\AppData\\Local\\Temp\\ipykernel_9316\\352767205.py:2: RuntimeWarning: This filename (C:\\Users\\dasha\\Documents\\Neurobiology_EEG\\VFT\\VFT1\\procested\\NW_PF\\NP112206_2.fif) does not conform to MNE naming conventions. All raw files should end with raw.fif, raw_sss.fif, raw_tsss.fif, _meg.fif, _eeg.fif, _ieeg.fif, raw.fif.gz, raw_sss.fif.gz, raw_tsss.fif.gz, _meg.fif.gz, _eeg.fif.gz or _ieeg.fif.gz\n",
      "  NW_PF_list[i].save('procested/NW_PF/'+ID[i] + '.fif', overwrite=True)\n",
      "C:\\Users\\dasha\\AppData\\Local\\Temp\\ipykernel_9316\\352767205.py:3: RuntimeWarning: This filename (C:\\Users\\dasha\\Documents\\Neurobiology_EEG\\VFT\\VFT1\\procested\\PW_NW\\NP112206_2.fif) does not conform to MNE naming conventions. All raw files should end with raw.fif, raw_sss.fif, raw_tsss.fif, _meg.fif, _eeg.fif, _ieeg.fif, raw.fif.gz, raw_sss.fif.gz, raw_tsss.fif.gz, _meg.fif.gz, _eeg.fif.gz or _ieeg.fif.gz\n",
      "  PW_W_list[i].save('procested/PW_NW/'+ID[i] + '.fif', overwrite=True)\n",
      "C:\\Users\\dasha\\AppData\\Local\\Temp\\ipykernel_9316\\352767205.py:4: RuntimeWarning: This filename (C:\\Users\\dasha\\Documents\\Neurobiology_EEG\\VFT\\VFT1\\procested\\PW_NW\\NP112206_2.fif) does not conform to MNE naming conventions. All raw files should end with raw.fif, raw_sss.fif, raw_tsss.fif, _meg.fif, _eeg.fif, _ieeg.fif, raw.fif.gz, raw_sss.fif.gz, raw_tsss.fif.gz, _meg.fif.gz, _eeg.fif.gz or _ieeg.fif.gz\n",
      "  PW_NW_list[i].save('procested/PW_NW/'+ID[i] + '.fif', overwrite=True)\n"
     ]
    },
    {
     "name": "stdout",
     "output_type": "stream",
     "text": [
      "Closing C:\\Users\\dasha\\Documents\\Neurobiology_EEG\\VFT\\VFT1\\procested\\PW_NW\\NP112206_2.fif\n",
      "[done]\n",
      "Writing C:\\Users\\dasha\\Documents\\Neurobiology_EEG\\VFT\\VFT1\\procested\\NW_PF\\NP112211_2.fif\n",
      "Closing C:\\Users\\dasha\\Documents\\Neurobiology_EEG\\VFT\\VFT1\\procested\\NW_PF\\NP112211_2.fif\n",
      "[done]\n",
      "Writing C:\\Users\\dasha\\Documents\\Neurobiology_EEG\\VFT\\VFT1\\procested\\PW_NW\\NP112211_2.fif\n",
      "Closing C:\\Users\\dasha\\Documents\\Neurobiology_EEG\\VFT\\VFT1\\procested\\PW_NW\\NP112211_2.fif\n",
      "[done]\n",
      "Overwriting existing file.\n",
      "Writing C:\\Users\\dasha\\Documents\\Neurobiology_EEG\\VFT\\VFT1\\procested\\PW_NW\\NP112211_2.fif\n"
     ]
    },
    {
     "name": "stderr",
     "output_type": "stream",
     "text": [
      "C:\\Users\\dasha\\AppData\\Local\\Temp\\ipykernel_9316\\352767205.py:2: RuntimeWarning: This filename (C:\\Users\\dasha\\Documents\\Neurobiology_EEG\\VFT\\VFT1\\procested\\NW_PF\\NP112211_2.fif) does not conform to MNE naming conventions. All raw files should end with raw.fif, raw_sss.fif, raw_tsss.fif, _meg.fif, _eeg.fif, _ieeg.fif, raw.fif.gz, raw_sss.fif.gz, raw_tsss.fif.gz, _meg.fif.gz, _eeg.fif.gz or _ieeg.fif.gz\n",
      "  NW_PF_list[i].save('procested/NW_PF/'+ID[i] + '.fif', overwrite=True)\n",
      "C:\\Users\\dasha\\AppData\\Local\\Temp\\ipykernel_9316\\352767205.py:3: RuntimeWarning: This filename (C:\\Users\\dasha\\Documents\\Neurobiology_EEG\\VFT\\VFT1\\procested\\PW_NW\\NP112211_2.fif) does not conform to MNE naming conventions. All raw files should end with raw.fif, raw_sss.fif, raw_tsss.fif, _meg.fif, _eeg.fif, _ieeg.fif, raw.fif.gz, raw_sss.fif.gz, raw_tsss.fif.gz, _meg.fif.gz, _eeg.fif.gz or _ieeg.fif.gz\n",
      "  PW_W_list[i].save('procested/PW_NW/'+ID[i] + '.fif', overwrite=True)\n",
      "C:\\Users\\dasha\\AppData\\Local\\Temp\\ipykernel_9316\\352767205.py:4: RuntimeWarning: This filename (C:\\Users\\dasha\\Documents\\Neurobiology_EEG\\VFT\\VFT1\\procested\\PW_NW\\NP112211_2.fif) does not conform to MNE naming conventions. All raw files should end with raw.fif, raw_sss.fif, raw_tsss.fif, _meg.fif, _eeg.fif, _ieeg.fif, raw.fif.gz, raw_sss.fif.gz, raw_tsss.fif.gz, _meg.fif.gz, _eeg.fif.gz or _ieeg.fif.gz\n",
      "  PW_NW_list[i].save('procested/PW_NW/'+ID[i] + '.fif', overwrite=True)\n"
     ]
    },
    {
     "name": "stdout",
     "output_type": "stream",
     "text": [
      "Closing C:\\Users\\dasha\\Documents\\Neurobiology_EEG\\VFT\\VFT1\\procested\\PW_NW\\NP112211_2.fif\n",
      "[done]\n",
      "Writing C:\\Users\\dasha\\Documents\\Neurobiology_EEG\\VFT\\VFT1\\procested\\NW_PF\\NP112212_2.fif\n",
      "Closing C:\\Users\\dasha\\Documents\\Neurobiology_EEG\\VFT\\VFT1\\procested\\NW_PF\\NP112212_2.fif\n",
      "[done]\n",
      "Writing C:\\Users\\dasha\\Documents\\Neurobiology_EEG\\VFT\\VFT1\\procested\\PW_NW\\NP112212_2.fif\n",
      "Closing C:\\Users\\dasha\\Documents\\Neurobiology_EEG\\VFT\\VFT1\\procested\\PW_NW\\NP112212_2.fif\n",
      "[done]\n",
      "Overwriting existing file.\n",
      "Writing C:\\Users\\dasha\\Documents\\Neurobiology_EEG\\VFT\\VFT1\\procested\\PW_NW\\NP112212_2.fif\n",
      "Closing C:\\Users\\dasha\\Documents\\Neurobiology_EEG\\VFT\\VFT1\\procested\\PW_NW\\NP112212_2.fif\n",
      "[done]\n",
      "Writing C:\\Users\\dasha\\Documents\\Neurobiology_EEG\\VFT\\VFT1\\procested\\NW_PF\\NP112213_2.fif\n",
      "Closing C:\\Users\\dasha\\Documents\\Neurobiology_EEG\\VFT\\VFT1\\procested\\NW_PF\\NP112213_2.fif\n"
     ]
    },
    {
     "name": "stderr",
     "output_type": "stream",
     "text": [
      "C:\\Users\\dasha\\AppData\\Local\\Temp\\ipykernel_9316\\352767205.py:2: RuntimeWarning: This filename (C:\\Users\\dasha\\Documents\\Neurobiology_EEG\\VFT\\VFT1\\procested\\NW_PF\\NP112212_2.fif) does not conform to MNE naming conventions. All raw files should end with raw.fif, raw_sss.fif, raw_tsss.fif, _meg.fif, _eeg.fif, _ieeg.fif, raw.fif.gz, raw_sss.fif.gz, raw_tsss.fif.gz, _meg.fif.gz, _eeg.fif.gz or _ieeg.fif.gz\n",
      "  NW_PF_list[i].save('procested/NW_PF/'+ID[i] + '.fif', overwrite=True)\n",
      "C:\\Users\\dasha\\AppData\\Local\\Temp\\ipykernel_9316\\352767205.py:3: RuntimeWarning: This filename (C:\\Users\\dasha\\Documents\\Neurobiology_EEG\\VFT\\VFT1\\procested\\PW_NW\\NP112212_2.fif) does not conform to MNE naming conventions. All raw files should end with raw.fif, raw_sss.fif, raw_tsss.fif, _meg.fif, _eeg.fif, _ieeg.fif, raw.fif.gz, raw_sss.fif.gz, raw_tsss.fif.gz, _meg.fif.gz, _eeg.fif.gz or _ieeg.fif.gz\n",
      "  PW_W_list[i].save('procested/PW_NW/'+ID[i] + '.fif', overwrite=True)\n",
      "C:\\Users\\dasha\\AppData\\Local\\Temp\\ipykernel_9316\\352767205.py:4: RuntimeWarning: This filename (C:\\Users\\dasha\\Documents\\Neurobiology_EEG\\VFT\\VFT1\\procested\\PW_NW\\NP112212_2.fif) does not conform to MNE naming conventions. All raw files should end with raw.fif, raw_sss.fif, raw_tsss.fif, _meg.fif, _eeg.fif, _ieeg.fif, raw.fif.gz, raw_sss.fif.gz, raw_tsss.fif.gz, _meg.fif.gz, _eeg.fif.gz or _ieeg.fif.gz\n",
      "  PW_NW_list[i].save('procested/PW_NW/'+ID[i] + '.fif', overwrite=True)\n",
      "C:\\Users\\dasha\\AppData\\Local\\Temp\\ipykernel_9316\\352767205.py:2: RuntimeWarning: This filename (C:\\Users\\dasha\\Documents\\Neurobiology_EEG\\VFT\\VFT1\\procested\\NW_PF\\NP112213_2.fif) does not conform to MNE naming conventions. All raw files should end with raw.fif, raw_sss.fif, raw_tsss.fif, _meg.fif, _eeg.fif, _ieeg.fif, raw.fif.gz, raw_sss.fif.gz, raw_tsss.fif.gz, _meg.fif.gz, _eeg.fif.gz or _ieeg.fif.gz\n",
      "  NW_PF_list[i].save('procested/NW_PF/'+ID[i] + '.fif', overwrite=True)\n"
     ]
    },
    {
     "name": "stdout",
     "output_type": "stream",
     "text": [
      "[done]\n",
      "Writing C:\\Users\\dasha\\Documents\\Neurobiology_EEG\\VFT\\VFT1\\procested\\PW_NW\\NP112213_2.fif\n",
      "Closing C:\\Users\\dasha\\Documents\\Neurobiology_EEG\\VFT\\VFT1\\procested\\PW_NW\\NP112213_2.fif\n",
      "[done]\n",
      "Overwriting existing file.\n",
      "Writing C:\\Users\\dasha\\Documents\\Neurobiology_EEG\\VFT\\VFT1\\procested\\PW_NW\\NP112213_2.fif\n",
      "Closing C:\\Users\\dasha\\Documents\\Neurobiology_EEG\\VFT\\VFT1\\procested\\PW_NW\\NP112213_2.fif\n",
      "[done]\n",
      "Writing C:\\Users\\dasha\\Documents\\Neurobiology_EEG\\VFT\\VFT1\\procested\\NW_PF\\NP112214_2.fif\n",
      "Closing C:\\Users\\dasha\\Documents\\Neurobiology_EEG\\VFT\\VFT1\\procested\\NW_PF\\NP112214_2.fif\n",
      "[done]\n",
      "Writing C:\\Users\\dasha\\Documents\\Neurobiology_EEG\\VFT\\VFT1\\procested\\PW_NW\\NP112214_2.fif\n",
      "Closing C:\\Users\\dasha\\Documents\\Neurobiology_EEG\\VFT\\VFT1\\procested\\PW_NW\\NP112214_2.fif\n"
     ]
    },
    {
     "name": "stderr",
     "output_type": "stream",
     "text": [
      "C:\\Users\\dasha\\AppData\\Local\\Temp\\ipykernel_9316\\352767205.py:3: RuntimeWarning: This filename (C:\\Users\\dasha\\Documents\\Neurobiology_EEG\\VFT\\VFT1\\procested\\PW_NW\\NP112213_2.fif) does not conform to MNE naming conventions. All raw files should end with raw.fif, raw_sss.fif, raw_tsss.fif, _meg.fif, _eeg.fif, _ieeg.fif, raw.fif.gz, raw_sss.fif.gz, raw_tsss.fif.gz, _meg.fif.gz, _eeg.fif.gz or _ieeg.fif.gz\n",
      "  PW_W_list[i].save('procested/PW_NW/'+ID[i] + '.fif', overwrite=True)\n",
      "C:\\Users\\dasha\\AppData\\Local\\Temp\\ipykernel_9316\\352767205.py:4: RuntimeWarning: This filename (C:\\Users\\dasha\\Documents\\Neurobiology_EEG\\VFT\\VFT1\\procested\\PW_NW\\NP112213_2.fif) does not conform to MNE naming conventions. All raw files should end with raw.fif, raw_sss.fif, raw_tsss.fif, _meg.fif, _eeg.fif, _ieeg.fif, raw.fif.gz, raw_sss.fif.gz, raw_tsss.fif.gz, _meg.fif.gz, _eeg.fif.gz or _ieeg.fif.gz\n",
      "  PW_NW_list[i].save('procested/PW_NW/'+ID[i] + '.fif', overwrite=True)\n",
      "C:\\Users\\dasha\\AppData\\Local\\Temp\\ipykernel_9316\\352767205.py:2: RuntimeWarning: This filename (C:\\Users\\dasha\\Documents\\Neurobiology_EEG\\VFT\\VFT1\\procested\\NW_PF\\NP112214_2.fif) does not conform to MNE naming conventions. All raw files should end with raw.fif, raw_sss.fif, raw_tsss.fif, _meg.fif, _eeg.fif, _ieeg.fif, raw.fif.gz, raw_sss.fif.gz, raw_tsss.fif.gz, _meg.fif.gz, _eeg.fif.gz or _ieeg.fif.gz\n",
      "  NW_PF_list[i].save('procested/NW_PF/'+ID[i] + '.fif', overwrite=True)\n",
      "C:\\Users\\dasha\\AppData\\Local\\Temp\\ipykernel_9316\\352767205.py:3: RuntimeWarning: This filename (C:\\Users\\dasha\\Documents\\Neurobiology_EEG\\VFT\\VFT1\\procested\\PW_NW\\NP112214_2.fif) does not conform to MNE naming conventions. All raw files should end with raw.fif, raw_sss.fif, raw_tsss.fif, _meg.fif, _eeg.fif, _ieeg.fif, raw.fif.gz, raw_sss.fif.gz, raw_tsss.fif.gz, _meg.fif.gz, _eeg.fif.gz or _ieeg.fif.gz\n",
      "  PW_W_list[i].save('procested/PW_NW/'+ID[i] + '.fif', overwrite=True)\n"
     ]
    },
    {
     "name": "stdout",
     "output_type": "stream",
     "text": [
      "[done]\n",
      "Overwriting existing file.\n",
      "Writing C:\\Users\\dasha\\Documents\\Neurobiology_EEG\\VFT\\VFT1\\procested\\PW_NW\\NP112214_2.fif\n",
      "Closing C:\\Users\\dasha\\Documents\\Neurobiology_EEG\\VFT\\VFT1\\procested\\PW_NW\\NP112214_2.fif\n",
      "[done]\n",
      "Writing C:\\Users\\dasha\\Documents\\Neurobiology_EEG\\VFT\\VFT1\\procested\\NW_PF\\NP112215_2.fif\n",
      "Closing C:\\Users\\dasha\\Documents\\Neurobiology_EEG\\VFT\\VFT1\\procested\\NW_PF\\NP112215_2.fif\n",
      "[done]\n",
      "Writing C:\\Users\\dasha\\Documents\\Neurobiology_EEG\\VFT\\VFT1\\procested\\PW_NW\\NP112215_2.fif\n",
      "Closing C:\\Users\\dasha\\Documents\\Neurobiology_EEG\\VFT\\VFT1\\procested\\PW_NW\\NP112215_2.fif\n",
      "[done]\n",
      "Overwriting existing file.\n",
      "Writing C:\\Users\\dasha\\Documents\\Neurobiology_EEG\\VFT\\VFT1\\procested\\PW_NW\\NP112215_2.fif\n",
      "Closing C:\\Users\\dasha\\Documents\\Neurobiology_EEG\\VFT\\VFT1\\procested\\PW_NW\\NP112215_2.fif\n",
      "[done]\n",
      "Writing C:\\Users\\dasha\\Documents\\Neurobiology_EEG\\VFT\\VFT1\\procested\\NW_PF\\NP112218_2.fif\n",
      "Closing C:\\Users\\dasha\\Documents\\Neurobiology_EEG\\VFT\\VFT1\\procested\\NW_PF\\NP112218_2.fif\n"
     ]
    },
    {
     "name": "stderr",
     "output_type": "stream",
     "text": [
      "C:\\Users\\dasha\\AppData\\Local\\Temp\\ipykernel_9316\\352767205.py:4: RuntimeWarning: This filename (C:\\Users\\dasha\\Documents\\Neurobiology_EEG\\VFT\\VFT1\\procested\\PW_NW\\NP112214_2.fif) does not conform to MNE naming conventions. All raw files should end with raw.fif, raw_sss.fif, raw_tsss.fif, _meg.fif, _eeg.fif, _ieeg.fif, raw.fif.gz, raw_sss.fif.gz, raw_tsss.fif.gz, _meg.fif.gz, _eeg.fif.gz or _ieeg.fif.gz\n",
      "  PW_NW_list[i].save('procested/PW_NW/'+ID[i] + '.fif', overwrite=True)\n",
      "C:\\Users\\dasha\\AppData\\Local\\Temp\\ipykernel_9316\\352767205.py:2: RuntimeWarning: This filename (C:\\Users\\dasha\\Documents\\Neurobiology_EEG\\VFT\\VFT1\\procested\\NW_PF\\NP112215_2.fif) does not conform to MNE naming conventions. All raw files should end with raw.fif, raw_sss.fif, raw_tsss.fif, _meg.fif, _eeg.fif, _ieeg.fif, raw.fif.gz, raw_sss.fif.gz, raw_tsss.fif.gz, _meg.fif.gz, _eeg.fif.gz or _ieeg.fif.gz\n",
      "  NW_PF_list[i].save('procested/NW_PF/'+ID[i] + '.fif', overwrite=True)\n",
      "C:\\Users\\dasha\\AppData\\Local\\Temp\\ipykernel_9316\\352767205.py:3: RuntimeWarning: This filename (C:\\Users\\dasha\\Documents\\Neurobiology_EEG\\VFT\\VFT1\\procested\\PW_NW\\NP112215_2.fif) does not conform to MNE naming conventions. All raw files should end with raw.fif, raw_sss.fif, raw_tsss.fif, _meg.fif, _eeg.fif, _ieeg.fif, raw.fif.gz, raw_sss.fif.gz, raw_tsss.fif.gz, _meg.fif.gz, _eeg.fif.gz or _ieeg.fif.gz\n",
      "  PW_W_list[i].save('procested/PW_NW/'+ID[i] + '.fif', overwrite=True)\n",
      "C:\\Users\\dasha\\AppData\\Local\\Temp\\ipykernel_9316\\352767205.py:4: RuntimeWarning: This filename (C:\\Users\\dasha\\Documents\\Neurobiology_EEG\\VFT\\VFT1\\procested\\PW_NW\\NP112215_2.fif) does not conform to MNE naming conventions. All raw files should end with raw.fif, raw_sss.fif, raw_tsss.fif, _meg.fif, _eeg.fif, _ieeg.fif, raw.fif.gz, raw_sss.fif.gz, raw_tsss.fif.gz, _meg.fif.gz, _eeg.fif.gz or _ieeg.fif.gz\n",
      "  PW_NW_list[i].save('procested/PW_NW/'+ID[i] + '.fif', overwrite=True)\n",
      "C:\\Users\\dasha\\AppData\\Local\\Temp\\ipykernel_9316\\352767205.py:2: RuntimeWarning: This filename (C:\\Users\\dasha\\Documents\\Neurobiology_EEG\\VFT\\VFT1\\procested\\NW_PF\\NP112218_2.fif) does not conform to MNE naming conventions. All raw files should end with raw.fif, raw_sss.fif, raw_tsss.fif, _meg.fif, _eeg.fif, _ieeg.fif, raw.fif.gz, raw_sss.fif.gz, raw_tsss.fif.gz, _meg.fif.gz, _eeg.fif.gz or _ieeg.fif.gz\n",
      "  NW_PF_list[i].save('procested/NW_PF/'+ID[i] + '.fif', overwrite=True)\n"
     ]
    },
    {
     "name": "stdout",
     "output_type": "stream",
     "text": [
      "[done]\n",
      "Writing C:\\Users\\dasha\\Documents\\Neurobiology_EEG\\VFT\\VFT1\\procested\\PW_NW\\NP112218_2.fif\n",
      "Closing C:\\Users\\dasha\\Documents\\Neurobiology_EEG\\VFT\\VFT1\\procested\\PW_NW\\NP112218_2.fif\n",
      "[done]\n",
      "Overwriting existing file.\n",
      "Writing C:\\Users\\dasha\\Documents\\Neurobiology_EEG\\VFT\\VFT1\\procested\\PW_NW\\NP112218_2.fif\n",
      "Closing C:\\Users\\dasha\\Documents\\Neurobiology_EEG\\VFT\\VFT1\\procested\\PW_NW\\NP112218_2.fif\n",
      "[done]\n",
      "Writing C:\\Users\\dasha\\Documents\\Neurobiology_EEG\\VFT\\VFT1\\procested\\NW_PF\\NP112219_2.fif\n",
      "Closing C:\\Users\\dasha\\Documents\\Neurobiology_EEG\\VFT\\VFT1\\procested\\NW_PF\\NP112219_2.fif\n",
      "[done]\n",
      "Writing C:\\Users\\dasha\\Documents\\Neurobiology_EEG\\VFT\\VFT1\\procested\\PW_NW\\NP112219_2.fif\n",
      "Closing C:\\Users\\dasha\\Documents\\Neurobiology_EEG\\VFT\\VFT1\\procested\\PW_NW\\NP112219_2.fif\n",
      "[done]\n",
      "Overwriting existing file.\n",
      "Writing C:\\Users\\dasha\\Documents\\Neurobiology_EEG\\VFT\\VFT1\\procested\\PW_NW\\NP112219_2.fif\n",
      "Closing C:\\Users\\dasha\\Documents\\Neurobiology_EEG\\VFT\\VFT1\\procested\\PW_NW\\NP112219_2.fif\n"
     ]
    },
    {
     "name": "stderr",
     "output_type": "stream",
     "text": [
      "C:\\Users\\dasha\\AppData\\Local\\Temp\\ipykernel_9316\\352767205.py:3: RuntimeWarning: This filename (C:\\Users\\dasha\\Documents\\Neurobiology_EEG\\VFT\\VFT1\\procested\\PW_NW\\NP112218_2.fif) does not conform to MNE naming conventions. All raw files should end with raw.fif, raw_sss.fif, raw_tsss.fif, _meg.fif, _eeg.fif, _ieeg.fif, raw.fif.gz, raw_sss.fif.gz, raw_tsss.fif.gz, _meg.fif.gz, _eeg.fif.gz or _ieeg.fif.gz\n",
      "  PW_W_list[i].save('procested/PW_NW/'+ID[i] + '.fif', overwrite=True)\n",
      "C:\\Users\\dasha\\AppData\\Local\\Temp\\ipykernel_9316\\352767205.py:4: RuntimeWarning: This filename (C:\\Users\\dasha\\Documents\\Neurobiology_EEG\\VFT\\VFT1\\procested\\PW_NW\\NP112218_2.fif) does not conform to MNE naming conventions. All raw files should end with raw.fif, raw_sss.fif, raw_tsss.fif, _meg.fif, _eeg.fif, _ieeg.fif, raw.fif.gz, raw_sss.fif.gz, raw_tsss.fif.gz, _meg.fif.gz, _eeg.fif.gz or _ieeg.fif.gz\n",
      "  PW_NW_list[i].save('procested/PW_NW/'+ID[i] + '.fif', overwrite=True)\n",
      "C:\\Users\\dasha\\AppData\\Local\\Temp\\ipykernel_9316\\352767205.py:2: RuntimeWarning: This filename (C:\\Users\\dasha\\Documents\\Neurobiology_EEG\\VFT\\VFT1\\procested\\NW_PF\\NP112219_2.fif) does not conform to MNE naming conventions. All raw files should end with raw.fif, raw_sss.fif, raw_tsss.fif, _meg.fif, _eeg.fif, _ieeg.fif, raw.fif.gz, raw_sss.fif.gz, raw_tsss.fif.gz, _meg.fif.gz, _eeg.fif.gz or _ieeg.fif.gz\n",
      "  NW_PF_list[i].save('procested/NW_PF/'+ID[i] + '.fif', overwrite=True)\n",
      "C:\\Users\\dasha\\AppData\\Local\\Temp\\ipykernel_9316\\352767205.py:3: RuntimeWarning: This filename (C:\\Users\\dasha\\Documents\\Neurobiology_EEG\\VFT\\VFT1\\procested\\PW_NW\\NP112219_2.fif) does not conform to MNE naming conventions. All raw files should end with raw.fif, raw_sss.fif, raw_tsss.fif, _meg.fif, _eeg.fif, _ieeg.fif, raw.fif.gz, raw_sss.fif.gz, raw_tsss.fif.gz, _meg.fif.gz, _eeg.fif.gz or _ieeg.fif.gz\n",
      "  PW_W_list[i].save('procested/PW_NW/'+ID[i] + '.fif', overwrite=True)\n",
      "C:\\Users\\dasha\\AppData\\Local\\Temp\\ipykernel_9316\\352767205.py:4: RuntimeWarning: This filename (C:\\Users\\dasha\\Documents\\Neurobiology_EEG\\VFT\\VFT1\\procested\\PW_NW\\NP112219_2.fif) does not conform to MNE naming conventions. All raw files should end with raw.fif, raw_sss.fif, raw_tsss.fif, _meg.fif, _eeg.fif, _ieeg.fif, raw.fif.gz, raw_sss.fif.gz, raw_tsss.fif.gz, _meg.fif.gz, _eeg.fif.gz or _ieeg.fif.gz\n",
      "  PW_NW_list[i].save('procested/PW_NW/'+ID[i] + '.fif', overwrite=True)\n"
     ]
    },
    {
     "name": "stdout",
     "output_type": "stream",
     "text": [
      "[done]\n",
      "Writing C:\\Users\\dasha\\Documents\\Neurobiology_EEG\\VFT\\VFT1\\procested\\NW_PF\\NP112221_2.fif\n",
      "Closing C:\\Users\\dasha\\Documents\\Neurobiology_EEG\\VFT\\VFT1\\procested\\NW_PF\\NP112221_2.fif\n",
      "[done]\n",
      "Writing C:\\Users\\dasha\\Documents\\Neurobiology_EEG\\VFT\\VFT1\\procested\\PW_NW\\NP112221_2.fif\n",
      "Closing C:\\Users\\dasha\\Documents\\Neurobiology_EEG\\VFT\\VFT1\\procested\\PW_NW\\NP112221_2.fif\n",
      "[done]\n",
      "Overwriting existing file.\n",
      "Writing C:\\Users\\dasha\\Documents\\Neurobiology_EEG\\VFT\\VFT1\\procested\\PW_NW\\NP112221_2.fif\n",
      "Closing C:\\Users\\dasha\\Documents\\Neurobiology_EEG\\VFT\\VFT1\\procested\\PW_NW\\NP112221_2.fif\n",
      "[done]\n",
      "Writing C:\\Users\\dasha\\Documents\\Neurobiology_EEG\\VFT\\VFT1\\procested\\NW_PF\\NP112223_2.fif\n",
      "Closing C:\\Users\\dasha\\Documents\\Neurobiology_EEG\\VFT\\VFT1\\procested\\NW_PF\\NP112223_2.fif\n",
      "[done]\n",
      "Writing C:\\Users\\dasha\\Documents\\Neurobiology_EEG\\VFT\\VFT1\\procested\\PW_NW\\NP112223_2.fif\n",
      "Closing C:\\Users\\dasha\\Documents\\Neurobiology_EEG\\VFT\\VFT1\\procested\\PW_NW\\NP112223_2.fif\n"
     ]
    },
    {
     "name": "stderr",
     "output_type": "stream",
     "text": [
      "C:\\Users\\dasha\\AppData\\Local\\Temp\\ipykernel_9316\\352767205.py:2: RuntimeWarning: This filename (C:\\Users\\dasha\\Documents\\Neurobiology_EEG\\VFT\\VFT1\\procested\\NW_PF\\NP112221_2.fif) does not conform to MNE naming conventions. All raw files should end with raw.fif, raw_sss.fif, raw_tsss.fif, _meg.fif, _eeg.fif, _ieeg.fif, raw.fif.gz, raw_sss.fif.gz, raw_tsss.fif.gz, _meg.fif.gz, _eeg.fif.gz or _ieeg.fif.gz\n",
      "  NW_PF_list[i].save('procested/NW_PF/'+ID[i] + '.fif', overwrite=True)\n",
      "C:\\Users\\dasha\\AppData\\Local\\Temp\\ipykernel_9316\\352767205.py:3: RuntimeWarning: This filename (C:\\Users\\dasha\\Documents\\Neurobiology_EEG\\VFT\\VFT1\\procested\\PW_NW\\NP112221_2.fif) does not conform to MNE naming conventions. All raw files should end with raw.fif, raw_sss.fif, raw_tsss.fif, _meg.fif, _eeg.fif, _ieeg.fif, raw.fif.gz, raw_sss.fif.gz, raw_tsss.fif.gz, _meg.fif.gz, _eeg.fif.gz or _ieeg.fif.gz\n",
      "  PW_W_list[i].save('procested/PW_NW/'+ID[i] + '.fif', overwrite=True)\n",
      "C:\\Users\\dasha\\AppData\\Local\\Temp\\ipykernel_9316\\352767205.py:4: RuntimeWarning: This filename (C:\\Users\\dasha\\Documents\\Neurobiology_EEG\\VFT\\VFT1\\procested\\PW_NW\\NP112221_2.fif) does not conform to MNE naming conventions. All raw files should end with raw.fif, raw_sss.fif, raw_tsss.fif, _meg.fif, _eeg.fif, _ieeg.fif, raw.fif.gz, raw_sss.fif.gz, raw_tsss.fif.gz, _meg.fif.gz, _eeg.fif.gz or _ieeg.fif.gz\n",
      "  PW_NW_list[i].save('procested/PW_NW/'+ID[i] + '.fif', overwrite=True)\n",
      "C:\\Users\\dasha\\AppData\\Local\\Temp\\ipykernel_9316\\352767205.py:2: RuntimeWarning: This filename (C:\\Users\\dasha\\Documents\\Neurobiology_EEG\\VFT\\VFT1\\procested\\NW_PF\\NP112223_2.fif) does not conform to MNE naming conventions. All raw files should end with raw.fif, raw_sss.fif, raw_tsss.fif, _meg.fif, _eeg.fif, _ieeg.fif, raw.fif.gz, raw_sss.fif.gz, raw_tsss.fif.gz, _meg.fif.gz, _eeg.fif.gz or _ieeg.fif.gz\n",
      "  NW_PF_list[i].save('procested/NW_PF/'+ID[i] + '.fif', overwrite=True)\n",
      "C:\\Users\\dasha\\AppData\\Local\\Temp\\ipykernel_9316\\352767205.py:3: RuntimeWarning: This filename (C:\\Users\\dasha\\Documents\\Neurobiology_EEG\\VFT\\VFT1\\procested\\PW_NW\\NP112223_2.fif) does not conform to MNE naming conventions. All raw files should end with raw.fif, raw_sss.fif, raw_tsss.fif, _meg.fif, _eeg.fif, _ieeg.fif, raw.fif.gz, raw_sss.fif.gz, raw_tsss.fif.gz, _meg.fif.gz, _eeg.fif.gz or _ieeg.fif.gz\n",
      "  PW_W_list[i].save('procested/PW_NW/'+ID[i] + '.fif', overwrite=True)\n"
     ]
    },
    {
     "name": "stdout",
     "output_type": "stream",
     "text": [
      "[done]\n",
      "Overwriting existing file.\n",
      "Writing C:\\Users\\dasha\\Documents\\Neurobiology_EEG\\VFT\\VFT1\\procested\\PW_NW\\NP112223_2.fif\n",
      "Closing C:\\Users\\dasha\\Documents\\Neurobiology_EEG\\VFT\\VFT1\\procested\\PW_NW\\NP112223_2.fif\n",
      "[done]\n",
      "Writing C:\\Users\\dasha\\Documents\\Neurobiology_EEG\\VFT\\VFT1\\procested\\NW_PF\\NP112225_2.fif\n",
      "Closing C:\\Users\\dasha\\Documents\\Neurobiology_EEG\\VFT\\VFT1\\procested\\NW_PF\\NP112225_2.fif\n",
      "[done]\n",
      "Writing C:\\Users\\dasha\\Documents\\Neurobiology_EEG\\VFT\\VFT1\\procested\\PW_NW\\NP112225_2.fif\n",
      "Closing C:\\Users\\dasha\\Documents\\Neurobiology_EEG\\VFT\\VFT1\\procested\\PW_NW\\NP112225_2.fif\n",
      "[done]\n",
      "Overwriting existing file.\n",
      "Writing C:\\Users\\dasha\\Documents\\Neurobiology_EEG\\VFT\\VFT1\\procested\\PW_NW\\NP112225_2.fif\n",
      "Closing C:\\Users\\dasha\\Documents\\Neurobiology_EEG\\VFT\\VFT1\\procested\\PW_NW\\NP112225_2.fif\n",
      "[done]\n",
      "Writing C:\\Users\\dasha\\Documents\\Neurobiology_EEG\\VFT\\VFT1\\procested\\NW_PF\\NP112226_2.fif\n",
      "Closing C:\\Users\\dasha\\Documents\\Neurobiology_EEG\\VFT\\VFT1\\procested\\NW_PF\\NP112226_2.fif\n"
     ]
    },
    {
     "name": "stderr",
     "output_type": "stream",
     "text": [
      "C:\\Users\\dasha\\AppData\\Local\\Temp\\ipykernel_9316\\352767205.py:4: RuntimeWarning: This filename (C:\\Users\\dasha\\Documents\\Neurobiology_EEG\\VFT\\VFT1\\procested\\PW_NW\\NP112223_2.fif) does not conform to MNE naming conventions. All raw files should end with raw.fif, raw_sss.fif, raw_tsss.fif, _meg.fif, _eeg.fif, _ieeg.fif, raw.fif.gz, raw_sss.fif.gz, raw_tsss.fif.gz, _meg.fif.gz, _eeg.fif.gz or _ieeg.fif.gz\n",
      "  PW_NW_list[i].save('procested/PW_NW/'+ID[i] + '.fif', overwrite=True)\n",
      "C:\\Users\\dasha\\AppData\\Local\\Temp\\ipykernel_9316\\352767205.py:2: RuntimeWarning: This filename (C:\\Users\\dasha\\Documents\\Neurobiology_EEG\\VFT\\VFT1\\procested\\NW_PF\\NP112225_2.fif) does not conform to MNE naming conventions. All raw files should end with raw.fif, raw_sss.fif, raw_tsss.fif, _meg.fif, _eeg.fif, _ieeg.fif, raw.fif.gz, raw_sss.fif.gz, raw_tsss.fif.gz, _meg.fif.gz, _eeg.fif.gz or _ieeg.fif.gz\n",
      "  NW_PF_list[i].save('procested/NW_PF/'+ID[i] + '.fif', overwrite=True)\n",
      "C:\\Users\\dasha\\AppData\\Local\\Temp\\ipykernel_9316\\352767205.py:3: RuntimeWarning: This filename (C:\\Users\\dasha\\Documents\\Neurobiology_EEG\\VFT\\VFT1\\procested\\PW_NW\\NP112225_2.fif) does not conform to MNE naming conventions. All raw files should end with raw.fif, raw_sss.fif, raw_tsss.fif, _meg.fif, _eeg.fif, _ieeg.fif, raw.fif.gz, raw_sss.fif.gz, raw_tsss.fif.gz, _meg.fif.gz, _eeg.fif.gz or _ieeg.fif.gz\n",
      "  PW_W_list[i].save('procested/PW_NW/'+ID[i] + '.fif', overwrite=True)\n",
      "C:\\Users\\dasha\\AppData\\Local\\Temp\\ipykernel_9316\\352767205.py:4: RuntimeWarning: This filename (C:\\Users\\dasha\\Documents\\Neurobiology_EEG\\VFT\\VFT1\\procested\\PW_NW\\NP112225_2.fif) does not conform to MNE naming conventions. All raw files should end with raw.fif, raw_sss.fif, raw_tsss.fif, _meg.fif, _eeg.fif, _ieeg.fif, raw.fif.gz, raw_sss.fif.gz, raw_tsss.fif.gz, _meg.fif.gz, _eeg.fif.gz or _ieeg.fif.gz\n",
      "  PW_NW_list[i].save('procested/PW_NW/'+ID[i] + '.fif', overwrite=True)\n",
      "C:\\Users\\dasha\\AppData\\Local\\Temp\\ipykernel_9316\\352767205.py:2: RuntimeWarning: This filename (C:\\Users\\dasha\\Documents\\Neurobiology_EEG\\VFT\\VFT1\\procested\\NW_PF\\NP112226_2.fif) does not conform to MNE naming conventions. All raw files should end with raw.fif, raw_sss.fif, raw_tsss.fif, _meg.fif, _eeg.fif, _ieeg.fif, raw.fif.gz, raw_sss.fif.gz, raw_tsss.fif.gz, _meg.fif.gz, _eeg.fif.gz or _ieeg.fif.gz\n",
      "  NW_PF_list[i].save('procested/NW_PF/'+ID[i] + '.fif', overwrite=True)\n"
     ]
    },
    {
     "name": "stdout",
     "output_type": "stream",
     "text": [
      "[done]\n",
      "Writing C:\\Users\\dasha\\Documents\\Neurobiology_EEG\\VFT\\VFT1\\procested\\PW_NW\\NP112226_2.fif\n",
      "Closing C:\\Users\\dasha\\Documents\\Neurobiology_EEG\\VFT\\VFT1\\procested\\PW_NW\\NP112226_2.fif\n",
      "[done]\n",
      "Overwriting existing file.\n",
      "Writing C:\\Users\\dasha\\Documents\\Neurobiology_EEG\\VFT\\VFT1\\procested\\PW_NW\\NP112226_2.fif\n",
      "Closing C:\\Users\\dasha\\Documents\\Neurobiology_EEG\\VFT\\VFT1\\procested\\PW_NW\\NP112226_2.fif\n",
      "[done]\n",
      "Writing C:\\Users\\dasha\\Documents\\Neurobiology_EEG\\VFT\\VFT1\\procested\\NW_PF\\NP112229_2.fif\n",
      "Closing C:\\Users\\dasha\\Documents\\Neurobiology_EEG\\VFT\\VFT1\\procested\\NW_PF\\NP112229_2.fif\n",
      "[done]\n",
      "Writing C:\\Users\\dasha\\Documents\\Neurobiology_EEG\\VFT\\VFT1\\procested\\PW_NW\\NP112229_2.fif\n",
      "Closing C:\\Users\\dasha\\Documents\\Neurobiology_EEG\\VFT\\VFT1\\procested\\PW_NW\\NP112229_2.fif\n"
     ]
    },
    {
     "name": "stderr",
     "output_type": "stream",
     "text": [
      "C:\\Users\\dasha\\AppData\\Local\\Temp\\ipykernel_9316\\352767205.py:3: RuntimeWarning: This filename (C:\\Users\\dasha\\Documents\\Neurobiology_EEG\\VFT\\VFT1\\procested\\PW_NW\\NP112226_2.fif) does not conform to MNE naming conventions. All raw files should end with raw.fif, raw_sss.fif, raw_tsss.fif, _meg.fif, _eeg.fif, _ieeg.fif, raw.fif.gz, raw_sss.fif.gz, raw_tsss.fif.gz, _meg.fif.gz, _eeg.fif.gz or _ieeg.fif.gz\n",
      "  PW_W_list[i].save('procested/PW_NW/'+ID[i] + '.fif', overwrite=True)\n",
      "C:\\Users\\dasha\\AppData\\Local\\Temp\\ipykernel_9316\\352767205.py:4: RuntimeWarning: This filename (C:\\Users\\dasha\\Documents\\Neurobiology_EEG\\VFT\\VFT1\\procested\\PW_NW\\NP112226_2.fif) does not conform to MNE naming conventions. All raw files should end with raw.fif, raw_sss.fif, raw_tsss.fif, _meg.fif, _eeg.fif, _ieeg.fif, raw.fif.gz, raw_sss.fif.gz, raw_tsss.fif.gz, _meg.fif.gz, _eeg.fif.gz or _ieeg.fif.gz\n",
      "  PW_NW_list[i].save('procested/PW_NW/'+ID[i] + '.fif', overwrite=True)\n",
      "C:\\Users\\dasha\\AppData\\Local\\Temp\\ipykernel_9316\\352767205.py:2: RuntimeWarning: This filename (C:\\Users\\dasha\\Documents\\Neurobiology_EEG\\VFT\\VFT1\\procested\\NW_PF\\NP112229_2.fif) does not conform to MNE naming conventions. All raw files should end with raw.fif, raw_sss.fif, raw_tsss.fif, _meg.fif, _eeg.fif, _ieeg.fif, raw.fif.gz, raw_sss.fif.gz, raw_tsss.fif.gz, _meg.fif.gz, _eeg.fif.gz or _ieeg.fif.gz\n",
      "  NW_PF_list[i].save('procested/NW_PF/'+ID[i] + '.fif', overwrite=True)\n",
      "C:\\Users\\dasha\\AppData\\Local\\Temp\\ipykernel_9316\\352767205.py:3: RuntimeWarning: This filename (C:\\Users\\dasha\\Documents\\Neurobiology_EEG\\VFT\\VFT1\\procested\\PW_NW\\NP112229_2.fif) does not conform to MNE naming conventions. All raw files should end with raw.fif, raw_sss.fif, raw_tsss.fif, _meg.fif, _eeg.fif, _ieeg.fif, raw.fif.gz, raw_sss.fif.gz, raw_tsss.fif.gz, _meg.fif.gz, _eeg.fif.gz or _ieeg.fif.gz\n",
      "  PW_W_list[i].save('procested/PW_NW/'+ID[i] + '.fif', overwrite=True)\n"
     ]
    },
    {
     "name": "stdout",
     "output_type": "stream",
     "text": [
      "[done]\n",
      "Overwriting existing file.\n",
      "Writing C:\\Users\\dasha\\Documents\\Neurobiology_EEG\\VFT\\VFT1\\procested\\PW_NW\\NP112229_2.fif\n",
      "Closing C:\\Users\\dasha\\Documents\\Neurobiology_EEG\\VFT\\VFT1\\procested\\PW_NW\\NP112229_2.fif\n",
      "[done]\n",
      "Writing C:\\Users\\dasha\\Documents\\Neurobiology_EEG\\VFT\\VFT1\\procested\\NW_PF\\NP112301.fif\n",
      "Closing C:\\Users\\dasha\\Documents\\Neurobiology_EEG\\VFT\\VFT1\\procested\\NW_PF\\NP112301.fif\n",
      "[done]\n",
      "Writing C:\\Users\\dasha\\Documents\\Neurobiology_EEG\\VFT\\VFT1\\procested\\PW_NW\\NP112301.fif\n",
      "Closing C:\\Users\\dasha\\Documents\\Neurobiology_EEG\\VFT\\VFT1\\procested\\PW_NW\\NP112301.fif\n",
      "[done]\n",
      "Overwriting existing file.\n",
      "Writing C:\\Users\\dasha\\Documents\\Neurobiology_EEG\\VFT\\VFT1\\procested\\PW_NW\\NP112301.fif\n",
      "Closing C:\\Users\\dasha\\Documents\\Neurobiology_EEG\\VFT\\VFT1\\procested\\PW_NW\\NP112301.fif\n",
      "[done]\n",
      "Writing C:\\Users\\dasha\\Documents\\Neurobiology_EEG\\VFT\\VFT1\\procested\\NW_PF\\NP112302.fif\n",
      "Closing C:\\Users\\dasha\\Documents\\Neurobiology_EEG\\VFT\\VFT1\\procested\\NW_PF\\NP112302.fif\n"
     ]
    },
    {
     "name": "stderr",
     "output_type": "stream",
     "text": [
      "C:\\Users\\dasha\\AppData\\Local\\Temp\\ipykernel_9316\\352767205.py:4: RuntimeWarning: This filename (C:\\Users\\dasha\\Documents\\Neurobiology_EEG\\VFT\\VFT1\\procested\\PW_NW\\NP112229_2.fif) does not conform to MNE naming conventions. All raw files should end with raw.fif, raw_sss.fif, raw_tsss.fif, _meg.fif, _eeg.fif, _ieeg.fif, raw.fif.gz, raw_sss.fif.gz, raw_tsss.fif.gz, _meg.fif.gz, _eeg.fif.gz or _ieeg.fif.gz\n",
      "  PW_NW_list[i].save('procested/PW_NW/'+ID[i] + '.fif', overwrite=True)\n",
      "C:\\Users\\dasha\\AppData\\Local\\Temp\\ipykernel_9316\\352767205.py:2: RuntimeWarning: This filename (C:\\Users\\dasha\\Documents\\Neurobiology_EEG\\VFT\\VFT1\\procested\\NW_PF\\NP112301.fif) does not conform to MNE naming conventions. All raw files should end with raw.fif, raw_sss.fif, raw_tsss.fif, _meg.fif, _eeg.fif, _ieeg.fif, raw.fif.gz, raw_sss.fif.gz, raw_tsss.fif.gz, _meg.fif.gz, _eeg.fif.gz or _ieeg.fif.gz\n",
      "  NW_PF_list[i].save('procested/NW_PF/'+ID[i] + '.fif', overwrite=True)\n",
      "C:\\Users\\dasha\\AppData\\Local\\Temp\\ipykernel_9316\\352767205.py:3: RuntimeWarning: This filename (C:\\Users\\dasha\\Documents\\Neurobiology_EEG\\VFT\\VFT1\\procested\\PW_NW\\NP112301.fif) does not conform to MNE naming conventions. All raw files should end with raw.fif, raw_sss.fif, raw_tsss.fif, _meg.fif, _eeg.fif, _ieeg.fif, raw.fif.gz, raw_sss.fif.gz, raw_tsss.fif.gz, _meg.fif.gz, _eeg.fif.gz or _ieeg.fif.gz\n",
      "  PW_W_list[i].save('procested/PW_NW/'+ID[i] + '.fif', overwrite=True)\n",
      "C:\\Users\\dasha\\AppData\\Local\\Temp\\ipykernel_9316\\352767205.py:4: RuntimeWarning: This filename (C:\\Users\\dasha\\Documents\\Neurobiology_EEG\\VFT\\VFT1\\procested\\PW_NW\\NP112301.fif) does not conform to MNE naming conventions. All raw files should end with raw.fif, raw_sss.fif, raw_tsss.fif, _meg.fif, _eeg.fif, _ieeg.fif, raw.fif.gz, raw_sss.fif.gz, raw_tsss.fif.gz, _meg.fif.gz, _eeg.fif.gz or _ieeg.fif.gz\n",
      "  PW_NW_list[i].save('procested/PW_NW/'+ID[i] + '.fif', overwrite=True)\n",
      "C:\\Users\\dasha\\AppData\\Local\\Temp\\ipykernel_9316\\352767205.py:2: RuntimeWarning: This filename (C:\\Users\\dasha\\Documents\\Neurobiology_EEG\\VFT\\VFT1\\procested\\NW_PF\\NP112302.fif) does not conform to MNE naming conventions. All raw files should end with raw.fif, raw_sss.fif, raw_tsss.fif, _meg.fif, _eeg.fif, _ieeg.fif, raw.fif.gz, raw_sss.fif.gz, raw_tsss.fif.gz, _meg.fif.gz, _eeg.fif.gz or _ieeg.fif.gz\n",
      "  NW_PF_list[i].save('procested/NW_PF/'+ID[i] + '.fif', overwrite=True)\n"
     ]
    },
    {
     "name": "stdout",
     "output_type": "stream",
     "text": [
      "[done]\n",
      "Writing C:\\Users\\dasha\\Documents\\Neurobiology_EEG\\VFT\\VFT1\\procested\\PW_NW\\NP112302.fif\n",
      "Closing C:\\Users\\dasha\\Documents\\Neurobiology_EEG\\VFT\\VFT1\\procested\\PW_NW\\NP112302.fif\n",
      "[done]\n",
      "Overwriting existing file.\n",
      "Writing C:\\Users\\dasha\\Documents\\Neurobiology_EEG\\VFT\\VFT1\\procested\\PW_NW\\NP112302.fif\n",
      "Closing C:\\Users\\dasha\\Documents\\Neurobiology_EEG\\VFT\\VFT1\\procested\\PW_NW\\NP112302.fif\n",
      "[done]\n",
      "Writing C:\\Users\\dasha\\Documents\\Neurobiology_EEG\\VFT\\VFT1\\procested\\NW_PF\\NP112303.fif\n",
      "Closing C:\\Users\\dasha\\Documents\\Neurobiology_EEG\\VFT\\VFT1\\procested\\NW_PF\\NP112303.fif\n",
      "[done]\n",
      "Writing C:\\Users\\dasha\\Documents\\Neurobiology_EEG\\VFT\\VFT1\\procested\\PW_NW\\NP112303.fif\n",
      "Closing C:\\Users\\dasha\\Documents\\Neurobiology_EEG\\VFT\\VFT1\\procested\\PW_NW\\NP112303.fif\n",
      "[done]\n",
      "Overwriting existing file.\n",
      "Writing C:\\Users\\dasha\\Documents\\Neurobiology_EEG\\VFT\\VFT1\\procested\\PW_NW\\NP112303.fif\n",
      "Closing C:\\Users\\dasha\\Documents\\Neurobiology_EEG\\VFT\\VFT1\\procested\\PW_NW\\NP112303.fif\n"
     ]
    },
    {
     "name": "stderr",
     "output_type": "stream",
     "text": [
      "C:\\Users\\dasha\\AppData\\Local\\Temp\\ipykernel_9316\\352767205.py:3: RuntimeWarning: This filename (C:\\Users\\dasha\\Documents\\Neurobiology_EEG\\VFT\\VFT1\\procested\\PW_NW\\NP112302.fif) does not conform to MNE naming conventions. All raw files should end with raw.fif, raw_sss.fif, raw_tsss.fif, _meg.fif, _eeg.fif, _ieeg.fif, raw.fif.gz, raw_sss.fif.gz, raw_tsss.fif.gz, _meg.fif.gz, _eeg.fif.gz or _ieeg.fif.gz\n",
      "  PW_W_list[i].save('procested/PW_NW/'+ID[i] + '.fif', overwrite=True)\n",
      "C:\\Users\\dasha\\AppData\\Local\\Temp\\ipykernel_9316\\352767205.py:4: RuntimeWarning: This filename (C:\\Users\\dasha\\Documents\\Neurobiology_EEG\\VFT\\VFT1\\procested\\PW_NW\\NP112302.fif) does not conform to MNE naming conventions. All raw files should end with raw.fif, raw_sss.fif, raw_tsss.fif, _meg.fif, _eeg.fif, _ieeg.fif, raw.fif.gz, raw_sss.fif.gz, raw_tsss.fif.gz, _meg.fif.gz, _eeg.fif.gz or _ieeg.fif.gz\n",
      "  PW_NW_list[i].save('procested/PW_NW/'+ID[i] + '.fif', overwrite=True)\n",
      "C:\\Users\\dasha\\AppData\\Local\\Temp\\ipykernel_9316\\352767205.py:2: RuntimeWarning: This filename (C:\\Users\\dasha\\Documents\\Neurobiology_EEG\\VFT\\VFT1\\procested\\NW_PF\\NP112303.fif) does not conform to MNE naming conventions. All raw files should end with raw.fif, raw_sss.fif, raw_tsss.fif, _meg.fif, _eeg.fif, _ieeg.fif, raw.fif.gz, raw_sss.fif.gz, raw_tsss.fif.gz, _meg.fif.gz, _eeg.fif.gz or _ieeg.fif.gz\n",
      "  NW_PF_list[i].save('procested/NW_PF/'+ID[i] + '.fif', overwrite=True)\n",
      "C:\\Users\\dasha\\AppData\\Local\\Temp\\ipykernel_9316\\352767205.py:3: RuntimeWarning: This filename (C:\\Users\\dasha\\Documents\\Neurobiology_EEG\\VFT\\VFT1\\procested\\PW_NW\\NP112303.fif) does not conform to MNE naming conventions. All raw files should end with raw.fif, raw_sss.fif, raw_tsss.fif, _meg.fif, _eeg.fif, _ieeg.fif, raw.fif.gz, raw_sss.fif.gz, raw_tsss.fif.gz, _meg.fif.gz, _eeg.fif.gz or _ieeg.fif.gz\n",
      "  PW_W_list[i].save('procested/PW_NW/'+ID[i] + '.fif', overwrite=True)\n",
      "C:\\Users\\dasha\\AppData\\Local\\Temp\\ipykernel_9316\\352767205.py:4: RuntimeWarning: This filename (C:\\Users\\dasha\\Documents\\Neurobiology_EEG\\VFT\\VFT1\\procested\\PW_NW\\NP112303.fif) does not conform to MNE naming conventions. All raw files should end with raw.fif, raw_sss.fif, raw_tsss.fif, _meg.fif, _eeg.fif, _ieeg.fif, raw.fif.gz, raw_sss.fif.gz, raw_tsss.fif.gz, _meg.fif.gz, _eeg.fif.gz or _ieeg.fif.gz\n",
      "  PW_NW_list[i].save('procested/PW_NW/'+ID[i] + '.fif', overwrite=True)\n"
     ]
    },
    {
     "name": "stdout",
     "output_type": "stream",
     "text": [
      "[done]\n",
      "Writing C:\\Users\\dasha\\Documents\\Neurobiology_EEG\\VFT\\VFT1\\procested\\NW_PF\\NP112304.fif\n",
      "Closing C:\\Users\\dasha\\Documents\\Neurobiology_EEG\\VFT\\VFT1\\procested\\NW_PF\\NP112304.fif\n",
      "[done]\n",
      "Writing C:\\Users\\dasha\\Documents\\Neurobiology_EEG\\VFT\\VFT1\\procested\\PW_NW\\NP112304.fif\n",
      "Closing C:\\Users\\dasha\\Documents\\Neurobiology_EEG\\VFT\\VFT1\\procested\\PW_NW\\NP112304.fif\n",
      "[done]\n",
      "Overwriting existing file.\n",
      "Writing C:\\Users\\dasha\\Documents\\Neurobiology_EEG\\VFT\\VFT1\\procested\\PW_NW\\NP112304.fif\n",
      "Closing C:\\Users\\dasha\\Documents\\Neurobiology_EEG\\VFT\\VFT1\\procested\\PW_NW\\NP112304.fif\n",
      "[done]\n",
      "Writing C:\\Users\\dasha\\Documents\\Neurobiology_EEG\\VFT\\VFT1\\procested\\NW_PF\\NP112307.fif\n",
      "Closing C:\\Users\\dasha\\Documents\\Neurobiology_EEG\\VFT\\VFT1\\procested\\NW_PF\\NP112307.fif\n",
      "[done]\n",
      "Writing C:\\Users\\dasha\\Documents\\Neurobiology_EEG\\VFT\\VFT1\\procested\\PW_NW\\NP112307.fif\n"
     ]
    },
    {
     "name": "stderr",
     "output_type": "stream",
     "text": [
      "C:\\Users\\dasha\\AppData\\Local\\Temp\\ipykernel_9316\\352767205.py:2: RuntimeWarning: This filename (C:\\Users\\dasha\\Documents\\Neurobiology_EEG\\VFT\\VFT1\\procested\\NW_PF\\NP112304.fif) does not conform to MNE naming conventions. All raw files should end with raw.fif, raw_sss.fif, raw_tsss.fif, _meg.fif, _eeg.fif, _ieeg.fif, raw.fif.gz, raw_sss.fif.gz, raw_tsss.fif.gz, _meg.fif.gz, _eeg.fif.gz or _ieeg.fif.gz\n",
      "  NW_PF_list[i].save('procested/NW_PF/'+ID[i] + '.fif', overwrite=True)\n",
      "C:\\Users\\dasha\\AppData\\Local\\Temp\\ipykernel_9316\\352767205.py:3: RuntimeWarning: This filename (C:\\Users\\dasha\\Documents\\Neurobiology_EEG\\VFT\\VFT1\\procested\\PW_NW\\NP112304.fif) does not conform to MNE naming conventions. All raw files should end with raw.fif, raw_sss.fif, raw_tsss.fif, _meg.fif, _eeg.fif, _ieeg.fif, raw.fif.gz, raw_sss.fif.gz, raw_tsss.fif.gz, _meg.fif.gz, _eeg.fif.gz or _ieeg.fif.gz\n",
      "  PW_W_list[i].save('procested/PW_NW/'+ID[i] + '.fif', overwrite=True)\n",
      "C:\\Users\\dasha\\AppData\\Local\\Temp\\ipykernel_9316\\352767205.py:4: RuntimeWarning: This filename (C:\\Users\\dasha\\Documents\\Neurobiology_EEG\\VFT\\VFT1\\procested\\PW_NW\\NP112304.fif) does not conform to MNE naming conventions. All raw files should end with raw.fif, raw_sss.fif, raw_tsss.fif, _meg.fif, _eeg.fif, _ieeg.fif, raw.fif.gz, raw_sss.fif.gz, raw_tsss.fif.gz, _meg.fif.gz, _eeg.fif.gz or _ieeg.fif.gz\n",
      "  PW_NW_list[i].save('procested/PW_NW/'+ID[i] + '.fif', overwrite=True)\n",
      "C:\\Users\\dasha\\AppData\\Local\\Temp\\ipykernel_9316\\352767205.py:2: RuntimeWarning: This filename (C:\\Users\\dasha\\Documents\\Neurobiology_EEG\\VFT\\VFT1\\procested\\NW_PF\\NP112307.fif) does not conform to MNE naming conventions. All raw files should end with raw.fif, raw_sss.fif, raw_tsss.fif, _meg.fif, _eeg.fif, _ieeg.fif, raw.fif.gz, raw_sss.fif.gz, raw_tsss.fif.gz, _meg.fif.gz, _eeg.fif.gz or _ieeg.fif.gz\n",
      "  NW_PF_list[i].save('procested/NW_PF/'+ID[i] + '.fif', overwrite=True)\n",
      "C:\\Users\\dasha\\AppData\\Local\\Temp\\ipykernel_9316\\352767205.py:3: RuntimeWarning: This filename (C:\\Users\\dasha\\Documents\\Neurobiology_EEG\\VFT\\VFT1\\procested\\PW_NW\\NP112307.fif) does not conform to MNE naming conventions. All raw files should end with raw.fif, raw_sss.fif, raw_tsss.fif, _meg.fif, _eeg.fif, _ieeg.fif, raw.fif.gz, raw_sss.fif.gz, raw_tsss.fif.gz, _meg.fif.gz, _eeg.fif.gz or _ieeg.fif.gz\n",
      "  PW_W_list[i].save('procested/PW_NW/'+ID[i] + '.fif', overwrite=True)\n"
     ]
    },
    {
     "name": "stdout",
     "output_type": "stream",
     "text": [
      "Closing C:\\Users\\dasha\\Documents\\Neurobiology_EEG\\VFT\\VFT1\\procested\\PW_NW\\NP112307.fif\n",
      "[done]\n",
      "Overwriting existing file.\n",
      "Writing C:\\Users\\dasha\\Documents\\Neurobiology_EEG\\VFT\\VFT1\\procested\\PW_NW\\NP112307.fif\n",
      "Closing C:\\Users\\dasha\\Documents\\Neurobiology_EEG\\VFT\\VFT1\\procested\\PW_NW\\NP112307.fif\n",
      "[done]\n",
      "Writing C:\\Users\\dasha\\Documents\\Neurobiology_EEG\\VFT\\VFT1\\procested\\NW_PF\\NP112308.fif\n",
      "Closing C:\\Users\\dasha\\Documents\\Neurobiology_EEG\\VFT\\VFT1\\procested\\NW_PF\\NP112308.fif\n",
      "[done]\n",
      "Writing C:\\Users\\dasha\\Documents\\Neurobiology_EEG\\VFT\\VFT1\\procested\\PW_NW\\NP112308.fif\n",
      "Closing C:\\Users\\dasha\\Documents\\Neurobiology_EEG\\VFT\\VFT1\\procested\\PW_NW\\NP112308.fif\n",
      "[done]\n",
      "Overwriting existing file.\n",
      "Writing C:\\Users\\dasha\\Documents\\Neurobiology_EEG\\VFT\\VFT1\\procested\\PW_NW\\NP112308.fif\n",
      "Closing C:\\Users\\dasha\\Documents\\Neurobiology_EEG\\VFT\\VFT1\\procested\\PW_NW\\NP112308.fif\n",
      "[done]\n",
      "Writing C:\\Users\\dasha\\Documents\\Neurobiology_EEG\\VFT\\VFT1\\procested\\NW_PF\\NP112309.fif\n",
      "Closing C:\\Users\\dasha\\Documents\\Neurobiology_EEG\\VFT\\VFT1\\procested\\NW_PF\\NP112309.fif\n"
     ]
    },
    {
     "name": "stderr",
     "output_type": "stream",
     "text": [
      "C:\\Users\\dasha\\AppData\\Local\\Temp\\ipykernel_9316\\352767205.py:4: RuntimeWarning: This filename (C:\\Users\\dasha\\Documents\\Neurobiology_EEG\\VFT\\VFT1\\procested\\PW_NW\\NP112307.fif) does not conform to MNE naming conventions. All raw files should end with raw.fif, raw_sss.fif, raw_tsss.fif, _meg.fif, _eeg.fif, _ieeg.fif, raw.fif.gz, raw_sss.fif.gz, raw_tsss.fif.gz, _meg.fif.gz, _eeg.fif.gz or _ieeg.fif.gz\n",
      "  PW_NW_list[i].save('procested/PW_NW/'+ID[i] + '.fif', overwrite=True)\n",
      "C:\\Users\\dasha\\AppData\\Local\\Temp\\ipykernel_9316\\352767205.py:2: RuntimeWarning: This filename (C:\\Users\\dasha\\Documents\\Neurobiology_EEG\\VFT\\VFT1\\procested\\NW_PF\\NP112308.fif) does not conform to MNE naming conventions. All raw files should end with raw.fif, raw_sss.fif, raw_tsss.fif, _meg.fif, _eeg.fif, _ieeg.fif, raw.fif.gz, raw_sss.fif.gz, raw_tsss.fif.gz, _meg.fif.gz, _eeg.fif.gz or _ieeg.fif.gz\n",
      "  NW_PF_list[i].save('procested/NW_PF/'+ID[i] + '.fif', overwrite=True)\n",
      "C:\\Users\\dasha\\AppData\\Local\\Temp\\ipykernel_9316\\352767205.py:3: RuntimeWarning: This filename (C:\\Users\\dasha\\Documents\\Neurobiology_EEG\\VFT\\VFT1\\procested\\PW_NW\\NP112308.fif) does not conform to MNE naming conventions. All raw files should end with raw.fif, raw_sss.fif, raw_tsss.fif, _meg.fif, _eeg.fif, _ieeg.fif, raw.fif.gz, raw_sss.fif.gz, raw_tsss.fif.gz, _meg.fif.gz, _eeg.fif.gz or _ieeg.fif.gz\n",
      "  PW_W_list[i].save('procested/PW_NW/'+ID[i] + '.fif', overwrite=True)\n",
      "C:\\Users\\dasha\\AppData\\Local\\Temp\\ipykernel_9316\\352767205.py:4: RuntimeWarning: This filename (C:\\Users\\dasha\\Documents\\Neurobiology_EEG\\VFT\\VFT1\\procested\\PW_NW\\NP112308.fif) does not conform to MNE naming conventions. All raw files should end with raw.fif, raw_sss.fif, raw_tsss.fif, _meg.fif, _eeg.fif, _ieeg.fif, raw.fif.gz, raw_sss.fif.gz, raw_tsss.fif.gz, _meg.fif.gz, _eeg.fif.gz or _ieeg.fif.gz\n",
      "  PW_NW_list[i].save('procested/PW_NW/'+ID[i] + '.fif', overwrite=True)\n",
      "C:\\Users\\dasha\\AppData\\Local\\Temp\\ipykernel_9316\\352767205.py:2: RuntimeWarning: This filename (C:\\Users\\dasha\\Documents\\Neurobiology_EEG\\VFT\\VFT1\\procested\\NW_PF\\NP112309.fif) does not conform to MNE naming conventions. All raw files should end with raw.fif, raw_sss.fif, raw_tsss.fif, _meg.fif, _eeg.fif, _ieeg.fif, raw.fif.gz, raw_sss.fif.gz, raw_tsss.fif.gz, _meg.fif.gz, _eeg.fif.gz or _ieeg.fif.gz\n",
      "  NW_PF_list[i].save('procested/NW_PF/'+ID[i] + '.fif', overwrite=True)\n"
     ]
    },
    {
     "name": "stdout",
     "output_type": "stream",
     "text": [
      "[done]\n",
      "Writing C:\\Users\\dasha\\Documents\\Neurobiology_EEG\\VFT\\VFT1\\procested\\PW_NW\\NP112309.fif\n",
      "Closing C:\\Users\\dasha\\Documents\\Neurobiology_EEG\\VFT\\VFT1\\procested\\PW_NW\\NP112309.fif\n",
      "[done]\n",
      "Overwriting existing file.\n",
      "Writing C:\\Users\\dasha\\Documents\\Neurobiology_EEG\\VFT\\VFT1\\procested\\PW_NW\\NP112309.fif\n",
      "Closing C:\\Users\\dasha\\Documents\\Neurobiology_EEG\\VFT\\VFT1\\procested\\PW_NW\\NP112309.fif\n",
      "[done]\n",
      "Writing C:\\Users\\dasha\\Documents\\Neurobiology_EEG\\VFT\\VFT1\\procested\\NW_PF\\NP112310.fif\n",
      "Closing C:\\Users\\dasha\\Documents\\Neurobiology_EEG\\VFT\\VFT1\\procested\\NW_PF\\NP112310.fif\n",
      "[done]\n",
      "Writing C:\\Users\\dasha\\Documents\\Neurobiology_EEG\\VFT\\VFT1\\procested\\PW_NW\\NP112310.fif\n",
      "Closing C:\\Users\\dasha\\Documents\\Neurobiology_EEG\\VFT\\VFT1\\procested\\PW_NW\\NP112310.fif\n",
      "[done]\n",
      "Overwriting existing file.\n",
      "Writing C:\\Users\\dasha\\Documents\\Neurobiology_EEG\\VFT\\VFT1\\procested\\PW_NW\\NP112310.fif\n",
      "Closing C:\\Users\\dasha\\Documents\\Neurobiology_EEG\\VFT\\VFT1\\procested\\PW_NW\\NP112310.fif\n",
      "[done]\n",
      "Writing C:\\Users\\dasha\\Documents\\Neurobiology_EEG\\VFT\\VFT1\\procested\\NW_PF\\NP112311.fif\n",
      "Closing C:\\Users\\dasha\\Documents\\Neurobiology_EEG\\VFT\\VFT1\\procested\\NW_PF\\NP112311.fif\n"
     ]
    },
    {
     "name": "stderr",
     "output_type": "stream",
     "text": [
      "C:\\Users\\dasha\\AppData\\Local\\Temp\\ipykernel_9316\\352767205.py:3: RuntimeWarning: This filename (C:\\Users\\dasha\\Documents\\Neurobiology_EEG\\VFT\\VFT1\\procested\\PW_NW\\NP112309.fif) does not conform to MNE naming conventions. All raw files should end with raw.fif, raw_sss.fif, raw_tsss.fif, _meg.fif, _eeg.fif, _ieeg.fif, raw.fif.gz, raw_sss.fif.gz, raw_tsss.fif.gz, _meg.fif.gz, _eeg.fif.gz or _ieeg.fif.gz\n",
      "  PW_W_list[i].save('procested/PW_NW/'+ID[i] + '.fif', overwrite=True)\n",
      "C:\\Users\\dasha\\AppData\\Local\\Temp\\ipykernel_9316\\352767205.py:4: RuntimeWarning: This filename (C:\\Users\\dasha\\Documents\\Neurobiology_EEG\\VFT\\VFT1\\procested\\PW_NW\\NP112309.fif) does not conform to MNE naming conventions. All raw files should end with raw.fif, raw_sss.fif, raw_tsss.fif, _meg.fif, _eeg.fif, _ieeg.fif, raw.fif.gz, raw_sss.fif.gz, raw_tsss.fif.gz, _meg.fif.gz, _eeg.fif.gz or _ieeg.fif.gz\n",
      "  PW_NW_list[i].save('procested/PW_NW/'+ID[i] + '.fif', overwrite=True)\n",
      "C:\\Users\\dasha\\AppData\\Local\\Temp\\ipykernel_9316\\352767205.py:2: RuntimeWarning: This filename (C:\\Users\\dasha\\Documents\\Neurobiology_EEG\\VFT\\VFT1\\procested\\NW_PF\\NP112310.fif) does not conform to MNE naming conventions. All raw files should end with raw.fif, raw_sss.fif, raw_tsss.fif, _meg.fif, _eeg.fif, _ieeg.fif, raw.fif.gz, raw_sss.fif.gz, raw_tsss.fif.gz, _meg.fif.gz, _eeg.fif.gz or _ieeg.fif.gz\n",
      "  NW_PF_list[i].save('procested/NW_PF/'+ID[i] + '.fif', overwrite=True)\n",
      "C:\\Users\\dasha\\AppData\\Local\\Temp\\ipykernel_9316\\352767205.py:3: RuntimeWarning: This filename (C:\\Users\\dasha\\Documents\\Neurobiology_EEG\\VFT\\VFT1\\procested\\PW_NW\\NP112310.fif) does not conform to MNE naming conventions. All raw files should end with raw.fif, raw_sss.fif, raw_tsss.fif, _meg.fif, _eeg.fif, _ieeg.fif, raw.fif.gz, raw_sss.fif.gz, raw_tsss.fif.gz, _meg.fif.gz, _eeg.fif.gz or _ieeg.fif.gz\n",
      "  PW_W_list[i].save('procested/PW_NW/'+ID[i] + '.fif', overwrite=True)\n",
      "C:\\Users\\dasha\\AppData\\Local\\Temp\\ipykernel_9316\\352767205.py:4: RuntimeWarning: This filename (C:\\Users\\dasha\\Documents\\Neurobiology_EEG\\VFT\\VFT1\\procested\\PW_NW\\NP112310.fif) does not conform to MNE naming conventions. All raw files should end with raw.fif, raw_sss.fif, raw_tsss.fif, _meg.fif, _eeg.fif, _ieeg.fif, raw.fif.gz, raw_sss.fif.gz, raw_tsss.fif.gz, _meg.fif.gz, _eeg.fif.gz or _ieeg.fif.gz\n",
      "  PW_NW_list[i].save('procested/PW_NW/'+ID[i] + '.fif', overwrite=True)\n",
      "C:\\Users\\dasha\\AppData\\Local\\Temp\\ipykernel_9316\\352767205.py:2: RuntimeWarning: This filename (C:\\Users\\dasha\\Documents\\Neurobiology_EEG\\VFT\\VFT1\\procested\\NW_PF\\NP112311.fif) does not conform to MNE naming conventions. All raw files should end with raw.fif, raw_sss.fif, raw_tsss.fif, _meg.fif, _eeg.fif, _ieeg.fif, raw.fif.gz, raw_sss.fif.gz, raw_tsss.fif.gz, _meg.fif.gz, _eeg.fif.gz or _ieeg.fif.gz\n",
      "  NW_PF_list[i].save('procested/NW_PF/'+ID[i] + '.fif', overwrite=True)\n"
     ]
    },
    {
     "name": "stdout",
     "output_type": "stream",
     "text": [
      "[done]\n",
      "Writing C:\\Users\\dasha\\Documents\\Neurobiology_EEG\\VFT\\VFT1\\procested\\PW_NW\\NP112311.fif\n",
      "Closing C:\\Users\\dasha\\Documents\\Neurobiology_EEG\\VFT\\VFT1\\procested\\PW_NW\\NP112311.fif\n",
      "[done]\n",
      "Overwriting existing file.\n",
      "Writing C:\\Users\\dasha\\Documents\\Neurobiology_EEG\\VFT\\VFT1\\procested\\PW_NW\\NP112311.fif\n",
      "Closing C:\\Users\\dasha\\Documents\\Neurobiology_EEG\\VFT\\VFT1\\procested\\PW_NW\\NP112311.fif\n",
      "[done]\n",
      "Writing C:\\Users\\dasha\\Documents\\Neurobiology_EEG\\VFT\\VFT1\\procested\\NW_PF\\NP112313.fif\n",
      "Closing C:\\Users\\dasha\\Documents\\Neurobiology_EEG\\VFT\\VFT1\\procested\\NW_PF\\NP112313.fif\n",
      "[done]\n",
      "Writing C:\\Users\\dasha\\Documents\\Neurobiology_EEG\\VFT\\VFT1\\procested\\PW_NW\\NP112313.fif\n",
      "Closing C:\\Users\\dasha\\Documents\\Neurobiology_EEG\\VFT\\VFT1\\procested\\PW_NW\\NP112313.fif\n",
      "[done]\n",
      "Overwriting existing file.\n",
      "Writing C:\\Users\\dasha\\Documents\\Neurobiology_EEG\\VFT\\VFT1\\procested\\PW_NW\\NP112313.fif\n"
     ]
    },
    {
     "name": "stderr",
     "output_type": "stream",
     "text": [
      "C:\\Users\\dasha\\AppData\\Local\\Temp\\ipykernel_9316\\352767205.py:3: RuntimeWarning: This filename (C:\\Users\\dasha\\Documents\\Neurobiology_EEG\\VFT\\VFT1\\procested\\PW_NW\\NP112311.fif) does not conform to MNE naming conventions. All raw files should end with raw.fif, raw_sss.fif, raw_tsss.fif, _meg.fif, _eeg.fif, _ieeg.fif, raw.fif.gz, raw_sss.fif.gz, raw_tsss.fif.gz, _meg.fif.gz, _eeg.fif.gz or _ieeg.fif.gz\n",
      "  PW_W_list[i].save('procested/PW_NW/'+ID[i] + '.fif', overwrite=True)\n",
      "C:\\Users\\dasha\\AppData\\Local\\Temp\\ipykernel_9316\\352767205.py:4: RuntimeWarning: This filename (C:\\Users\\dasha\\Documents\\Neurobiology_EEG\\VFT\\VFT1\\procested\\PW_NW\\NP112311.fif) does not conform to MNE naming conventions. All raw files should end with raw.fif, raw_sss.fif, raw_tsss.fif, _meg.fif, _eeg.fif, _ieeg.fif, raw.fif.gz, raw_sss.fif.gz, raw_tsss.fif.gz, _meg.fif.gz, _eeg.fif.gz or _ieeg.fif.gz\n",
      "  PW_NW_list[i].save('procested/PW_NW/'+ID[i] + '.fif', overwrite=True)\n",
      "C:\\Users\\dasha\\AppData\\Local\\Temp\\ipykernel_9316\\352767205.py:2: RuntimeWarning: This filename (C:\\Users\\dasha\\Documents\\Neurobiology_EEG\\VFT\\VFT1\\procested\\NW_PF\\NP112313.fif) does not conform to MNE naming conventions. All raw files should end with raw.fif, raw_sss.fif, raw_tsss.fif, _meg.fif, _eeg.fif, _ieeg.fif, raw.fif.gz, raw_sss.fif.gz, raw_tsss.fif.gz, _meg.fif.gz, _eeg.fif.gz or _ieeg.fif.gz\n",
      "  NW_PF_list[i].save('procested/NW_PF/'+ID[i] + '.fif', overwrite=True)\n",
      "C:\\Users\\dasha\\AppData\\Local\\Temp\\ipykernel_9316\\352767205.py:3: RuntimeWarning: This filename (C:\\Users\\dasha\\Documents\\Neurobiology_EEG\\VFT\\VFT1\\procested\\PW_NW\\NP112313.fif) does not conform to MNE naming conventions. All raw files should end with raw.fif, raw_sss.fif, raw_tsss.fif, _meg.fif, _eeg.fif, _ieeg.fif, raw.fif.gz, raw_sss.fif.gz, raw_tsss.fif.gz, _meg.fif.gz, _eeg.fif.gz or _ieeg.fif.gz\n",
      "  PW_W_list[i].save('procested/PW_NW/'+ID[i] + '.fif', overwrite=True)\n",
      "C:\\Users\\dasha\\AppData\\Local\\Temp\\ipykernel_9316\\352767205.py:4: RuntimeWarning: This filename (C:\\Users\\dasha\\Documents\\Neurobiology_EEG\\VFT\\VFT1\\procested\\PW_NW\\NP112313.fif) does not conform to MNE naming conventions. All raw files should end with raw.fif, raw_sss.fif, raw_tsss.fif, _meg.fif, _eeg.fif, _ieeg.fif, raw.fif.gz, raw_sss.fif.gz, raw_tsss.fif.gz, _meg.fif.gz, _eeg.fif.gz or _ieeg.fif.gz\n",
      "  PW_NW_list[i].save('procested/PW_NW/'+ID[i] + '.fif', overwrite=True)\n"
     ]
    },
    {
     "name": "stdout",
     "output_type": "stream",
     "text": [
      "Closing C:\\Users\\dasha\\Documents\\Neurobiology_EEG\\VFT\\VFT1\\procested\\PW_NW\\NP112313.fif\n",
      "[done]\n",
      "Writing C:\\Users\\dasha\\Documents\\Neurobiology_EEG\\VFT\\VFT1\\procested\\NW_PF\\NP112314.fif\n",
      "Closing C:\\Users\\dasha\\Documents\\Neurobiology_EEG\\VFT\\VFT1\\procested\\NW_PF\\NP112314.fif\n",
      "[done]\n",
      "Writing C:\\Users\\dasha\\Documents\\Neurobiology_EEG\\VFT\\VFT1\\procested\\PW_NW\\NP112314.fif\n",
      "Closing C:\\Users\\dasha\\Documents\\Neurobiology_EEG\\VFT\\VFT1\\procested\\PW_NW\\NP112314.fif\n",
      "[done]\n",
      "Overwriting existing file.\n",
      "Writing C:\\Users\\dasha\\Documents\\Neurobiology_EEG\\VFT\\VFT1\\procested\\PW_NW\\NP112314.fif\n",
      "Closing C:\\Users\\dasha\\Documents\\Neurobiology_EEG\\VFT\\VFT1\\procested\\PW_NW\\NP112314.fif\n",
      "[done]\n",
      "Writing C:\\Users\\dasha\\Documents\\Neurobiology_EEG\\VFT\\VFT1\\procested\\NW_PF\\NP112315.fif\n",
      "Closing C:\\Users\\dasha\\Documents\\Neurobiology_EEG\\VFT\\VFT1\\procested\\NW_PF\\NP112315.fif\n",
      "[done]\n",
      "Writing C:\\Users\\dasha\\Documents\\Neurobiology_EEG\\VFT\\VFT1\\procested\\PW_NW\\NP112315.fif\n",
      "Closing C:\\Users\\dasha\\Documents\\Neurobiology_EEG\\VFT\\VFT1\\procested\\PW_NW\\NP112315.fif\n"
     ]
    },
    {
     "name": "stderr",
     "output_type": "stream",
     "text": [
      "C:\\Users\\dasha\\AppData\\Local\\Temp\\ipykernel_9316\\352767205.py:2: RuntimeWarning: This filename (C:\\Users\\dasha\\Documents\\Neurobiology_EEG\\VFT\\VFT1\\procested\\NW_PF\\NP112314.fif) does not conform to MNE naming conventions. All raw files should end with raw.fif, raw_sss.fif, raw_tsss.fif, _meg.fif, _eeg.fif, _ieeg.fif, raw.fif.gz, raw_sss.fif.gz, raw_tsss.fif.gz, _meg.fif.gz, _eeg.fif.gz or _ieeg.fif.gz\n",
      "  NW_PF_list[i].save('procested/NW_PF/'+ID[i] + '.fif', overwrite=True)\n",
      "C:\\Users\\dasha\\AppData\\Local\\Temp\\ipykernel_9316\\352767205.py:3: RuntimeWarning: This filename (C:\\Users\\dasha\\Documents\\Neurobiology_EEG\\VFT\\VFT1\\procested\\PW_NW\\NP112314.fif) does not conform to MNE naming conventions. All raw files should end with raw.fif, raw_sss.fif, raw_tsss.fif, _meg.fif, _eeg.fif, _ieeg.fif, raw.fif.gz, raw_sss.fif.gz, raw_tsss.fif.gz, _meg.fif.gz, _eeg.fif.gz or _ieeg.fif.gz\n",
      "  PW_W_list[i].save('procested/PW_NW/'+ID[i] + '.fif', overwrite=True)\n",
      "C:\\Users\\dasha\\AppData\\Local\\Temp\\ipykernel_9316\\352767205.py:4: RuntimeWarning: This filename (C:\\Users\\dasha\\Documents\\Neurobiology_EEG\\VFT\\VFT1\\procested\\PW_NW\\NP112314.fif) does not conform to MNE naming conventions. All raw files should end with raw.fif, raw_sss.fif, raw_tsss.fif, _meg.fif, _eeg.fif, _ieeg.fif, raw.fif.gz, raw_sss.fif.gz, raw_tsss.fif.gz, _meg.fif.gz, _eeg.fif.gz or _ieeg.fif.gz\n",
      "  PW_NW_list[i].save('procested/PW_NW/'+ID[i] + '.fif', overwrite=True)\n",
      "C:\\Users\\dasha\\AppData\\Local\\Temp\\ipykernel_9316\\352767205.py:2: RuntimeWarning: This filename (C:\\Users\\dasha\\Documents\\Neurobiology_EEG\\VFT\\VFT1\\procested\\NW_PF\\NP112315.fif) does not conform to MNE naming conventions. All raw files should end with raw.fif, raw_sss.fif, raw_tsss.fif, _meg.fif, _eeg.fif, _ieeg.fif, raw.fif.gz, raw_sss.fif.gz, raw_tsss.fif.gz, _meg.fif.gz, _eeg.fif.gz or _ieeg.fif.gz\n",
      "  NW_PF_list[i].save('procested/NW_PF/'+ID[i] + '.fif', overwrite=True)\n",
      "C:\\Users\\dasha\\AppData\\Local\\Temp\\ipykernel_9316\\352767205.py:3: RuntimeWarning: This filename (C:\\Users\\dasha\\Documents\\Neurobiology_EEG\\VFT\\VFT1\\procested\\PW_NW\\NP112315.fif) does not conform to MNE naming conventions. All raw files should end with raw.fif, raw_sss.fif, raw_tsss.fif, _meg.fif, _eeg.fif, _ieeg.fif, raw.fif.gz, raw_sss.fif.gz, raw_tsss.fif.gz, _meg.fif.gz, _eeg.fif.gz or _ieeg.fif.gz\n",
      "  PW_W_list[i].save('procested/PW_NW/'+ID[i] + '.fif', overwrite=True)\n"
     ]
    },
    {
     "name": "stdout",
     "output_type": "stream",
     "text": [
      "[done]\n",
      "Overwriting existing file.\n",
      "Writing C:\\Users\\dasha\\Documents\\Neurobiology_EEG\\VFT\\VFT1\\procested\\PW_NW\\NP112315.fif\n",
      "Closing C:\\Users\\dasha\\Documents\\Neurobiology_EEG\\VFT\\VFT1\\procested\\PW_NW\\NP112315.fif\n",
      "[done]\n",
      "Writing C:\\Users\\dasha\\Documents\\Neurobiology_EEG\\VFT\\VFT1\\procested\\NW_PF\\NP112316.fif\n",
      "Closing C:\\Users\\dasha\\Documents\\Neurobiology_EEG\\VFT\\VFT1\\procested\\NW_PF\\NP112316.fif\n",
      "[done]\n",
      "Writing C:\\Users\\dasha\\Documents\\Neurobiology_EEG\\VFT\\VFT1\\procested\\PW_NW\\NP112316.fif\n",
      "Closing C:\\Users\\dasha\\Documents\\Neurobiology_EEG\\VFT\\VFT1\\procested\\PW_NW\\NP112316.fif\n",
      "[done]\n",
      "Overwriting existing file.\n",
      "Writing C:\\Users\\dasha\\Documents\\Neurobiology_EEG\\VFT\\VFT1\\procested\\PW_NW\\NP112316.fif\n",
      "Closing C:\\Users\\dasha\\Documents\\Neurobiology_EEG\\VFT\\VFT1\\procested\\PW_NW\\NP112316.fif\n",
      "[done]\n",
      "Writing C:\\Users\\dasha\\Documents\\Neurobiology_EEG\\VFT\\VFT1\\procested\\NW_PF\\NP112317.fif\n",
      "Closing C:\\Users\\dasha\\Documents\\Neurobiology_EEG\\VFT\\VFT1\\procested\\NW_PF\\NP112317.fif\n"
     ]
    },
    {
     "name": "stderr",
     "output_type": "stream",
     "text": [
      "C:\\Users\\dasha\\AppData\\Local\\Temp\\ipykernel_9316\\352767205.py:4: RuntimeWarning: This filename (C:\\Users\\dasha\\Documents\\Neurobiology_EEG\\VFT\\VFT1\\procested\\PW_NW\\NP112315.fif) does not conform to MNE naming conventions. All raw files should end with raw.fif, raw_sss.fif, raw_tsss.fif, _meg.fif, _eeg.fif, _ieeg.fif, raw.fif.gz, raw_sss.fif.gz, raw_tsss.fif.gz, _meg.fif.gz, _eeg.fif.gz or _ieeg.fif.gz\n",
      "  PW_NW_list[i].save('procested/PW_NW/'+ID[i] + '.fif', overwrite=True)\n",
      "C:\\Users\\dasha\\AppData\\Local\\Temp\\ipykernel_9316\\352767205.py:2: RuntimeWarning: This filename (C:\\Users\\dasha\\Documents\\Neurobiology_EEG\\VFT\\VFT1\\procested\\NW_PF\\NP112316.fif) does not conform to MNE naming conventions. All raw files should end with raw.fif, raw_sss.fif, raw_tsss.fif, _meg.fif, _eeg.fif, _ieeg.fif, raw.fif.gz, raw_sss.fif.gz, raw_tsss.fif.gz, _meg.fif.gz, _eeg.fif.gz or _ieeg.fif.gz\n",
      "  NW_PF_list[i].save('procested/NW_PF/'+ID[i] + '.fif', overwrite=True)\n",
      "C:\\Users\\dasha\\AppData\\Local\\Temp\\ipykernel_9316\\352767205.py:3: RuntimeWarning: This filename (C:\\Users\\dasha\\Documents\\Neurobiology_EEG\\VFT\\VFT1\\procested\\PW_NW\\NP112316.fif) does not conform to MNE naming conventions. All raw files should end with raw.fif, raw_sss.fif, raw_tsss.fif, _meg.fif, _eeg.fif, _ieeg.fif, raw.fif.gz, raw_sss.fif.gz, raw_tsss.fif.gz, _meg.fif.gz, _eeg.fif.gz or _ieeg.fif.gz\n",
      "  PW_W_list[i].save('procested/PW_NW/'+ID[i] + '.fif', overwrite=True)\n",
      "C:\\Users\\dasha\\AppData\\Local\\Temp\\ipykernel_9316\\352767205.py:4: RuntimeWarning: This filename (C:\\Users\\dasha\\Documents\\Neurobiology_EEG\\VFT\\VFT1\\procested\\PW_NW\\NP112316.fif) does not conform to MNE naming conventions. All raw files should end with raw.fif, raw_sss.fif, raw_tsss.fif, _meg.fif, _eeg.fif, _ieeg.fif, raw.fif.gz, raw_sss.fif.gz, raw_tsss.fif.gz, _meg.fif.gz, _eeg.fif.gz or _ieeg.fif.gz\n",
      "  PW_NW_list[i].save('procested/PW_NW/'+ID[i] + '.fif', overwrite=True)\n",
      "C:\\Users\\dasha\\AppData\\Local\\Temp\\ipykernel_9316\\352767205.py:2: RuntimeWarning: This filename (C:\\Users\\dasha\\Documents\\Neurobiology_EEG\\VFT\\VFT1\\procested\\NW_PF\\NP112317.fif) does not conform to MNE naming conventions. All raw files should end with raw.fif, raw_sss.fif, raw_tsss.fif, _meg.fif, _eeg.fif, _ieeg.fif, raw.fif.gz, raw_sss.fif.gz, raw_tsss.fif.gz, _meg.fif.gz, _eeg.fif.gz or _ieeg.fif.gz\n",
      "  NW_PF_list[i].save('procested/NW_PF/'+ID[i] + '.fif', overwrite=True)\n"
     ]
    },
    {
     "name": "stdout",
     "output_type": "stream",
     "text": [
      "[done]\n",
      "Writing C:\\Users\\dasha\\Documents\\Neurobiology_EEG\\VFT\\VFT1\\procested\\PW_NW\\NP112317.fif\n",
      "Closing C:\\Users\\dasha\\Documents\\Neurobiology_EEG\\VFT\\VFT1\\procested\\PW_NW\\NP112317.fif\n",
      "[done]\n",
      "Overwriting existing file.\n",
      "Writing C:\\Users\\dasha\\Documents\\Neurobiology_EEG\\VFT\\VFT1\\procested\\PW_NW\\NP112317.fif\n",
      "Closing C:\\Users\\dasha\\Documents\\Neurobiology_EEG\\VFT\\VFT1\\procested\\PW_NW\\NP112317.fif\n",
      "[done]\n",
      "Writing C:\\Users\\dasha\\Documents\\Neurobiology_EEG\\VFT\\VFT1\\procested\\NW_PF\\NP112318.fif\n",
      "Closing C:\\Users\\dasha\\Documents\\Neurobiology_EEG\\VFT\\VFT1\\procested\\NW_PF\\NP112318.fif\n",
      "[done]\n",
      "Writing C:\\Users\\dasha\\Documents\\Neurobiology_EEG\\VFT\\VFT1\\procested\\PW_NW\\NP112318.fif\n",
      "Closing C:\\Users\\dasha\\Documents\\Neurobiology_EEG\\VFT\\VFT1\\procested\\PW_NW\\NP112318.fif\n",
      "[done]\n",
      "Overwriting existing file.\n",
      "Writing C:\\Users\\dasha\\Documents\\Neurobiology_EEG\\VFT\\VFT1\\procested\\PW_NW\\NP112318.fif\n",
      "Closing C:\\Users\\dasha\\Documents\\Neurobiology_EEG\\VFT\\VFT1\\procested\\PW_NW\\NP112318.fif\n",
      "[done]\n",
      "Writing C:\\Users\\dasha\\Documents\\Neurobiology_EEG\\VFT\\VFT1\\procested\\NW_PF\\NP112319.fif\n",
      "Closing C:\\Users\\dasha\\Documents\\Neurobiology_EEG\\VFT\\VFT1\\procested\\NW_PF\\NP112319.fif\n"
     ]
    },
    {
     "name": "stderr",
     "output_type": "stream",
     "text": [
      "C:\\Users\\dasha\\AppData\\Local\\Temp\\ipykernel_9316\\352767205.py:3: RuntimeWarning: This filename (C:\\Users\\dasha\\Documents\\Neurobiology_EEG\\VFT\\VFT1\\procested\\PW_NW\\NP112317.fif) does not conform to MNE naming conventions. All raw files should end with raw.fif, raw_sss.fif, raw_tsss.fif, _meg.fif, _eeg.fif, _ieeg.fif, raw.fif.gz, raw_sss.fif.gz, raw_tsss.fif.gz, _meg.fif.gz, _eeg.fif.gz or _ieeg.fif.gz\n",
      "  PW_W_list[i].save('procested/PW_NW/'+ID[i] + '.fif', overwrite=True)\n",
      "C:\\Users\\dasha\\AppData\\Local\\Temp\\ipykernel_9316\\352767205.py:4: RuntimeWarning: This filename (C:\\Users\\dasha\\Documents\\Neurobiology_EEG\\VFT\\VFT1\\procested\\PW_NW\\NP112317.fif) does not conform to MNE naming conventions. All raw files should end with raw.fif, raw_sss.fif, raw_tsss.fif, _meg.fif, _eeg.fif, _ieeg.fif, raw.fif.gz, raw_sss.fif.gz, raw_tsss.fif.gz, _meg.fif.gz, _eeg.fif.gz or _ieeg.fif.gz\n",
      "  PW_NW_list[i].save('procested/PW_NW/'+ID[i] + '.fif', overwrite=True)\n",
      "C:\\Users\\dasha\\AppData\\Local\\Temp\\ipykernel_9316\\352767205.py:2: RuntimeWarning: This filename (C:\\Users\\dasha\\Documents\\Neurobiology_EEG\\VFT\\VFT1\\procested\\NW_PF\\NP112318.fif) does not conform to MNE naming conventions. All raw files should end with raw.fif, raw_sss.fif, raw_tsss.fif, _meg.fif, _eeg.fif, _ieeg.fif, raw.fif.gz, raw_sss.fif.gz, raw_tsss.fif.gz, _meg.fif.gz, _eeg.fif.gz or _ieeg.fif.gz\n",
      "  NW_PF_list[i].save('procested/NW_PF/'+ID[i] + '.fif', overwrite=True)\n",
      "C:\\Users\\dasha\\AppData\\Local\\Temp\\ipykernel_9316\\352767205.py:3: RuntimeWarning: This filename (C:\\Users\\dasha\\Documents\\Neurobiology_EEG\\VFT\\VFT1\\procested\\PW_NW\\NP112318.fif) does not conform to MNE naming conventions. All raw files should end with raw.fif, raw_sss.fif, raw_tsss.fif, _meg.fif, _eeg.fif, _ieeg.fif, raw.fif.gz, raw_sss.fif.gz, raw_tsss.fif.gz, _meg.fif.gz, _eeg.fif.gz or _ieeg.fif.gz\n",
      "  PW_W_list[i].save('procested/PW_NW/'+ID[i] + '.fif', overwrite=True)\n",
      "C:\\Users\\dasha\\AppData\\Local\\Temp\\ipykernel_9316\\352767205.py:4: RuntimeWarning: This filename (C:\\Users\\dasha\\Documents\\Neurobiology_EEG\\VFT\\VFT1\\procested\\PW_NW\\NP112318.fif) does not conform to MNE naming conventions. All raw files should end with raw.fif, raw_sss.fif, raw_tsss.fif, _meg.fif, _eeg.fif, _ieeg.fif, raw.fif.gz, raw_sss.fif.gz, raw_tsss.fif.gz, _meg.fif.gz, _eeg.fif.gz or _ieeg.fif.gz\n",
      "  PW_NW_list[i].save('procested/PW_NW/'+ID[i] + '.fif', overwrite=True)\n",
      "C:\\Users\\dasha\\AppData\\Local\\Temp\\ipykernel_9316\\352767205.py:2: RuntimeWarning: This filename (C:\\Users\\dasha\\Documents\\Neurobiology_EEG\\VFT\\VFT1\\procested\\NW_PF\\NP112319.fif) does not conform to MNE naming conventions. All raw files should end with raw.fif, raw_sss.fif, raw_tsss.fif, _meg.fif, _eeg.fif, _ieeg.fif, raw.fif.gz, raw_sss.fif.gz, raw_tsss.fif.gz, _meg.fif.gz, _eeg.fif.gz or _ieeg.fif.gz\n",
      "  NW_PF_list[i].save('procested/NW_PF/'+ID[i] + '.fif', overwrite=True)\n"
     ]
    },
    {
     "name": "stdout",
     "output_type": "stream",
     "text": [
      "[done]\n",
      "Writing C:\\Users\\dasha\\Documents\\Neurobiology_EEG\\VFT\\VFT1\\procested\\PW_NW\\NP112319.fif\n",
      "Closing C:\\Users\\dasha\\Documents\\Neurobiology_EEG\\VFT\\VFT1\\procested\\PW_NW\\NP112319.fif\n",
      "[done]\n",
      "Overwriting existing file.\n",
      "Writing C:\\Users\\dasha\\Documents\\Neurobiology_EEG\\VFT\\VFT1\\procested\\PW_NW\\NP112319.fif\n",
      "Closing C:\\Users\\dasha\\Documents\\Neurobiology_EEG\\VFT\\VFT1\\procested\\PW_NW\\NP112319.fif\n",
      "[done]\n",
      "Writing C:\\Users\\dasha\\Documents\\Neurobiology_EEG\\VFT\\VFT1\\procested\\NW_PF\\NP112320.fif\n",
      "Closing C:\\Users\\dasha\\Documents\\Neurobiology_EEG\\VFT\\VFT1\\procested\\NW_PF\\NP112320.fif\n"
     ]
    },
    {
     "name": "stderr",
     "output_type": "stream",
     "text": [
      "C:\\Users\\dasha\\AppData\\Local\\Temp\\ipykernel_9316\\352767205.py:3: RuntimeWarning: This filename (C:\\Users\\dasha\\Documents\\Neurobiology_EEG\\VFT\\VFT1\\procested\\PW_NW\\NP112319.fif) does not conform to MNE naming conventions. All raw files should end with raw.fif, raw_sss.fif, raw_tsss.fif, _meg.fif, _eeg.fif, _ieeg.fif, raw.fif.gz, raw_sss.fif.gz, raw_tsss.fif.gz, _meg.fif.gz, _eeg.fif.gz or _ieeg.fif.gz\n",
      "  PW_W_list[i].save('procested/PW_NW/'+ID[i] + '.fif', overwrite=True)\n",
      "C:\\Users\\dasha\\AppData\\Local\\Temp\\ipykernel_9316\\352767205.py:4: RuntimeWarning: This filename (C:\\Users\\dasha\\Documents\\Neurobiology_EEG\\VFT\\VFT1\\procested\\PW_NW\\NP112319.fif) does not conform to MNE naming conventions. All raw files should end with raw.fif, raw_sss.fif, raw_tsss.fif, _meg.fif, _eeg.fif, _ieeg.fif, raw.fif.gz, raw_sss.fif.gz, raw_tsss.fif.gz, _meg.fif.gz, _eeg.fif.gz or _ieeg.fif.gz\n",
      "  PW_NW_list[i].save('procested/PW_NW/'+ID[i] + '.fif', overwrite=True)\n",
      "C:\\Users\\dasha\\AppData\\Local\\Temp\\ipykernel_9316\\352767205.py:2: RuntimeWarning: This filename (C:\\Users\\dasha\\Documents\\Neurobiology_EEG\\VFT\\VFT1\\procested\\NW_PF\\NP112320.fif) does not conform to MNE naming conventions. All raw files should end with raw.fif, raw_sss.fif, raw_tsss.fif, _meg.fif, _eeg.fif, _ieeg.fif, raw.fif.gz, raw_sss.fif.gz, raw_tsss.fif.gz, _meg.fif.gz, _eeg.fif.gz or _ieeg.fif.gz\n",
      "  NW_PF_list[i].save('procested/NW_PF/'+ID[i] + '.fif', overwrite=True)\n"
     ]
    },
    {
     "name": "stdout",
     "output_type": "stream",
     "text": [
      "[done]\n",
      "Writing C:\\Users\\dasha\\Documents\\Neurobiology_EEG\\VFT\\VFT1\\procested\\PW_NW\\NP112320.fif\n",
      "Closing C:\\Users\\dasha\\Documents\\Neurobiology_EEG\\VFT\\VFT1\\procested\\PW_NW\\NP112320.fif\n",
      "[done]\n",
      "Overwriting existing file.\n",
      "Writing C:\\Users\\dasha\\Documents\\Neurobiology_EEG\\VFT\\VFT1\\procested\\PW_NW\\NP112320.fif\n",
      "Closing C:\\Users\\dasha\\Documents\\Neurobiology_EEG\\VFT\\VFT1\\procested\\PW_NW\\NP112320.fif\n",
      "[done]\n",
      "Writing C:\\Users\\dasha\\Documents\\Neurobiology_EEG\\VFT\\VFT1\\procested\\NW_PF\\NP112321.fif\n",
      "Closing C:\\Users\\dasha\\Documents\\Neurobiology_EEG\\VFT\\VFT1\\procested\\NW_PF\\NP112321.fif\n",
      "[done]\n",
      "Writing C:\\Users\\dasha\\Documents\\Neurobiology_EEG\\VFT\\VFT1\\procested\\PW_NW\\NP112321.fif\n",
      "Closing C:\\Users\\dasha\\Documents\\Neurobiology_EEG\\VFT\\VFT1\\procested\\PW_NW\\NP112321.fif\n",
      "[done]\n"
     ]
    },
    {
     "name": "stderr",
     "output_type": "stream",
     "text": [
      "C:\\Users\\dasha\\AppData\\Local\\Temp\\ipykernel_9316\\352767205.py:3: RuntimeWarning: This filename (C:\\Users\\dasha\\Documents\\Neurobiology_EEG\\VFT\\VFT1\\procested\\PW_NW\\NP112320.fif) does not conform to MNE naming conventions. All raw files should end with raw.fif, raw_sss.fif, raw_tsss.fif, _meg.fif, _eeg.fif, _ieeg.fif, raw.fif.gz, raw_sss.fif.gz, raw_tsss.fif.gz, _meg.fif.gz, _eeg.fif.gz or _ieeg.fif.gz\n",
      "  PW_W_list[i].save('procested/PW_NW/'+ID[i] + '.fif', overwrite=True)\n",
      "C:\\Users\\dasha\\AppData\\Local\\Temp\\ipykernel_9316\\352767205.py:4: RuntimeWarning: This filename (C:\\Users\\dasha\\Documents\\Neurobiology_EEG\\VFT\\VFT1\\procested\\PW_NW\\NP112320.fif) does not conform to MNE naming conventions. All raw files should end with raw.fif, raw_sss.fif, raw_tsss.fif, _meg.fif, _eeg.fif, _ieeg.fif, raw.fif.gz, raw_sss.fif.gz, raw_tsss.fif.gz, _meg.fif.gz, _eeg.fif.gz or _ieeg.fif.gz\n",
      "  PW_NW_list[i].save('procested/PW_NW/'+ID[i] + '.fif', overwrite=True)\n",
      "C:\\Users\\dasha\\AppData\\Local\\Temp\\ipykernel_9316\\352767205.py:2: RuntimeWarning: This filename (C:\\Users\\dasha\\Documents\\Neurobiology_EEG\\VFT\\VFT1\\procested\\NW_PF\\NP112321.fif) does not conform to MNE naming conventions. All raw files should end with raw.fif, raw_sss.fif, raw_tsss.fif, _meg.fif, _eeg.fif, _ieeg.fif, raw.fif.gz, raw_sss.fif.gz, raw_tsss.fif.gz, _meg.fif.gz, _eeg.fif.gz or _ieeg.fif.gz\n",
      "  NW_PF_list[i].save('procested/NW_PF/'+ID[i] + '.fif', overwrite=True)\n",
      "C:\\Users\\dasha\\AppData\\Local\\Temp\\ipykernel_9316\\352767205.py:3: RuntimeWarning: This filename (C:\\Users\\dasha\\Documents\\Neurobiology_EEG\\VFT\\VFT1\\procested\\PW_NW\\NP112321.fif) does not conform to MNE naming conventions. All raw files should end with raw.fif, raw_sss.fif, raw_tsss.fif, _meg.fif, _eeg.fif, _ieeg.fif, raw.fif.gz, raw_sss.fif.gz, raw_tsss.fif.gz, _meg.fif.gz, _eeg.fif.gz or _ieeg.fif.gz\n",
      "  PW_W_list[i].save('procested/PW_NW/'+ID[i] + '.fif', overwrite=True)\n",
      "C:\\Users\\dasha\\AppData\\Local\\Temp\\ipykernel_9316\\352767205.py:4: RuntimeWarning: This filename (C:\\Users\\dasha\\Documents\\Neurobiology_EEG\\VFT\\VFT1\\procested\\PW_NW\\NP112321.fif) does not conform to MNE naming conventions. All raw files should end with raw.fif, raw_sss.fif, raw_tsss.fif, _meg.fif, _eeg.fif, _ieeg.fif, raw.fif.gz, raw_sss.fif.gz, raw_tsss.fif.gz, _meg.fif.gz, _eeg.fif.gz or _ieeg.fif.gz\n",
      "  PW_NW_list[i].save('procested/PW_NW/'+ID[i] + '.fif', overwrite=True)\n"
     ]
    },
    {
     "name": "stdout",
     "output_type": "stream",
     "text": [
      "Overwriting existing file.\n",
      "Writing C:\\Users\\dasha\\Documents\\Neurobiology_EEG\\VFT\\VFT1\\procested\\PW_NW\\NP112321.fif\n",
      "Closing C:\\Users\\dasha\\Documents\\Neurobiology_EEG\\VFT\\VFT1\\procested\\PW_NW\\NP112321.fif\n",
      "[done]\n",
      "Writing C:\\Users\\dasha\\Documents\\Neurobiology_EEG\\VFT\\VFT1\\procested\\NW_PF\\NP112322.fif\n",
      "Closing C:\\Users\\dasha\\Documents\\Neurobiology_EEG\\VFT\\VFT1\\procested\\NW_PF\\NP112322.fif\n",
      "[done]\n",
      "Writing C:\\Users\\dasha\\Documents\\Neurobiology_EEG\\VFT\\VFT1\\procested\\PW_NW\\NP112322.fif\n",
      "Closing C:\\Users\\dasha\\Documents\\Neurobiology_EEG\\VFT\\VFT1\\procested\\PW_NW\\NP112322.fif\n",
      "[done]\n",
      "Overwriting existing file.\n",
      "Writing C:\\Users\\dasha\\Documents\\Neurobiology_EEG\\VFT\\VFT1\\procested\\PW_NW\\NP112322.fif\n",
      "Closing C:\\Users\\dasha\\Documents\\Neurobiology_EEG\\VFT\\VFT1\\procested\\PW_NW\\NP112322.fif\n",
      "[done]\n",
      "Writing C:\\Users\\dasha\\Documents\\Neurobiology_EEG\\VFT\\VFT1\\procested\\NW_PF\\NP122201_2.fif\n",
      "Closing C:\\Users\\dasha\\Documents\\Neurobiology_EEG\\VFT\\VFT1\\procested\\NW_PF\\NP122201_2.fif\n",
      "[done]\n",
      "Writing C:\\Users\\dasha\\Documents\\Neurobiology_EEG\\VFT\\VFT1\\procested\\PW_NW\\NP122201_2.fif\n"
     ]
    },
    {
     "name": "stderr",
     "output_type": "stream",
     "text": [
      "C:\\Users\\dasha\\AppData\\Local\\Temp\\ipykernel_9316\\352767205.py:2: RuntimeWarning: This filename (C:\\Users\\dasha\\Documents\\Neurobiology_EEG\\VFT\\VFT1\\procested\\NW_PF\\NP112322.fif) does not conform to MNE naming conventions. All raw files should end with raw.fif, raw_sss.fif, raw_tsss.fif, _meg.fif, _eeg.fif, _ieeg.fif, raw.fif.gz, raw_sss.fif.gz, raw_tsss.fif.gz, _meg.fif.gz, _eeg.fif.gz or _ieeg.fif.gz\n",
      "  NW_PF_list[i].save('procested/NW_PF/'+ID[i] + '.fif', overwrite=True)\n",
      "C:\\Users\\dasha\\AppData\\Local\\Temp\\ipykernel_9316\\352767205.py:3: RuntimeWarning: This filename (C:\\Users\\dasha\\Documents\\Neurobiology_EEG\\VFT\\VFT1\\procested\\PW_NW\\NP112322.fif) does not conform to MNE naming conventions. All raw files should end with raw.fif, raw_sss.fif, raw_tsss.fif, _meg.fif, _eeg.fif, _ieeg.fif, raw.fif.gz, raw_sss.fif.gz, raw_tsss.fif.gz, _meg.fif.gz, _eeg.fif.gz or _ieeg.fif.gz\n",
      "  PW_W_list[i].save('procested/PW_NW/'+ID[i] + '.fif', overwrite=True)\n",
      "C:\\Users\\dasha\\AppData\\Local\\Temp\\ipykernel_9316\\352767205.py:4: RuntimeWarning: This filename (C:\\Users\\dasha\\Documents\\Neurobiology_EEG\\VFT\\VFT1\\procested\\PW_NW\\NP112322.fif) does not conform to MNE naming conventions. All raw files should end with raw.fif, raw_sss.fif, raw_tsss.fif, _meg.fif, _eeg.fif, _ieeg.fif, raw.fif.gz, raw_sss.fif.gz, raw_tsss.fif.gz, _meg.fif.gz, _eeg.fif.gz or _ieeg.fif.gz\n",
      "  PW_NW_list[i].save('procested/PW_NW/'+ID[i] + '.fif', overwrite=True)\n",
      "C:\\Users\\dasha\\AppData\\Local\\Temp\\ipykernel_9316\\352767205.py:2: RuntimeWarning: This filename (C:\\Users\\dasha\\Documents\\Neurobiology_EEG\\VFT\\VFT1\\procested\\NW_PF\\NP122201_2.fif) does not conform to MNE naming conventions. All raw files should end with raw.fif, raw_sss.fif, raw_tsss.fif, _meg.fif, _eeg.fif, _ieeg.fif, raw.fif.gz, raw_sss.fif.gz, raw_tsss.fif.gz, _meg.fif.gz, _eeg.fif.gz or _ieeg.fif.gz\n",
      "  NW_PF_list[i].save('procested/NW_PF/'+ID[i] + '.fif', overwrite=True)\n",
      "C:\\Users\\dasha\\AppData\\Local\\Temp\\ipykernel_9316\\352767205.py:3: RuntimeWarning: This filename (C:\\Users\\dasha\\Documents\\Neurobiology_EEG\\VFT\\VFT1\\procested\\PW_NW\\NP122201_2.fif) does not conform to MNE naming conventions. All raw files should end with raw.fif, raw_sss.fif, raw_tsss.fif, _meg.fif, _eeg.fif, _ieeg.fif, raw.fif.gz, raw_sss.fif.gz, raw_tsss.fif.gz, _meg.fif.gz, _eeg.fif.gz or _ieeg.fif.gz\n",
      "  PW_W_list[i].save('procested/PW_NW/'+ID[i] + '.fif', overwrite=True)\n"
     ]
    },
    {
     "name": "stdout",
     "output_type": "stream",
     "text": [
      "Closing C:\\Users\\dasha\\Documents\\Neurobiology_EEG\\VFT\\VFT1\\procested\\PW_NW\\NP122201_2.fif\n",
      "[done]\n",
      "Overwriting existing file.\n",
      "Writing C:\\Users\\dasha\\Documents\\Neurobiology_EEG\\VFT\\VFT1\\procested\\PW_NW\\NP122201_2.fif\n",
      "Closing C:\\Users\\dasha\\Documents\\Neurobiology_EEG\\VFT\\VFT1\\procested\\PW_NW\\NP122201_2.fif\n",
      "[done]\n",
      "Writing C:\\Users\\dasha\\Documents\\Neurobiology_EEG\\VFT\\VFT1\\procested\\NW_PF\\NP122202_2.fif\n",
      "Closing C:\\Users\\dasha\\Documents\\Neurobiology_EEG\\VFT\\VFT1\\procested\\NW_PF\\NP122202_2.fif\n",
      "[done]\n",
      "Writing C:\\Users\\dasha\\Documents\\Neurobiology_EEG\\VFT\\VFT1\\procested\\PW_NW\\NP122202_2.fif\n",
      "Closing C:\\Users\\dasha\\Documents\\Neurobiology_EEG\\VFT\\VFT1\\procested\\PW_NW\\NP122202_2.fif\n",
      "[done]\n",
      "Overwriting existing file.\n",
      "Writing C:\\Users\\dasha\\Documents\\Neurobiology_EEG\\VFT\\VFT1\\procested\\PW_NW\\NP122202_2.fif\n",
      "Closing C:\\Users\\dasha\\Documents\\Neurobiology_EEG\\VFT\\VFT1\\procested\\PW_NW\\NP122202_2.fif\n",
      "[done]\n",
      "Writing C:\\Users\\dasha\\Documents\\Neurobiology_EEG\\VFT\\VFT1\\procested\\NW_PF\\NP122301.fif\n"
     ]
    },
    {
     "name": "stderr",
     "output_type": "stream",
     "text": [
      "C:\\Users\\dasha\\AppData\\Local\\Temp\\ipykernel_9316\\352767205.py:4: RuntimeWarning: This filename (C:\\Users\\dasha\\Documents\\Neurobiology_EEG\\VFT\\VFT1\\procested\\PW_NW\\NP122201_2.fif) does not conform to MNE naming conventions. All raw files should end with raw.fif, raw_sss.fif, raw_tsss.fif, _meg.fif, _eeg.fif, _ieeg.fif, raw.fif.gz, raw_sss.fif.gz, raw_tsss.fif.gz, _meg.fif.gz, _eeg.fif.gz or _ieeg.fif.gz\n",
      "  PW_NW_list[i].save('procested/PW_NW/'+ID[i] + '.fif', overwrite=True)\n",
      "C:\\Users\\dasha\\AppData\\Local\\Temp\\ipykernel_9316\\352767205.py:2: RuntimeWarning: This filename (C:\\Users\\dasha\\Documents\\Neurobiology_EEG\\VFT\\VFT1\\procested\\NW_PF\\NP122202_2.fif) does not conform to MNE naming conventions. All raw files should end with raw.fif, raw_sss.fif, raw_tsss.fif, _meg.fif, _eeg.fif, _ieeg.fif, raw.fif.gz, raw_sss.fif.gz, raw_tsss.fif.gz, _meg.fif.gz, _eeg.fif.gz or _ieeg.fif.gz\n",
      "  NW_PF_list[i].save('procested/NW_PF/'+ID[i] + '.fif', overwrite=True)\n",
      "C:\\Users\\dasha\\AppData\\Local\\Temp\\ipykernel_9316\\352767205.py:3: RuntimeWarning: This filename (C:\\Users\\dasha\\Documents\\Neurobiology_EEG\\VFT\\VFT1\\procested\\PW_NW\\NP122202_2.fif) does not conform to MNE naming conventions. All raw files should end with raw.fif, raw_sss.fif, raw_tsss.fif, _meg.fif, _eeg.fif, _ieeg.fif, raw.fif.gz, raw_sss.fif.gz, raw_tsss.fif.gz, _meg.fif.gz, _eeg.fif.gz or _ieeg.fif.gz\n",
      "  PW_W_list[i].save('procested/PW_NW/'+ID[i] + '.fif', overwrite=True)\n",
      "C:\\Users\\dasha\\AppData\\Local\\Temp\\ipykernel_9316\\352767205.py:4: RuntimeWarning: This filename (C:\\Users\\dasha\\Documents\\Neurobiology_EEG\\VFT\\VFT1\\procested\\PW_NW\\NP122202_2.fif) does not conform to MNE naming conventions. All raw files should end with raw.fif, raw_sss.fif, raw_tsss.fif, _meg.fif, _eeg.fif, _ieeg.fif, raw.fif.gz, raw_sss.fif.gz, raw_tsss.fif.gz, _meg.fif.gz, _eeg.fif.gz or _ieeg.fif.gz\n",
      "  PW_NW_list[i].save('procested/PW_NW/'+ID[i] + '.fif', overwrite=True)\n",
      "C:\\Users\\dasha\\AppData\\Local\\Temp\\ipykernel_9316\\352767205.py:2: RuntimeWarning: This filename (C:\\Users\\dasha\\Documents\\Neurobiology_EEG\\VFT\\VFT1\\procested\\NW_PF\\NP122301.fif) does not conform to MNE naming conventions. All raw files should end with raw.fif, raw_sss.fif, raw_tsss.fif, _meg.fif, _eeg.fif, _ieeg.fif, raw.fif.gz, raw_sss.fif.gz, raw_tsss.fif.gz, _meg.fif.gz, _eeg.fif.gz or _ieeg.fif.gz\n",
      "  NW_PF_list[i].save('procested/NW_PF/'+ID[i] + '.fif', overwrite=True)\n"
     ]
    },
    {
     "name": "stdout",
     "output_type": "stream",
     "text": [
      "Closing C:\\Users\\dasha\\Documents\\Neurobiology_EEG\\VFT\\VFT1\\procested\\NW_PF\\NP122301.fif\n",
      "[done]\n",
      "Writing C:\\Users\\dasha\\Documents\\Neurobiology_EEG\\VFT\\VFT1\\procested\\PW_NW\\NP122301.fif\n",
      "Closing C:\\Users\\dasha\\Documents\\Neurobiology_EEG\\VFT\\VFT1\\procested\\PW_NW\\NP122301.fif\n",
      "[done]\n",
      "Overwriting existing file.\n",
      "Writing C:\\Users\\dasha\\Documents\\Neurobiology_EEG\\VFT\\VFT1\\procested\\PW_NW\\NP122301.fif\n",
      "Closing C:\\Users\\dasha\\Documents\\Neurobiology_EEG\\VFT\\VFT1\\procested\\PW_NW\\NP122301.fif\n",
      "[done]\n",
      "Writing C:\\Users\\dasha\\Documents\\Neurobiology_EEG\\VFT\\VFT1\\procested\\NW_PF\\NP122302.fif\n",
      "Closing C:\\Users\\dasha\\Documents\\Neurobiology_EEG\\VFT\\VFT1\\procested\\NW_PF\\NP122302.fif\n",
      "[done]\n",
      "Writing C:\\Users\\dasha\\Documents\\Neurobiology_EEG\\VFT\\VFT1\\procested\\PW_NW\\NP122302.fif\n",
      "Closing C:\\Users\\dasha\\Documents\\Neurobiology_EEG\\VFT\\VFT1\\procested\\PW_NW\\NP122302.fif\n",
      "[done]\n",
      "Overwriting existing file.\n",
      "Writing C:\\Users\\dasha\\Documents\\Neurobiology_EEG\\VFT\\VFT1\\procested\\PW_NW\\NP122302.fif\n",
      "Closing C:\\Users\\dasha\\Documents\\Neurobiology_EEG\\VFT\\VFT1\\procested\\PW_NW\\NP122302.fif\n"
     ]
    },
    {
     "name": "stderr",
     "output_type": "stream",
     "text": [
      "C:\\Users\\dasha\\AppData\\Local\\Temp\\ipykernel_9316\\352767205.py:3: RuntimeWarning: This filename (C:\\Users\\dasha\\Documents\\Neurobiology_EEG\\VFT\\VFT1\\procested\\PW_NW\\NP122301.fif) does not conform to MNE naming conventions. All raw files should end with raw.fif, raw_sss.fif, raw_tsss.fif, _meg.fif, _eeg.fif, _ieeg.fif, raw.fif.gz, raw_sss.fif.gz, raw_tsss.fif.gz, _meg.fif.gz, _eeg.fif.gz or _ieeg.fif.gz\n",
      "  PW_W_list[i].save('procested/PW_NW/'+ID[i] + '.fif', overwrite=True)\n",
      "C:\\Users\\dasha\\AppData\\Local\\Temp\\ipykernel_9316\\352767205.py:4: RuntimeWarning: This filename (C:\\Users\\dasha\\Documents\\Neurobiology_EEG\\VFT\\VFT1\\procested\\PW_NW\\NP122301.fif) does not conform to MNE naming conventions. All raw files should end with raw.fif, raw_sss.fif, raw_tsss.fif, _meg.fif, _eeg.fif, _ieeg.fif, raw.fif.gz, raw_sss.fif.gz, raw_tsss.fif.gz, _meg.fif.gz, _eeg.fif.gz or _ieeg.fif.gz\n",
      "  PW_NW_list[i].save('procested/PW_NW/'+ID[i] + '.fif', overwrite=True)\n",
      "C:\\Users\\dasha\\AppData\\Local\\Temp\\ipykernel_9316\\352767205.py:2: RuntimeWarning: This filename (C:\\Users\\dasha\\Documents\\Neurobiology_EEG\\VFT\\VFT1\\procested\\NW_PF\\NP122302.fif) does not conform to MNE naming conventions. All raw files should end with raw.fif, raw_sss.fif, raw_tsss.fif, _meg.fif, _eeg.fif, _ieeg.fif, raw.fif.gz, raw_sss.fif.gz, raw_tsss.fif.gz, _meg.fif.gz, _eeg.fif.gz or _ieeg.fif.gz\n",
      "  NW_PF_list[i].save('procested/NW_PF/'+ID[i] + '.fif', overwrite=True)\n",
      "C:\\Users\\dasha\\AppData\\Local\\Temp\\ipykernel_9316\\352767205.py:3: RuntimeWarning: This filename (C:\\Users\\dasha\\Documents\\Neurobiology_EEG\\VFT\\VFT1\\procested\\PW_NW\\NP122302.fif) does not conform to MNE naming conventions. All raw files should end with raw.fif, raw_sss.fif, raw_tsss.fif, _meg.fif, _eeg.fif, _ieeg.fif, raw.fif.gz, raw_sss.fif.gz, raw_tsss.fif.gz, _meg.fif.gz, _eeg.fif.gz or _ieeg.fif.gz\n",
      "  PW_W_list[i].save('procested/PW_NW/'+ID[i] + '.fif', overwrite=True)\n",
      "C:\\Users\\dasha\\AppData\\Local\\Temp\\ipykernel_9316\\352767205.py:4: RuntimeWarning: This filename (C:\\Users\\dasha\\Documents\\Neurobiology_EEG\\VFT\\VFT1\\procested\\PW_NW\\NP122302.fif) does not conform to MNE naming conventions. All raw files should end with raw.fif, raw_sss.fif, raw_tsss.fif, _meg.fif, _eeg.fif, _ieeg.fif, raw.fif.gz, raw_sss.fif.gz, raw_tsss.fif.gz, _meg.fif.gz, _eeg.fif.gz or _ieeg.fif.gz\n",
      "  PW_NW_list[i].save('procested/PW_NW/'+ID[i] + '.fif', overwrite=True)\n"
     ]
    },
    {
     "name": "stdout",
     "output_type": "stream",
     "text": [
      "[done]\n",
      "Writing C:\\Users\\dasha\\Documents\\Neurobiology_EEG\\VFT\\VFT1\\procested\\NW_PF\\NP122303.fif\n",
      "Closing C:\\Users\\dasha\\Documents\\Neurobiology_EEG\\VFT\\VFT1\\procested\\NW_PF\\NP122303.fif\n",
      "[done]\n",
      "Writing C:\\Users\\dasha\\Documents\\Neurobiology_EEG\\VFT\\VFT1\\procested\\PW_NW\\NP122303.fif\n",
      "Closing C:\\Users\\dasha\\Documents\\Neurobiology_EEG\\VFT\\VFT1\\procested\\PW_NW\\NP122303.fif\n",
      "[done]\n",
      "Overwriting existing file.\n",
      "Writing C:\\Users\\dasha\\Documents\\Neurobiology_EEG\\VFT\\VFT1\\procested\\PW_NW\\NP122303.fif\n",
      "Closing C:\\Users\\dasha\\Documents\\Neurobiology_EEG\\VFT\\VFT1\\procested\\PW_NW\\NP122303.fif\n",
      "[done]\n"
     ]
    },
    {
     "name": "stderr",
     "output_type": "stream",
     "text": [
      "C:\\Users\\dasha\\AppData\\Local\\Temp\\ipykernel_9316\\352767205.py:2: RuntimeWarning: This filename (C:\\Users\\dasha\\Documents\\Neurobiology_EEG\\VFT\\VFT1\\procested\\NW_PF\\NP122303.fif) does not conform to MNE naming conventions. All raw files should end with raw.fif, raw_sss.fif, raw_tsss.fif, _meg.fif, _eeg.fif, _ieeg.fif, raw.fif.gz, raw_sss.fif.gz, raw_tsss.fif.gz, _meg.fif.gz, _eeg.fif.gz or _ieeg.fif.gz\n",
      "  NW_PF_list[i].save('procested/NW_PF/'+ID[i] + '.fif', overwrite=True)\n",
      "C:\\Users\\dasha\\AppData\\Local\\Temp\\ipykernel_9316\\352767205.py:3: RuntimeWarning: This filename (C:\\Users\\dasha\\Documents\\Neurobiology_EEG\\VFT\\VFT1\\procested\\PW_NW\\NP122303.fif) does not conform to MNE naming conventions. All raw files should end with raw.fif, raw_sss.fif, raw_tsss.fif, _meg.fif, _eeg.fif, _ieeg.fif, raw.fif.gz, raw_sss.fif.gz, raw_tsss.fif.gz, _meg.fif.gz, _eeg.fif.gz or _ieeg.fif.gz\n",
      "  PW_W_list[i].save('procested/PW_NW/'+ID[i] + '.fif', overwrite=True)\n",
      "C:\\Users\\dasha\\AppData\\Local\\Temp\\ipykernel_9316\\352767205.py:4: RuntimeWarning: This filename (C:\\Users\\dasha\\Documents\\Neurobiology_EEG\\VFT\\VFT1\\procested\\PW_NW\\NP122303.fif) does not conform to MNE naming conventions. All raw files should end with raw.fif, raw_sss.fif, raw_tsss.fif, _meg.fif, _eeg.fif, _ieeg.fif, raw.fif.gz, raw_sss.fif.gz, raw_tsss.fif.gz, _meg.fif.gz, _eeg.fif.gz or _ieeg.fif.gz\n",
      "  PW_NW_list[i].save('procested/PW_NW/'+ID[i] + '.fif', overwrite=True)\n"
     ]
    }
   ],
   "source": [
    "for i in range (len(ID)):\n",
    "    NW_PF_list[i].save('procested/NW_PF/'+ID[i] + '.fif', overwrite=True)\n",
    "    PW_W_list[i].save('procested/PW_NW/'+ID[i] + '.fif', overwrite=True)\n",
    "    PW_NW_list[i].save('procested/PW_NW/'+ID[i] + '.fif', overwrite=True)"
   ]
  },
  {
   "cell_type": "code",
   "execution_count": 73,
   "id": "e3560c2a",
   "metadata": {},
   "outputs": [],
   "source": [
    "def z_spectrum(psd, noise_n_neighborfreqs=1, noise_skip_neighborfreqs=1):\n",
    "    \"\"\"\n",
    "    Parameters\n",
    "    ----------\n",
    "    psd - np.array\n",
    "        containing psd values as spit out by mne functions. must be 2d or 3d\n",
    "        with frequencies in the last dimension\n",
    "    noise_n_neighborfreqs - int\n",
    "        number of neighboring frequencies used to compute noise level.\n",
    "        increment by one to add one frequency bin ON BOTH SIDES\n",
    "    noise_skip_neighborfreqs - int\n",
    "        set this >=1 if you want to exclude the immediately neighboring\n",
    "        frequency bins in noise level calculation\n",
    "\n",
    "    Returns\n",
    "    -------\n",
    "    snr - np.array\n",
    "        array containing snr for all epochs, channels, frequency bins.\n",
    "        NaN for frequencies on the edge, that do not have enoug neighbors on\n",
    "        one side to calculate snr\n",
    "    \"\"\"\n",
    "\n",
    "    # prep not epoched / single channel data\n",
    "    is_2d = True if (len(psd.shape) == 2) else False\n",
    "    if is_2d:\n",
    "        psd = psd.reshape((1, psd.shape[0], psd.shape[1]))\n",
    "\n",
    "    # SNR loop\n",
    "    z_scr = np.empty(psd.shape)\n",
    "    for i_freq in range(psd.shape[2]):\n",
    "\n",
    "        # skip freqs on the edges (without noise neighbors)\n",
    "\n",
    "        start_freq_i = noise_n_neighborfreqs + noise_skip_neighborfreqs\n",
    "        stop_freq_i = (psd.shape[2] - noise_n_neighborfreqs\n",
    "                       - noise_skip_neighborfreqs)\n",
    "        if not (stop_freq_i > i_freq >= start_freq_i):\n",
    "            z_scr[:, :, i_freq] = np.nan\n",
    "            continue\n",
    "\n",
    "        # extract signal level\n",
    "        signal = psd[:, :, i_freq]\n",
    "\n",
    "        # ... and average noise level\n",
    "        i_noise = []\n",
    "        for i in range(noise_n_neighborfreqs):\n",
    "            i_noise.append(i_freq + noise_skip_neighborfreqs + i + 1)\n",
    "            i_noise.append(i_freq - noise_skip_neighborfreqs - i - 1)\n",
    "        noise_mean = psd[:, :, i_noise].mean(axis=2)\n",
    "        noise_std = psd[:, :, i_noise].std(axis=2)\n",
    "\n",
    "        z_scr[:, :, i_freq] = (signal - noise_mean) / noise_std\n",
    "\n",
    "    # reshape not epoched / single channel data to original dimensions\n",
    "    if is_2d:\n",
    "        z_scr = z_scr.reshape(z_scr.shape[1], z_scr.shape[2])\n",
    "\n",
    "    return z_scr"
   ]
  },
  {
   "cell_type": "code",
   "execution_count": 74,
   "id": "10b8e59a",
   "metadata": {},
   "outputs": [],
   "source": [
    "def snr_spectrum(psd, noise_n_neighborfreqs=1, noise_skip_neighborfreqs=1):\n",
    "    \"\"\"\n",
    "    Parameters\n",
    "    ----------\n",
    "    psd - np.array\n",
    "        containing psd values as spit out by mne functions. must be 2d or 3d\n",
    "        with frequencies in the last dimension\n",
    "    noise_n_neighborfreqs - int\n",
    "        number of neighboring frequencies used to compute noise level.\n",
    "        increment by one to add one frequency bin ON BOTH SIDES\n",
    "    noise_skip_neighborfreqs - int\n",
    "        set this >=1 if you want to exclude the immediately neighboring\n",
    "        frequency bins in noise level calculation\n",
    "\n",
    "    Returns\n",
    "    -------\n",
    "    snr - np.array\n",
    "        array containing snr for all epochs, channels, frequency bins.\n",
    "        NaN for frequencies on the edge, that do not have enoug neighbors on\n",
    "        one side to calculate snr\n",
    "    \"\"\"\n",
    "\n",
    "    # prep not epoched / single channel data\n",
    "    is_2d = True if (len(psd.shape) == 2) else False\n",
    "    if is_2d:\n",
    "        psd = psd.reshape((1, psd.shape[0], psd.shape[1]))\n",
    "\n",
    "    # SNR loop\n",
    "    snr = np.empty(psd.shape)\n",
    "    for i_freq in range(psd.shape[2]):\n",
    "\n",
    "        # skip freqs on the edges (without noise neighbors)\n",
    "\n",
    "        start_freq_i = noise_n_neighborfreqs + noise_skip_neighborfreqs\n",
    "        stop_freq_i = (psd.shape[2] - noise_n_neighborfreqs\n",
    "                       - noise_skip_neighborfreqs)\n",
    "        if not (stop_freq_i > i_freq >= start_freq_i):\n",
    "            snr[:, :, i_freq] = np.nan\n",
    "            continue\n",
    "\n",
    "        # extract signal level\n",
    "        signal = psd[:, :, i_freq]\n",
    "\n",
    "        # ... and average noise level\n",
    "        i_noise = []\n",
    "        for i in range(noise_n_neighborfreqs):\n",
    "            i_noise.append(i_freq + noise_skip_neighborfreqs + i + 1)\n",
    "            i_noise.append(i_freq - noise_skip_neighborfreqs - i - 1)\n",
    "        noise = psd[:, :, i_noise].mean(axis=2)\n",
    "\n",
    "        snr[:, :, i_freq] = signal / noise\n",
    "\n",
    "    # reshape not epoched / single channel data to original dimensions\n",
    "    if is_2d:\n",
    "        snr = snr.reshape(snr.shape[1], snr.shape[2])\n",
    "\n",
    "    return snr"
   ]
  },
  {
   "cell_type": "code",
   "execution_count": 75,
   "id": "b6edc36a",
   "metadata": {},
   "outputs": [],
   "source": [
    "def bas_cor(psd, noise_n_neighborfreqs=1, noise_skip_neighborfreqs=1):\n",
    "    \"\"\"\n",
    "    Parameters\n",
    "    ----------\n",
    "    psd - np.array\n",
    "        containing psd values as spit out by mne functions. must be 2d or 3d\n",
    "        with frequencies in the last dimension\n",
    "    noise_n_neighborfreqs - int\n",
    "        number of neighboring frequencies used to compute noise level.\n",
    "        increment by one to add one frequency bin ON BOTH SIDES\n",
    "    noise_skip_neighborfreqs - int\n",
    "        set this >=1 if you want to exclude the immediately neighboring\n",
    "        frequency bins in noise level calculation\n",
    "\n",
    "    Returns\n",
    "    -------\n",
    "    snr - np.array\n",
    "        array containing snr for all epochs, channels, frequency bins.\n",
    "        NaN for frequencies on the edge, that do not have enoug neighbors on\n",
    "        one side to calculate snr\n",
    "    \"\"\"\n",
    "\n",
    "    # prep not epoched / single channel data\n",
    "    is_2d = True if (len(psd.shape) == 2) else False\n",
    "    if is_2d:\n",
    "        psd = psd.reshape((1, psd.shape[0], psd.shape[1]))\n",
    "\n",
    "    # SNR loop\n",
    "    bas_cor_spect = np.empty(psd.shape)\n",
    "    for i_freq in range(psd.shape[2]):\n",
    "\n",
    "        # skip freqs on the edges (without noise neighbors)\n",
    "\n",
    "        start_freq_i = noise_n_neighborfreqs + noise_skip_neighborfreqs\n",
    "        stop_freq_i = (psd.shape[2] - noise_n_neighborfreqs\n",
    "                       - noise_skip_neighborfreqs)\n",
    "        if not (stop_freq_i > i_freq >= start_freq_i):\n",
    "            bas_cor_spect[:, :, i_freq] = np.nan\n",
    "            continue\n",
    "\n",
    "        # extract signal level\n",
    "        signal = psd[:, :, i_freq]\n",
    "\n",
    "        # ... and average noise level\n",
    "        i_noise = []\n",
    "        for i in range(noise_n_neighborfreqs):\n",
    "            i_noise.append(i_freq + noise_skip_neighborfreqs + i + 1)\n",
    "            i_noise.append(i_freq - noise_skip_neighborfreqs - i - 1)\n",
    "        noise_mean = psd[:, :, i_noise].mean(axis=2)\n",
    "        noise_std = psd[:, :, i_noise].std(axis=2)\n",
    "\n",
    "        bas_cor_spect[:, :, i_freq] = signal - noise_mean\n",
    "\n",
    "    # reshape not epoched / single channel data to original dimensions\n",
    "    if is_2d:\n",
    "        bas_cor_spect = bas_cor_spect.reshape(bas_cor_spect.shape[1], bas_cor_spect.shape[2])\n",
    "\n",
    "    return bas_cor_spect"
   ]
  },
  {
   "cell_type": "code",
   "execution_count": 77,
   "id": "8ddac0a8",
   "metadata": {},
   "outputs": [
    {
     "name": "stdout",
     "output_type": "stream",
     "text": [
      "1 from 59 done\n",
      "2 from 59 done\n",
      "3 from 59 done\n",
      "4 from 59 done\n",
      "5 from 59 done\n",
      "6 from 59 done\n",
      "7 from 59 done\n",
      "8 from 59 done\n",
      "9 from 59 done\n",
      "10 from 59 done\n",
      "11 from 59 done\n",
      "12 from 59 done\n",
      "13 from 59 done\n",
      "14 from 59 done\n",
      "15 from 59 done\n",
      "16 from 59 done\n",
      "17 from 59 done\n",
      "18 from 59 done\n",
      "19 from 59 done\n",
      "20 from 59 done\n",
      "21 from 59 done\n",
      "22 from 59 done\n",
      "23 from 59 done\n",
      "24 from 59 done\n",
      "25 from 59 done\n",
      "26 from 59 done\n",
      "27 from 59 done\n",
      "28 from 59 done\n",
      "29 from 59 done\n",
      "30 from 59 done\n",
      "31 from 59 done\n",
      "32 from 59 done\n",
      "33 from 59 done\n",
      "34 from 59 done\n",
      "35 from 59 done\n",
      "36 from 59 done\n",
      "37 from 59 done\n",
      "38 from 59 done\n",
      "39 from 59 done\n",
      "40 from 59 done\n",
      "41 from 59 done\n",
      "42 from 59 done\n",
      "43 from 59 done\n",
      "44 from 59 done\n",
      "45 from 59 done\n",
      "46 from 59 done\n",
      "47 from 59 done\n",
      "48 from 59 done\n",
      "49 from 59 done\n",
      "50 from 59 done\n",
      "51 from 59 done\n",
      "52 from 59 done\n",
      "53 from 59 done\n",
      "54 from 59 done\n",
      "55 from 59 done\n",
      "56 from 59 done\n",
      "57 from 59 done\n",
      "58 from 59 done\n",
      "59 from 59 done\n"
     ]
    }
   ],
   "source": [
    "tmin = 0\n",
    "tmax = 120.\n",
    "fmin = 0.1\n",
    "fmax = 100.\n",
    "sfreq = 500\n",
    "psds_list = []\n",
    "freqs_list = []\n",
    "snrs_list = []\n",
    "zscrs_list = []\n",
    "amp_cor_list = []\n",
    "\n",
    "for i in range (0, len(EEG)):\n",
    "    data=NW_PF_list[i].get_data(units='uV')\n",
    "    fs = 500\n",
    "    fft_vals = np.absolute(np.fft.rfft(data))/(len(data[0])/2)\n",
    "    fft_freq = np.fft.rfftfreq(len(data[0]), 1.0/fs)\n",
    "\n",
    "    psds_list.append(fft_vals)\n",
    "    freqs_list.append(fft_freq)\n",
    "\n",
    "    snrs = snr_spectrum(fft_vals, 10, 1)\n",
    "    snrs_list.append(snrs)  \n",
    "    zscrs = z_spectrum(fft_vals, 10, 1)\n",
    "    zscrs_list.append(zscrs)\n",
    "    bc = bas_cor(fft_vals, 10, 1)\n",
    "    amp_cor_list.append(bc) \n",
    "    print(f'{i+1} from {len(EEG)} done')\n",
    "    \n",
    "av_psds = np.mean(psds_list, axis=0)\n",
    "av_freqs = np.mean(freqs_list, axis=0)\n",
    "av_snrs = np.mean(snrs_list, axis=0)   \n",
    "av_zscrs = np.mean(zscrs_list, axis=0) \n",
    "av_cors = np.mean(amp_cor_list, axis=0) "
   ]
  },
  {
   "cell_type": "code",
   "execution_count": 78,
   "id": "ad736a33",
   "metadata": {},
   "outputs": [
    {
     "name": "stderr",
     "output_type": "stream",
     "text": [
      "C:\\Users\\dasha\\AppData\\Local\\Temp\\ipykernel_9316\\2963532744.py:2: RuntimeWarning: More than 20 figures have been opened. Figures created through the pyplot interface (`matplotlib.pyplot.figure`) are retained until explicitly closed and may consume too much memory. (To control this warning, see the rcParam `figure.max_open_warning`). Consider using `matplotlib.pyplot.close()`.\n",
      "  fig, axes = plt.subplots(2, 1, sharex='all', sharey='none', figsize=(18, 10))\n"
     ]
    }
   ],
   "source": [
    "for i in range (len(ID)):\n",
    "    fig, axes = plt.subplots(2, 1, sharex='all', sharey='none', figsize=(18, 10))\n",
    "    freq_range = range(np.where(np.floor(av_freqs) == 1.)[0][0],\n",
    "                   np.where(np.ceil(av_freqs) == fmax - 1)[0][0])\n",
    "\n",
    "    psds_plot = psds_list[i]\n",
    "    psds_mean = psds_plot.mean(axis=(0))[freq_range]\n",
    "    psds_std = psds_plot.std(axis=(0))[freq_range]\n",
    "    axes[0].plot(av_freqs[freq_range], psds_mean, color='C3', linewidth=3)\n",
    "    axes[0].fill_between(\n",
    "        av_freqs[freq_range], psds_mean - psds_std, psds_mean + psds_std,\n",
    "        color='C3', alpha=.2)\n",
    "    axes[0].set(title=\"Amplitude spectrum\", ylabel='Amplitude [mV]')\n",
    "\n",
    "# SNR spectrum\n",
    "    snr_mean = snrs_list[i].mean(axis=(0))[freq_range]\n",
    "    snr_std = snrs_list[i].std(axis=(0))[freq_range]\n",
    "\n",
    "    axes[1].plot(av_freqs[freq_range], snr_mean, color='C4',linewidth=3)\n",
    "    axes[1].fill_between(\n",
    "        av_freqs[freq_range], snr_mean - snr_std, snr_mean + snr_std,\n",
    "        color='C5', alpha=.2)\n",
    "    axes[1].set(\n",
    "        title=\"SNR spectrum\", xlabel='Frequency [Hz]',\n",
    "        ylabel='SNR', ylim=[0.8, 5], xlim=[fmin, 25])\n",
    "\n",
    "    axes[0].axvspan(1.2-0.03, 1.2+0.03, alpha=0.2, color ='orchid')\n",
    "    axes[0].axvspan(1.2*2-0.03, 1.2*2+0.03, alpha=0.2, color ='orchid')\n",
    "    axes[0].axvspan(1.2*3-0.03, 1.2*3+0.03, alpha=0.2, color ='orchid')\n",
    "    axes[0].axvspan(1.2*4-0.03, 1.2*4+0.03, alpha=0.2, color ='orchid')\n",
    "    axes[0].axvspan(6-0.03, 6+0.03, alpha=0.2, color ='darkblue')\n",
    "    axes[0].axvspan(6*2-0.03, 6*2+0.03, alpha=0.2, color ='darkblue')\n",
    "    axes[0].axvspan(6*3-0.03, 6*3+0.03, alpha=0.2, color ='darkblue')\n",
    "    axes[0].axvspan(6*4-0.03, 6*4+0.03, alpha=0.2, color ='darkblue')\n",
    "\n",
    "    axes[1].axvspan(1.2-0.03, 1.2+0.03, ymin=0, ymax=5, alpha=0.2, color ='orchid')\n",
    "    axes[1].axvspan(1.2*2-0.03, 1.2*2+0.03, ymin=0, ymax=5, alpha=0.2, color ='orchid')\n",
    "    axes[1].axvspan(1.2*3-0.03, 1.2*3+0.03, ymin=0, ymax=5, alpha=0.2, color ='orchid')\n",
    "    axes[1].axvspan(1.2*4-0.03, 1.2*4+0.03, ymin=0, ymax=5, alpha=0.2, color ='orchid')\n",
    "    axes[1].axvspan(6-0.03, 6+0.03, ymin=0, ymax=5, alpha=0.2, color ='darkblue')\n",
    "    axes[1].axvspan(6*2-0.03, 6*2+0.03, ymin=0, ymax=5, alpha=0.2, color ='darkblue')\n",
    "    axes[1].axvspan(6*3-0.03, 6*3+0.03, ymin=0, ymax=5, alpha=0.2, color ='darkblue')\n",
    "    axes[1].axvspan(6*4-0.03, 6*4+0.03, ymin=0, ymax=5, alpha=0.2, color ='darkblue')\n",
    "    fig.suptitle(f'{ID[i]}_NW_PF', fontsize=16)#В ковычках можем прописать заголовок\n",
    "    fig.show()\n",
    "    fig.savefig(f'individual{ID[i]}_NW_PF.png')"
   ]
  },
  {
   "cell_type": "code",
   "execution_count": 79,
   "id": "51463aab",
   "metadata": {},
   "outputs": [],
   "source": [
    "from numpy import save\n",
    "from numpy import load"
   ]
  },
  {
   "cell_type": "code",
   "execution_count": 80,
   "id": "cd374caf",
   "metadata": {},
   "outputs": [
    {
     "name": "stdout",
     "output_type": "stream",
     "text": [
      "done\n",
      "done\n",
      "done\n",
      "done\n",
      "done\n"
     ]
    }
   ],
   "source": [
    "np.concatenate(psds_list, axis=0)\n",
    "save('NW_PF_psds.npy', psds_list)\n",
    "print('done')\n",
    "np.concatenate(freqs_list, axis=0)\n",
    "save('NW_PF_freqs.npy', freqs_list)\n",
    "print('done')\n",
    "np.concatenate(snrs_list, axis=0)\n",
    "save('NW_PF_snrs.npy', snrs_list)\n",
    "print('done')\n",
    "np.concatenate(zscrs_list, axis=0)\n",
    "save('NW_PF_zscrs.npy', zscrs_list)\n",
    "print('done')\n",
    "np.concatenate(amp_cor_list, axis=0)\n",
    "save('NW_PF_amp_cor.npy', amp_cor_list)\n",
    "print('done')"
   ]
  },
  {
   "cell_type": "code",
   "execution_count": 81,
   "id": "dbff0532",
   "metadata": {},
   "outputs": [
    {
     "name": "stdout",
     "output_type": "stream",
     "text": [
      "6Hz (1f) sig chan:['O2', 'O1', 'P8', 'P4', 'P7', 'C3', 'P3', 'CP5', 'F3', 'FC6', 'FC1', 'FC2', 'CP1', 'Fz', 'TP10', 'C4']\n",
      "12Hz (2f) sig chan:['O2', 'O1']\n",
      "18Hz (3f) sig chan:[]\n",
      "24Hz (4f) sig chan:[]\n",
      "30Hz (5f) sig chan:[]\n",
      "36Hz (6f) sig chan:[]\n",
      "42Hz (7f) sig chan:[]\n",
      "48Hz (8f) sig chan:[]\n",
      "54Hz (9f) sig chan:[]\n"
     ]
    }
   ],
   "source": [
    "frq=[6,12,18,24,30,36,42,48,54]\n",
    "for f in frq:\n",
    "    frq_ind=np.argmin(abs(av_freqs - f))\n",
    "    t_snrs = av_zscrs[ :, frq_ind]\n",
    "    mask=np.copy(t_snrs)\n",
    "    n_s=len(np.asarray(t_snrs>1.64).nonzero()[0])\n",
    "    np.place(mask, mask<1.64, [0])\n",
    "    ind = (-mask).argsort()[:n_s]\n",
    "    ch_sort=[EEG[0].ch_names[i] for i in ind]\n",
    "    print(f'{f}Hz ({int(f/6)}f) sig chan:{ch_sort}')"
   ]
  },
  {
   "cell_type": "code",
   "execution_count": 82,
   "id": "7e0200bf",
   "metadata": {},
   "outputs": [
    {
     "name": "stdout",
     "output_type": "stream",
     "text": [
      "1.2Hz (1f/5) sig chan:['P8', 'P7', 'O1', 'TP10', 'O2']\n",
      "2.4Hz (2f/5) sig chan:[]\n",
      "3.6Hz (3f/5) sig chan:[]\n",
      "4.8Hz (4f/5) sig chan:[]\n",
      "6.0Hz (5f/5) sig chan:['O2', 'O1', 'P8', 'P4', 'P7', 'C3', 'P3', 'CP5', 'F3', 'FC6', 'FC1', 'FC2', 'CP1', 'Fz', 'TP10', 'C4']\n",
      "7.2Hz (6f/5) sig chan:[]\n",
      "8.4Hz (7f/5) sig chan:[]\n",
      "9.6Hz (8f/5) sig chan:[]\n",
      "10.8Hz (9f/5) sig chan:[]\n"
     ]
    }
   ],
   "source": [
    "frq=[1.2,2.4,3.6,4.8,6.0,7.2,8.4,9.6,10.8]\n",
    "for f in frq:\n",
    "    frq_ind=np.argmin(abs(av_freqs - f))\n",
    "    t_snrs = av_zscrs[ :, frq_ind]\n",
    "    mask=np.copy(t_snrs)\n",
    "    n_s=len(np.asarray(t_snrs>1.64).nonzero()[0])\n",
    "    np.place(mask, mask<1.64, [0])\n",
    "    ind = (-mask).argsort()[:n_s]\n",
    "    ch_sort=[EEG[0].ch_names[i] for i in ind]\n",
    "    print(f'{f}Hz ({int(f/1.2)}f/5) sig chan:{ch_sort}')"
   ]
  },
  {
   "cell_type": "code",
   "execution_count": 87,
   "id": "cb1d57bc",
   "metadata": {},
   "outputs": [
    {
     "name": "stdout",
     "output_type": "stream",
     "text": [
      "1 from 59 done\n",
      "2 from 59 done\n",
      "3 from 59 done\n",
      "4 from 59 done\n",
      "5 from 59 done\n",
      "6 from 59 done\n",
      "7 from 59 done\n",
      "8 from 59 done\n",
      "9 from 59 done\n",
      "10 from 59 done\n",
      "11 from 59 done\n",
      "12 from 59 done\n",
      "13 from 59 done\n",
      "14 from 59 done\n",
      "15 from 59 done\n",
      "16 from 59 done\n",
      "17 from 59 done\n",
      "18 from 59 done\n",
      "19 from 59 done\n",
      "20 from 59 done\n",
      "21 from 59 done\n",
      "22 from 59 done\n",
      "23 from 59 done\n",
      "24 from 59 done\n",
      "25 from 59 done\n",
      "26 from 59 done\n",
      "27 from 59 done\n",
      "28 from 59 done\n",
      "29 from 59 done\n",
      "30 from 59 done\n",
      "31 from 59 done\n",
      "32 from 59 done\n",
      "33 from 59 done\n",
      "34 from 59 done\n",
      "35 from 59 done\n",
      "36 from 59 done\n",
      "37 from 59 done\n",
      "38 from 59 done\n",
      "39 from 59 done\n",
      "40 from 59 done\n",
      "41 from 59 done\n",
      "42 from 59 done\n",
      "43 from 59 done\n",
      "44 from 59 done\n",
      "45 from 59 done\n",
      "46 from 59 done\n",
      "47 from 59 done\n",
      "48 from 59 done\n",
      "49 from 59 done\n",
      "50 from 59 done\n",
      "51 from 59 done\n",
      "52 from 59 done\n",
      "53 from 59 done\n",
      "54 from 59 done\n",
      "55 from 59 done\n",
      "56 from 59 done\n",
      "57 from 59 done\n",
      "58 from 59 done\n",
      "59 from 59 done\n"
     ]
    }
   ],
   "source": [
    "tmin = 0\n",
    "tmax = 120.\n",
    "fmin = 0.1\n",
    "fmax = 100.\n",
    "sfreq = 500\n",
    "psds_list = []\n",
    "freqs_list = []\n",
    "snrs_list = []\n",
    "zscrs_list = []\n",
    "amp_cor_list = []\n",
    "\n",
    "for i in range (0, len(EEG)):\n",
    "    data=PW_NW_list[i].get_data(units='uV')\n",
    "    fs = 500\n",
    "    fft_vals = np.absolute(np.fft.rfft(data))/(len(data[0])/2)\n",
    "    fft_freq = np.fft.rfftfreq(len(data[0]), 1.0/fs)\n",
    "\n",
    "    psds_list.append(fft_vals)\n",
    "    freqs_list.append(fft_freq)\n",
    "\n",
    "    snrs = snr_spectrum(fft_vals, 10, 1)\n",
    "    snrs_list.append(snrs)  \n",
    "    zscrs = z_spectrum(fft_vals, 10, 1)\n",
    "    zscrs_list.append(zscrs)\n",
    "    bc = bas_cor(fft_vals, 10, 1)\n",
    "    amp_cor_list.append(bc) \n",
    "    print(f'{i+1} from {len(EEG)} done')\n",
    "    \n",
    "av_psds = np.mean(psds_list, axis=0)\n",
    "av_freqs = np.mean(freqs_list, axis=0)\n",
    "av_snrs = np.mean(snrs_list, axis=0)   \n",
    "av_zscrs = np.mean(zscrs_list, axis=0) \n",
    "av_cors = np.mean(amp_cor_list, axis=0) "
   ]
  },
  {
   "cell_type": "code",
   "execution_count": 88,
   "id": "57aeb45f",
   "metadata": {},
   "outputs": [
    {
     "name": "stderr",
     "output_type": "stream",
     "text": [
      "C:\\Users\\dasha\\AppData\\Local\\Temp\\ipykernel_9316\\3719776249.py:2: RuntimeWarning: More than 20 figures have been opened. Figures created through the pyplot interface (`matplotlib.pyplot.figure`) are retained until explicitly closed and may consume too much memory. (To control this warning, see the rcParam `figure.max_open_warning`). Consider using `matplotlib.pyplot.close()`.\n",
      "  fig, axes = plt.subplots(2, 1, sharex='all', sharey='none', figsize=(18, 10))\n"
     ]
    }
   ],
   "source": [
    "for i in range (len(ID)):\n",
    "    fig, axes = plt.subplots(2, 1, sharex='all', sharey='none', figsize=(18, 10))\n",
    "    freq_range = range(np.where(np.floor(av_freqs) == 1.)[0][0],\n",
    "                   np.where(np.ceil(av_freqs) == fmax - 1)[0][0])\n",
    "\n",
    "    psds_plot = psds_list[i]\n",
    "    psds_mean = psds_plot.mean(axis=(0))[freq_range]\n",
    "    psds_std = psds_plot.std(axis=(0))[freq_range]\n",
    "    axes[0].plot(av_freqs[freq_range], psds_mean, color='C3', linewidth=3)\n",
    "    axes[0].fill_between(\n",
    "        av_freqs[freq_range], psds_mean - psds_std, psds_mean + psds_std,\n",
    "        color='C3', alpha=.2)\n",
    "    axes[0].set(title=\"Amplitude spectrum\", ylabel='Amplitude [mV]')\n",
    "\n",
    "# SNR spectrum\n",
    "    snr_mean = snrs_list[i].mean(axis=(0))[freq_range]\n",
    "    snr_std = snrs_list[i].std(axis=(0))[freq_range]\n",
    "\n",
    "    axes[1].plot(av_freqs[freq_range], snr_mean, color='C4',linewidth=3)\n",
    "    axes[1].fill_between(\n",
    "        av_freqs[freq_range], snr_mean - snr_std, snr_mean + snr_std,\n",
    "        color='C5', alpha=.2)\n",
    "    axes[1].set(\n",
    "        title=\"SNR spectrum\", xlabel='Frequency [Hz]',\n",
    "        ylabel='SNR', ylim=[0.8, 5], xlim=[fmin, 25])\n",
    "\n",
    "    axes[0].axvspan(1.2-0.03, 1.2+0.03, alpha=0.2, color ='orchid')\n",
    "    axes[0].axvspan(1.2*2-0.03, 1.2*2+0.03, alpha=0.2, color ='orchid')\n",
    "    axes[0].axvspan(1.2*3-0.03, 1.2*3+0.03, alpha=0.2, color ='orchid')\n",
    "    axes[0].axvspan(1.2*4-0.03, 1.2*4+0.03, alpha=0.2, color ='orchid')\n",
    "    axes[0].axvspan(6-0.03, 6+0.03, alpha=0.2, color ='darkblue')\n",
    "    axes[0].axvspan(6*2-0.03, 6*2+0.03, alpha=0.2, color ='darkblue')\n",
    "    axes[0].axvspan(6*3-0.03, 6*3+0.03, alpha=0.2, color ='darkblue')\n",
    "    axes[0].axvspan(6*4-0.03, 6*4+0.03, alpha=0.2, color ='darkblue')\n",
    "\n",
    "    axes[1].axvspan(1.2-0.03, 1.2+0.03, ymin=0, ymax=5, alpha=0.2, color ='orchid')\n",
    "    axes[1].axvspan(1.2*2-0.03, 1.2*2+0.03, ymin=0, ymax=5, alpha=0.2, color ='orchid')\n",
    "    axes[1].axvspan(1.2*3-0.03, 1.2*3+0.03, ymin=0, ymax=5, alpha=0.2, color ='orchid')\n",
    "    axes[1].axvspan(1.2*4-0.03, 1.2*4+0.03, ymin=0, ymax=5, alpha=0.2, color ='orchid')\n",
    "    axes[1].axvspan(6-0.03, 6+0.03, ymin=0, ymax=5, alpha=0.2, color ='darkblue')\n",
    "    axes[1].axvspan(6*2-0.03, 6*2+0.03, ymin=0, ymax=5, alpha=0.2, color ='darkblue')\n",
    "    axes[1].axvspan(6*3-0.03, 6*3+0.03, ymin=0, ymax=5, alpha=0.2, color ='darkblue')\n",
    "    axes[1].axvspan(6*4-0.03, 6*4+0.03, ymin=0, ymax=5, alpha=0.2, color ='darkblue')\n",
    "    fig.suptitle(f'{ID[i]}_PW_NW', fontsize=16)#В ковычках можем прописать заголовок\n",
    "    fig.show()\n",
    "    fig.savefig(f'individual{ID[i]}_PW_NW.png')"
   ]
  },
  {
   "cell_type": "code",
   "execution_count": 89,
   "id": "969deffe",
   "metadata": {},
   "outputs": [
    {
     "name": "stdout",
     "output_type": "stream",
     "text": [
      "done\n",
      "done\n",
      "done\n",
      "done\n",
      "done\n"
     ]
    }
   ],
   "source": [
    "np.concatenate(psds_list, axis=0)\n",
    "save('PW_NW_psds.npy', psds_list)\n",
    "print('done')\n",
    "np.concatenate(freqs_list, axis=0)\n",
    "save('PW_NW_freqs.npy', freqs_list)\n",
    "print('done')\n",
    "np.concatenate(snrs_list, axis=0)\n",
    "save('PW_NW_snrs.npy', snrs_list)\n",
    "print('done')\n",
    "np.concatenate(zscrs_list, axis=0)\n",
    "save('PW_NW_zscrs.npy', zscrs_list)\n",
    "print('done')\n",
    "np.concatenate(amp_cor_list, axis=0)\n",
    "save('PW_NW_amp_cor.npy', amp_cor_list)\n",
    "print('done')"
   ]
  },
  {
   "cell_type": "code",
   "execution_count": 90,
   "id": "08ea7ed9",
   "metadata": {},
   "outputs": [
    {
     "name": "stdout",
     "output_type": "stream",
     "text": [
      "6Hz (1f) sig chan:['O1', 'O2', 'P8', 'P7', 'C3', 'TP10', 'FC2', 'P4', 'CP1', 'FC1', 'Cz', 'FC6', 'C4', 'F4', 'Fz', 'P3', 'CP5', 'FC5', 'F3', 'CP2', 'TP9']\n",
      "12Hz (2f) sig chan:['O2', 'O1']\n",
      "18Hz (3f) sig chan:['O2']\n",
      "24Hz (4f) sig chan:[]\n",
      "30Hz (5f) sig chan:[]\n",
      "36Hz (6f) sig chan:[]\n",
      "42Hz (7f) sig chan:[]\n",
      "48Hz (8f) sig chan:[]\n",
      "54Hz (9f) sig chan:[]\n"
     ]
    }
   ],
   "source": [
    "frq=[6,12,18,24,30,36,42,48,54]\n",
    "for f in frq:\n",
    "    frq_ind=np.argmin(abs(av_freqs - f))\n",
    "    t_snrs = av_zscrs[ :, frq_ind]\n",
    "    mask=np.copy(t_snrs)\n",
    "    n_s=len(np.asarray(t_snrs>1.64).nonzero()[0])\n",
    "    np.place(mask, mask<1.64, [0])\n",
    "    ind = (-mask).argsort()[:n_s]\n",
    "    ch_sort=[EEG[0].ch_names[i] for i in ind]\n",
    "    print(f'{f}Hz ({int(f/6)}f) sig chan:{ch_sort}')"
   ]
  },
  {
   "cell_type": "code",
   "execution_count": 91,
   "id": "070bfa3a",
   "metadata": {
    "scrolled": true
   },
   "outputs": [
    {
     "name": "stdout",
     "output_type": "stream",
     "text": [
      "1.2Hz (1f/5) sig chan:[]\n",
      "2.4Hz (2f/5) sig chan:[]\n",
      "3.6Hz (3f/5) sig chan:[]\n",
      "4.8Hz (4f/5) sig chan:[]\n",
      "6.0Hz (5f/5) sig chan:['O1', 'O2', 'P8', 'P7', 'C3', 'TP10', 'FC2', 'P4', 'CP1', 'FC1', 'Cz', 'FC6', 'C4', 'F4', 'Fz', 'P3', 'CP5', 'FC5', 'F3', 'CP2', 'TP9']\n",
      "7.2Hz (6f/5) sig chan:[]\n",
      "8.4Hz (7f/5) sig chan:[]\n",
      "9.6Hz (8f/5) sig chan:[]\n",
      "10.8Hz (9f/5) sig chan:[]\n"
     ]
    }
   ],
   "source": [
    "frq=[1.2,2.4,3.6,4.8,6.0,7.2,8.4,9.6,10.8]\n",
    "for f in frq:\n",
    "    frq_ind=np.argmin(abs(av_freqs - f))\n",
    "    t_snrs = av_zscrs[ :, frq_ind]\n",
    "    mask=np.copy(t_snrs)\n",
    "    n_s=len(np.asarray(t_snrs>1.64).nonzero()[0])\n",
    "    np.place(mask, mask<1.64, [0])\n",
    "    ind = (-mask).argsort()[:n_s]\n",
    "    ch_sort=[EEG[0].ch_names[i] for i in ind]\n",
    "    print(f'{f}Hz ({int(f/1.2)}f/5) sig chan:{ch_sort}')"
   ]
  },
  {
   "cell_type": "code",
   "execution_count": 92,
   "id": "2358a5ef",
   "metadata": {},
   "outputs": [
    {
     "name": "stdout",
     "output_type": "stream",
     "text": [
      "1 from 59 done\n",
      "2 from 59 done\n",
      "3 from 59 done\n",
      "4 from 59 done\n",
      "5 from 59 done\n",
      "6 from 59 done\n",
      "7 from 59 done\n",
      "8 from 59 done\n",
      "9 from 59 done\n",
      "10 from 59 done\n",
      "11 from 59 done\n",
      "12 from 59 done\n",
      "13 from 59 done\n",
      "14 from 59 done\n",
      "15 from 59 done\n",
      "16 from 59 done\n",
      "17 from 59 done\n",
      "18 from 59 done\n",
      "19 from 59 done\n",
      "20 from 59 done\n",
      "21 from 59 done\n",
      "22 from 59 done\n",
      "23 from 59 done\n",
      "24 from 59 done\n",
      "25 from 59 done\n",
      "26 from 59 done\n",
      "27 from 59 done\n",
      "28 from 59 done\n",
      "29 from 59 done\n",
      "30 from 59 done\n",
      "31 from 59 done\n",
      "32 from 59 done\n",
      "33 from 59 done\n",
      "34 from 59 done\n",
      "35 from 59 done\n",
      "36 from 59 done\n",
      "37 from 59 done\n",
      "38 from 59 done\n",
      "39 from 59 done\n",
      "40 from 59 done\n",
      "41 from 59 done\n",
      "42 from 59 done\n",
      "43 from 59 done\n",
      "44 from 59 done\n",
      "45 from 59 done\n",
      "46 from 59 done\n",
      "47 from 59 done\n",
      "48 from 59 done\n",
      "49 from 59 done\n",
      "50 from 59 done\n",
      "51 from 59 done\n",
      "52 from 59 done\n",
      "53 from 59 done\n",
      "54 from 59 done\n",
      "55 from 59 done\n",
      "56 from 59 done\n",
      "57 from 59 done\n",
      "58 from 59 done\n",
      "59 from 59 done\n"
     ]
    }
   ],
   "source": [
    "tmin = 0\n",
    "tmax = 120.\n",
    "fmin = 0.1\n",
    "fmax = 100.\n",
    "sfreq = 500\n",
    "psds_list = []\n",
    "freqs_list = []\n",
    "snrs_list = []\n",
    "zscrs_list = []\n",
    "amp_cor_list = []\n",
    "\n",
    "for i in range (0, len(EEG)):\n",
    "    data=PW_W_list[i].get_data(units='uV')\n",
    "    fs = 500\n",
    "    fft_vals = np.absolute(np.fft.rfft(data))/(len(data[0])/2)\n",
    "    fft_freq = np.fft.rfftfreq(len(data[0]), 1.0/fs)\n",
    "\n",
    "    psds_list.append(fft_vals)\n",
    "    freqs_list.append(fft_freq)\n",
    "\n",
    "    snrs = snr_spectrum(fft_vals, 10, 1)\n",
    "    snrs_list.append(snrs)  \n",
    "    zscrs = z_spectrum(fft_vals, 10, 1)\n",
    "    zscrs_list.append(zscrs)\n",
    "    bc = bas_cor(fft_vals, 10, 1)\n",
    "    amp_cor_list.append(bc) \n",
    "    print(f'{i+1} from {len(EEG)} done')\n",
    "    \n",
    "av_psds = np.mean(psds_list, axis=0)\n",
    "av_freqs = np.mean(freqs_list, axis=0)\n",
    "av_snrs = np.mean(snrs_list, axis=0)   \n",
    "av_zscrs = np.mean(zscrs_list, axis=0) \n",
    "av_cors = np.mean(amp_cor_list, axis=0) "
   ]
  },
  {
   "cell_type": "code",
   "execution_count": 93,
   "id": "bf6d54b3",
   "metadata": {},
   "outputs": [
    {
     "name": "stderr",
     "output_type": "stream",
     "text": [
      "C:\\Users\\dasha\\AppData\\Local\\Temp\\ipykernel_9316\\2156789963.py:2: RuntimeWarning: More than 20 figures have been opened. Figures created through the pyplot interface (`matplotlib.pyplot.figure`) are retained until explicitly closed and may consume too much memory. (To control this warning, see the rcParam `figure.max_open_warning`). Consider using `matplotlib.pyplot.close()`.\n",
      "  fig, axes = plt.subplots(2, 1, sharex='all', sharey='none', figsize=(18, 10))\n"
     ]
    }
   ],
   "source": [
    "for i in range (len(ID)):\n",
    "    fig, axes = plt.subplots(2, 1, sharex='all', sharey='none', figsize=(18, 10))\n",
    "    freq_range = range(np.where(np.floor(av_freqs) == 1.)[0][0],\n",
    "                   np.where(np.ceil(av_freqs) == fmax - 1)[0][0])\n",
    "\n",
    "    psds_plot = psds_list[i]\n",
    "    psds_mean = psds_plot.mean(axis=(0))[freq_range]\n",
    "    psds_std = psds_plot.std(axis=(0))[freq_range]\n",
    "    axes[0].plot(av_freqs[freq_range], psds_mean, color='C3', linewidth=3)\n",
    "    axes[0].fill_between(\n",
    "        av_freqs[freq_range], psds_mean - psds_std, psds_mean + psds_std,\n",
    "        color='C3', alpha=.2)\n",
    "    axes[0].set(title=\"Amplitude spectrum\", ylabel='Amplitude [mV]')\n",
    "\n",
    "# SNR spectrum\n",
    "    snr_mean = snrs_list[i].mean(axis=(0))[freq_range]\n",
    "    snr_std = snrs_list[i].std(axis=(0))[freq_range]\n",
    "\n",
    "    axes[1].plot(av_freqs[freq_range], snr_mean, color='C4',linewidth=3)\n",
    "    axes[1].fill_between(\n",
    "        av_freqs[freq_range], snr_mean - snr_std, snr_mean + snr_std,\n",
    "        color='C5', alpha=.2)\n",
    "    axes[1].set(\n",
    "        title=\"SNR spectrum\", xlabel='Frequency [Hz]',\n",
    "        ylabel='SNR', ylim=[0.8, 5], xlim=[fmin, 25])\n",
    "\n",
    "    axes[0].axvspan(1.2-0.03, 1.2+0.03, alpha=0.2, color ='orchid')\n",
    "    axes[0].axvspan(1.2*2-0.03, 1.2*2+0.03, alpha=0.2, color ='orchid')\n",
    "    axes[0].axvspan(1.2*3-0.03, 1.2*3+0.03, alpha=0.2, color ='orchid')\n",
    "    axes[0].axvspan(1.2*4-0.03, 1.2*4+0.03, alpha=0.2, color ='orchid')\n",
    "    axes[0].axvspan(6-0.03, 6+0.03, alpha=0.2, color ='darkblue')\n",
    "    axes[0].axvspan(6*2-0.03, 6*2+0.03, alpha=0.2, color ='darkblue')\n",
    "    axes[0].axvspan(6*3-0.03, 6*3+0.03, alpha=0.2, color ='darkblue')\n",
    "    axes[0].axvspan(6*4-0.03, 6*4+0.03, alpha=0.2, color ='darkblue')\n",
    "\n",
    "    axes[1].axvspan(1.2-0.03, 1.2+0.03, ymin=0, ymax=5, alpha=0.2, color ='orchid')\n",
    "    axes[1].axvspan(1.2*2-0.03, 1.2*2+0.03, ymin=0, ymax=5, alpha=0.2, color ='orchid')\n",
    "    axes[1].axvspan(1.2*3-0.03, 1.2*3+0.03, ymin=0, ymax=5, alpha=0.2, color ='orchid')\n",
    "    axes[1].axvspan(1.2*4-0.03, 1.2*4+0.03, ymin=0, ymax=5, alpha=0.2, color ='orchid')\n",
    "    axes[1].axvspan(6-0.03, 6+0.03, ymin=0, ymax=5, alpha=0.2, color ='darkblue')\n",
    "    axes[1].axvspan(6*2-0.03, 6*2+0.03, ymin=0, ymax=5, alpha=0.2, color ='darkblue')\n",
    "    axes[1].axvspan(6*3-0.03, 6*3+0.03, ymin=0, ymax=5, alpha=0.2, color ='darkblue')\n",
    "    axes[1].axvspan(6*4-0.03, 6*4+0.03, ymin=0, ymax=5, alpha=0.2, color ='darkblue')\n",
    "    fig.suptitle(f'{ID[i]}_PW_W', fontsize=16)#В ковычках можем прописать заголовок\n",
    "    fig.show()\n",
    "    fig.savefig(f'individual{ID[i]}_PW_W.png')"
   ]
  },
  {
   "cell_type": "code",
   "execution_count": 94,
   "id": "da21149e",
   "metadata": {},
   "outputs": [
    {
     "name": "stdout",
     "output_type": "stream",
     "text": [
      "done\n",
      "done\n",
      "done\n",
      "done\n",
      "done\n"
     ]
    }
   ],
   "source": [
    "np.concatenate(psds_list, axis=0)\n",
    "save('PW_W_psds.npy', psds_list)\n",
    "print('done')\n",
    "np.concatenate(freqs_list, axis=0)\n",
    "save('PW_W_freqs.npy', freqs_list)\n",
    "print('done')\n",
    "np.concatenate(snrs_list, axis=0)\n",
    "save('PW_W_snrs.npy', snrs_list)\n",
    "print('done')\n",
    "np.concatenate(zscrs_list, axis=0)\n",
    "save('PW_W_zscrs.npy', zscrs_list)\n",
    "print('done')\n",
    "np.concatenate(amp_cor_list, axis=0)\n",
    "save('PW_W_amp_cor.npy', amp_cor_list)\n",
    "print('done')"
   ]
  },
  {
   "cell_type": "code",
   "execution_count": 95,
   "id": "5b17b97d",
   "metadata": {},
   "outputs": [
    {
     "name": "stdout",
     "output_type": "stream",
     "text": [
      "6Hz (1f) sig chan:['O2', 'O1', 'P8', 'P4', 'P7', 'FC1', 'TP10', 'C3', 'FC2', 'FC5']\n",
      "12Hz (2f) sig chan:['O2', 'O1']\n",
      "18Hz (3f) sig chan:[]\n",
      "24Hz (4f) sig chan:[]\n",
      "30Hz (5f) sig chan:[]\n",
      "36Hz (6f) sig chan:[]\n",
      "42Hz (7f) sig chan:[]\n",
      "48Hz (8f) sig chan:[]\n",
      "54Hz (9f) sig chan:[]\n"
     ]
    }
   ],
   "source": [
    "frq=[6,12,18,24,30,36,42,48,54]\n",
    "for f in frq:\n",
    "    frq_ind=np.argmin(abs(av_freqs - f))\n",
    "    t_snrs = av_zscrs[ :, frq_ind]\n",
    "    mask=np.copy(t_snrs)\n",
    "    n_s=len(np.asarray(t_snrs>1.64).nonzero()[0])\n",
    "    np.place(mask, mask<1.64, [0])\n",
    "    ind = (-mask).argsort()[:n_s]\n",
    "    ch_sort=[EEG[0].ch_names[i] for i in ind]\n",
    "    print(f'{f}Hz ({int(f/6)}f) sig chan:{ch_sort}')"
   ]
  },
  {
   "cell_type": "code",
   "execution_count": 96,
   "id": "fb9e89a6",
   "metadata": {},
   "outputs": [
    {
     "name": "stdout",
     "output_type": "stream",
     "text": [
      "1.2Hz (1f/5) sig chan:[]\n",
      "2.4Hz (2f/5) sig chan:[]\n",
      "3.6Hz (3f/5) sig chan:[]\n",
      "4.8Hz (4f/5) sig chan:[]\n",
      "6.0Hz (5f/5) sig chan:['O2', 'O1', 'P8', 'P4', 'P7', 'FC1', 'TP10', 'C3', 'FC2', 'FC5']\n",
      "7.2Hz (6f/5) sig chan:[]\n",
      "8.4Hz (7f/5) sig chan:[]\n",
      "9.6Hz (8f/5) sig chan:[]\n",
      "10.8Hz (9f/5) sig chan:[]\n"
     ]
    }
   ],
   "source": [
    "frq=[1.2,2.4,3.6,4.8,6.0,7.2,8.4,9.6,10.8]\n",
    "for f in frq:\n",
    "    frq_ind=np.argmin(abs(av_freqs - f))\n",
    "    t_snrs = av_zscrs[ :, frq_ind]\n",
    "    mask=np.copy(t_snrs)\n",
    "    n_s=len(np.asarray(t_snrs>1.64).nonzero()[0])\n",
    "    np.place(mask, mask<1.64, [0])\n",
    "    ind = (-mask).argsort()[:n_s]\n",
    "    ch_sort=[EEG[0].ch_names[i] for i in ind]\n",
    "    print(f'{f}Hz ({int(f/1.2)}f/5) sig chan:{ch_sort}')"
   ]
  }
 ],
 "metadata": {
  "kernelspec": {
   "display_name": "Python 3 (ipykernel)",
   "language": "python",
   "name": "python3"
  },
  "language_info": {
   "codemirror_mode": {
    "name": "ipython",
    "version": 3
   },
   "file_extension": ".py",
   "mimetype": "text/x-python",
   "name": "python",
   "nbconvert_exporter": "python",
   "pygments_lexer": "ipython3",
   "version": "3.11.5"
  }
 },
 "nbformat": 4,
 "nbformat_minor": 5
}
