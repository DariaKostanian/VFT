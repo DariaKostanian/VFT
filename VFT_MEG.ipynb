{
 "cells": [
  {
   "cell_type": "code",
   "execution_count": 1,
   "id": "365b6516",
   "metadata": {},
   "outputs": [
    {
     "name": "stdout",
     "output_type": "stream",
     "text": [
      "Requirement already satisfied: mne in c:\\users\\dasha\\anaconda3\\lib\\site-packages (1.4.2)\n",
      "Requirement already satisfied: pooch>=1.5 in c:\\users\\dasha\\anaconda3\\lib\\site-packages (from mne) (1.6.0)\n",
      "Requirement already satisfied: packaging in c:\\users\\dasha\\anaconda3\\lib\\site-packages (from mne) (23.0)\n",
      "Requirement already satisfied: numpy>=1.15.4 in c:\\users\\dasha\\anaconda3\\lib\\site-packages (from mne) (1.22.4)\n",
      "Requirement already satisfied: jinja2 in c:\\users\\dasha\\anaconda3\\lib\\site-packages (from mne) (2.11.3)\n",
      "Requirement already satisfied: decorator in c:\\users\\dasha\\anaconda3\\lib\\site-packages (from mne) (5.1.0)\n",
      "Requirement already satisfied: scipy>=1.6.3 in c:\\users\\dasha\\anaconda3\\lib\\site-packages (from mne) (1.7.1)\n",
      "Requirement already satisfied: matplotlib>=3.4.0 in c:\\users\\dasha\\anaconda3\\lib\\site-packages (from mne) (3.4.3)\n",
      "Requirement already satisfied: tqdm in c:\\users\\dasha\\anaconda3\\lib\\site-packages (from mne) (4.62.3)\n",
      "Requirement already satisfied: python-dateutil>=2.7 in c:\\users\\dasha\\anaconda3\\lib\\site-packages (from matplotlib>=3.4.0->mne) (2.8.2)\n",
      "Requirement already satisfied: pillow>=6.2.0 in c:\\users\\dasha\\anaconda3\\lib\\site-packages (from matplotlib>=3.4.0->mne) (9.4.0)\n",
      "Requirement already satisfied: cycler>=0.10 in c:\\users\\dasha\\anaconda3\\lib\\site-packages (from matplotlib>=3.4.0->mne) (0.10.0)\n",
      "Requirement already satisfied: kiwisolver>=1.0.1 in c:\\users\\dasha\\anaconda3\\lib\\site-packages (from matplotlib>=3.4.0->mne) (1.3.1)\n",
      "Requirement already satisfied: pyparsing>=2.2.1 in c:\\users\\dasha\\anaconda3\\lib\\site-packages (from matplotlib>=3.4.0->mne) (3.0.9)\n",
      "Requirement already satisfied: six in c:\\users\\dasha\\anaconda3\\lib\\site-packages (from cycler>=0.10->matplotlib>=3.4.0->mne) (1.16.0)\n",
      "Requirement already satisfied: appdirs>=1.3.0 in c:\\users\\dasha\\anaconda3\\lib\\site-packages (from pooch>=1.5->mne) (1.4.4)\n",
      "Requirement already satisfied: requests>=2.19.0 in c:\\users\\dasha\\anaconda3\\lib\\site-packages (from pooch>=1.5->mne) (2.28.2)\n",
      "Requirement already satisfied: charset-normalizer<4,>=2 in c:\\users\\dasha\\anaconda3\\lib\\site-packages (from requests>=2.19.0->pooch>=1.5->mne) (3.0.1)\n",
      "Requirement already satisfied: idna<4,>=2.5 in c:\\users\\dasha\\anaconda3\\lib\\site-packages (from requests>=2.19.0->pooch>=1.5->mne) (3.4)\n",
      "Requirement already satisfied: urllib3<1.27,>=1.21.1 in c:\\users\\dasha\\anaconda3\\lib\\site-packages (from requests>=2.19.0->pooch>=1.5->mne) (1.26.14)\n",
      "Requirement already satisfied: certifi>=2017.4.17 in c:\\users\\dasha\\anaconda3\\lib\\site-packages (from requests>=2.19.0->pooch>=1.5->mne) (2022.12.7)\n",
      "Requirement already satisfied: MarkupSafe>=0.23 in c:\\users\\dasha\\anaconda3\\lib\\site-packages (from jinja2->mne) (2.0.1)\n",
      "Requirement already satisfied: colorama in c:\\users\\dasha\\anaconda3\\lib\\site-packages (from tqdm->mne) (0.4.4)\n"
     ]
    },
    {
     "name": "stderr",
     "output_type": "stream",
     "text": [
      "WARNING: Ignoring invalid distribution -illow (c:\\users\\dasha\\anaconda3\\lib\\site-packages)\n",
      "WARNING: Ignoring invalid distribution -illow (c:\\users\\dasha\\anaconda3\\lib\\site-packages)\n",
      "WARNING: Ignoring invalid distribution -illow (c:\\users\\dasha\\anaconda3\\lib\\site-packages)\n",
      "WARNING: Ignoring invalid distribution -illow (c:\\users\\dasha\\anaconda3\\lib\\site-packages)\n",
      "WARNING: Ignoring invalid distribution -illow (c:\\users\\dasha\\anaconda3\\lib\\site-packages)\n",
      "WARNING: Ignoring invalid distribution -illow (c:\\users\\dasha\\anaconda3\\lib\\site-packages)\n"
     ]
    }
   ],
   "source": [
    "!pip install mne "
   ]
  },
  {
   "cell_type": "code",
   "execution_count": null,
   "id": "fece2b42",
   "metadata": {},
   "outputs": [],
   "source": [
    "import mne\n",
    "from mne.preprocessing import ICA\n",
    "import matplotlib.pyplot as plt\n",
    "import numpy as np\n",
    "from scipy.stats import kurtosis\n",
    "from scipy.stats import skew , variation\n",
    "from scipy.signal import welch\n",
    "import pandas as pd\n",
    "from scipy.signal import hilbert\n",
    "from collections import Counter\n",
    "import os\n",
    "import glob\n",
    "from scipy.fft import fft, fftfreq\n",
    "from scipy.io import loadmat\n",
    "from scipy import signal"
   ]
  },
  {
   "cell_type": "code",
   "execution_count": 3,
   "id": "ec9a4fc0",
   "metadata": {},
   "outputs": [],
   "source": [
    "%matplotlib qt"
   ]
  },
  {
   "cell_type": "code",
   "execution_count": 7,
   "id": "db381ea1",
   "metadata": {},
   "outputs": [],
   "source": [
    "os.chdir('C:/Users/dasha/Documents/Neurobiology_EEG/VFT/MEG/')# прописываем путь"
   ]
  },
  {
   "cell_type": "code",
   "execution_count": 8,
   "id": "7e5ae842",
   "metadata": {},
   "outputs": [
    {
     "data": {
      "text/plain": [
       "['MG023_vft_run1_raw_tsss_mc.fif',\n",
       " 'MG024_vft_run1_raw_tsss_mc.fif',\n",
       " 'MG025_vft_run1_raw_tsss_mc.fif',\n",
       " 'MG026_vft_run1_raw_tsss_mc.fif',\n",
       " 'MG027_vft_run1_raw_tsss_mc.fif',\n",
       " 'MG028_vft_run1_raw_tsss_mc.fif',\n",
       " 'MG029_vft_run1_raw_tsss_mc.fif',\n",
       " 'MG030_vft_run1_raw_tsss_mc.fif',\n",
       " 'MG031_vft_run1_raw_tsss_mc.fif',\n",
       " 'MG032_vft_run1_raw_tsss_mc.fif']"
      ]
     },
     "execution_count": 8,
     "metadata": {},
     "output_type": "execute_result"
    }
   ],
   "source": [
    "# Находим файлы в папке\n",
    "filenames = glob.glob('*run1_raw_tsss_mc.fif')\n",
    "filenames"
   ]
  },
  {
   "cell_type": "code",
   "execution_count": 9,
   "id": "23b7b192",
   "metadata": {},
   "outputs": [
    {
     "name": "stderr",
     "output_type": "stream",
     "text": [
      "C:\\Users\\dasha\\AppData\\Local\\Temp/ipykernel_10056/3830230136.py:7: RuntimeWarning: This filename (MG023_vft_run1_raw_tsss_mc.fif) does not conform to MNE naming conventions. All raw files should end with raw.fif, raw_sss.fif, raw_tsss.fif, _meg.fif, _eeg.fif, _ieeg.fif, raw.fif.gz, raw_sss.fif.gz, raw_tsss.fif.gz, _meg.fif.gz, _eeg.fif.gz or _ieeg.fif.gz\n",
      "  E = mne.io.read_raw_fif(name, verbose=False, preload=True)\n",
      "C:\\Users\\dasha\\AppData\\Local\\Temp/ipykernel_10056/3830230136.py:7: RuntimeWarning: This filename (MG024_vft_run1_raw_tsss_mc.fif) does not conform to MNE naming conventions. All raw files should end with raw.fif, raw_sss.fif, raw_tsss.fif, _meg.fif, _eeg.fif, _ieeg.fif, raw.fif.gz, raw_sss.fif.gz, raw_tsss.fif.gz, _meg.fif.gz, _eeg.fif.gz or _ieeg.fif.gz\n",
      "  E = mne.io.read_raw_fif(name, verbose=False, preload=True)\n",
      "C:\\Users\\dasha\\AppData\\Local\\Temp/ipykernel_10056/3830230136.py:7: RuntimeWarning: This filename (MG025_vft_run1_raw_tsss_mc.fif) does not conform to MNE naming conventions. All raw files should end with raw.fif, raw_sss.fif, raw_tsss.fif, _meg.fif, _eeg.fif, _ieeg.fif, raw.fif.gz, raw_sss.fif.gz, raw_tsss.fif.gz, _meg.fif.gz, _eeg.fif.gz or _ieeg.fif.gz\n",
      "  E = mne.io.read_raw_fif(name, verbose=False, preload=True)\n",
      "C:\\Users\\dasha\\AppData\\Local\\Temp/ipykernel_10056/3830230136.py:7: RuntimeWarning: This filename (MG026_vft_run1_raw_tsss_mc.fif) does not conform to MNE naming conventions. All raw files should end with raw.fif, raw_sss.fif, raw_tsss.fif, _meg.fif, _eeg.fif, _ieeg.fif, raw.fif.gz, raw_sss.fif.gz, raw_tsss.fif.gz, _meg.fif.gz, _eeg.fif.gz or _ieeg.fif.gz\n",
      "  E = mne.io.read_raw_fif(name, verbose=False, preload=True)\n",
      "C:\\Users\\dasha\\AppData\\Local\\Temp/ipykernel_10056/3830230136.py:7: RuntimeWarning: This filename (MG027_vft_run1_raw_tsss_mc.fif) does not conform to MNE naming conventions. All raw files should end with raw.fif, raw_sss.fif, raw_tsss.fif, _meg.fif, _eeg.fif, _ieeg.fif, raw.fif.gz, raw_sss.fif.gz, raw_tsss.fif.gz, _meg.fif.gz, _eeg.fif.gz or _ieeg.fif.gz\n",
      "  E = mne.io.read_raw_fif(name, verbose=False, preload=True)\n",
      "C:\\Users\\dasha\\AppData\\Local\\Temp/ipykernel_10056/3830230136.py:7: RuntimeWarning: This filename (MG028_vft_run1_raw_tsss_mc.fif) does not conform to MNE naming conventions. All raw files should end with raw.fif, raw_sss.fif, raw_tsss.fif, _meg.fif, _eeg.fif, _ieeg.fif, raw.fif.gz, raw_sss.fif.gz, raw_tsss.fif.gz, _meg.fif.gz, _eeg.fif.gz or _ieeg.fif.gz\n",
      "  E = mne.io.read_raw_fif(name, verbose=False, preload=True)\n",
      "C:\\Users\\dasha\\AppData\\Local\\Temp/ipykernel_10056/3830230136.py:7: RuntimeWarning: This filename (MG029_vft_run1_raw_tsss_mc.fif) does not conform to MNE naming conventions. All raw files should end with raw.fif, raw_sss.fif, raw_tsss.fif, _meg.fif, _eeg.fif, _ieeg.fif, raw.fif.gz, raw_sss.fif.gz, raw_tsss.fif.gz, _meg.fif.gz, _eeg.fif.gz or _ieeg.fif.gz\n",
      "  E = mne.io.read_raw_fif(name, verbose=False, preload=True)\n",
      "C:\\Users\\dasha\\AppData\\Local\\Temp/ipykernel_10056/3830230136.py:7: RuntimeWarning: This filename (MG030_vft_run1_raw_tsss_mc.fif) does not conform to MNE naming conventions. All raw files should end with raw.fif, raw_sss.fif, raw_tsss.fif, _meg.fif, _eeg.fif, _ieeg.fif, raw.fif.gz, raw_sss.fif.gz, raw_tsss.fif.gz, _meg.fif.gz, _eeg.fif.gz or _ieeg.fif.gz\n",
      "  E = mne.io.read_raw_fif(name, verbose=False, preload=True)\n",
      "C:\\Users\\dasha\\AppData\\Local\\Temp/ipykernel_10056/3830230136.py:7: RuntimeWarning: This filename (MG031_vft_run1_raw_tsss_mc.fif) does not conform to MNE naming conventions. All raw files should end with raw.fif, raw_sss.fif, raw_tsss.fif, _meg.fif, _eeg.fif, _ieeg.fif, raw.fif.gz, raw_sss.fif.gz, raw_tsss.fif.gz, _meg.fif.gz, _eeg.fif.gz or _ieeg.fif.gz\n",
      "  E = mne.io.read_raw_fif(name, verbose=False, preload=True)\n",
      "C:\\Users\\dasha\\AppData\\Local\\Temp/ipykernel_10056/3830230136.py:7: RuntimeWarning: This filename (MG032_vft_run1_raw_tsss_mc.fif) does not conform to MNE naming conventions. All raw files should end with raw.fif, raw_sss.fif, raw_tsss.fif, _meg.fif, _eeg.fif, _ieeg.fif, raw.fif.gz, raw_sss.fif.gz, raw_tsss.fif.gz, _meg.fif.gz, _eeg.fif.gz or _ieeg.fif.gz\n",
      "  E = mne.io.read_raw_fif(name, verbose=False, preload=True)\n"
     ]
    }
   ],
   "source": [
    "#Подгружаем сырые файлы\n",
    "MEG = []\n",
    "\n",
    "for i in range (len(filenames)):  \n",
    "    #name= f'{ID[i]}_VFT.vhdr'\n",
    "    name=filenames[i]\n",
    "    E = mne.io.read_raw_fif(name, verbose=False, preload=True)\n",
    "    MEG.append(E)"
   ]
  },
  {
   "cell_type": "code",
   "execution_count": 36,
   "id": "9952f425",
   "metadata": {
    "scrolled": false
   },
   "outputs": [
    {
     "name": "stdout",
     "output_type": "stream",
     "text": [
      "Filtering raw data in 1 contiguous segment\n",
      "Setting up band-pass filter from 0.1 - 1e+02 Hz\n",
      "\n",
      "FIR filter parameters\n",
      "---------------------\n",
      "Designing a two-pass forward and reverse, zero-phase, non-causal bandpass filter:\n",
      "- Windowed time-domain design (firwin) method\n",
      "- Hamming window with 0.0194 passband ripple and 53 dB stopband attenuation\n",
      "- Lower passband edge: 0.10\n",
      "- Lower transition bandwidth: 0.10 Hz (-12 dB cutoff frequency: 0.05 Hz)\n",
      "- Upper passband edge: 100.00 Hz\n",
      "- Upper transition bandwidth: 25.00 Hz (-12 dB cutoff frequency: 112.50 Hz)\n",
      "- Filter length: 33001 samples (33.001 s)\n",
      "\n"
     ]
    },
    {
     "name": "stderr",
     "output_type": "stream",
     "text": [
      "[Parallel(n_jobs=1)]: Done  17 tasks      | elapsed:    1.5s\n",
      "[Parallel(n_jobs=1)]: Done  71 tasks      | elapsed:    6.7s\n",
      "[Parallel(n_jobs=1)]: Done 161 tasks      | elapsed:   17.1s\n",
      "[Parallel(n_jobs=1)]: Done 287 tasks      | elapsed:   29.8s\n"
     ]
    },
    {
     "name": "stdout",
     "output_type": "stream",
     "text": [
      "Filtering raw data in 1 contiguous segment\n",
      "Setting up band-stop filter from 49 - 51 Hz\n",
      "\n",
      "FIR filter parameters\n",
      "---------------------\n",
      "Designing a two-pass forward and reverse, zero-phase, non-causal bandstop filter:\n",
      "- Windowed time-domain design (firwin) method\n",
      "- Hamming window with 0.0194 passband ripple and 53 dB stopband attenuation\n",
      "- Lower passband edge: 49.38\n",
      "- Lower transition bandwidth: 0.50 Hz (-12 dB cutoff frequency: 49.12 Hz)\n",
      "- Upper passband edge: 50.62 Hz\n",
      "- Upper transition bandwidth: 0.50 Hz (-12 dB cutoff frequency: 50.88 Hz)\n",
      "- Filter length: 6601 samples (6.601 s)\n",
      "\n"
     ]
    },
    {
     "name": "stderr",
     "output_type": "stream",
     "text": [
      "[Parallel(n_jobs=1)]: Done  17 tasks      | elapsed:    0.3s\n",
      "[Parallel(n_jobs=1)]: Done  71 tasks      | elapsed:    1.8s\n",
      "[Parallel(n_jobs=1)]: Done 161 tasks      | elapsed:    4.1s\n",
      "[Parallel(n_jobs=1)]: Done 287 tasks      | elapsed:    7.7s\n"
     ]
    },
    {
     "name": "stdout",
     "output_type": "stream",
     "text": [
      "Filtering raw data in 1 contiguous segment\n",
      "Setting up band-pass filter from 0.1 - 1e+02 Hz\n",
      "\n",
      "FIR filter parameters\n",
      "---------------------\n",
      "Designing a two-pass forward and reverse, zero-phase, non-causal bandpass filter:\n",
      "- Windowed time-domain design (firwin) method\n",
      "- Hamming window with 0.0194 passband ripple and 53 dB stopband attenuation\n",
      "- Lower passband edge: 0.10\n",
      "- Lower transition bandwidth: 0.10 Hz (-12 dB cutoff frequency: 0.05 Hz)\n",
      "- Upper passband edge: 100.00 Hz\n",
      "- Upper transition bandwidth: 25.00 Hz (-12 dB cutoff frequency: 112.50 Hz)\n",
      "- Filter length: 33001 samples (33.001 s)\n",
      "\n"
     ]
    },
    {
     "name": "stderr",
     "output_type": "stream",
     "text": [
      "[Parallel(n_jobs=1)]: Done  17 tasks      | elapsed:    0.8s\n",
      "[Parallel(n_jobs=1)]: Done  71 tasks      | elapsed:    4.7s\n",
      "[Parallel(n_jobs=1)]: Done 161 tasks      | elapsed:    9.4s\n",
      "[Parallel(n_jobs=1)]: Done 287 tasks      | elapsed:   16.7s\n"
     ]
    },
    {
     "name": "stdout",
     "output_type": "stream",
     "text": [
      "Filtering raw data in 1 contiguous segment\n",
      "Setting up band-stop filter from 49 - 51 Hz\n",
      "\n",
      "FIR filter parameters\n",
      "---------------------\n",
      "Designing a two-pass forward and reverse, zero-phase, non-causal bandstop filter:\n",
      "- Windowed time-domain design (firwin) method\n",
      "- Hamming window with 0.0194 passband ripple and 53 dB stopband attenuation\n",
      "- Lower passband edge: 49.38\n",
      "- Lower transition bandwidth: 0.50 Hz (-12 dB cutoff frequency: 49.12 Hz)\n",
      "- Upper passband edge: 50.62 Hz\n",
      "- Upper transition bandwidth: 0.50 Hz (-12 dB cutoff frequency: 50.88 Hz)\n",
      "- Filter length: 6601 samples (6.601 s)\n",
      "\n"
     ]
    },
    {
     "name": "stderr",
     "output_type": "stream",
     "text": [
      "[Parallel(n_jobs=1)]: Done  17 tasks      | elapsed:    0.4s\n",
      "[Parallel(n_jobs=1)]: Done  71 tasks      | elapsed:    1.7s\n",
      "[Parallel(n_jobs=1)]: Done 161 tasks      | elapsed:    3.6s\n",
      "[Parallel(n_jobs=1)]: Done 287 tasks      | elapsed:    6.8s\n"
     ]
    },
    {
     "name": "stdout",
     "output_type": "stream",
     "text": [
      "Filtering raw data in 1 contiguous segment\n",
      "Setting up band-pass filter from 0.1 - 1e+02 Hz\n",
      "\n",
      "FIR filter parameters\n",
      "---------------------\n",
      "Designing a two-pass forward and reverse, zero-phase, non-causal bandpass filter:\n",
      "- Windowed time-domain design (firwin) method\n",
      "- Hamming window with 0.0194 passband ripple and 53 dB stopband attenuation\n",
      "- Lower passband edge: 0.10\n",
      "- Lower transition bandwidth: 0.10 Hz (-12 dB cutoff frequency: 0.05 Hz)\n",
      "- Upper passband edge: 100.00 Hz\n",
      "- Upper transition bandwidth: 25.00 Hz (-12 dB cutoff frequency: 112.50 Hz)\n",
      "- Filter length: 33001 samples (33.001 s)\n",
      "\n"
     ]
    },
    {
     "name": "stderr",
     "output_type": "stream",
     "text": [
      "[Parallel(n_jobs=1)]: Done  17 tasks      | elapsed:    1.6s\n",
      "[Parallel(n_jobs=1)]: Done  71 tasks      | elapsed:    7.8s\n",
      "[Parallel(n_jobs=1)]: Done 161 tasks      | elapsed:   18.4s\n",
      "[Parallel(n_jobs=1)]: Done 287 tasks      | elapsed:   31.2s\n"
     ]
    },
    {
     "name": "stdout",
     "output_type": "stream",
     "text": [
      "Filtering raw data in 1 contiguous segment\n",
      "Setting up band-stop filter from 49 - 51 Hz\n",
      "\n",
      "FIR filter parameters\n",
      "---------------------\n",
      "Designing a two-pass forward and reverse, zero-phase, non-causal bandstop filter:\n",
      "- Windowed time-domain design (firwin) method\n",
      "- Hamming window with 0.0194 passband ripple and 53 dB stopband attenuation\n",
      "- Lower passband edge: 49.38\n",
      "- Lower transition bandwidth: 0.50 Hz (-12 dB cutoff frequency: 49.12 Hz)\n",
      "- Upper passband edge: 50.62 Hz\n",
      "- Upper transition bandwidth: 0.50 Hz (-12 dB cutoff frequency: 50.88 Hz)\n",
      "- Filter length: 6601 samples (6.601 s)\n",
      "\n"
     ]
    },
    {
     "name": "stderr",
     "output_type": "stream",
     "text": [
      "[Parallel(n_jobs=1)]: Done  17 tasks      | elapsed:    0.3s\n",
      "[Parallel(n_jobs=1)]: Done  71 tasks      | elapsed:    1.3s\n",
      "[Parallel(n_jobs=1)]: Done 161 tasks      | elapsed:    3.2s\n",
      "[Parallel(n_jobs=1)]: Done 287 tasks      | elapsed:    5.9s\n"
     ]
    },
    {
     "name": "stdout",
     "output_type": "stream",
     "text": [
      "Filtering raw data in 1 contiguous segment\n",
      "Setting up band-pass filter from 0.1 - 1e+02 Hz\n",
      "\n",
      "FIR filter parameters\n",
      "---------------------\n",
      "Designing a two-pass forward and reverse, zero-phase, non-causal bandpass filter:\n",
      "- Windowed time-domain design (firwin) method\n",
      "- Hamming window with 0.0194 passband ripple and 53 dB stopband attenuation\n",
      "- Lower passband edge: 0.10\n",
      "- Lower transition bandwidth: 0.10 Hz (-12 dB cutoff frequency: 0.05 Hz)\n",
      "- Upper passband edge: 100.00 Hz\n",
      "- Upper transition bandwidth: 25.00 Hz (-12 dB cutoff frequency: 112.50 Hz)\n",
      "- Filter length: 33001 samples (33.001 s)\n",
      "\n"
     ]
    },
    {
     "name": "stderr",
     "output_type": "stream",
     "text": [
      "[Parallel(n_jobs=1)]: Done  17 tasks      | elapsed:    1.4s\n",
      "[Parallel(n_jobs=1)]: Done  71 tasks      | elapsed:    6.2s\n",
      "[Parallel(n_jobs=1)]: Done 161 tasks      | elapsed:   14.2s\n",
      "[Parallel(n_jobs=1)]: Done 287 tasks      | elapsed:   25.7s\n"
     ]
    },
    {
     "name": "stdout",
     "output_type": "stream",
     "text": [
      "Filtering raw data in 1 contiguous segment\n",
      "Setting up band-stop filter from 49 - 51 Hz\n",
      "\n",
      "FIR filter parameters\n",
      "---------------------\n",
      "Designing a two-pass forward and reverse, zero-phase, non-causal bandstop filter:\n",
      "- Windowed time-domain design (firwin) method\n",
      "- Hamming window with 0.0194 passband ripple and 53 dB stopband attenuation\n",
      "- Lower passband edge: 49.38\n",
      "- Lower transition bandwidth: 0.50 Hz (-12 dB cutoff frequency: 49.12 Hz)\n",
      "- Upper passband edge: 50.62 Hz\n",
      "- Upper transition bandwidth: 0.50 Hz (-12 dB cutoff frequency: 50.88 Hz)\n",
      "- Filter length: 6601 samples (6.601 s)\n",
      "\n"
     ]
    },
    {
     "name": "stderr",
     "output_type": "stream",
     "text": [
      "[Parallel(n_jobs=1)]: Done  17 tasks      | elapsed:    0.3s\n",
      "[Parallel(n_jobs=1)]: Done  71 tasks      | elapsed:    1.4s\n",
      "[Parallel(n_jobs=1)]: Done 161 tasks      | elapsed:    3.5s\n",
      "[Parallel(n_jobs=1)]: Done 287 tasks      | elapsed:    6.0s\n"
     ]
    },
    {
     "name": "stdout",
     "output_type": "stream",
     "text": [
      "Filtering raw data in 1 contiguous segment\n",
      "Setting up band-pass filter from 0.1 - 1e+02 Hz\n",
      "\n",
      "FIR filter parameters\n",
      "---------------------\n",
      "Designing a two-pass forward and reverse, zero-phase, non-causal bandpass filter:\n",
      "- Windowed time-domain design (firwin) method\n",
      "- Hamming window with 0.0194 passband ripple and 53 dB stopband attenuation\n",
      "- Lower passband edge: 0.10\n",
      "- Lower transition bandwidth: 0.10 Hz (-12 dB cutoff frequency: 0.05 Hz)\n",
      "- Upper passband edge: 100.00 Hz\n",
      "- Upper transition bandwidth: 25.00 Hz (-12 dB cutoff frequency: 112.50 Hz)\n",
      "- Filter length: 33001 samples (33.001 s)\n",
      "\n"
     ]
    },
    {
     "name": "stderr",
     "output_type": "stream",
     "text": [
      "[Parallel(n_jobs=1)]: Done  17 tasks      | elapsed:    1.4s\n",
      "[Parallel(n_jobs=1)]: Done  71 tasks      | elapsed:    6.3s\n",
      "[Parallel(n_jobs=1)]: Done 161 tasks      | elapsed:   14.4s\n",
      "[Parallel(n_jobs=1)]: Done 287 tasks      | elapsed:   26.8s\n"
     ]
    },
    {
     "name": "stdout",
     "output_type": "stream",
     "text": [
      "Filtering raw data in 1 contiguous segment\n",
      "Setting up band-stop filter from 49 - 51 Hz\n",
      "\n",
      "FIR filter parameters\n",
      "---------------------\n",
      "Designing a two-pass forward and reverse, zero-phase, non-causal bandstop filter:\n",
      "- Windowed time-domain design (firwin) method\n",
      "- Hamming window with 0.0194 passband ripple and 53 dB stopband attenuation\n",
      "- Lower passband edge: 49.38\n",
      "- Lower transition bandwidth: 0.50 Hz (-12 dB cutoff frequency: 49.12 Hz)\n",
      "- Upper passband edge: 50.62 Hz\n",
      "- Upper transition bandwidth: 0.50 Hz (-12 dB cutoff frequency: 50.88 Hz)\n",
      "- Filter length: 6601 samples (6.601 s)\n",
      "\n"
     ]
    },
    {
     "name": "stderr",
     "output_type": "stream",
     "text": [
      "[Parallel(n_jobs=1)]: Done  17 tasks      | elapsed:    0.3s\n",
      "[Parallel(n_jobs=1)]: Done  71 tasks      | elapsed:    1.4s\n",
      "[Parallel(n_jobs=1)]: Done 161 tasks      | elapsed:    3.2s\n",
      "[Parallel(n_jobs=1)]: Done 287 tasks      | elapsed:    5.8s\n"
     ]
    },
    {
     "name": "stdout",
     "output_type": "stream",
     "text": [
      "Filtering raw data in 1 contiguous segment\n",
      "Setting up band-pass filter from 0.1 - 1e+02 Hz\n",
      "\n",
      "FIR filter parameters\n",
      "---------------------\n",
      "Designing a two-pass forward and reverse, zero-phase, non-causal bandpass filter:\n",
      "- Windowed time-domain design (firwin) method\n",
      "- Hamming window with 0.0194 passband ripple and 53 dB stopband attenuation\n",
      "- Lower passband edge: 0.10\n",
      "- Lower transition bandwidth: 0.10 Hz (-12 dB cutoff frequency: 0.05 Hz)\n",
      "- Upper passband edge: 100.00 Hz\n",
      "- Upper transition bandwidth: 25.00 Hz (-12 dB cutoff frequency: 112.50 Hz)\n",
      "- Filter length: 33001 samples (33.001 s)\n",
      "\n"
     ]
    },
    {
     "name": "stderr",
     "output_type": "stream",
     "text": [
      "[Parallel(n_jobs=1)]: Done  17 tasks      | elapsed:    1.6s\n",
      "[Parallel(n_jobs=1)]: Done  71 tasks      | elapsed:    6.6s\n",
      "[Parallel(n_jobs=1)]: Done 161 tasks      | elapsed:   15.0s\n",
      "[Parallel(n_jobs=1)]: Done 287 tasks      | elapsed:   28.1s\n"
     ]
    },
    {
     "name": "stdout",
     "output_type": "stream",
     "text": [
      "Filtering raw data in 1 contiguous segment\n",
      "Setting up band-stop filter from 49 - 51 Hz\n",
      "\n",
      "FIR filter parameters\n",
      "---------------------\n",
      "Designing a two-pass forward and reverse, zero-phase, non-causal bandstop filter:\n",
      "- Windowed time-domain design (firwin) method\n",
      "- Hamming window with 0.0194 passband ripple and 53 dB stopband attenuation\n",
      "- Lower passband edge: 49.38\n",
      "- Lower transition bandwidth: 0.50 Hz (-12 dB cutoff frequency: 49.12 Hz)\n",
      "- Upper passband edge: 50.62 Hz\n",
      "- Upper transition bandwidth: 0.50 Hz (-12 dB cutoff frequency: 50.88 Hz)\n",
      "- Filter length: 6601 samples (6.601 s)\n",
      "\n"
     ]
    },
    {
     "name": "stderr",
     "output_type": "stream",
     "text": [
      "[Parallel(n_jobs=1)]: Done  17 tasks      | elapsed:    0.3s\n",
      "[Parallel(n_jobs=1)]: Done  71 tasks      | elapsed:    1.6s\n",
      "[Parallel(n_jobs=1)]: Done 161 tasks      | elapsed:    3.5s\n",
      "[Parallel(n_jobs=1)]: Done 287 tasks      | elapsed:    6.1s\n"
     ]
    },
    {
     "name": "stdout",
     "output_type": "stream",
     "text": [
      "Filtering raw data in 1 contiguous segment\n",
      "Setting up band-pass filter from 0.1 - 1e+02 Hz\n",
      "\n",
      "FIR filter parameters\n",
      "---------------------\n",
      "Designing a two-pass forward and reverse, zero-phase, non-causal bandpass filter:\n",
      "- Windowed time-domain design (firwin) method\n",
      "- Hamming window with 0.0194 passband ripple and 53 dB stopband attenuation\n",
      "- Lower passband edge: 0.10\n",
      "- Lower transition bandwidth: 0.10 Hz (-12 dB cutoff frequency: 0.05 Hz)\n",
      "- Upper passband edge: 100.00 Hz\n",
      "- Upper transition bandwidth: 25.00 Hz (-12 dB cutoff frequency: 112.50 Hz)\n",
      "- Filter length: 33001 samples (33.001 s)\n",
      "\n"
     ]
    },
    {
     "name": "stderr",
     "output_type": "stream",
     "text": [
      "[Parallel(n_jobs=1)]: Done  17 tasks      | elapsed:    1.5s\n",
      "[Parallel(n_jobs=1)]: Done  71 tasks      | elapsed:    6.6s\n",
      "[Parallel(n_jobs=1)]: Done 161 tasks      | elapsed:   15.0s\n",
      "[Parallel(n_jobs=1)]: Done 287 tasks      | elapsed:   27.8s\n"
     ]
    },
    {
     "name": "stdout",
     "output_type": "stream",
     "text": [
      "Filtering raw data in 1 contiguous segment\n",
      "Setting up band-stop filter from 49 - 51 Hz\n",
      "\n",
      "FIR filter parameters\n",
      "---------------------\n",
      "Designing a two-pass forward and reverse, zero-phase, non-causal bandstop filter:\n",
      "- Windowed time-domain design (firwin) method\n",
      "- Hamming window with 0.0194 passband ripple and 53 dB stopband attenuation\n",
      "- Lower passband edge: 49.38\n",
      "- Lower transition bandwidth: 0.50 Hz (-12 dB cutoff frequency: 49.12 Hz)\n",
      "- Upper passband edge: 50.62 Hz\n",
      "- Upper transition bandwidth: 0.50 Hz (-12 dB cutoff frequency: 50.88 Hz)\n",
      "- Filter length: 6601 samples (6.601 s)\n",
      "\n"
     ]
    },
    {
     "name": "stderr",
     "output_type": "stream",
     "text": [
      "[Parallel(n_jobs=1)]: Done  17 tasks      | elapsed:    0.4s\n",
      "[Parallel(n_jobs=1)]: Done  71 tasks      | elapsed:    1.9s\n",
      "[Parallel(n_jobs=1)]: Done 161 tasks      | elapsed:    4.3s\n",
      "[Parallel(n_jobs=1)]: Done 287 tasks      | elapsed:    7.6s\n"
     ]
    },
    {
     "name": "stdout",
     "output_type": "stream",
     "text": [
      "Filtering raw data in 1 contiguous segment\n",
      "Setting up band-pass filter from 0.1 - 1e+02 Hz\n",
      "\n",
      "FIR filter parameters\n",
      "---------------------\n",
      "Designing a two-pass forward and reverse, zero-phase, non-causal bandpass filter:\n",
      "- Windowed time-domain design (firwin) method\n",
      "- Hamming window with 0.0194 passband ripple and 53 dB stopband attenuation\n",
      "- Lower passband edge: 0.10\n",
      "- Lower transition bandwidth: 0.10 Hz (-12 dB cutoff frequency: 0.05 Hz)\n",
      "- Upper passband edge: 100.00 Hz\n",
      "- Upper transition bandwidth: 25.00 Hz (-12 dB cutoff frequency: 112.50 Hz)\n",
      "- Filter length: 33001 samples (33.001 s)\n",
      "\n"
     ]
    },
    {
     "name": "stderr",
     "output_type": "stream",
     "text": [
      "[Parallel(n_jobs=1)]: Done  17 tasks      | elapsed:    1.5s\n",
      "[Parallel(n_jobs=1)]: Done  71 tasks      | elapsed:    6.4s\n",
      "[Parallel(n_jobs=1)]: Done 161 tasks      | elapsed:   14.6s\n",
      "[Parallel(n_jobs=1)]: Done 287 tasks      | elapsed:   26.2s\n"
     ]
    },
    {
     "name": "stdout",
     "output_type": "stream",
     "text": [
      "Filtering raw data in 1 contiguous segment\n",
      "Setting up band-stop filter from 49 - 51 Hz\n",
      "\n",
      "FIR filter parameters\n",
      "---------------------\n",
      "Designing a two-pass forward and reverse, zero-phase, non-causal bandstop filter:\n",
      "- Windowed time-domain design (firwin) method\n",
      "- Hamming window with 0.0194 passband ripple and 53 dB stopband attenuation\n",
      "- Lower passband edge: 49.38\n",
      "- Lower transition bandwidth: 0.50 Hz (-12 dB cutoff frequency: 49.12 Hz)\n",
      "- Upper passband edge: 50.62 Hz\n",
      "- Upper transition bandwidth: 0.50 Hz (-12 dB cutoff frequency: 50.88 Hz)\n",
      "- Filter length: 6601 samples (6.601 s)\n",
      "\n"
     ]
    },
    {
     "name": "stderr",
     "output_type": "stream",
     "text": [
      "[Parallel(n_jobs=1)]: Done  17 tasks      | elapsed:    0.4s\n",
      "[Parallel(n_jobs=1)]: Done  71 tasks      | elapsed:    1.9s\n",
      "[Parallel(n_jobs=1)]: Done 161 tasks      | elapsed:    4.4s\n",
      "[Parallel(n_jobs=1)]: Done 287 tasks      | elapsed:    7.8s\n"
     ]
    },
    {
     "name": "stdout",
     "output_type": "stream",
     "text": [
      "Filtering raw data in 1 contiguous segment\n",
      "Setting up band-pass filter from 0.1 - 1e+02 Hz\n",
      "\n",
      "FIR filter parameters\n",
      "---------------------\n",
      "Designing a two-pass forward and reverse, zero-phase, non-causal bandpass filter:\n",
      "- Windowed time-domain design (firwin) method\n",
      "- Hamming window with 0.0194 passband ripple and 53 dB stopband attenuation\n",
      "- Lower passband edge: 0.10\n",
      "- Lower transition bandwidth: 0.10 Hz (-12 dB cutoff frequency: 0.05 Hz)\n",
      "- Upper passband edge: 100.00 Hz\n",
      "- Upper transition bandwidth: 25.00 Hz (-12 dB cutoff frequency: 112.50 Hz)\n",
      "- Filter length: 33001 samples (33.001 s)\n",
      "\n"
     ]
    },
    {
     "name": "stderr",
     "output_type": "stream",
     "text": [
      "[Parallel(n_jobs=1)]: Done  17 tasks      | elapsed:    1.4s\n",
      "[Parallel(n_jobs=1)]: Done  71 tasks      | elapsed:    6.4s\n",
      "[Parallel(n_jobs=1)]: Done 161 tasks      | elapsed:   14.5s\n",
      "[Parallel(n_jobs=1)]: Done 287 tasks      | elapsed:   25.9s\n"
     ]
    },
    {
     "name": "stdout",
     "output_type": "stream",
     "text": [
      "Filtering raw data in 1 contiguous segment\n",
      "Setting up band-stop filter from 49 - 51 Hz\n",
      "\n",
      "FIR filter parameters\n",
      "---------------------\n",
      "Designing a two-pass forward and reverse, zero-phase, non-causal bandstop filter:\n",
      "- Windowed time-domain design (firwin) method\n",
      "- Hamming window with 0.0194 passband ripple and 53 dB stopband attenuation\n",
      "- Lower passband edge: 49.38\n",
      "- Lower transition bandwidth: 0.50 Hz (-12 dB cutoff frequency: 49.12 Hz)\n",
      "- Upper passband edge: 50.62 Hz\n",
      "- Upper transition bandwidth: 0.50 Hz (-12 dB cutoff frequency: 50.88 Hz)\n",
      "- Filter length: 6601 samples (6.601 s)\n",
      "\n"
     ]
    },
    {
     "name": "stderr",
     "output_type": "stream",
     "text": [
      "[Parallel(n_jobs=1)]: Done  17 tasks      | elapsed:    0.2s\n",
      "[Parallel(n_jobs=1)]: Done  71 tasks      | elapsed:    1.3s\n",
      "[Parallel(n_jobs=1)]: Done 161 tasks      | elapsed:    3.2s\n",
      "[Parallel(n_jobs=1)]: Done 287 tasks      | elapsed:    5.9s\n"
     ]
    },
    {
     "name": "stdout",
     "output_type": "stream",
     "text": [
      "Filtering raw data in 1 contiguous segment\n",
      "Setting up band-pass filter from 0.1 - 1e+02 Hz\n",
      "\n",
      "FIR filter parameters\n",
      "---------------------\n",
      "Designing a two-pass forward and reverse, zero-phase, non-causal bandpass filter:\n",
      "- Windowed time-domain design (firwin) method\n",
      "- Hamming window with 0.0194 passband ripple and 53 dB stopband attenuation\n",
      "- Lower passband edge: 0.10\n",
      "- Lower transition bandwidth: 0.10 Hz (-12 dB cutoff frequency: 0.05 Hz)\n",
      "- Upper passband edge: 100.00 Hz\n",
      "- Upper transition bandwidth: 25.00 Hz (-12 dB cutoff frequency: 112.50 Hz)\n",
      "- Filter length: 33001 samples (33.001 s)\n",
      "\n"
     ]
    },
    {
     "name": "stderr",
     "output_type": "stream",
     "text": [
      "[Parallel(n_jobs=1)]: Done  17 tasks      | elapsed:    1.4s\n",
      "[Parallel(n_jobs=1)]: Done  71 tasks      | elapsed:    6.1s\n",
      "[Parallel(n_jobs=1)]: Done 161 tasks      | elapsed:   14.1s\n",
      "[Parallel(n_jobs=1)]: Done 287 tasks      | elapsed:   25.6s\n"
     ]
    },
    {
     "name": "stdout",
     "output_type": "stream",
     "text": [
      "Filtering raw data in 1 contiguous segment\n",
      "Setting up band-stop filter from 49 - 51 Hz\n",
      "\n",
      "FIR filter parameters\n",
      "---------------------\n",
      "Designing a two-pass forward and reverse, zero-phase, non-causal bandstop filter:\n",
      "- Windowed time-domain design (firwin) method\n",
      "- Hamming window with 0.0194 passband ripple and 53 dB stopband attenuation\n",
      "- Lower passband edge: 49.38\n",
      "- Lower transition bandwidth: 0.50 Hz (-12 dB cutoff frequency: 49.12 Hz)\n",
      "- Upper passband edge: 50.62 Hz\n",
      "- Upper transition bandwidth: 0.50 Hz (-12 dB cutoff frequency: 50.88 Hz)\n",
      "- Filter length: 6601 samples (6.601 s)\n",
      "\n"
     ]
    },
    {
     "name": "stderr",
     "output_type": "stream",
     "text": [
      "[Parallel(n_jobs=1)]: Done  17 tasks      | elapsed:    0.2s\n",
      "[Parallel(n_jobs=1)]: Done  71 tasks      | elapsed:    1.4s\n",
      "[Parallel(n_jobs=1)]: Done 161 tasks      | elapsed:    3.1s\n",
      "[Parallel(n_jobs=1)]: Done 287 tasks      | elapsed:    6.0s\n"
     ]
    }
   ],
   "source": [
    "#Фильтрация файлов \n",
    "for i in range (0, len(MEG)):\n",
    "    #MEG[i]=MEG[i].drop_channels(MEG[i].ch_names[-1])  \n",
    "    MEG[i]=MEG[i].filter(0.1, 100, phase='zero-double')\n",
    "    MEG[i]=MEG[i].copy().notch_filter(50, picks=None, filter_length='auto', \n",
    "                                       notch_widths=None, trans_bandwidth=1.0, n_jobs=None, method='fir', \n",
    "                                       iir_params=None, mt_bandwidth=None, p_value=0.05, phase='zero-double', \n",
    "                                       fir_window='hamming', fir_design='firwin', \n",
    "                                       pad='reflect_limited', \n",
    "                                       skip_by_annotation=('edge', 'bad_acq_skip'), verbose=None)\n",
    "   # MEG[i].plot(start=0)"
   ]
  },
  {
   "cell_type": "code",
   "execution_count": 13,
   "id": "1f249c0f",
   "metadata": {},
   "outputs": [
    {
     "data": {
      "text/plain": [
       "[<Raw | MG023_vft_run1_raw_tsss_mc.fif, 336 x 148000 (148.0 s), ~384.6 MB, data loaded>,\n",
       " <Raw | MG024_vft_run1_raw_tsss_mc.fif, 336 x 130000 (130.0 s), ~338.4 MB, data loaded>,\n",
       " <Raw | MG025_vft_run1_raw_tsss_mc.fif, 336 x 141000 (141.0 s), ~366.6 MB, data loaded>,\n",
       " <Raw | MG026_vft_run1_raw_tsss_mc.fif, 336 x 134000 (134.0 s), ~348.7 MB, data loaded>,\n",
       " <Raw | MG027_vft_run1_raw_tsss_mc.fif, 336 x 135000 (135.0 s), ~351.3 MB, data loaded>,\n",
       " <Raw | MG028_vft_run1_raw_tsss_mc.fif, 336 x 140000 (140.0 s), ~364.1 MB, data loaded>,\n",
       " <Raw | MG029_vft_run1_raw_tsss_mc.fif, 336 x 170000 (170.0 s), ~441.0 MB, data loaded>,\n",
       " <Raw | MG030_vft_run1_raw_tsss_mc.fif, 336 x 158000 (158.0 s), ~410.2 MB, data loaded>,\n",
       " <Raw | MG031_vft_run1_raw_tsss_mc.fif, 336 x 136000 (136.0 s), ~353.8 MB, data loaded>,\n",
       " <Raw | MG032_vft_run1_raw_tsss_mc.fif, 336 x 138000 (138.0 s), ~358.9 MB, data loaded>]"
      ]
     },
     "execution_count": 13,
     "metadata": {},
     "output_type": "execute_result"
    }
   ],
   "source": [
    "MEG # Cмотрим что за файлы, ображаем внемание на тайминги"
   ]
  },
  {
   "cell_type": "code",
   "execution_count": 37,
   "id": "ace41755",
   "metadata": {
    "scrolled": true
   },
   "outputs": [],
   "source": [
    "# Обризаем файлы так как меток нет, то к сожалению приблизительно. \n",
    "# Продолжительность стимуляции должна быть 120 секунд\n",
    "eplist=[]\n",
    "for i in range (0, len(MEG)):\n",
    "    ep = MEG[i].copy().crop(tmin=3, tmax=123) #Приблизительно нарезаем от 3 до 123 секунд\n",
    "    eplist.append(ep)"
   ]
  },
  {
   "cell_type": "code",
   "execution_count": 38,
   "id": "e82c32e3",
   "metadata": {},
   "outputs": [],
   "source": [
    "#Разделяем магнитометры и градиометры\n",
    "mag_list=[]#список файлов с магнитометрами\n",
    "grad_list=[]#список фойлов с градиометрами\n",
    "for i in range (0, len(MEG)):\n",
    "    mag_list.append(eplist[i].copy().pick('mag'))\n",
    "    grad_list.append(eplist[i].copy().pick('grad'))"
   ]
  },
  {
   "cell_type": "code",
   "execution_count": 110,
   "id": "13755164",
   "metadata": {},
   "outputs": [
    {
     "data": {
      "image/png": "[encoded data removed]",
      "text/plain": [
       "<Figure size 640x640 with 1 Axes>"
      ]
     },
     "execution_count": 110,
     "metadata": {},
     "output_type": "execute_result"
    }
   ],
   "source": [
    "#Можно попробовать отристовать сенсоры\n",
    "mne.viz.plot_sensors(mag_list[0].info, kind='topomap',\n",
    "                     ch_type='grad',  show_names=True, \n",
    "                     to_sphere=True, axes=None, block=False, show=True, \n",
    "                     sphere=None, verbose=None,\n",
    "                    pointsize=110, linewidth=1)"
   ]
  },
  {
   "cell_type": "code",
   "execution_count": 16,
   "id": "3d6976bf",
   "metadata": {},
   "outputs": [],
   "source": [
    "#Создаем функцию для расчета SNR\n",
    "def snr_spectrum(psd, noise_n_neighbor_freqs=1, noise_skip_neighbor_freqs=1):\n",
    "    \"\"\"Compute SNR spectrum from PSD spectrum using convolution.\n",
    "\n",
    "    Parameters\n",
    "    ----------\n",
    "    psd : ndarray, shape ([n_trials, n_channels,] n_frequency_bins)\n",
    "        Data object containing PSD values. Works with arrays as produced by\n",
    "        MNE's PSD functions or channel/trial subsets.\n",
    "    noise_n_neighbor_freqs : int\n",
    "        Number of neighboring frequencies used to compute noise level.\n",
    "        increment by one to add one frequency bin ON BOTH SIDES\n",
    "    noise_skip_neighbor_freqs : int\n",
    "        set this >=1 if you want to exclude the immediately neighboring\n",
    "        frequency bins in noise level calculation\n",
    "\n",
    "    Returns\n",
    "    -------\n",
    "    snr : ndarray, shape ([n_trials, n_channels,] n_frequency_bins)\n",
    "        Array containing SNR for all epochs, channels, frequency bins.\n",
    "        NaN for frequencies on the edges, that do not have enough neighbors on\n",
    "        one side to calculate SNR.\n",
    "    \"\"\"\n",
    "    # Construct a kernel that calculates the mean of the neighboring\n",
    "    # frequencies\n",
    "    averaging_kernel = np.concatenate(\n",
    "        (\n",
    "            np.ones(noise_n_neighbor_freqs),\n",
    "            np.zeros(2 * noise_skip_neighbor_freqs + 1),\n",
    "            np.ones(noise_n_neighbor_freqs),\n",
    "        )\n",
    "    )\n",
    "    averaging_kernel /= averaging_kernel.sum()\n",
    "\n",
    "    # Calculate the mean of the neighboring frequencies by convolving with the\n",
    "    # averaging kernel.\n",
    "    mean_noise = np.apply_along_axis(\n",
    "        lambda psd_: np.convolve(psd_, averaging_kernel, mode=\"valid\"), axis=-1, arr=psd\n",
    "    )\n",
    "\n",
    "    # The mean is not defined on the edges so we will pad it with nas. The\n",
    "    # padding needs to be done for the last dimension only so we set it to\n",
    "    # (0, 0) for the other ones.\n",
    "    edge_width = noise_n_neighbor_freqs + noise_skip_neighbor_freqs\n",
    "    pad_width = [(0, 0)] * (mean_noise.ndim - 1) + [(edge_width, edge_width)]\n",
    "    mean_noise = np.pad(mean_noise, pad_width=pad_width, constant_values=np.nan)\n",
    "\n",
    "    return psd / mean_noise"
   ]
  },
  {
   "cell_type": "code",
   "execution_count": 17,
   "id": "b2ca11f7",
   "metadata": {},
   "outputs": [],
   "source": [
    "#Создаем функцию для расчета Z значений\n",
    "def z_spectrum(psd, noise_n_neighborfreqs=1, noise_skip_neighborfreqs=1):\n",
    "    \"\"\"\n",
    "    Parameters\n",
    "    ----------\n",
    "    psd - np.array\n",
    "        containing psd values as spit out by mne functions. must be 2d or 3d\n",
    "        with frequencies in the last dimension\n",
    "    noise_n_neighborfreqs - int\n",
    "        number of neighboring frequencies used to compute noise level.\n",
    "        increment by one to add one frequency bin ON BOTH SIDES\n",
    "    noise_skip_neighborfreqs - int\n",
    "        set this >=1 if you want to exclude the immediately neighboring\n",
    "        frequency bins in noise level calculation\n",
    "\n",
    "    Returns\n",
    "    -------\n",
    "    snr - np.array\n",
    "        array containing snr for all epochs, channels, frequency bins.\n",
    "        NaN for frequencies on the edge, that do not have enoug neighbors on\n",
    "        one side to calculate snr\n",
    "    \"\"\"\n",
    "\n",
    "    # prep not epoched / single channel data\n",
    "    is_2d = True if (len(psd.shape) == 2) else False\n",
    "    if is_2d:\n",
    "        psd = psd.reshape((1, psd.shape[0], psd.shape[1]))\n",
    "\n",
    "    # SNR loop\n",
    "    z_scr = np.empty(psd.shape)\n",
    "    for i_freq in range(psd.shape[2]):\n",
    "\n",
    "        # skip freqs on the edges (without noise neighbors)\n",
    "\n",
    "        start_freq_i = noise_n_neighborfreqs + noise_skip_neighborfreqs\n",
    "        stop_freq_i = (psd.shape[2] - noise_n_neighborfreqs\n",
    "                       - noise_skip_neighborfreqs)\n",
    "        if not (stop_freq_i > i_freq >= start_freq_i):\n",
    "            z_scr[:, :, i_freq] = np.nan\n",
    "            continue\n",
    "\n",
    "        # extract signal level\n",
    "        signal = psd[:, :, i_freq]\n",
    "\n",
    "        # ... and average noise level\n",
    "        i_noise = []\n",
    "        for i in range(noise_n_neighborfreqs):\n",
    "            i_noise.append(i_freq + noise_skip_neighborfreqs + i + 1)\n",
    "            i_noise.append(i_freq - noise_skip_neighborfreqs - i - 1)\n",
    "        noise_mean = psd[:, :, i_noise].mean(axis=2)\n",
    "        noise_std = psd[:, :, i_noise].std(axis=2)\n",
    "\n",
    "        z_scr[:, :, i_freq] = (signal - noise_mean) / noise_std\n",
    "\n",
    "    # reshape not epoched / single channel data to original dimensions\n",
    "    if is_2d:\n",
    "        z_scr = z_scr.reshape(z_scr.shape[1], z_scr.shape[2])\n",
    "\n",
    "    return z_scr"
   ]
  },
  {
   "cell_type": "code",
   "execution_count": 18,
   "id": "dbf15e47",
   "metadata": {},
   "outputs": [],
   "source": [
    "#Создаем функцию для расчета скоректированной амплитуды\n",
    "def bas_cor(psd, noise_n_neighborfreqs=1, noise_skip_neighborfreqs=1):\n",
    "    \"\"\"\n",
    "    Parameters\n",
    "    ----------\n",
    "    psd - np.array\n",
    "        containing psd values as spit out by mne functions. must be 2d or 3d\n",
    "        with frequencies in the last dimension\n",
    "    noise_n_neighborfreqs - int\n",
    "        number of neighboring frequencies used to compute noise level.\n",
    "        increment by one to add one frequency bin ON BOTH SIDES\n",
    "    noise_skip_neighborfreqs - int\n",
    "        set this >=1 if you want to exclude the immediately neighboring\n",
    "        frequency bins in noise level calculation\n",
    "\n",
    "    Returns\n",
    "    -------\n",
    "    snr - np.array\n",
    "        array containing snr for all epochs, channels, frequency bins.\n",
    "        NaN for frequencies on the edge, that do not have enoug neighbors on\n",
    "        one side to calculate snr\n",
    "    \"\"\"\n",
    "\n",
    "    # prep not epoched / single channel data\n",
    "    is_2d = True if (len(psd.shape) == 2) else False\n",
    "    if is_2d:\n",
    "        psd = psd.reshape((1, psd.shape[0], psd.shape[1]))\n",
    "\n",
    "    # SNR loop\n",
    "    bas_cor_spect = np.empty(psd.shape)\n",
    "    for i_freq in range(psd.shape[2]):\n",
    "\n",
    "        # skip freqs on the edges (without noise neighbors)\n",
    "\n",
    "        start_freq_i = noise_n_neighborfreqs + noise_skip_neighborfreqs\n",
    "        stop_freq_i = (psd.shape[2] - noise_n_neighborfreqs\n",
    "                       - noise_skip_neighborfreqs)\n",
    "        if not (stop_freq_i > i_freq >= start_freq_i):\n",
    "            bas_cor_spect[:, :, i_freq] = np.nan\n",
    "            continue\n",
    "\n",
    "        # extract signal level\n",
    "        signal = psd[:, :, i_freq]\n",
    "\n",
    "        # ... and average noise level\n",
    "        i_noise = []\n",
    "        for i in range(noise_n_neighborfreqs):\n",
    "            i_noise.append(i_freq + noise_skip_neighborfreqs + i + 1)\n",
    "            i_noise.append(i_freq - noise_skip_neighborfreqs - i - 1)\n",
    "        noise_mean = psd[:, :, i_noise].mean(axis=2)\n",
    "        noise_std = psd[:, :, i_noise].std(axis=2)\n",
    "\n",
    "        bas_cor_spect[:, :, i_freq] = signal - noise_mean\n",
    "\n",
    "    # reshape not epoched / single channel data to original dimensions\n",
    "    if is_2d:\n",
    "        bas_cor_spect = bas_cor_spect.reshape(bas_cor_spect.shape[1], bas_cor_spect.shape[2])\n",
    "\n",
    "    return bas_cor_spect"
   ]
  },
  {
   "cell_type": "code",
   "execution_count": 79,
   "id": "781fee6d",
   "metadata": {},
   "outputs": [],
   "source": [
    "i_bin_1_2hz = np.argmin(abs(freqs - 1.2))\n",
    "i_bin_2_4hz = np.argmin(abs(freqs - 2.4))\n",
    "i_bin_3_6hz = np.argmin(abs(freqs - 3.6))\n",
    "i_bin_4_8hz = np.argmin(abs(freqs - 4.8))\n",
    "\n",
    "i_bin_6hz = np.argmin(abs(freqs - 6))\n",
    "i_bin_12hz = np.argmin(abs(freqs - 12))\n",
    "i_bin_18hz = np.argmin(abs(freqs - 18))\n",
    "i_bin_24hz = np.argmin(abs(freqs - 24))\n",
    "\n",
    "\n",
    "\n",
    "snrs_1_2hz = av_zscrs[:, i_bin_1_2hz]\n",
    "snrs_1_2hz_chaverage = snrs_1_2hz\n",
    "snrs_6hz = av_zscrs[:, i_bin_6hz]\n",
    "snrs_6hz_chaverage = snrs_6hz\n",
    "\n",
    "\n",
    "snrs_2_4hz = av_zscrs[:, i_bin_2_4hz]\n",
    "snrs_2_4hz_chaverage = snrs_2_4hz\n",
    "snrs_12hz = av_zscrs[:, i_bin_12hz]\n",
    "snrs_12hz_chaverage = snrs_12hz\n",
    "\n",
    "mask_1_2hz=np.copy(snrs_1_2hz_chaverage)\n",
    "np.place(mask_1_2hz, mask_1_2hz<1.64, [0])\n",
    "np.place(mask_1_2hz, mask_1_2hz>1.64, [1])\n",
    "mask_2_4hz=np.copy(snrs_2_4hz_chaverage)\n",
    "np.place(mask_2_4hz, mask_2_4hz<1.64, [0])\n",
    "np.place(mask_2_4hz, mask_2_4hz>1.64, [1])\n",
    "mask_6hz=np.copy(snrs_6hz_chaverage)\n",
    "np.place(mask_6hz, mask_6hz<1.64, [0])\n",
    "np.place(mask_6hz, mask_6hz>1.64, [1])\n",
    "mask_12hz=np.copy(snrs_12hz_chaverage)\n",
    "np.place(mask_12hz, mask_12hz<1.64, [0])\n",
    "np.place(mask_12hz, mask_12hz>1.64, [1])\n",
    "\n",
    "mask_p=dict(markersize=10, markerfacecolor=\"w\")\n",
    "      \n",
    "\n",
    "fig, ax = plt.subplots(2,2, figsize=[12, 8])\n",
    "mne.viz.plot_topomap(snrs_1_2hz_chaverage, \n",
    "                     #grad_list[0].info, ch_type=\"grad\", names=grad_list[0].ch_names,\n",
    "                     mag_list[0].info, ch_type=\"mag\", names=mag_list[0].ch_names\n",
    "                    # mask=mask_1_2hz, mask_params=mask_p,\n",
    "                     cmap='RdPu', sensors=True, vlim=(1, 8), axes=ax[0,0])\n",
    "mne.viz.plot_topomap(snrs_2_4hz_chaverage, \n",
    "                     #grad_list[0].info, ch_type=\"grad\", names=grad_list[0].ch_names, \n",
    "                     mag_list[0].info, ch_type=\"mag\", names=mag_list[0].ch_names\n",
    "                    # mask=mask_2_4hz, mask_params=mask_p,\n",
    "                     cmap='RdPu', sensors=True, vlim=(1, 8), axes=ax[0,1])\n",
    "\n",
    "\n",
    "mne.viz.plot_topomap(snrs_6hz_chaverage, \n",
    "                     #grad_list[0].info, ch_type=\"grad\", names=grad_list[0].ch_names, \n",
    "                     mag_list[0].info, ch_type=\"mag\", names=mag_list[0].ch_names\n",
    "                    # mask=mask_6hz, mask_params=mask_p,\n",
    "                     cmap='RdPu', sensors=True, vlim=(1, 8), axes=ax[1,0])\n",
    "mne.viz.plot_topomap(snrs_12hz_chaverage, \n",
    "                     #grad_list[0].info, ch_type=\"grad\", names=grad_list[0].ch_names,\n",
    "                     mag_list[0].info, ch_type=\"mag\", names=mag_list[0].ch_names\n",
    "                    # mask=mask_12hz, mask_params=mask_p,\n",
    "                     cmap='RdPu', sensors=True, vlim=(1, 8),axes=ax[1,1])\n",
    "\n",
    "\n",
    "ax[0,0].set_title('1.2 Hz Z scores')\n",
    "ax[0,1].set_title('2.4 Hz Z scores')\n",
    "\n",
    "ax[1,0].set_title('6 Hz Z scores')\n",
    "ax[1,1].set_title('12 Hz Z scores')\n",
    "\n",
    "\n",
    "#fig.suptitle(f'Block {n+1}', fontsize=26)\n",
    "fig.show()"
   ]
  },
  {
   "cell_type": "code",
   "execution_count": 39,
   "id": "761d5725",
   "metadata": {
    "scrolled": true
   },
   "outputs": [
    {
     "name": "stdout",
     "output_type": "stream",
     "text": [
      "MG023_vft_run1_raw_tsss_mc.fif done\n",
      "MG024_vft_run1_raw_tsss_mc.fif done\n",
      "MG025_vft_run1_raw_tsss_mc.fif done\n",
      "MG026_vft_run1_raw_tsss_mc.fif done\n",
      "MG027_vft_run1_raw_tsss_mc.fif done\n",
      "MG028_vft_run1_raw_tsss_mc.fif done\n",
      "MG029_vft_run1_raw_tsss_mc.fif done\n",
      "MG030_vft_run1_raw_tsss_mc.fif done\n",
      "MG031_vft_run1_raw_tsss_mc.fif done\n",
      "MG032_vft_run1_raw_tsss_mc.fif done\n"
     ]
    }
   ],
   "source": [
    "# Расчитываем усредненные спектры для всей группы\n",
    "target_list= mag_list # выбтраем целевой список\n",
    "tmin = 1. #время начала\n",
    "tmax = 120. #время конца\n",
    "fmin = 0.1 # нижняя граница частот\n",
    "fmax = 100. # верхняя граница частот\n",
    "sfreq = mag_list[0].info[\"sfreq\"] # определяем частоту дискретезации\n",
    "# Создаем списки куда все будет сохранянться\n",
    "amp_list = [] \n",
    "snrs_list = []\n",
    "zscrs_list = []\n",
    "amp_cor_list = []\n",
    "\n",
    "for i in range (0, len(MEG)):\n",
    "    data=mag_list[i].get_data()\n",
    "    fs = sfreq\n",
    "    fft_vals = np.absolute(np.fft.rfft(data))\n",
    "    fft_freq = np.fft.rfftfreq(len(data[0]), 1.0/fs)\n",
    "\n",
    "    amp_list.append(fft_vals)\n",
    "    snrs = snr_spectrum(fft_vals, 10, 1)\n",
    "    snrs_list.append(snrs)  \n",
    "    zscrs = z_spectrum(fft_vals, 10, 1)\n",
    "    zscrs_list.append(zscrs)         \n",
    "    bc = bas_cor(fft_vals, 10, 1)\n",
    "    amp_cor_list.append(bc) \n",
    "    print(f'{filenames[i]} done')\n",
    "# Усредняем по выборке    \n",
    "av_amp = np.mean(amp_list, axis=0)\n",
    "av_snrs = np.mean(snrs_list, axis=0)   \n",
    "av_zscrs = np.mean(zscrs_list, axis=0) \n",
    "av_cors = np.mean(amp_cor_list, axis=0) "
   ]
  },
  {
   "cell_type": "code",
   "execution_count": 44,
   "id": "a3fcf2ba",
   "metadata": {},
   "outputs": [
    {
     "data": {
      "text/plain": [
       "<matplotlib.patches.Polygon at 0x1bd2d85c760>"
      ]
     },
     "execution_count": 44,
     "metadata": {},
     "output_type": "execute_result"
    }
   ],
   "source": [
    "#Рисуем амплитудный спектр и SNR\n",
    "fig, axes = plt.subplots(2, 1, sharex='all', sharey='none', figsize=(18, 10))\n",
    "freq_range = range(np.where(np.floor(fft_freq) == 1.)[0][0],\n",
    "                   np.where(np.ceil(fft_freq) == fmax - 1)[0][0])\n",
    "\n",
    "psds_plot = av_amp\n",
    "psds_mean = psds_plot.mean(axis=(0))[freq_range]\n",
    "psds_std = psds_plot.std(axis=(0))[freq_range]\n",
    "axes[0].plot(fft_freq[freq_range], psds_mean, color='C2')\n",
    "axes[0].fill_between(\n",
    "    fft_freq[freq_range], psds_mean - psds_std, psds_mean + psds_std,\n",
    "    color='C2', alpha=.2)\n",
    "axes[0].set(title=\"Amplitude spectrum\", ylabel='Amplitude [mV]')\n",
    "\n",
    "# SNR spectrum\n",
    "snr_mean = av_snrs.mean(axis=(0))[freq_range]\n",
    "snr_std = av_snrs.std(axis=(0))[freq_range]\n",
    "\n",
    "axes[1].plot(fft_freq[freq_range], snr_mean, color='C0')\n",
    "axes[1].fill_between(\n",
    "    fft_freq[freq_range], snr_mean - snr_std, snr_mean + snr_std,\n",
    "    color='C0', alpha=.2)\n",
    "axes[1].set(\n",
    "    title=\"SNR spectrum\", xlabel='Frequency [Hz]',\n",
    "    ylabel='SNR', ylim=[0, 15], xlim=[fmin, 40])\n",
    "\n",
    "axes[0].axvspan(1.2-0.02, 1.2+0.02, alpha=0.2, color ='k')\n",
    "axes[0].axvspan(1.2*2-0.02, 1.2*2+0.02, alpha=0.2, color ='k')\n",
    "axes[0].axvspan(1.2*3-0.02, 1.2*3+0.02, alpha=0.2, color ='k')\n",
    "axes[0].axvspan(1.2*4-0.02, 1.2*4+0.02, alpha=0.2, color ='k')\n",
    "axes[0].axvspan(6-0.02, 6+0.02, alpha=0.2, color ='b')\n",
    "axes[0].axvspan(6*2-0.02, 6*2+0.02, alpha=0.2, color ='b')\n",
    "axes[0].axvspan(6*3-0.02, 6*3+0.02, alpha=0.2, color ='b')\n",
    "axes[0].axvspan(6*4-0.02, 6*4+0.02, alpha=0.2, color ='b')\n",
    "\n",
    "axes[1].axvspan(1.2-0.02, 1.2+0.02, ymin=0, ymax=5, alpha=0.2, color ='k')\n",
    "axes[1].axvspan(1.2*2-0.02, 1.2*2+0.02, ymin=0, ymax=5, alpha=0.2, color ='k')\n",
    "axes[1].axvspan(1.2*3-0.02, 1.2*3+0.02, ymin=0, ymax=5, alpha=0.2, color ='k')\n",
    "axes[1].axvspan(1.2*4-0.02, 1.2*4+0.02, ymin=0, ymax=5, alpha=0.2, color ='k')\n",
    "axes[1].axvspan(6-0.02, 6+0.02, ymin=0, ymax=5, alpha=0.2, color ='b')\n",
    "axes[1].axvspan(6*2-0.02, 6*2+0.02, ymin=0, ymax=5, alpha=0.2, color ='b')\n",
    "axes[1].axvspan(6*3-0.02, 6*3+0.02, ymin=0, ymax=5, alpha=0.2, color ='b')\n",
    "axes[1].axvspan(6*4-0.02, 6*4+0.02, ymin=0, ymax=5, alpha=0.2, color ='b')"
   ]
  },
  {
   "cell_type": "code",
   "execution_count": 54,
   "id": "f558a6f4",
   "metadata": {},
   "outputs": [
    {
     "name": "stdout",
     "output_type": "stream",
     "text": [
      "6Hz (1f) N_sig_chan=84\n",
      "12Hz (2f) N_sig_chan=53\n",
      "18Hz (3f) N_sig_chan=1\n",
      "24Hz (4f) N_sig_chan=0\n",
      "30Hz (5f) N_sig_chan=0\n",
      "36Hz (6f) N_sig_chan=0\n",
      "42Hz (7f) N_sig_chan=0\n",
      "48Hz (8f) N_sig_chan=0\n",
      "54Hz (9f) N_sig_chan=0\n"
     ]
    }
   ],
   "source": [
    "#Показывает число каналов со значимимы Z значениями для гармоник частоты основной стимуляции\n",
    "frq=[6,12,18,24,30,36,42,48,54]\n",
    "for f in frq:\n",
    "    ch_list=[]\n",
    "    frq_ind=np.argmin(abs(fft_freq - f))\n",
    "    t_zscrs = av_zscrs[:, frq_ind]\n",
    "    mask=np.asarray(t_zscrs>1.64).nonzero()\n",
    "    #for a in mask[0]:\n",
    "        #ch_list.append(mag_list[0].ch_names[a])\n",
    "    #    ch_list.append(grad_list[0].ch_names[a])\n",
    "    print(f'{f}Hz ({int(f/6)}f) N_sig_chan={len(mask[0])}')"
   ]
  },
  {
   "cell_type": "code",
   "execution_count": 53,
   "id": "b39b3e1b",
   "metadata": {
    "scrolled": true
   },
   "outputs": [
    {
     "name": "stdout",
     "output_type": "stream",
     "text": [
      "1.2Hz (1f/5) N_sig_chan=2\n",
      "2.4Hz (2f/5) N_sig_chan=12\n",
      "3.6Hz (3f/5) N_sig_chan=11\n",
      "4.8Hz (4f/5) N_sig_chan=0\n",
      "6.0Hz (5f/5) N_sig_chan=84\n",
      "7.2Hz (6f/5) N_sig_chan=0\n",
      "8.4Hz (7f/5) N_sig_chan=2\n",
      "9.6Hz (8f/5) N_sig_chan=0\n",
      "10.8Hz (9f/5) N_sig_chan=0\n"
     ]
    }
   ],
   "source": [
    "#Показывает число каналов со значимимы Z значениями для гармоник частоты девиантной стимуляции\n",
    "frq=[1.2,2.4,3.6,4.8,6.0,7.2,8.4,9.6,10.8]\n",
    "for f in frq:\n",
    "    ch_list=[]\n",
    "    frq_ind=np.argmin(abs(fft_freq - f))\n",
    "    t_zscrs = av_zscrs[:, frq_ind]\n",
    "    mask=np.asarray(t_zscrs>1.64).nonzero()\n",
    "   # for a in mask[0]:\n",
    "   #     ch_list.append(grad_list[0].ch_names[a])\n",
    "       # ch_list.append(mag_list[0].ch_names[a])\n",
    "    print(f'{f}Hz ({int(f/1.2)}f/5) N_sig_chan={len(mask[0])}')"
   ]
  },
  {
   "cell_type": "code",
   "execution_count": 56,
   "id": "d41d80ef",
   "metadata": {},
   "outputs": [],
   "source": [
    "#Отрисовываем топографию Z значений для первых 4 гармоник основной и девиантоной частоты\n",
    "\n",
    "i_bin_1_2hz = np.argmin(abs(fft_freq - 1.2))\n",
    "i_bin_2_4hz = np.argmin(abs(fft_freq - 2.4))\n",
    "i_bin_3_6hz = np.argmin(abs(fft_freq - 3.6))\n",
    "i_bin_4_8hz = np.argmin(abs(fft_freq - 4.8))\n",
    "\n",
    "i_bin_6hz = np.argmin(abs(fft_freq - 6))\n",
    "i_bin_12hz = np.argmin(abs(fft_freq - 12))\n",
    "i_bin_18hz = np.argmin(abs(fft_freq - 18))\n",
    "i_bin_24hz = np.argmin(abs(fft_freq - 24))\n",
    "\n",
    "\n",
    "\n",
    "snrs_1_2hz = av_zscrs[:, i_bin_1_2hz]\n",
    "snrs_1_2hz_chaverage = snrs_1_2hz\n",
    "snrs_6hz = av_zscrs[:, i_bin_6hz]\n",
    "snrs_6hz_chaverage = snrs_6hz\n",
    "\n",
    "\n",
    "snrs_2_4hz = av_zscrs[:, i_bin_2_4hz]\n",
    "snrs_2_4hz_chaverage = snrs_2_4hz\n",
    "snrs_12hz = av_zscrs[:, i_bin_12hz]\n",
    "snrs_12hz_chaverage = snrs_12hz\n",
    "\n",
    "snrs_3_6hz = av_zscrs[:, i_bin_2_4hz]\n",
    "snrs_3_6hz_chaverage = snrs_3_6hz\n",
    "snrs_18hz = av_zscrs[:, i_bin_18hz]\n",
    "snrs_18hz_chaverage = snrs_18hz\n",
    "\n",
    "snrs_4_8hz = av_zscrs[:, i_bin_4_8hz]\n",
    "snrs_4_8hz_chaverage = snrs_4_8hz\n",
    "snrs_24hz = av_zscrs[:, i_bin_24hz]\n",
    "snrs_24hz_chaverage = snrs_24hz\n",
    "\n",
    "mask_1_2hz=np.copy(snrs_1_2hz_chaverage)\n",
    "np.place(mask_1_2hz, mask_1_2hz<1.64, [0])\n",
    "np.place(mask_1_2hz, mask_1_2hz>1.64, [1])\n",
    "mask_2_4hz=np.copy(snrs_2_4hz_chaverage)\n",
    "np.place(mask_2_4hz, mask_2_4hz<1.64, [0])\n",
    "np.place(mask_2_4hz, mask_2_4hz>1.64, [1])\n",
    "mask_3_6hz=np.copy(snrs_3_6hz_chaverage)\n",
    "np.place(mask_3_6hz, mask_3_6hz<1.64, [0])\n",
    "np.place(mask_3_6hz, mask_3_6hz>1.64, [1])\n",
    "mask_4_8hz=np.copy(snrs_4_8hz_chaverage)\n",
    "np.place(mask_4_8hz, mask_4_8hz<1.64, [0])\n",
    "np.place(mask_4_8hz, mask_4_8hz>1.64, [1])\n",
    "\n",
    "mask_6hz=np.copy(snrs_6hz_chaverage)\n",
    "np.place(mask_6hz, mask_6hz<1.64, [0])\n",
    "np.place(mask_6hz, mask_6hz>1.64, [1])\n",
    "mask_12hz=np.copy(snrs_12hz_chaverage)\n",
    "np.place(mask_12hz, mask_12hz<1.64, [0])\n",
    "np.place(mask_12hz, mask_12hz>1.64, [1])\n",
    "mask_18hz=np.copy(snrs_18hz_chaverage)\n",
    "np.place(mask_18hz, mask_18hz<1.64, [0])\n",
    "np.place(mask_18hz, mask_18hz>1.64, [1])\n",
    "mask_24hz=np.copy(snrs_24hz_chaverage)\n",
    "np.place(mask_24hz, mask_24hz<1.64, [0])\n",
    "np.place(mask_24hz, mask_24hz>1.64, [1])\n",
    "\n",
    "mask_p=dict(markersize=10, markerfacecolor=\"w\")\n",
    "      \n",
    "\n",
    "fig, ax = plt.subplots(2,4, figsize=[12, 8])\n",
    "mne.viz.plot_topomap(snrs_1_2hz_chaverage, \n",
    "                     #grad_list[0].info, ch_type=\"grad\", names=grad_list[0].ch_names,\n",
    "                     mag_list[0].info, ch_type=\"mag\", names=mag_list[0].ch_names,\n",
    "                     mask=mask_1_2hz, mask_params=mask_p,\n",
    "                     cmap='RdPu', sensors=True, vlim=(1, 8), axes=ax[0,0])\n",
    "mne.viz.plot_topomap(snrs_2_4hz_chaverage, \n",
    "                     #grad_list[0].info, ch_type=\"grad\", names=grad_list[0].ch_names, \n",
    "                     mag_list[0].info, ch_type=\"mag\", names=mag_list[0].ch_names,\n",
    "                     mask=mask_2_4hz, mask_params=mask_p,\n",
    "                     cmap='RdPu', sensors=True, vlim=(1, 8), axes=ax[0,1])\n",
    "mne.viz.plot_topomap(snrs_3_6hz_chaverage, \n",
    "                     #grad_list[0].info, ch_type=\"grad\", names=grad_list[0].ch_names,\n",
    "                     mag_list[0].info, ch_type=\"mag\", names=mag_list[0].ch_names,\n",
    "                     mask=mask_3_6hz, mask_params=mask_p,\n",
    "                     cmap='RdPu', sensors=True, vlim=(1, 8), axes=ax[0,2])\n",
    "mne.viz.plot_topomap(snrs_4_8hz_chaverage, \n",
    "                     #grad_list[0].info, ch_type=\"grad\", names=grad_list[0].ch_names, \n",
    "                     mag_list[0].info, ch_type=\"mag\", names=mag_list[0].ch_names,\n",
    "                     mask=mask_4_8hz, mask_params=mask_p,\n",
    "                     cmap='RdPu', sensors=True, vlim=(1, 8), axes=ax[0,3])\n",
    "\n",
    "\n",
    "mne.viz.plot_topomap(snrs_6hz_chaverage, \n",
    "                     #grad_list[0].info, ch_type=\"grad\", names=grad_list[0].ch_names, \n",
    "                     mag_list[0].info, ch_type=\"mag\", names=mag_list[0].ch_names,\n",
    "                     mask=mask_6hz, mask_params=mask_p,\n",
    "                     cmap='RdPu', sensors=True, vlim=(1, 8), axes=ax[1,0])\n",
    "mne.viz.plot_topomap(snrs_12hz_chaverage, \n",
    "                     #grad_list[0].info, ch_type=\"grad\", names=grad_list[0].ch_names,\n",
    "                     mag_list[0].info, ch_type=\"mag\", names=mag_list[0].ch_names,\n",
    "                     mask=mask_12hz, mask_params=mask_p,\n",
    "                     cmap='RdPu', sensors=True, vlim=(1, 8),axes=ax[1,1])\n",
    "mne.viz.plot_topomap(snrs_18hz_chaverage, \n",
    "                     #grad_list[0].info, ch_type=\"grad\", names=grad_list[0].ch_names, \n",
    "                     mag_list[0].info, ch_type=\"mag\", names=mag_list[0].ch_names,\n",
    "                     mask=mask_18hz, mask_params=mask_p,\n",
    "                     cmap='RdPu', sensors=True, vlim=(1, 8), axes=ax[1,2])\n",
    "mne.viz.plot_topomap(snrs_24hz_chaverage, \n",
    "                     #grad_list[0].info, ch_type=\"grad\", names=grad_list[0].ch_names,\n",
    "                     mag_list[0].info, ch_type=\"mag\", names=mag_list[0].ch_names,\n",
    "                     mask=mask_24hz, mask_params=mask_p,\n",
    "                     cmap='RdPu', sensors=True, vlim=(1, 8),axes=ax[1,3])\n",
    "\n",
    "\n",
    "ax[0,0].set_title('1.2 Hz Z scores')\n",
    "ax[0,1].set_title('2.4 Hz Z scores')\n",
    "ax[0,2].set_title('3.6 Hz Z scores')\n",
    "ax[0,3].set_title('4.8 Hz Z scores')\n",
    "\n",
    "ax[1,0].set_title('6 Hz Z scores')\n",
    "ax[1,1].set_title('12 Hz Z scores')\n",
    "ax[1,2].set_title('18 Hz Z scores')\n",
    "ax[1,3].set_title('24 Hz Z scores')\n",
    "\n",
    "\n",
    "#fig.suptitle(f'Block {n+1}', fontsize=26)\n",
    "fig.show()"
   ]
  },
  {
   "cell_type": "code",
   "execution_count": 61,
   "id": "302b2911",
   "metadata": {
    "scrolled": true
   },
   "outputs": [],
   "source": [
    "#Индивидуальные картинки спектров\n",
    "for i in range (0, len(MEG)):\n",
    "    \n",
    "    fig, axes = plt.subplots(2, 1, sharex='all', sharey='none', figsize=(18, 10))\n",
    "    freq_range = range(np.where(np.floor(fft_freq) == 1.)[0][0],\n",
    "                   np.where(np.ceil(fft_freq) == fmax - 1)[0][0])\n",
    "\n",
    "    psds_plot = amp_list[i]\n",
    "    psds_mean = psds_plot.mean(axis=(0))[freq_range]\n",
    "    psds_std = psds_plot.std(axis=(0))[freq_range]\n",
    "    axes[0].plot(fft_freq[freq_range], psds_mean, color='b')\n",
    "    axes[0].fill_between(\n",
    "    fft_freq[freq_range], psds_mean - psds_std, psds_mean + psds_std,\n",
    "    color='b', alpha=.2)\n",
    "    axes[0].set(title=\"Amplitude spectrum\", ylabel='Amplitude [mV]')\n",
    "\n",
    "# SNR spectrum\n",
    "    snr_mean = snrs_list[i].mean(axis=(0))[freq_range]\n",
    "    snr_std = snrs_list[i].std(axis=(0))[freq_range]\n",
    "\n",
    "    axes[1].plot(fft_freq[freq_range], snr_mean, color='r')\n",
    "    axes[1].fill_between(\n",
    "    fft_freq[freq_range], snr_mean - snr_std, snr_mean + snr_std,\n",
    "    color='r', alpha=.2)\n",
    "    axes[1].set(\n",
    "    title=\"SNR spectrum\", xlabel='Frequency [Hz]',\n",
    "    ylabel='SNR', ylim=[-2, 15], xlim=[fmin, 26])\n",
    "    axes[0].axvspan(1.2-0.02, 1.2+0.02, alpha=0.2, color ='k')\n",
    "    axes[0].axvspan(1.2*2-0.02, 1.2*2+0.02, alpha=0.2, color ='k')\n",
    "    axes[0].axvspan(1.2*3-0.02, 1.2*3+0.02, alpha=0.2, color ='k')\n",
    "    axes[0].axvspan(1.2*4-0.02, 1.2*4+0.02, alpha=0.2, color ='k')\n",
    "    axes[0].axvspan(6-0.02, 6+0.02, alpha=0.2, color ='b')\n",
    "    axes[0].axvspan(6*2-0.02, 6*2+0.02, alpha=0.2, color ='b')\n",
    "    axes[0].axvspan(6*3-0.02, 6*3+0.02, alpha=0.2, color ='b')\n",
    "    axes[0].axvspan(6*4-0.02, 6*4+0.02, alpha=0.2, color ='b')\n",
    "\n",
    "    axes[1].axvspan(1.2-0.02, 1.2+0.02, ymin=0, ymax=5, alpha=0.2, color ='k')\n",
    "    axes[1].axvspan(1.2*2-0.02, 1.2*2+0.02, ymin=0, ymax=5, alpha=0.2, color ='k')\n",
    "    axes[1].axvspan(1.2*3-0.02, 1.2*3+0.02, ymin=0, ymax=5, alpha=0.2, color ='k')\n",
    "    axes[1].axvspan(1.2*4-0.02, 1.2*4+0.02, ymin=0, ymax=5, alpha=0.2, color ='k')\n",
    "    axes[1].axvspan(6-0.02, 6+0.02, ymin=0, ymax=5, alpha=0.2, color ='b')\n",
    "    axes[1].axvspan(6*2-0.02, 6*2+0.02, ymin=0, ymax=5, alpha=0.2, color ='b')\n",
    "    axes[1].axvspan(6*3-0.02, 6*3+0.02, ymin=0, ymax=5, alpha=0.2, color ='b')\n",
    "    axes[1].axvspan(6*4-0.02, 6*4+0.02, ymin=0, ymax=5, alpha=0.2, color ='b')\n",
    "    fig.suptitle(filenames[i][:5], fontsize=16)\n",
    "    fig.show()\n",
    "    #fig.savefig(f'MEG/ind/{filenames[i][4:9]}_B6.png')"
   ]
  }
 ],
 "metadata": {
  "celltoolbar": "Необработанный формат ячейки",
  "kernelspec": {
   "display_name": "Python 3 (ipykernel)",
   "language": "python",
   "name": "python3"
  },
  "language_info": {
   "codemirror_mode": {
    "name": "ipython",
    "version": 3
   },
   "file_extension": ".py",
   "mimetype": "text/x-python",
   "name": "python",
   "nbconvert_exporter": "python",
   "pygments_lexer": "ipython3",
   "version": "3.9.7"
  }
 },
 "nbformat": 4,
 "nbformat_minor": 5
}
